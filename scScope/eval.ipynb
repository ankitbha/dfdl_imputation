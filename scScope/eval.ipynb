{
 "cells": [
  {
   "cell_type": "code",
   "execution_count": 1,
   "id": "63c3b206-a8aa-41cf-a130-2d0a63c5be7d",
   "metadata": {},
   "outputs": [],
   "source": [
    "import numpy as np"
   ]
  },
  {
   "cell_type": "code",
   "execution_count": 2,
   "id": "978cab02-a4f7-4581-bd32-5d5109abfa1c",
   "metadata": {},
   "outputs": [],
   "source": [
    "x = np.transpose(np.load('../SERGIO/imputation_data/DS6_clean_counts.npy'))"
   ]
  },
  {
   "cell_type": "code",
   "execution_count": 3,
   "id": "3a514ec8-84b7-4ce0-8451-835a6e76e9c9",
   "metadata": {},
   "outputs": [],
   "source": [
    "y = np.transpose(np.load('../SERGIO/imputation_data/DS6_45.npy'))"
   ]
  },
  {
   "cell_type": "code",
   "execution_count": 4,
   "id": "08d6fde7-b497-4fe5-99d0-6725e8eef824",
   "metadata": {},
   "outputs": [],
   "source": [
    "y_hat = np.load('../scScope/yhat_scScope.npy')"
   ]
  },
  {
   "cell_type": "code",
   "execution_count": 5,
   "id": "6fdefc5a-a8d0-43c6-8d1a-609533f589ec",
   "metadata": {},
   "outputs": [],
   "source": [
    "def imp_error(x,y,y_hat):\n",
    "    x = x.flatten()\n",
    "    y = y.flatten()\n",
    "    y_hat = y_hat.flatten()\n",
    "    dropout_entries = np.array(list(set(np.where(y==0)[0]) - set(np.where(x==0)[0])))\n",
    "    l = x[dropout_entries]\n",
    "    l_hat = y_hat[dropout_entries]\n",
    "    num = np.linalg.norm((l - l_hat), ord=1)\n",
    "    den = np.linalg.norm(l, ord=0)\n",
    "    return(num/den)"
   ]
  },
  {
   "cell_type": "code",
   "execution_count": 6,
   "id": "e2986a39-a2ba-4464-b98e-1e9fec6ab052",
   "metadata": {},
   "outputs": [
    {
     "data": {
      "text/plain": [
       "4.411581788892288"
      ]
     },
     "execution_count": 6,
     "metadata": {},
     "output_type": "execute_result"
    }
   ],
   "source": [
    "imp_error(x,y,y_hat)"
   ]
  },
  {
   "cell_type": "code",
   "execution_count": null,
   "id": "e1fbae77-95fb-46df-b9ce-ab4b61ee0840",
   "metadata": {},
   "outputs": [],
   "source": []
  }
 ],
 "metadata": {
  "kernelspec": {
   "display_name": "Python 3 (ipykernel)",
   "language": "python",
   "name": "python3"
  },
  "language_info": {
   "codemirror_mode": {
    "name": "ipython",
    "version": 3
   },
   "file_extension": ".py",
   "mimetype": "text/x-python",
   "name": "python",
   "nbconvert_exporter": "python",
   "pygments_lexer": "ipython3",
   "version": "3.10.0"
  }
 },
 "nbformat": 4,
 "nbformat_minor": 5
}
