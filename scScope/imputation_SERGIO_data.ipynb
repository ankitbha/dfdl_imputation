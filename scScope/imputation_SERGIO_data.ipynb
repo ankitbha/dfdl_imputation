{
 "cells": [
  {
   "cell_type": "code",
   "execution_count": 14,
   "id": "946fb96b",
   "metadata": {},
   "outputs": [
    {
     "name": "stdout",
     "output_type": "stream",
     "text": [
      "The autoreload extension is already loaded. To reload it, use:\n",
      "  %reload_ext autoreload\n"
     ]
    }
   ],
   "source": [
    "%load_ext autoreload\n",
    "\n",
    "%autoreload 2"
   ]
  },
  {
   "cell_type": "code",
   "execution_count": 15,
   "id": "75e2c561",
   "metadata": {},
   "outputs": [],
   "source": [
    "import sys, os\n",
    "import numpy as np\n",
    "import scscope.scscope as DeepImpute\n",
    "sys.path.append(os.getcwd())"
   ]
  },
  {
   "cell_type": "code",
   "execution_count": 16,
   "id": "6734ce6a",
   "metadata": {},
   "outputs": [
    {
     "name": "stdout",
     "output_type": "stream",
     "text": [
      "(2700, 1200) (2700, 1200)\n"
     ]
    }
   ],
   "source": [
    "x = np.transpose(np.load('../SERGIO/imputation_data/DS6_clean_counts.npy'))\n",
    "y = np.transpose(np.load('../SERGIO/imputation_data/DS6_45.npy'))\n",
    "print(x.shape, y.shape)"
   ]
  },
  {
   "cell_type": "code",
   "execution_count": 18,
   "id": "8abf4176",
   "metadata": {},
   "outputs": [
    {
     "name": "stdout",
     "output_type": "stream",
     "text": [
      "Building Computational Graph on GPU-0\n",
      "Finisheded epoch: 100\n",
      "Current reconstruction error is: 0.15106057708616658\n",
      "Finisheded epoch: 200\n",
      "Current reconstruction error is: 0.1200109832603609\n",
      "Finisheded epoch: 300\n",
      "Current reconstruction error is: 0.09451894416624658\n",
      "Finisheded epoch: 400\n",
      "Current reconstruction error is: 0.07823816139527914\n",
      "Finisheded epoch: 500\n",
      "Current reconstruction error is: 0.06767419502980612\n",
      "Finisheded epoch: 600\n",
      "Current reconstruction error is: 0.06042254050944186\n",
      "Finisheded epoch: 700\n",
      "Current reconstruction error is: 0.055337441880862\n",
      "Finisheded epoch: 800\n",
      "Current reconstruction error is: 0.05192035240859897\n",
      "Finisheded epoch: 900\n",
      "Current reconstruction error is: 0.04970991351374005\n",
      "Finisheded epoch: 1000\n",
      "Current reconstruction error is: 0.04840103908170783\n",
      "Finish training 2700 samples after 1000 epochs. The total training time is 168.96735405921936 seconds.\n"
     ]
    }
   ],
   "source": [
    "DI_model = DeepImpute.train(\n",
    "          y,\n",
    "          15,\n",
    "          use_mask=True,\n",
    "          batch_size=64,\n",
    "          max_epoch=1000,\n",
    "          epoch_per_check=100,\n",
    "          T=2,\n",
    "          exp_batch_idx_input=[],\n",
    "          encoder_layers=[],\n",
    "          decoder_layers=[],\n",
    "          learning_rate=0.0001,\n",
    "          beta1=0.05,\n",
    "          num_gpus=1)"
   ]
  },
  {
   "cell_type": "code",
   "execution_count": 19,
   "id": "904cf22f",
   "metadata": {},
   "outputs": [],
   "source": [
    "latent_code, rec_y, _ = DeepImpute.predict(y, DI_model, batch_effect=[])"
   ]
  },
  {
   "cell_type": "code",
   "execution_count": 20,
   "id": "2394d293",
   "metadata": {},
   "outputs": [
    {
     "data": {
      "text/plain": [
       "array([[0.77883065, 1.3477887 , 0.        , ..., 1.1582148 , 1.0930681 ,\n",
       "        0.7201425 ],\n",
       "       [1.1016694 , 0.81957114, 0.        , ..., 0.9077184 , 0.83832806,\n",
       "        0.80834675],\n",
       "       [0.87594736, 0.9123528 , 0.        , ..., 0.90893054, 0.84467316,\n",
       "        0.5362967 ],\n",
       "       ...,\n",
       "       [0.9048623 , 0.87179995, 0.        , ..., 0.9396285 , 0.8653242 ,\n",
       "        0.7538283 ],\n",
       "       [0.78413737, 1.9203222 , 0.        , ..., 1.5414962 , 1.657546  ,\n",
       "        0.        ],\n",
       "       [1.0175959 , 0.4825054 , 0.        , ..., 0.878919  , 0.7055502 ,\n",
       "        0.54818445]], dtype=float32)"
      ]
     },
     "execution_count": 20,
     "metadata": {},
     "output_type": "execute_result"
    }
   ],
   "source": [
    "rec_y"
   ]
  },
  {
   "cell_type": "code",
   "execution_count": 21,
   "id": "53333ce2-95c9-43f3-8a29-9691ace27489",
   "metadata": {},
   "outputs": [
    {
     "data": {
      "text/plain": [
       "0.1029324074074074"
      ]
     },
     "execution_count": 21,
     "metadata": {},
     "output_type": "execute_result"
    }
   ],
   "source": [
    "len(np.where(rec_y == 0)[0]) / (y.shape[0] * y.shape[1])"
   ]
  },
  {
   "cell_type": "code",
   "execution_count": 22,
   "id": "4b74670b",
   "metadata": {},
   "outputs": [],
   "source": [
    "np.save('yhat_scScope',rec_y)"
   ]
  },
  {
   "cell_type": "code",
   "execution_count": null,
   "id": "f3f1e2ad-55ce-468c-ad27-e5717922076d",
   "metadata": {},
   "outputs": [],
   "source": []
  }
 ],
 "metadata": {
  "kernelspec": {
   "display_name": "zero_imputation_venv",
   "language": "python",
   "name": "zero_imputation_venv"
  },
  "language_info": {
   "codemirror_mode": {
    "name": "ipython",
    "version": 3
   },
   "file_extension": ".py",
   "mimetype": "text/x-python",
   "name": "python",
   "nbconvert_exporter": "python",
   "pygments_lexer": "ipython3",
   "version": "3.11.2"
  }
 },
 "nbformat": 4,
 "nbformat_minor": 5
}
