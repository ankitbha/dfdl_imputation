{
 "cells": [
  {
   "cell_type": "code",
   "execution_count": 8,
   "id": "946fb96b",
   "metadata": {},
   "outputs": [
    {
     "name": "stdout",
     "output_type": "stream",
     "text": [
      "The autoreload extension is already loaded. To reload it, use:\n",
      "  %reload_ext autoreload\n"
     ]
    }
   ],
   "source": [
    "%load_ext autoreload\n",
    "\n",
    "%autoreload 2"
   ]
  },
  {
   "cell_type": "code",
   "execution_count": 9,
   "id": "75e2c561",
   "metadata": {},
   "outputs": [],
   "source": [
    "import sys, os\n",
    "import numpy as np\n",
    "import scscope.scscope as DeepImpute\n",
    "sys.path.append(os.getcwd())"
   ]
  },
  {
   "cell_type": "code",
   "execution_count": 10,
   "id": "6734ce6a",
   "metadata": {},
   "outputs": [
    {
     "name": "stdout",
     "output_type": "stream",
     "text": [
      "(2700, 1200) (2700, 1200)\n"
     ]
    }
   ],
   "source": [
    "x = np.transpose(np.load('../SERGIO/imputation_data/DS6_clean_counts.npy'))\n",
    "y = np.transpose(np.load('../SERGIO/imputation_data/DS6_45.npy'))\n",
    "print(x.shape, y.shape)"
   ]
  },
  {
   "cell_type": "code",
   "execution_count": 11,
   "id": "8abf4176",
   "metadata": {},
   "outputs": [
    {
     "name": "stdout",
     "output_type": "stream",
     "text": [
      "Building Computational Graph on GPU-0\n",
      "Finisheded epoch: 100\n",
      "Current reconstruction error is: 0.154399031475792\n",
      "Finisheded epoch: 200\n",
      "Current reconstruction error is: 0.12070258647031502\n",
      "Finisheded epoch: 300\n",
      "Current reconstruction error is: 0.09408176533184111\n",
      "Finisheded epoch: 400\n",
      "Current reconstruction error is: 0.07676113703001046\n",
      "Finisheded epoch: 500\n",
      "Current reconstruction error is: 0.06568582431992703\n",
      "Finisheded epoch: 600\n",
      "Current reconstruction error is: 0.058405894228205225\n",
      "Finisheded epoch: 700\n",
      "Current reconstruction error is: 0.0531562154863585\n",
      "Finisheded epoch: 800\n",
      "Current reconstruction error is: 0.04978426409083598\n",
      "Finisheded epoch: 900\n",
      "Current reconstruction error is: 0.04731577705724724\n",
      "Finisheded epoch: 1000\n",
      "Current reconstruction error is: 0.04588252419443632\n",
      "Finish training 2700 samples after 1000 epochs. The total training time is 346.8766691684723 seconds.\n"
     ]
    }
   ],
   "source": [
    "DI_model = DeepImpute.train(\n",
    "          y,\n",
    "          15,\n",
    "          use_mask=True,\n",
    "          batch_size=64,\n",
    "          max_epoch=1000,\n",
    "          epoch_per_check=100,\n",
    "          T=2,\n",
    "          exp_batch_idx_input=[],\n",
    "          encoder_layers=[],\n",
    "          decoder_layers=[],\n",
    "          learning_rate=0.0001,\n",
    "          beta1=0.05,\n",
    "          num_gpus=1)"
   ]
  },
  {
   "cell_type": "code",
   "execution_count": 12,
   "id": "904cf22f",
   "metadata": {},
   "outputs": [],
   "source": [
    "latent_code, rec_y, _ = DeepImpute.predict(y, DI_model, batch_effect=[])"
   ]
  },
  {
   "cell_type": "code",
   "execution_count": 13,
   "id": "2394d293",
   "metadata": {},
   "outputs": [
    {
     "data": {
      "text/plain": [
       "array([[1.2312797 , 0.13111773, 0.85766923, ..., 1.0551001 , 1.0000734 ,\n",
       "        1.2243512 ],\n",
       "       [0.7498764 , 0.75918925, 1.0108905 , ..., 1.0274389 , 0.85723436,\n",
       "        0.733069  ],\n",
       "       [0.9174757 , 0.8893112 , 1.0672212 , ..., 1.0143075 , 0.97196335,\n",
       "        0.87720025],\n",
       "       ...,\n",
       "       [0.94658864, 1.0283478 , 1.0744796 , ..., 1.0564744 , 1.0064628 ,\n",
       "        0.76688254],\n",
       "       [1.1125251 , 0.        , 1.0443816 , ..., 0.97215956, 0.65075815,\n",
       "        1.306669  ],\n",
       "       [0.8723686 , 0.12610486, 1.0343864 , ..., 0.99891204, 0.92413306,\n",
       "        0.70833236]], dtype=float32)"
      ]
     },
     "execution_count": 13,
     "metadata": {},
     "output_type": "execute_result"
    }
   ],
   "source": [
    "rec_y"
   ]
  },
  {
   "cell_type": "code",
   "execution_count": 18,
   "id": "53333ce2-95c9-43f3-8a29-9691ace27489",
   "metadata": {},
   "outputs": [
    {
     "data": {
      "text/plain": [
       "0"
      ]
     },
     "execution_count": 18,
     "metadata": {},
     "output_type": "execute_result"
    }
   ],
   "source": [
    "np.sum(np.isnan(rec_y))"
   ]
  },
  {
   "cell_type": "code",
   "execution_count": 14,
   "id": "4b74670b",
   "metadata": {},
   "outputs": [],
   "source": [
    "np.save('yhat_scScope',rec_y)"
   ]
  },
  {
   "cell_type": "code",
   "execution_count": null,
   "id": "f3f1e2ad-55ce-468c-ad27-e5717922076d",
   "metadata": {},
   "outputs": [],
   "source": []
  }
 ],
 "metadata": {
  "kernelspec": {
   "display_name": "Python 3 (ipykernel)",
   "language": "python",
   "name": "python3"
  },
  "language_info": {
   "codemirror_mode": {
    "name": "ipython",
    "version": 3
   },
   "file_extension": ".py",
   "mimetype": "text/x-python",
   "name": "python",
   "nbconvert_exporter": "python",
   "pygments_lexer": "ipython3",
   "version": "3.11.2"
  }
 },
 "nbformat": 4,
 "nbformat_minor": 5
}
