{
 "cells": [
  {
   "cell_type": "code",
   "execution_count": 1,
   "id": "946fb96b",
   "metadata": {},
   "outputs": [],
   "source": [
    "%load_ext autoreload\n",
    "\n",
    "%autoreload 2"
   ]
  },
  {
   "cell_type": "code",
   "execution_count": 2,
   "id": "75e2c561",
   "metadata": {},
   "outputs": [],
   "source": [
    "import sys\n",
    "sys.path.append('/scratch/ab9738/dfdl_imputation/scScope/scscope/')"
   ]
  },
  {
   "cell_type": "code",
   "execution_count": 7,
   "id": "81301879",
   "metadata": {},
   "outputs": [],
   "source": [
    "import scscope as DeepImpute"
   ]
  },
  {
   "cell_type": "code",
   "execution_count": 8,
   "id": "323f3441",
   "metadata": {},
   "outputs": [],
   "source": [
    "import numpy as np"
   ]
  },
  {
   "cell_type": "code",
   "execution_count": 9,
   "id": "6734ce6a",
   "metadata": {},
   "outputs": [
    {
     "name": "stdout",
     "output_type": "stream",
     "text": [
      "(2700, 1200) (2700, 1200)\n"
     ]
    }
   ],
   "source": [
    "x = np.transpose(np.load('../SERGIO/imputation_data/DS6_clean_counts.npy'))\n",
    "y = np.transpose(np.load('../SERGIO/imputation_data/DS6_45.npy'))\n",
    "print(x.shape, y.shape)"
   ]
  },
  {
   "cell_type": "code",
   "execution_count": 10,
   "id": "8abf4176",
   "metadata": {},
   "outputs": [
    {
     "name": "stdout",
     "output_type": "stream",
     "text": [
      "Building Computational Graph on GPU-0\n",
      "WARNING:tensorflow:From /scratch/ab9738/dfdl_imputation/scScope/scscope/scscope/ops.py:43: calling TruncatedNormal.__init__ (from tensorflow.python.ops.init_ops) with dtype is deprecated and will be removed in a future version.\n",
      "Instructions for updating:\n",
      "Call initializer instance with the dtype argument instead of passing it to the constructor\n"
     ]
    },
    {
     "name": "stderr",
     "output_type": "stream",
     "text": [
      "2023-06-10 16:13:38.617450: W tensorflow/core/common_runtime/gpu/gpu_device.cc:1956] Cannot dlopen some GPU libraries. Please make sure the missing libraries mentioned above are installed properly if you would like to use GPU. Follow the guide at https://www.tensorflow.org/install/gpu for how to download and setup the required libraries for your platform.\n",
      "Skipping registering GPU devices...\n",
      "2023-06-10 16:13:38.715102: I tensorflow/compiler/mlir/mlir_graph_optimization_pass.cc:353] MLIR V1 optimization pass is not enabled\n"
     ]
    },
    {
     "name": "stdout",
     "output_type": "stream",
     "text": [
      "Finisheded epoch: 100\n",
      "Current reconstruction error is: 0.10657142075911037\n",
      "Finisheded epoch: 200\n",
      "Current reconstruction error is: 0.08918568341246039\n",
      "Finisheded epoch: 300\n",
      "Current reconstruction error is: 0.07774074001582429\n",
      "Finisheded epoch: 400\n",
      "Current reconstruction error is: 0.06226513556994137\n",
      "Finisheded epoch: 500\n",
      "Current reconstruction error is: 0.05294682349035562\n",
      "Finisheded epoch: 600\n",
      "Current reconstruction error is: 0.048137451393430855\n",
      "Finisheded epoch: 700\n",
      "Current reconstruction error is: 0.04505343077444106\n",
      "Finisheded epoch: 800\n",
      "Current reconstruction error is: 0.043038904863872206\n",
      "Finisheded epoch: 900\n",
      "Current reconstruction error is: 0.041344183088626835\n",
      "Finisheded epoch: 1000\n",
      "Current reconstruction error is: 0.04015042978538602\n",
      "Finish training 2700 samples after 1000 epochs. The total training time is 116.93106508255005 seconds.\n"
     ]
    }
   ],
   "source": [
    "DI_model = DeepImpute.train(\n",
    "          y,\n",
    "          15,\n",
    "          use_mask=True,\n",
    "          batch_size=64,\n",
    "          max_epoch=1000,\n",
    "          epoch_per_check=100,\n",
    "          T=2,\n",
    "          exp_batch_idx_input=[],\n",
    "          encoder_layers=[],\n",
    "          decoder_layers=[],\n",
    "          learning_rate=0.0001,\n",
    "          beta1=0.05,\n",
    "          num_gpus=1)"
   ]
  },
  {
   "cell_type": "code",
   "execution_count": 11,
   "id": "904cf22f",
   "metadata": {},
   "outputs": [],
   "source": [
    "latent_code, rec_y, _ = DeepImpute.predict(y, DI_model, batch_effect=[])"
   ]
  },
  {
   "cell_type": "code",
   "execution_count": 12,
   "id": "2394d293",
   "metadata": {},
   "outputs": [
    {
     "data": {
      "text/plain": [
       "array([[1.1243178 , 1.0260661 , 1.1896782 , ..., 0.        , 1.9290537 ,\n",
       "        1.1436753 ],\n",
       "       [0.9509245 , 0.9961276 , 0.9636166 , ..., 0.        , 1.3550487 ,\n",
       "        1.0891029 ],\n",
       "       [1.0385514 , 0.8226551 , 0.9969537 , ..., 0.        , 1.2039399 ,\n",
       "        1.9957254 ],\n",
       "       ...,\n",
       "       [1.2380126 , 0.9561839 , 0.95946884, ..., 0.        , 1.3321769 ,\n",
       "        1.2768493 ],\n",
       "       [0.739048  , 0.9398477 , 1.0645367 , ..., 0.        , 0.6471824 ,\n",
       "        1.1264412 ],\n",
       "       [1.164432  , 0.7544731 , 1.0218623 , ..., 0.        , 2.2196317 ,\n",
       "        0.40535447]], dtype=float32)"
      ]
     },
     "execution_count": 12,
     "metadata": {},
     "output_type": "execute_result"
    }
   ],
   "source": [
    "rec_y"
   ]
  },
  {
   "cell_type": "code",
   "execution_count": 13,
   "id": "4b74670b",
   "metadata": {},
   "outputs": [],
   "source": [
    "np.save('yhat_scScope',rec_y)"
   ]
  },
  {
   "cell_type": "code",
   "execution_count": null,
   "id": "d9988244-d84c-4638-afe5-558a166b18df",
   "metadata": {},
   "outputs": [],
   "source": []
  }
 ],
 "metadata": {
  "kernelspec": {
   "display_name": "Python 3 (ipykernel)",
   "language": "python",
   "name": "python3"
  },
  "language_info": {
   "codemirror_mode": {
    "name": "ipython",
    "version": 3
   },
   "file_extension": ".py",
   "mimetype": "text/x-python",
   "name": "python",
   "nbconvert_exporter": "python",
   "pygments_lexer": "ipython3",
   "version": "3.10.0"
  }
 },
 "nbformat": 4,
 "nbformat_minor": 5
}
