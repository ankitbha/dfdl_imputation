{
 "cells": [
  {
   "cell_type": "code",
   "execution_count": 1,
   "id": "946fb96b",
   "metadata": {},
   "outputs": [],
   "source": [
    "%load_ext autoreload\n",
    "\n",
    "%autoreload 2"
   ]
  },
  {
   "cell_type": "code",
   "execution_count": 2,
   "id": "75e2c561",
   "metadata": {},
   "outputs": [
    {
     "name": "stdout",
     "output_type": "stream",
     "text": [
      "WARNING:tensorflow:From /Users/joshuaweiner/Desktop/Folders/Projects/zero_imputation/venv/lib/python3.11/site-packages/tensorflow/python/compat/v2_compat.py:108: disable_resource_variables (from tensorflow.python.ops.variable_scope) is deprecated and will be removed in a future version.\n",
      "Instructions for updating:\n",
      "non-resource variables are not supported in the long term\n"
     ]
    }
   ],
   "source": [
    "import sys, os\n",
    "import numpy as np\n",
    "import scscope.scscope as DeepImpute\n",
    "sys.path.append(os.getcwd())"
   ]
  },
  {
   "cell_type": "code",
   "execution_count": 3,
   "id": "6734ce6a",
   "metadata": {},
   "outputs": [
    {
     "name": "stdout",
     "output_type": "stream",
     "text": [
      "(2700, 1200) (2700, 1200)\n"
     ]
    }
   ],
   "source": [
    "x = np.transpose(np.load('../SERGIO/imputation_data/DS6_clean_counts.npy'))\n",
    "y = np.transpose(np.load('../SERGIO/imputation_data/DS6_45.npy'))\n",
    "print(x.shape, y.shape)"
   ]
  },
  {
   "cell_type": "code",
   "execution_count": 6,
   "id": "8abf4176",
   "metadata": {},
   "outputs": [
    {
     "name": "stdout",
     "output_type": "stream",
     "text": [
      "Building Computational Graph on GPU-0\n",
      "Finisheded epoch: 100\n",
      "Current reconstruction error is: 0.15523756547675677\n",
      "Finisheded epoch: 200\n",
      "Current reconstruction error is: 0.13243839564584214\n",
      "Finisheded epoch: 300\n",
      "Current reconstruction error is: 0.1154781406167816\n",
      "Finisheded epoch: 400\n",
      "Current reconstruction error is: 0.09308146868952033\n",
      "Finisheded epoch: 500\n",
      "Current reconstruction error is: 0.07796788085525114\n",
      "Finisheded epoch: 600\n",
      "Current reconstruction error is: 0.06752371362127373\n",
      "Finisheded epoch: 700\n",
      "Current reconstruction error is: 0.06051945212611811\n",
      "Finisheded epoch: 800\n",
      "Current reconstruction error is: 0.05578237734677376\n",
      "Finisheded epoch: 900\n",
      "Current reconstruction error is: 0.05297752072736024\n",
      "Finisheded epoch: 1000\n",
      "Current reconstruction error is: 0.050859064735353066\n",
      "Finish training 2700 samples after 1000 epochs. The total training time is 268.3487551212311 seconds.\n"
     ]
    }
   ],
   "source": [
    "DI_model = DeepImpute.train(\n",
    "          y,\n",
    "          15,\n",
    "          use_mask=True,\n",
    "          batch_size=64,\n",
    "          max_epoch=1000,\n",
    "          epoch_per_check=100,\n",
    "          T=2,\n",
    "          exp_batch_idx_input=[],\n",
    "          encoder_layers=[],\n",
    "          decoder_layers=[],\n",
    "          learning_rate=0.0001,\n",
    "          beta1=0.05,\n",
    "          num_gpus=1)"
   ]
  },
  {
   "cell_type": "code",
   "execution_count": 7,
   "id": "904cf22f",
   "metadata": {},
   "outputs": [],
   "source": [
    "latent_code, rec_y, _ = DeepImpute.predict(y, DI_model, batch_effect=[])"
   ]
  },
  {
   "cell_type": "code",
   "execution_count": null,
   "id": "2394d293",
   "metadata": {},
   "outputs": [],
   "source": [
    "rec_y"
   ]
  },
  {
   "cell_type": "code",
   "execution_count": 9,
   "id": "4b74670b",
   "metadata": {},
   "outputs": [],
   "source": [
    "np.save('yhat_scScope',rec_y)"
   ]
  }
 ],
 "metadata": {
  "kernelspec": {
   "display_name": "Python 3 (ipykernel)",
   "language": "python",
   "name": "python3"
  },
  "language_info": {
   "codemirror_mode": {
    "name": "ipython",
    "version": 3
   },
   "file_extension": ".py",
   "mimetype": "text/x-python",
   "name": "python",
   "nbconvert_exporter": "python",
   "pygments_lexer": "ipython3",
   "version": "3.11.2"
  }
 },
 "nbformat": 4,
 "nbformat_minor": 5
}
