{
 "cells": [
  {
   "cell_type": "code",
   "execution_count": 1,
   "id": "946fb96b",
   "metadata": {},
   "outputs": [],
   "source": [
    "%load_ext autoreload\n",
    "\n",
    "%autoreload 2"
   ]
  },
  {
   "cell_type": "code",
   "execution_count": 2,
   "id": "75e2c561",
   "metadata": {},
   "outputs": [],
   "source": [
    "import sys\n",
    "sys.path.append('/scratch/ab9738/dfdl_imputation/scScope/scscope/')"
   ]
  },
  {
   "cell_type": "code",
   "execution_count": 3,
   "id": "81301879",
   "metadata": {},
   "outputs": [
    {
     "name": "stderr",
     "output_type": "stream",
     "text": [
      "2023-05-07 17:12:07.353555: I tensorflow/core/util/port.cc:110] oneDNN custom operations are on. You may see slightly different numerical results due to floating-point round-off errors from different computation orders. To turn them off, set the environment variable `TF_ENABLE_ONEDNN_OPTS=0`.\n",
      "2023-05-07 17:12:07.402195: I tensorflow/core/platform/cpu_feature_guard.cc:182] This TensorFlow binary is optimized to use available CPU instructions in performance-critical operations.\n",
      "To enable the following instructions: AVX2 AVX512F AVX512_VNNI FMA, in other operations, rebuild TensorFlow with the appropriate compiler flags.\n",
      "2023-05-07 17:12:08.125766: W tensorflow/compiler/tf2tensorrt/utils/py_utils.cc:38] TF-TRT Warning: Could not find TensorRT\n"
     ]
    },
    {
     "name": "stdout",
     "output_type": "stream",
     "text": [
      "WARNING:tensorflow:From /scratch/ab9738/cctv_pollution/env/lib/python3.10/site-packages/tensorflow/python/compat/v2_compat.py:107: disable_resource_variables (from tensorflow.python.ops.variable_scope) is deprecated and will be removed in a future version.\n",
      "Instructions for updating:\n",
      "non-resource variables are not supported in the long term\n"
     ]
    }
   ],
   "source": [
    "import scscope as DeepImpute"
   ]
  },
  {
   "cell_type": "code",
   "execution_count": 4,
   "id": "323f3441",
   "metadata": {},
   "outputs": [],
   "source": [
    "import numpy as np"
   ]
  },
  {
   "cell_type": "code",
   "execution_count": 5,
   "id": "6734ce6a",
   "metadata": {},
   "outputs": [
    {
     "name": "stdout",
     "output_type": "stream",
     "text": [
      "(2700, 1200) (2700, 1200)\n"
     ]
    }
   ],
   "source": [
    "x = np.transpose(np.load('../SERGIO/imputation_data/DS6_clean.npy'))\n",
    "y = np.transpose(np.load('../SERGIO/imputation_data/DS6_45.npy'))\n",
    "print(x.shape, y.shape)"
   ]
  },
  {
   "cell_type": "code",
   "execution_count": 17,
   "id": "8abf4176",
   "metadata": {},
   "outputs": [
    {
     "name": "stdout",
     "output_type": "stream",
     "text": [
      "Building Computational Graph on GPU-0\n"
     ]
    },
    {
     "name": "stderr",
     "output_type": "stream",
     "text": [
      "2023-05-07 17:26:19.886213: W tensorflow/core/common_runtime/gpu/gpu_device.cc:1956] Cannot dlopen some GPU libraries. Please make sure the missing libraries mentioned above are installed properly if you would like to use GPU. Follow the guide at https://www.tensorflow.org/install/gpu for how to download and setup the required libraries for your platform.\n",
      "Skipping registering GPU devices...\n"
     ]
    },
    {
     "name": "stdout",
     "output_type": "stream",
     "text": [
      "Finisheded epoch: 100\n",
      "Current reconstruction error is: 0.20136291148006483\n",
      "Finisheded epoch: 200\n",
      "Current reconstruction error is: 0.14839693243700494\n",
      "Finisheded epoch: 300\n",
      "Current reconstruction error is: 0.1067051009858099\n",
      "Finisheded epoch: 400\n",
      "Current reconstruction error is: 0.08644437755909626\n",
      "Finisheded epoch: 500\n",
      "Current reconstruction error is: 0.07575623948114676\n",
      "Finisheded epoch: 600\n",
      "Current reconstruction error is: 0.06996293289234033\n",
      "Finisheded epoch: 700\n",
      "Current reconstruction error is: 0.06649997795208355\n",
      "Finisheded epoch: 800\n",
      "Current reconstruction error is: 0.06433706576665398\n",
      "Finisheded epoch: 900\n",
      "Current reconstruction error is: 0.06277647656731794\n",
      "Finisheded epoch: 1000\n",
      "Current reconstruction error is: 0.06179274206382076\n",
      "Finisheded epoch: 1100\n",
      "Current reconstruction error is: 0.06107950050316298\n",
      "Finisheded epoch: 1200\n",
      "Current reconstruction error is: 0.060570718316361856\n",
      "Finisheded epoch: 1300\n",
      "Current reconstruction error is: 0.059822669640172806\n",
      "Finisheded epoch: 1400\n",
      "Current reconstruction error is: 0.05935973598333475\n",
      "Finisheded epoch: 1500\n",
      "Current reconstruction error is: 0.0592083359844626\n",
      "Finisheded epoch: 1600\n",
      "Current reconstruction error is: 0.05876896635348008\n",
      "Finisheded epoch: 1700\n",
      "Current reconstruction error is: 0.05850385771687319\n",
      "Finisheded epoch: 1800\n",
      "Current reconstruction error is: 0.05835712920727077\n",
      "Finisheded epoch: 1900\n",
      "Current reconstruction error is: 0.058020366668186406\n",
      "Finisheded epoch: 2000\n",
      "Current reconstruction error is: 0.05788422474477473\n",
      "Finisheded epoch: 2100\n",
      "Current reconstruction error is: 0.05724730230154377\n",
      "Finisheded epoch: 2200\n",
      "Current reconstruction error is: 0.05702241343862944\n",
      "Finisheded epoch: 2300\n",
      "Current reconstruction error is: 0.05701658777544519\n",
      "Finish training 2700 samples after 2300 epochs. The total training time is 268.26899933815 seconds.\n"
     ]
    }
   ],
   "source": [
    "DI_model = DeepImpute.train(\n",
    "          y,\n",
    "          15,\n",
    "          use_mask=True,\n",
    "          batch_size=64,\n",
    "          max_epoch=1000,\n",
    "          epoch_per_check=100,\n",
    "          T=2,\n",
    "          exp_batch_idx_input=[],\n",
    "          encoder_layers=[],\n",
    "          decoder_layers=[],\n",
    "          learning_rate=0.0001,\n",
    "          beta1=0.05,\n",
    "          num_gpus=1)"
   ]
  },
  {
   "cell_type": "code",
   "execution_count": 9,
   "id": "904cf22f",
   "metadata": {},
   "outputs": [],
   "source": [
    "latent_code, rec_y, _ = DeepImpute.predict(y, DI_model, batch_effect=[])"
   ]
  },
  {
   "cell_type": "code",
   "execution_count": 10,
   "id": "2394d293",
   "metadata": {},
   "outputs": [
    {
     "data": {
      "text/plain": [
       "array([[0.        , 0.11618818, 0.        , ..., 0.06829713, 0.1388712 ,\n",
       "        1.515181  ],\n",
       "       [0.        , 0.        , 0.        , ..., 0.        , 0.        ,\n",
       "        3.9679697 ],\n",
       "       [0.        , 0.        , 0.42495254, ..., 0.        , 0.60107344,\n",
       "        1.1430826 ],\n",
       "       ...,\n",
       "       [0.        , 0.        , 0.        , ..., 0.        , 0.        ,\n",
       "        2.9781704 ],\n",
       "       [0.        , 0.        , 0.        , ..., 0.        , 0.        ,\n",
       "        0.9571395 ],\n",
       "       [0.        , 2.8623111 , 0.        , ..., 0.34442765, 0.        ,\n",
       "        1.2505208 ]], dtype=float32)"
      ]
     },
     "execution_count": 10,
     "metadata": {},
     "output_type": "execute_result"
    }
   ],
   "source": [
    "rec_y"
   ]
  },
  {
   "cell_type": "code",
   "execution_count": 11,
   "id": "b40811c0",
   "metadata": {},
   "outputs": [
    {
     "data": {
      "text/plain": [
       "array([[0, 0, 0, ..., 0, 0, 0],\n",
       "       [0, 0, 0, ..., 0, 0, 0],\n",
       "       [0, 0, 0, ..., 0, 0, 0],\n",
       "       ...,\n",
       "       [0, 0, 0, ..., 0, 0, 0],\n",
       "       [0, 0, 0, ..., 0, 0, 0],\n",
       "       [0, 0, 0, ..., 0, 0, 0]])"
      ]
     },
     "execution_count": 11,
     "metadata": {},
     "output_type": "execute_result"
    }
   ],
   "source": [
    "y"
   ]
  },
  {
   "cell_type": "code",
   "execution_count": 15,
   "id": "56427d8a",
   "metadata": {},
   "outputs": [
    {
     "data": {
      "text/plain": [
       "0.606379012345679"
      ]
     },
     "execution_count": 15,
     "metadata": {},
     "output_type": "execute_result"
    }
   ],
   "source": [
    "len(np.where(rec_y.flatten()==0)[0])/(1200*2700)"
   ]
  },
  {
   "cell_type": "code",
   "execution_count": null,
   "id": "4b74670b",
   "metadata": {},
   "outputs": [],
   "source": []
  }
 ],
 "metadata": {
  "kernelspec": {
   "display_name": "Python 3 (ipykernel)",
   "language": "python",
   "name": "python3"
  },
  "language_info": {
   "codemirror_mode": {
    "name": "ipython",
    "version": 3
   },
   "file_extension": ".py",
   "mimetype": "text/x-python",
   "name": "python",
   "nbconvert_exporter": "python",
   "pygments_lexer": "ipython3",
   "version": "3.10.0"
  }
 },
 "nbformat": 4,
 "nbformat_minor": 5
}
