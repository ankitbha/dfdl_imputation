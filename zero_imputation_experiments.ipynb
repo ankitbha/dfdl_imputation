{
 "cells": [
  {
   "cell_type": "code",
   "execution_count": 1,
   "metadata": {},
   "outputs": [],
   "source": [
    "%load_ext autoreload\n",
    "%autoreload 2"
   ]
  },
  {
   "cell_type": "code",
   "execution_count": 5,
   "metadata": {},
   "outputs": [
    {
     "name": "stdout",
     "output_type": "stream",
     "text": [
      "WARNING:tensorflow:From /Users/joshuaweiner/Desktop/Folders/Projects/zero_imputation/venv/lib/python3.11/site-packages/tensorflow/python/compat/v2_compat.py:107: disable_resource_variables (from tensorflow.python.ops.variable_scope) is deprecated and will be removed in a future version.\n",
      "Instructions for updating:\n",
      "non-resource variables are not supported in the long term\n"
     ]
    }
   ],
   "source": [
    "import sys, os\n",
    "import numpy as np\n",
    "import pandas as pd\n",
    "import matplotlib.pyplot as plt\n",
    "from tqdm import tqdm\n",
    "from sklearn.metrics import roc_auc_score\n",
    "from new_experiments import run_simulation\n",
    "from concurrent.futures import ProcessPoolExecutor\n",
    "from IPython.display import display, clear_output\n",
    "\n",
    "sys.path.append(os.getcwd())\n"
   ]
  },
  {
   "cell_type": "code",
   "execution_count": 3,
   "metadata": {},
   "outputs": [],
   "source": [
    "def run_experiment():\n",
    "    outputs = []\n",
    "    ret_df = None\n",
    "    for dataset in [3]:\n",
    "        if not os.path.exists(f\"./zero_imputation_experiments/DS{dataset}/\"):\n",
    "            os.makedirs(f\"./zero_imputation_experiments/DS{dataset}/\")\n",
    "        # Run for first iteration to prevent race condition\n",
    "        res = run_simulation(\n",
    "            dataset=dataset,\n",
    "            sergio=True,\n",
    "            saucie=True, \n",
    "            scScope=True, \n",
    "            deepImpute=True, \n",
    "            magic=True, \n",
    "            genie=True,\n",
    "            arboreto=False,\n",
    "            pearson=False,\n",
    "            roc=True,\n",
    "            precision_recall_k=False,\n",
    "            run_with_regs=False,\n",
    "            iteration=0\n",
    "        )\n",
    "        clear_output()\n",
    "        if ret_df is None:\n",
    "            ret_df = pd.DataFrame(columns=res.keys())\n",
    "        new_df = pd.DataFrame([res], columns=res.keys())\n",
    "        ret_df = pd.concat([ret_df, new_df], ignore_index=True)\n",
    "        #write to temp file\n",
    "        ret_df.to_csv(\"zero_imputation_experiments/imputation_results.csv\", index=False)\n",
    "        with ProcessPoolExecutor(max_workers=3) as executor:\n",
    "            futures = []\n",
    "            for i in range(1, 30):\n",
    "                futures.append(executor.submit(run_simulation, \n",
    "                        dataset=dataset,\n",
    "                        sergio=(i == 0),\n",
    "                        saucie=True, \n",
    "                        scScope=True, \n",
    "                        deepImpute=True, \n",
    "                        magic=True, \n",
    "                        genie=True,\n",
    "                        arboreto=False,\n",
    "                        pearson=False,\n",
    "                        roc=True,\n",
    "                        precision_recall_k=False,\n",
    "                        run_with_regs=False,\n",
    "                        iteration=i\n",
    "                    ))\n",
    "                clear_output()\n",
    "            for future in tqdm(futures):\n",
    "                res = future.result()\n",
    "                clear_output(wait=True)\n",
    "                if ret_df is None:\n",
    "                    ret_df = pd.DataFrame(columns=res.keys())\n",
    "                new_df = pd.DataFrame([res], columns=res.keys())\n",
    "                ret_df = pd.concat([ret_df, new_df], ignore_index=True)\n",
    "                #write to temp file\n",
    "                ret_df.to_csv(\"zero_imputation_experiments/imputation_results.csv\", index=False)\n",
    "    return"
   ]
  },
  {
   "cell_type": "code",
   "execution_count": null,
   "metadata": {},
   "outputs": [],
   "source": [
    "run_experiment()"
   ]
  },
  {
   "cell_type": "markdown",
   "metadata": {},
   "source": [
    "### Other Imputation Methods Experimentation"
   ]
  },
  {
   "cell_type": "code",
   "execution_count": 8,
   "metadata": {},
   "outputs": [],
   "source": [
    "import os\n",
    "for dataset in [1,2,3]:\n",
    "    if not os.path.exists(f\"./zero_imputation_experiments/DS{dataset}/\"):\n",
    "        os.makedirs(f\"./zero_imputation_experiments/DS{dataset}/\")\n",
    "    if not os.path.exists(f\"./zero_imputation_experiments/DS{dataset}/DS6_noisy.npy\"):\n",
    "        res = run_simulation(\n",
    "            dataset=dataset,\n",
    "            sergio=True,\n",
    "            saucie=False, \n",
    "            scScope=False, \n",
    "            deepImpute=False, \n",
    "            magic=False, \n",
    "            genie=False,\n",
    "            arboreto=False,\n",
    "            pearson=False,\n",
    "            roc=False,\n",
    "            precision_recall_k=False,\n",
    "            run_with_regs=False,\n",
    "            iteration=0\n",
    "        )\n",
    "        clear_output()"
   ]
  },
  {
   "cell_type": "code",
   "execution_count": 31,
   "metadata": {},
   "outputs": [],
   "source": [
    "import pandas as pd\n",
    "                "
   ]
  },
  {
   "cell_type": "code",
   "execution_count": 1,
   "metadata": {},
   "outputs": [],
   "source": [
    "from experiment_utils import run_scvi\n",
    "import numpy as np\n",
    "import pandas as pd\n",
    "\n",
    "def fetch_target_regs(dataset):\n",
    "    if dataset == 1:   \n",
    "        target_file = './SERGIO/data_sets/De-noised_100G_9T_300cPerT_4_DS1/Interaction_cID_4.txt'\n",
    "        regs_path = './SERGIO/data_sets/De-noised_100G_9T_300cPerT_4_DS1/Regs_cID_4.txt'\n",
    "    elif dataset == 2:\n",
    "        target_file = './SERGIO/data_sets/De-noised_400G_9T_300cPerT_5_DS2/Interaction_cID_5.txt'\n",
    "        regs_path = './SERGIO/data_sets/De-noised_400G_9T_300cPerT_5_DS2/Regs_cID_5.txt'\n",
    "    else:\n",
    "        target_file = './SERGIO/data_sets/De-noised_1200G_9T_300cPerT_6_DS3/Interaction_cID_6.txt'\n",
    "        regs_path = './SERGIO/data_sets/De-noised_1200G_9T_300cPerT_6_DS3/Regs_cID_6.txt'\n",
    "    return target_file, regs_path    \n",
    "\n",
    "def scvi_impute():\n",
    "    ret_df = None\n",
    "    for dataset in [1, 2, 3]:\n",
    "        save_path = f\"./zero_imputation_experiments/DS{dataset}/\"\n",
    "        y = np.load(save_path + \"/DS6_noisy.npy\")\n",
    "        target_file, regs_path = fetch_target_regs(dataset)\n",
    "        with ProcessPoolExecutor(max_workers=4) as executor:\n",
    "            futures = []\n",
    "            for i in range(8):\n",
    "                futures.append(executor.submit(run_scvi, \n",
    "                    data=y, \n",
    "                    save_path=save_path, \n",
    "                    it=i, \n",
    "                    file_extension=f\"_iter{i}\",\n",
    "                    target_file=target_file\n",
    "                ))\n",
    "                clear_output()\n",
    "            for future in tqdm(futures):\n",
    "                vim, it = future.result()\n",
    "                res = {\n",
    "                    \"dataset\": dataset,\n",
    "                    \"method\": \"scvi\",\n",
    "                    \"roc\": vim,\n",
    "                    \"iteration\": it }\n",
    "                if ret_df is None:\n",
    "                    ret_df = pd.DataFrame(columns=res.keys())\n",
    "                new_df = pd.DataFrame([res], columns=res.keys())\n",
    "                ret_df = pd.concat([ret_df, new_df], ignore_index=True)\n",
    "                ret_df.to_csv(\"zero_imputation_experiments/scvi_imputation_results.csv\", index=False)  "
   ]
  },
  {
   "cell_type": "code",
   "execution_count": 2,
   "metadata": {},
   "outputs": [
    {
     "ename": "NameError",
     "evalue": "name 'np' is not defined",
     "output_type": "error",
     "traceback": [
      "\u001b[0;31m---------------------------------------------------------------------------\u001b[0m",
      "\u001b[0;31mNameError\u001b[0m                                 Traceback (most recent call last)",
      "Cell \u001b[0;32mIn[2], line 1\u001b[0m\n\u001b[0;32m----> 1\u001b[0m \u001b[43mscvi_impute\u001b[49m\u001b[43m(\u001b[49m\u001b[43m)\u001b[49m\n",
      "Cell \u001b[0;32mIn[1], line 19\u001b[0m, in \u001b[0;36mscvi_impute\u001b[0;34m()\u001b[0m\n\u001b[1;32m     17\u001b[0m \u001b[38;5;28;01mfor\u001b[39;00m dataset \u001b[38;5;129;01min\u001b[39;00m [\u001b[38;5;241m1\u001b[39m, \u001b[38;5;241m2\u001b[39m, \u001b[38;5;241m3\u001b[39m]:\n\u001b[1;32m     18\u001b[0m     save_path \u001b[38;5;241m=\u001b[39m \u001b[38;5;124mf\u001b[39m\u001b[38;5;124m\"\u001b[39m\u001b[38;5;124m./zero_imputation_experiments/DS\u001b[39m\u001b[38;5;132;01m{\u001b[39;00mdataset\u001b[38;5;132;01m}\u001b[39;00m\u001b[38;5;124m/\u001b[39m\u001b[38;5;124m\"\u001b[39m\n\u001b[0;32m---> 19\u001b[0m     y \u001b[38;5;241m=\u001b[39m \u001b[43mnp\u001b[49m\u001b[38;5;241m.\u001b[39mload(save_path \u001b[38;5;241m+\u001b[39m \u001b[38;5;124m\"\u001b[39m\u001b[38;5;124m/DS6_noisy.npy\u001b[39m\u001b[38;5;124m\"\u001b[39m)\n\u001b[1;32m     20\u001b[0m     target_file, regs_path \u001b[38;5;241m=\u001b[39m fetch_target_regs(dataset)\n\u001b[1;32m     21\u001b[0m     \u001b[38;5;28;01mwith\u001b[39;00m ProcessPoolExecutor(max_workers\u001b[38;5;241m=\u001b[39m\u001b[38;5;241m4\u001b[39m) \u001b[38;5;28;01mas\u001b[39;00m executor:\n",
      "\u001b[0;31mNameError\u001b[0m: name 'np' is not defined"
     ]
    }
   ],
   "source": [
    "scvi_impute()"
   ]
  },
  {
   "cell_type": "code",
   "execution_count": null,
   "metadata": {},
   "outputs": [],
   "source": []
  }
 ],
 "metadata": {
  "kernelspec": {
   "display_name": "zero_imputation_venv",
   "language": "python",
   "name": "zero_imputation_venv"
  },
  "language_info": {
   "codemirror_mode": {
    "name": "ipython",
    "version": 3
   },
   "file_extension": ".py",
   "mimetype": "text/x-python",
   "name": "python",
   "nbconvert_exporter": "python",
   "pygments_lexer": "ipython3",
   "version": "3.11.7"
  }
 },
 "nbformat": 4,
 "nbformat_minor": 4
}
