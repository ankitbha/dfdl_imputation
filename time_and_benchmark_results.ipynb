{
 "cells": [
  {
   "cell_type": "code",
   "execution_count": 4,
   "metadata": {},
   "outputs": [
    {
     "name": "stdout",
     "output_type": "stream",
     "text": [
      "The autoreload extension is already loaded. To reload it, use:\n",
      "  %reload_ext autoreload\n"
     ]
    }
   ],
   "source": [
    "%load_ext autoreload\n",
    "%autoreload 2"
   ]
  },
  {
   "cell_type": "code",
   "execution_count": 5,
   "metadata": {},
   "outputs": [],
   "source": [
    "import sys, os\n",
    "import numpy as np\n",
    "import pandas as pd\n",
    "import matplotlib.pyplot as plt\n",
    "# import SAUCIE\n",
    "# import tensorflow.compat.v1 as tf\n",
    "# tf.disable_v2_behavior()\n",
    "from tqdm import tqdm\n",
    "from sklearn.metrics import roc_auc_score\n",
    "from consolidated_runs import run_simulations\n",
    "from utils import gt_benchmark\n",
    "\n",
    "sys.path.append(os.getcwd())"
   ]
  },
  {
   "cell_type": "markdown",
   "metadata": {},
   "source": [
    "### Generate SERGIO and Imputation (only) data for benchmarking & runtime analysis"
   ]
  },
  {
   "cell_type": "code",
   "execution_count": 6,
   "metadata": {},
   "outputs": [
    {
     "name": "stderr",
     "output_type": "stream",
     "text": [
      "  0%|          | 0/3 [00:00<?, ?it/s]"
     ]
    },
    {
     "name": "stdout",
     "output_type": "stream",
     "text": [
      "---> Running SAUCIE on DS1\n",
      "loading data\n",
      "reset graph\n",
      "Initialize saucie\n",
      "Load saucie\n",
      "Train saucie\n",
      "---> Running scScope on DS1\n",
      "Building Computational Graph on GPU-0\n",
      "Finisheded epoch: 100\n",
      "Current reconstruction error is: 0.04821077743711665\n",
      "Finisheded epoch: 200\n",
      "Current reconstruction error is: 0.040877492277512265\n",
      "Finisheded epoch: 300\n",
      "Current reconstruction error is: 0.03925810159706135\n",
      "Finisheded epoch: 400\n",
      "Current reconstruction error is: 0.03820778270616234\n",
      "Finisheded epoch: 500\n",
      "Current reconstruction error is: 0.03773773105218091\n",
      "Finisheded epoch: 600\n",
      "Current reconstruction error is: 0.0371293564390862\n",
      "Finisheded epoch: 700\n",
      "Current reconstruction error is: 0.03651722133889953\n",
      "Finisheded epoch: 800\n",
      "Current reconstruction error is: 0.03575766714477338\n",
      "Finisheded epoch: 900\n",
      "Current reconstruction error is: 0.03554545873725596\n",
      "Finisheded epoch: 1000\n",
      "Current reconstruction error is: 0.03523581397665171\n",
      "Finish training 2700 samples after 1000 epochs. The total training time is 74.20966720581055 seconds.\n",
      "---> Running DeepImpute on DS1\n",
      "Using all the cores (8)\n",
      "Input dataset is 2700 cells (rows) and 100 genes (columns)\n",
      "First 3 rows and columns:\n",
      "   0  1  2\n",
      "0  0  1  0\n",
      "1  0  0  0\n",
      "2  0  0  0\n",
      "512 genes selected for imputation\n",
      "Net 0: 100 predictors, 512 targets\n",
      "Normalization\n",
      "Building network\n",
      "[{'type': 'dense', 'neurons': 256, 'activation': 'relu'}, {'type': 'dropout', 'rate': 0.2}]\n",
      "Fitting with 2700 cells\n",
      "Train on 2565 samples, validate on 135 samples\n",
      "Epoch 1/500\n"
     ]
    },
    {
     "name": "stderr",
     "output_type": "stream",
     "text": [
      "2024-02-12 17:15:18.483765: W tensorflow/c/c_api.cc:304] Operation '{name:'training/Adam/iter/Assign' id:873 op device:{requested: '', assigned: ''} def:{{{node training/Adam/iter/Assign}} = AssignVariableOp[_has_manual_control_dependencies=true, dtype=DT_INT64, validate_shape=false](training/Adam/iter, training/Adam/iter/Initializer/zeros)}}' was changed by setting attribute after it was run by a session. This mutation will have no effect, and will trigger an error in the future. Either don't modify nodes after running them or create a new session.\n"
     ]
    },
    {
     "name": "stdout",
     "output_type": "stream",
     "text": [
      "2565/2565 [==============================] - 1s 389us/sample - loss: 0.5726 - val_loss: 0.5661\n",
      "Epoch 2/500\n",
      " 576/2565 [=====>........................] - ETA: 0s - loss: 0.5241"
     ]
    },
    {
     "name": "stderr",
     "output_type": "stream",
     "text": [
      "2024-02-12 17:15:19.194683: W tensorflow/c/c_api.cc:304] Operation '{name:'loss_1/mul' id:761 op device:{requested: '', assigned: ''} def:{{{node loss_1/mul}} = Mul[T=DT_FLOAT, _has_manual_control_dependencies=true](loss_1/mul/x, loss_1/dense_1_loss/value)}}' was changed by setting attribute after it was run by a session. This mutation will have no effect, and will trigger an error in the future. Either don't modify nodes after running them or create a new session.\n"
     ]
    },
    {
     "name": "stdout",
     "output_type": "stream",
     "text": [
      "2565/2565 [==============================] - 0s 95us/sample - loss: 0.4910 - val_loss: 0.4579\n",
      "Epoch 3/500\n",
      "2565/2565 [==============================] - 0s 66us/sample - loss: 0.3868 - val_loss: 0.3356\n",
      "Epoch 4/500\n",
      "2565/2565 [==============================] - 0s 109us/sample - loss: 0.2808 - val_loss: 0.2444\n",
      "Epoch 5/500\n",
      "2565/2565 [==============================] - 0s 89us/sample - loss: 0.2106 - val_loss: 0.2057\n",
      "Epoch 6/500\n",
      "2565/2565 [==============================] - 0s 75us/sample - loss: 0.1748 - val_loss: 0.1862\n",
      "Epoch 7/500\n",
      "2565/2565 [==============================] - 0s 76us/sample - loss: 0.1532 - val_loss: 0.1669\n",
      "Epoch 8/500\n",
      "2565/2565 [==============================] - 0s 82us/sample - loss: 0.1357 - val_loss: 0.1482\n",
      "Epoch 9/500\n",
      "2565/2565 [==============================] - 0s 95us/sample - loss: 0.1186 - val_loss: 0.1271\n",
      "Epoch 10/500\n",
      "2565/2565 [==============================] - 0s 97us/sample - loss: 0.1014 - val_loss: 0.1078\n",
      "Epoch 11/500\n",
      "2565/2565 [==============================] - 0s 72us/sample - loss: 0.0864 - val_loss: 0.0904\n",
      "Epoch 12/500\n",
      "2565/2565 [==============================] - 0s 77us/sample - loss: 0.0722 - val_loss: 0.0736\n",
      "Epoch 13/500\n",
      "2565/2565 [==============================] - 0s 87us/sample - loss: 0.0604 - val_loss: 0.0595\n",
      "Epoch 14/500\n",
      "2565/2565 [==============================] - 0s 86us/sample - loss: 0.0499 - val_loss: 0.0481\n",
      "Epoch 15/500\n",
      "2565/2565 [==============================] - 0s 71us/sample - loss: 0.0419 - val_loss: 0.0387\n",
      "Epoch 16/500\n",
      "2565/2565 [==============================] - 0s 76us/sample - loss: 0.0352 - val_loss: 0.0320\n",
      "Epoch 17/500\n",
      "2565/2565 [==============================] - 0s 72us/sample - loss: 0.0308 - val_loss: 0.0273\n",
      "Epoch 18/500\n",
      "2565/2565 [==============================] - 0s 85us/sample - loss: 0.0280 - val_loss: 0.0243\n",
      "Epoch 19/500\n",
      "2565/2565 [==============================] - 0s 114us/sample - loss: 0.0259 - val_loss: 0.0223\n",
      "Epoch 20/500\n",
      "2565/2565 [==============================] - 0s 92us/sample - loss: 0.0247 - val_loss: 0.0210\n",
      "Epoch 21/500\n",
      "2565/2565 [==============================] - 0s 68us/sample - loss: 0.0237 - val_loss: 0.0201\n",
      "Epoch 22/500\n",
      "2565/2565 [==============================] - 0s 79us/sample - loss: 0.0231 - val_loss: 0.0195\n",
      "Epoch 23/500\n",
      "2565/2565 [==============================] - 0s 82us/sample - loss: 0.0223 - val_loss: 0.0190\n",
      "Epoch 24/500\n",
      "2565/2565 [==============================] - 0s 83us/sample - loss: 0.0219 - val_loss: 0.0186\n",
      "Epoch 25/500\n",
      "2565/2565 [==============================] - 0s 81us/sample - loss: 0.0213 - val_loss: 0.0183\n",
      "Epoch 26/500\n",
      "2565/2565 [==============================] - 0s 74us/sample - loss: 0.0206 - val_loss: 0.0180\n",
      "Epoch 27/500\n",
      "2565/2565 [==============================] - 0s 81us/sample - loss: 0.0206 - val_loss: 0.0177\n",
      "Epoch 28/500\n",
      "2565/2565 [==============================] - 0s 75us/sample - loss: 0.0204 - val_loss: 0.0175\n",
      "Epoch 29/500\n",
      "2565/2565 [==============================] - 0s 106us/sample - loss: 0.0199 - val_loss: 0.0173\n",
      "Epoch 30/500\n",
      "2565/2565 [==============================] - 0s 76us/sample - loss: 0.0197 - val_loss: 0.0171\n",
      "Epoch 31/500\n",
      "2565/2565 [==============================] - 0s 81us/sample - loss: 0.0194 - val_loss: 0.0170\n",
      "Epoch 32/500\n",
      "2565/2565 [==============================] - 0s 126us/sample - loss: 0.0193 - val_loss: 0.0167\n",
      "Epoch 33/500\n",
      "2565/2565 [==============================] - 0s 91us/sample - loss: 0.0191 - val_loss: 0.0165\n",
      "Epoch 34/500\n",
      "2565/2565 [==============================] - 0s 84us/sample - loss: 0.0187 - val_loss: 0.0164\n",
      "Epoch 35/500\n",
      "2565/2565 [==============================] - 0s 83us/sample - loss: 0.0186 - val_loss: 0.0163\n",
      "Epoch 36/500\n",
      "2565/2565 [==============================] - 0s 80us/sample - loss: 0.0184 - val_loss: 0.0161\n",
      "Epoch 37/500\n",
      "2565/2565 [==============================] - 0s 75us/sample - loss: 0.0183 - val_loss: 0.0162\n",
      "Epoch 38/500\n",
      "2565/2565 [==============================] - 0s 79us/sample - loss: 0.0180 - val_loss: 0.0161\n",
      "Epoch 39/500\n",
      "2565/2565 [==============================] - 0s 74us/sample - loss: 0.0178 - val_loss: 0.0159\n",
      "Epoch 40/500\n",
      "2565/2565 [==============================] - 1s 234us/sample - loss: 0.0175 - val_loss: 0.0157\n",
      "Epoch 41/500\n",
      "2565/2565 [==============================] - 0s 78us/sample - loss: 0.0175 - val_loss: 0.0157\n",
      "Epoch 42/500\n",
      "2565/2565 [==============================] - 0s 87us/sample - loss: 0.0173 - val_loss: 0.0155\n",
      "Epoch 43/500\n",
      "2565/2565 [==============================] - 0s 73us/sample - loss: 0.0169 - val_loss: 0.0154\n",
      "Epoch 44/500\n",
      "2565/2565 [==============================] - 0s 81us/sample - loss: 0.0171 - val_loss: 0.0153\n",
      "Epoch 45/500\n",
      "2565/2565 [==============================] - 0s 86us/sample - loss: 0.0167 - val_loss: 0.0152\n",
      "Epoch 46/500\n",
      "2565/2565 [==============================] - 0s 75us/sample - loss: 0.0165 - val_loss: 0.0151\n",
      "Epoch 47/500\n",
      "2565/2565 [==============================] - 0s 73us/sample - loss: 0.0164 - val_loss: 0.0150\n",
      "Epoch 48/500\n",
      "2565/2565 [==============================] - 0s 73us/sample - loss: 0.0166 - val_loss: 0.0150\n",
      "Epoch 49/500\n",
      "2565/2565 [==============================] - 0s 79us/sample - loss: 0.0162 - val_loss: 0.0149\n",
      "Epoch 50/500\n",
      "2565/2565 [==============================] - 0s 92us/sample - loss: 0.0161 - val_loss: 0.0148\n",
      "Epoch 51/500\n",
      "2565/2565 [==============================] - 0s 70us/sample - loss: 0.0162 - val_loss: 0.0147\n",
      "Epoch 52/500\n",
      "2565/2565 [==============================] - 0s 79us/sample - loss: 0.0157 - val_loss: 0.0147\n",
      "Epoch 53/500\n",
      "2565/2565 [==============================] - 0s 107us/sample - loss: 0.0158 - val_loss: 0.0145\n",
      "Epoch 54/500\n",
      "2565/2565 [==============================] - 0s 85us/sample - loss: 0.0156 - val_loss: 0.0144\n",
      "Epoch 55/500\n",
      "2565/2565 [==============================] - 0s 78us/sample - loss: 0.0156 - val_loss: 0.0144\n",
      "Epoch 56/500\n",
      "2565/2565 [==============================] - 0s 72us/sample - loss: 0.0152 - val_loss: 0.0144\n",
      "Epoch 57/500\n",
      "2565/2565 [==============================] - 0s 77us/sample - loss: 0.0151 - val_loss: 0.0143\n",
      "Epoch 58/500\n",
      "2565/2565 [==============================] - 0s 82us/sample - loss: 0.0150 - val_loss: 0.0143\n",
      "Epoch 59/500\n",
      "2565/2565 [==============================] - 0s 81us/sample - loss: 0.0151 - val_loss: 0.0140\n",
      "Epoch 60/500\n",
      "2565/2565 [==============================] - 0s 79us/sample - loss: 0.0148 - val_loss: 0.0139\n",
      "Epoch 61/500\n",
      "2565/2565 [==============================] - 0s 90us/sample - loss: 0.0147 - val_loss: 0.0138\n",
      "Epoch 62/500\n",
      "2565/2565 [==============================] - 0s 72us/sample - loss: 0.0144 - val_loss: 0.0139\n",
      "Epoch 63/500\n",
      "2565/2565 [==============================] - 0s 81us/sample - loss: 0.0145 - val_loss: 0.0137\n",
      "Epoch 64/500\n",
      "2565/2565 [==============================] - 0s 77us/sample - loss: 0.0143 - val_loss: 0.0136\n",
      "Epoch 65/500\n",
      "2565/2565 [==============================] - 0s 95us/sample - loss: 0.0143 - val_loss: 0.0136\n",
      "Epoch 66/500\n",
      "2565/2565 [==============================] - 1s 233us/sample - loss: 0.0141 - val_loss: 0.0135\n",
      "Epoch 67/500\n",
      "2565/2565 [==============================] - 0s 88us/sample - loss: 0.0139 - val_loss: 0.0134\n",
      "Epoch 68/500\n",
      "2565/2565 [==============================] - 0s 148us/sample - loss: 0.0140 - val_loss: 0.0133\n",
      "Epoch 69/500\n",
      "2565/2565 [==============================] - 0s 69us/sample - loss: 0.0138 - val_loss: 0.0134\n",
      "Epoch 70/500\n",
      "2565/2565 [==============================] - 0s 92us/sample - loss: 0.0135 - val_loss: 0.0132\n",
      "Epoch 71/500\n",
      "2565/2565 [==============================] - 0s 105us/sample - loss: 0.0136 - val_loss: 0.0131\n",
      "Epoch 72/500\n",
      "2565/2565 [==============================] - 0s 69us/sample - loss: 0.0134 - val_loss: 0.0131\n",
      "Epoch 73/500\n",
      "2565/2565 [==============================] - 0s 72us/sample - loss: 0.0133 - val_loss: 0.0130\n",
      "Epoch 74/500\n",
      "2565/2565 [==============================] - 0s 81us/sample - loss: 0.0133 - val_loss: 0.0129\n",
      "Epoch 75/500\n",
      "2565/2565 [==============================] - 0s 80us/sample - loss: 0.0133 - val_loss: 0.0128\n",
      "Epoch 76/500\n",
      "2565/2565 [==============================] - 0s 81us/sample - loss: 0.0130 - val_loss: 0.0128\n",
      "Epoch 77/500\n",
      "2565/2565 [==============================] - 0s 76us/sample - loss: 0.0130 - val_loss: 0.0126\n",
      "Epoch 78/500\n",
      "2565/2565 [==============================] - 0s 79us/sample - loss: 0.0129 - val_loss: 0.0127\n",
      "Epoch 79/500\n",
      "2565/2565 [==============================] - 0s 89us/sample - loss: 0.0128 - val_loss: 0.0126\n",
      "Epoch 80/500\n",
      "2565/2565 [==============================] - 0s 100us/sample - loss: 0.0128 - val_loss: 0.0125\n",
      "Epoch 81/500\n",
      "2565/2565 [==============================] - 0s 70us/sample - loss: 0.0125 - val_loss: 0.0124\n",
      "Epoch 82/500\n",
      "2565/2565 [==============================] - 0s 68us/sample - loss: 0.0126 - val_loss: 0.0124\n",
      "Epoch 83/500\n",
      "2565/2565 [==============================] - 0s 79us/sample - loss: 0.0124 - val_loss: 0.0123\n",
      "Epoch 84/500\n",
      "2565/2565 [==============================] - 0s 80us/sample - loss: 0.0123 - val_loss: 0.0122\n",
      "Epoch 85/500\n",
      "2565/2565 [==============================] - 0s 86us/sample - loss: 0.0123 - val_loss: 0.0121\n",
      "Epoch 86/500\n",
      "2565/2565 [==============================] - 0s 124us/sample - loss: 0.0122 - val_loss: 0.0121\n",
      "Epoch 87/500\n",
      "2565/2565 [==============================] - 0s 138us/sample - loss: 0.0121 - val_loss: 0.0120\n",
      "Epoch 88/500\n",
      "2565/2565 [==============================] - 0s 88us/sample - loss: 0.0121 - val_loss: 0.0119\n",
      "Epoch 89/500\n",
      "2565/2565 [==============================] - 0s 80us/sample - loss: 0.0118 - val_loss: 0.0119\n",
      "Epoch 90/500\n",
      "2565/2565 [==============================] - 0s 104us/sample - loss: 0.0118 - val_loss: 0.0118\n",
      "Epoch 91/500\n",
      "2565/2565 [==============================] - 0s 77us/sample - loss: 0.0118 - val_loss: 0.0119\n",
      "Epoch 92/500\n",
      "2565/2565 [==============================] - 0s 80us/sample - loss: 0.0115 - val_loss: 0.0117\n",
      "Epoch 93/500\n",
      "2565/2565 [==============================] - 0s 74us/sample - loss: 0.0115 - val_loss: 0.0116\n",
      "Epoch 94/500\n",
      "2565/2565 [==============================] - 0s 77us/sample - loss: 0.0115 - val_loss: 0.0116\n",
      "Epoch 95/500\n",
      "2565/2565 [==============================] - 0s 80us/sample - loss: 0.0112 - val_loss: 0.0116\n",
      "Epoch 96/500\n",
      "2565/2565 [==============================] - 0s 79us/sample - loss: 0.0114 - val_loss: 0.0115\n",
      "Epoch 97/500\n",
      "2565/2565 [==============================] - 0s 81us/sample - loss: 0.0113 - val_loss: 0.0115\n",
      "Epoch 98/500\n",
      "2565/2565 [==============================] - 0s 78us/sample - loss: 0.0113 - val_loss: 0.0114\n",
      "Epoch 99/500\n",
      "2565/2565 [==============================] - 0s 103us/sample - loss: 0.0112 - val_loss: 0.0114\n",
      "Epoch 100/500\n",
      "2565/2565 [==============================] - 0s 75us/sample - loss: 0.0110 - val_loss: 0.0113\n",
      "Epoch 101/500\n",
      "2565/2565 [==============================] - 0s 72us/sample - loss: 0.0110 - val_loss: 0.0113\n",
      "Epoch 102/500\n",
      "2565/2565 [==============================] - 0s 84us/sample - loss: 0.0110 - val_loss: 0.0111\n",
      "Epoch 103/500\n",
      "2565/2565 [==============================] - 0s 80us/sample - loss: 0.0107 - val_loss: 0.0112\n",
      "Epoch 104/500\n",
      "2565/2565 [==============================] - 0s 81us/sample - loss: 0.0109 - val_loss: 0.0110\n",
      "Epoch 105/500\n",
      "2565/2565 [==============================] - 0s 78us/sample - loss: 0.0107 - val_loss: 0.0111\n",
      "Epoch 106/500\n",
      "2565/2565 [==============================] - 0s 77us/sample - loss: 0.0107 - val_loss: 0.0111\n",
      "Epoch 107/500\n",
      "2565/2565 [==============================] - 0s 100us/sample - loss: 0.0103 - val_loss: 0.0109\n",
      "Epoch 108/500\n",
      "2565/2565 [==============================] - 0s 77us/sample - loss: 0.0104 - val_loss: 0.0108\n",
      "Epoch 109/500\n",
      "2565/2565 [==============================] - 0s 75us/sample - loss: 0.0104 - val_loss: 0.0108\n",
      "Epoch 110/500\n",
      "2565/2565 [==============================] - 0s 98us/sample - loss: 0.0106 - val_loss: 0.0107\n",
      "Epoch 111/500\n",
      "2565/2565 [==============================] - 0s 83us/sample - loss: 0.0105 - val_loss: 0.0107\n",
      "Epoch 112/500\n",
      "2565/2565 [==============================] - 0s 85us/sample - loss: 0.0102 - val_loss: 0.0107\n",
      "Epoch 113/500\n",
      "2565/2565 [==============================] - 0s 85us/sample - loss: 0.0101 - val_loss: 0.0107\n",
      "Epoch 114/500\n",
      "2565/2565 [==============================] - 0s 83us/sample - loss: 0.0100 - val_loss: 0.0106\n",
      "Epoch 115/500\n",
      "2565/2565 [==============================] - 0s 80us/sample - loss: 0.0099 - val_loss: 0.0108\n",
      "Epoch 116/500\n",
      "2565/2565 [==============================] - 0s 85us/sample - loss: 0.0100 - val_loss: 0.0105\n",
      "Epoch 117/500\n",
      "2565/2565 [==============================] - 0s 77us/sample - loss: 0.0099 - val_loss: 0.0105\n",
      "Epoch 118/500\n",
      "2565/2565 [==============================] - 0s 97us/sample - loss: 0.0097 - val_loss: 0.0104\n",
      "Epoch 119/500\n",
      "2565/2565 [==============================] - 0s 74us/sample - loss: 0.0100 - val_loss: 0.0104\n",
      "Epoch 120/500\n",
      "2565/2565 [==============================] - 0s 87us/sample - loss: 0.0098 - val_loss: 0.0103\n",
      "Epoch 121/500\n",
      "2565/2565 [==============================] - 0s 81us/sample - loss: 0.0097 - val_loss: 0.0103\n",
      "Epoch 122/500\n",
      "2565/2565 [==============================] - 0s 75us/sample - loss: 0.0096 - val_loss: 0.0102\n",
      "Epoch 123/500\n",
      "2565/2565 [==============================] - 0s 73us/sample - loss: 0.0096 - val_loss: 0.0102\n",
      "Epoch 124/500\n",
      "2565/2565 [==============================] - 0s 72us/sample - loss: 0.0094 - val_loss: 0.0102\n",
      "Epoch 125/500\n",
      "2565/2565 [==============================] - 0s 83us/sample - loss: 0.0095 - val_loss: 0.0101\n",
      "Epoch 126/500\n",
      "2565/2565 [==============================] - 0s 83us/sample - loss: 0.0092 - val_loss: 0.0102\n",
      "Epoch 127/500\n",
      "2565/2565 [==============================] - 0s 77us/sample - loss: 0.0093 - val_loss: 0.0101\n",
      "Epoch 128/500\n",
      "2565/2565 [==============================] - 0s 71us/sample - loss: 0.0092 - val_loss: 0.0100\n",
      "Epoch 129/500\n",
      "2565/2565 [==============================] - 0s 95us/sample - loss: 0.0094 - val_loss: 0.0099\n",
      "Epoch 130/500\n",
      "2565/2565 [==============================] - 0s 90us/sample - loss: 0.0092 - val_loss: 0.0100\n",
      "Epoch 131/500\n",
      "2565/2565 [==============================] - 0s 83us/sample - loss: 0.0090 - val_loss: 0.0100\n",
      "Epoch 132/500\n",
      "2565/2565 [==============================] - 0s 82us/sample - loss: 0.0090 - val_loss: 0.0098\n",
      "Epoch 133/500\n",
      "2565/2565 [==============================] - 0s 78us/sample - loss: 0.0090 - val_loss: 0.0098\n",
      "Epoch 134/500\n",
      "2565/2565 [==============================] - 0s 143us/sample - loss: 0.0089 - val_loss: 0.0098\n",
      "Epoch 135/500\n",
      "2565/2565 [==============================] - 0s 121us/sample - loss: 0.0090 - val_loss: 0.0097\n",
      "Epoch 136/500\n",
      "2565/2565 [==============================] - 0s 74us/sample - loss: 0.0088 - val_loss: 0.0098\n",
      "Epoch 137/500\n",
      "2565/2565 [==============================] - 0s 76us/sample - loss: 0.0087 - val_loss: 0.0096\n",
      "Epoch 138/500\n",
      "2565/2565 [==============================] - 0s 110us/sample - loss: 0.0087 - val_loss: 0.0096\n",
      "Epoch 139/500\n",
      "2565/2565 [==============================] - 0s 85us/sample - loss: 0.0088 - val_loss: 0.0095\n",
      "Epoch 140/500\n",
      "2565/2565 [==============================] - 0s 79us/sample - loss: 0.0085 - val_loss: 0.0095\n",
      "Epoch 141/500\n",
      "2565/2565 [==============================] - 0s 74us/sample - loss: 0.0086 - val_loss: 0.0094\n",
      "Epoch 142/500\n",
      "2565/2565 [==============================] - 0s 79us/sample - loss: 0.0085 - val_loss: 0.0095\n",
      "Epoch 143/500\n",
      "2565/2565 [==============================] - 0s 74us/sample - loss: 0.0085 - val_loss: 0.0094\n",
      "Epoch 144/500\n",
      "2565/2565 [==============================] - 0s 77us/sample - loss: 0.0083 - val_loss: 0.0094\n",
      "Epoch 145/500\n",
      "2565/2565 [==============================] - 0s 78us/sample - loss: 0.0085 - val_loss: 0.0094\n",
      "Epoch 146/500\n",
      "2565/2565 [==============================] - 0s 75us/sample - loss: 0.0084 - val_loss: 0.0094\n",
      "Epoch 147/500\n",
      "2565/2565 [==============================] - 0s 74us/sample - loss: 0.0084 - val_loss: 0.0093\n",
      "Epoch 148/500\n",
      "2565/2565 [==============================] - 0s 91us/sample - loss: 0.0084 - val_loss: 0.0092\n",
      "Epoch 149/500\n",
      "2565/2565 [==============================] - 0s 76us/sample - loss: 0.0082 - val_loss: 0.0091\n",
      "Epoch 150/500\n",
      "2565/2565 [==============================] - 0s 84us/sample - loss: 0.0082 - val_loss: 0.0091\n",
      "Epoch 151/500\n",
      "2565/2565 [==============================] - 0s 73us/sample - loss: 0.0083 - val_loss: 0.0092\n",
      "Epoch 152/500\n",
      "2565/2565 [==============================] - 0s 71us/sample - loss: 0.0081 - val_loss: 0.0090\n",
      "Epoch 153/500\n",
      "2565/2565 [==============================] - 0s 75us/sample - loss: 0.0081 - val_loss: 0.0090\n",
      "Epoch 154/500\n",
      "2565/2565 [==============================] - 0s 88us/sample - loss: 0.0081 - val_loss: 0.0091\n",
      "Epoch 155/500\n",
      "2565/2565 [==============================] - 0s 86us/sample - loss: 0.0081 - val_loss: 0.0089\n",
      "Epoch 156/500\n",
      "2565/2565 [==============================] - 0s 76us/sample - loss: 0.0081 - val_loss: 0.0090\n",
      "Epoch 157/500\n",
      "2565/2565 [==============================] - 0s 112us/sample - loss: 0.0080 - val_loss: 0.0092\n",
      "Epoch 158/500\n",
      "2565/2565 [==============================] - 0s 97us/sample - loss: 0.0079 - val_loss: 0.0089\n",
      "Epoch 159/500\n",
      "2565/2565 [==============================] - 0s 81us/sample - loss: 0.0078 - val_loss: 0.0089\n",
      "Epoch 160/500\n",
      "2565/2565 [==============================] - 0s 93us/sample - loss: 0.0079 - val_loss: 0.0089\n",
      "Epoch 161/500\n",
      "2565/2565 [==============================] - 0s 80us/sample - loss: 0.0078 - val_loss: 0.0088\n",
      "Epoch 162/500\n",
      "2565/2565 [==============================] - 0s 74us/sample - loss: 0.0077 - val_loss: 0.0090\n",
      "Epoch 163/500\n",
      "2565/2565 [==============================] - 0s 188us/sample - loss: 0.0077 - val_loss: 0.0088\n",
      "Epoch 164/500\n",
      "2565/2565 [==============================] - 0s 72us/sample - loss: 0.0076 - val_loss: 0.0087\n",
      "Epoch 165/500\n",
      "2565/2565 [==============================] - 0s 147us/sample - loss: 0.0078 - val_loss: 0.0087\n",
      "Epoch 166/500\n",
      "2565/2565 [==============================] - 0s 145us/sample - loss: 0.0077 - val_loss: 0.0086\n",
      "Epoch 167/500\n",
      "2565/2565 [==============================] - 0s 94us/sample - loss: 0.0077 - val_loss: 0.0086\n",
      "Epoch 168/500\n",
      "2565/2565 [==============================] - 0s 89us/sample - loss: 0.0075 - val_loss: 0.0086\n",
      "Epoch 169/500\n",
      "2565/2565 [==============================] - 0s 100us/sample - loss: 0.0075 - val_loss: 0.0085\n",
      "Epoch 170/500\n",
      "2565/2565 [==============================] - 0s 79us/sample - loss: 0.0075 - val_loss: 0.0084\n",
      "Epoch 171/500\n",
      "2565/2565 [==============================] - 0s 76us/sample - loss: 0.0074 - val_loss: 0.0085\n",
      "Epoch 172/500\n",
      "2565/2565 [==============================] - 0s 87us/sample - loss: 0.0074 - val_loss: 0.0086\n",
      "Epoch 173/500\n",
      "2565/2565 [==============================] - 0s 108us/sample - loss: 0.0075 - val_loss: 0.0085\n",
      "Epoch 174/500\n",
      "2565/2565 [==============================] - 0s 120us/sample - loss: 0.0073 - val_loss: 0.0084\n",
      "Epoch 175/500\n",
      "2565/2565 [==============================] - 0s 103us/sample - loss: 0.0074 - val_loss: 0.0083\n",
      "Epoch 176/500\n",
      "2565/2565 [==============================] - 0s 143us/sample - loss: 0.0072 - val_loss: 0.0084\n",
      "Epoch 177/500\n",
      "2565/2565 [==============================] - 1s 243us/sample - loss: 0.0074 - val_loss: 0.0083\n",
      "Epoch 178/500\n",
      "2565/2565 [==============================] - 0s 167us/sample - loss: 0.0072 - val_loss: 0.0083\n",
      "Epoch 179/500\n",
      "2565/2565 [==============================] - 0s 82us/sample - loss: 0.0072 - val_loss: 0.0082\n",
      "Epoch 180/500\n",
      "2565/2565 [==============================] - 0s 78us/sample - loss: 0.0071 - val_loss: 0.0084\n",
      "Epoch 181/500\n",
      "2565/2565 [==============================] - 0s 97us/sample - loss: 0.0072 - val_loss: 0.0082\n",
      "Epoch 182/500\n",
      "2565/2565 [==============================] - 0s 76us/sample - loss: 0.0071 - val_loss: 0.0083\n",
      "Epoch 183/500\n",
      "2565/2565 [==============================] - 0s 76us/sample - loss: 0.0071 - val_loss: 0.0082\n",
      "Epoch 184/500\n",
      "2565/2565 [==============================] - 0s 71us/sample - loss: 0.0070 - val_loss: 0.0083\n",
      "Epoch 185/500\n",
      "2565/2565 [==============================] - 0s 77us/sample - loss: 0.0071 - val_loss: 0.0082\n",
      "Epoch 186/500\n",
      "2565/2565 [==============================] - 0s 91us/sample - loss: 0.0071 - val_loss: 0.0082\n",
      "Epoch 187/500\n",
      "2565/2565 [==============================] - 0s 78us/sample - loss: 0.0071 - val_loss: 0.0081\n",
      "Epoch 188/500\n",
      "2565/2565 [==============================] - 0s 76us/sample - loss: 0.0071 - val_loss: 0.0082\n",
      "Epoch 189/500\n",
      "2565/2565 [==============================] - 0s 93us/sample - loss: 0.0070 - val_loss: 0.0081\n",
      "Epoch 190/500\n",
      "2565/2565 [==============================] - 0s 72us/sample - loss: 0.0069 - val_loss: 0.0082\n",
      "Epoch 191/500\n",
      "2565/2565 [==============================] - 0s 99us/sample - loss: 0.0071 - val_loss: 0.0081\n",
      "Epoch 192/500\n",
      "2565/2565 [==============================] - 0s 83us/sample - loss: 0.0070 - val_loss: 0.0082\n",
      "Epoch 193/500\n",
      "2565/2565 [==============================] - 0s 73us/sample - loss: 0.0070 - val_loss: 0.0080\n",
      "Epoch 194/500\n",
      "2565/2565 [==============================] - 0s 88us/sample - loss: 0.0070 - val_loss: 0.0079\n",
      "Epoch 195/500\n",
      "2565/2565 [==============================] - 0s 75us/sample - loss: 0.0068 - val_loss: 0.0080\n",
      "Epoch 196/500\n",
      "2565/2565 [==============================] - 0s 75us/sample - loss: 0.0067 - val_loss: 0.0079\n",
      "Epoch 197/500\n",
      "2565/2565 [==============================] - 0s 101us/sample - loss: 0.0068 - val_loss: 0.0080\n",
      "Epoch 198/500\n",
      "2565/2565 [==============================] - 0s 80us/sample - loss: 0.0069 - val_loss: 0.0079\n",
      "Epoch 199/500\n",
      "2565/2565 [==============================] - 0s 78us/sample - loss: 0.0068 - val_loss: 0.0080\n",
      "Stopped fitting after 199 epochs\n",
      "Saved model to disk in /var/folders/yj/yrd6p9tj7sd0bj_qsnz_dy5m0000gn/T/tmpqrusvktm\n"
     ]
    },
    {
     "name": "stderr",
     "output_type": "stream",
     "text": [
      "2024-02-12 17:16:04.641900: W tensorflow/c/c_api.cc:304] Operation '{name:'dense_1/Softplus' id:738 op device:{requested: '', assigned: ''} def:{{{node dense_1/Softplus}} = Softplus[T=DT_FLOAT, _has_manual_control_dependencies=true](dense_1/BiasAdd)}}' was changed by setting attribute after it was run by a session. This mutation will have no effect, and will trigger an error in the future. Either don't modify nodes after running them or create a new session.\n",
      "2024-02-12 17:16:04.973467: W tensorflow/c/c_api.cc:304] Operation '{name:'dense_1_1/kernel/Assign' id:1063 op device:{requested: '', assigned: ''} def:{{{node dense_1_1/kernel/Assign}} = AssignVariableOp[_has_manual_control_dependencies=true, dtype=DT_FLOAT, validate_shape=false](dense_1_1/kernel, dense_1_1/kernel/Initializer/random_uniform)}}' was changed by setting attribute after it was run by a session. This mutation will have no effect, and will trigger an error in the future. Either don't modify nodes after running them or create a new session.\n",
      "2024-02-12 17:16:05.140446: W tensorflow/c/c_api.cc:304] Operation '{name:'dense_1_1/Softplus' id:1074 op device:{requested: '', assigned: ''} def:{{{node dense_1_1/Softplus}} = Softplus[T=DT_FLOAT, _has_manual_control_dependencies=true](dense_1_1/BiasAdd)}}' was changed by setting attribute after it was run by a session. This mutation will have no effect, and will trigger an error in the future. Either don't modify nodes after running them or create a new session.\n"
     ]
    },
    {
     "name": "stdout",
     "output_type": "stream",
     "text": [
      "Filling zeros\n",
      "---> Running MAGIC on DS1\n",
      "./imputations/DS1/DS6_clean.npy ./imputations/DS1/DS6_45.npy\n",
      "Calculating MAGIC...\n",
      "  Running MAGIC on 2700 cells and 100 genes.\n",
      "  Calculating graph and diffusion operator...\n",
      "    Calculating PCA...\n",
      "    Calculated PCA in 5.61 seconds.\n",
      "    Calculating KNN search...\n",
      "    Calculated KNN search in 0.15 seconds.\n",
      "    Calculating affinities...\n",
      "    Calculated affinities in 0.14 seconds.\n",
      "  Calculated graph and diffusion operator in 5.93 seconds.\n",
      "  Calculating imputation...\n",
      "  Calculated imputation in 0.01 seconds.\n",
      "Calculated MAGIC in 5.95 seconds.\n",
      "Calculating MAGIC...\n",
      "  Running MAGIC on 2700 cells and 100 genes.\n",
      "  Calculating graph and diffusion operator...\n",
      "    Calculating PCA...\n",
      "    Calculated PCA in 6.27 seconds.\n",
      "    Calculating KNN search...\n",
      "    Calculated KNN search in 0.16 seconds.\n",
      "    Calculating affinities...\n",
      "    Calculated affinities in 0.17 seconds.\n",
      "  Calculated graph and diffusion operator in 6.65 seconds.\n",
      "  Calculating imputation...\n",
      "  Calculated imputation in 0.08 seconds.\n",
      "Calculated MAGIC in 6.74 seconds.\n",
      "Calculating MAGIC...\n",
      "  Running MAGIC on 2700 cells and 100 genes.\n",
      "  Calculating graph and diffusion operator...\n",
      "    Calculating PCA...\n",
      "    Calculated PCA in 5.27 seconds.\n",
      "    Calculating KNN search...\n",
      "    Calculated KNN search in 0.22 seconds.\n",
      "    Calculating affinities...\n",
      "    Calculated affinities in 0.13 seconds.\n",
      "  Calculated graph and diffusion operator in 5.64 seconds.\n",
      "  Calculating imputation...\n",
      "    Automatically selected t = 10\n",
      "  Calculated imputation in 25.09 seconds.\n",
      "Calculated MAGIC in 30.74 seconds.\n",
      "---> Running Pearson on Clean Data for DS1\n"
     ]
    },
    {
     "name": "stderr",
     "output_type": "stream",
     "text": [
      "100%|██████████| 93/93 [00:00<00:00, 207594.61it/s]\n"
     ]
    },
    {
     "name": "stdout",
     "output_type": "stream",
     "text": [
      "{'DS1 Pearson Clean ROC_AUC': 0.72}\n",
      "---> Running Pearson on Noisy Data for DS1\n"
     ]
    },
    {
     "name": "stderr",
     "output_type": "stream",
     "text": [
      "100%|██████████| 93/93 [00:00<00:00, 180254.28it/s]\n"
     ]
    },
    {
     "name": "stdout",
     "output_type": "stream",
     "text": [
      "{'DS1 Pearson Noisy ROC_AUC': 0.53}\n",
      "---> Running Pearson on SAUCIE Data for DS1\n"
     ]
    },
    {
     "name": "stderr",
     "output_type": "stream",
     "text": [
      "100%|██████████| 93/93 [00:00<00:00, 241829.06it/s]\n"
     ]
    },
    {
     "name": "stdout",
     "output_type": "stream",
     "text": [
      "{'DS1 Pearson SAUCIE ROC_AUC': 0.47}\n",
      "---> Running Pearson on scScope Data for DS1\n"
     ]
    },
    {
     "name": "stderr",
     "output_type": "stream",
     "text": [
      "100%|██████████| 93/93 [00:00<00:00, 73238.88it/s]\n"
     ]
    },
    {
     "name": "stdout",
     "output_type": "stream",
     "text": [
      "{'DS1 Pearson scScope ROC_AUC': 0.47}\n",
      "---> Running Pearson on DeepImpute Data for DS1\n"
     ]
    },
    {
     "name": "stderr",
     "output_type": "stream",
     "text": [
      "100%|██████████| 93/93 [00:00<00:00, 2238.76it/s]\n"
     ]
    },
    {
     "name": "stdout",
     "output_type": "stream",
     "text": [
      "{'DS1 Pearson DeepImpute ROC_AUC': 0.48}\n",
      "---> Running Pearson on MAGIC t=2 Data for DS1\n"
     ]
    },
    {
     "name": "stderr",
     "output_type": "stream",
     "text": [
      "100%|██████████| 93/93 [00:00<00:00, 224049.55it/s]\n"
     ]
    },
    {
     "name": "stdout",
     "output_type": "stream",
     "text": [
      "{'DS1 Pearson MAGIC t=2 ROC_AUC': 0.49}\n",
      "---> Running Pearson on MAGIC t=7 Data for DS1\n"
     ]
    },
    {
     "name": "stderr",
     "output_type": "stream",
     "text": [
      "100%|██████████| 93/93 [00:00<00:00, 242883.11it/s]\n"
     ]
    },
    {
     "name": "stdout",
     "output_type": "stream",
     "text": [
      "{'DS1 Pearson MAGIC t=7 ROC_AUC': 0.54}\n",
      "---> Running Pearson on MAGIC t=default Data for DS1\n"
     ]
    },
    {
     "name": "stderr",
     "output_type": "stream",
     "text": [
      "100%|██████████| 93/93 [00:00<00:00, 137590.92it/s]\n"
     ]
    },
    {
     "name": "stdout",
     "output_type": "stream",
     "text": [
      "{'DS1 Pearson MAGIC t=default ROC_AUC': 0.54}\n",
      "---> Running GENIE3 on Clean Data for DS3\n",
      "Tree method: RF\n",
      "K: sqrt\n",
      "Number of trees: 100\n",
      "\n",
      "\n",
      "running jobs on 12 threads\n",
      "Elapsed time: 101.81 seconds\n"
     ]
    },
    {
     "name": "stderr",
     "output_type": "stream",
     "text": [
      "100%|██████████| 93/93 [00:00<00:00, 203479.54it/s]"
     ]
    },
    {
     "name": "stdout",
     "output_type": "stream",
     "text": [
      "---> Running GENIE3 on Noisy Data for DS3\n",
      "Tree method: RF\n",
      "K: sqrt\n",
      "Number of trees: 100\n",
      "\n",
      "\n",
      "running jobs on 12 threads\n"
     ]
    },
    {
     "name": "stderr",
     "output_type": "stream",
     "text": [
      "\n"
     ]
    },
    {
     "name": "stdout",
     "output_type": "stream",
     "text": [
      "Elapsed time: 15.08 seconds\n"
     ]
    },
    {
     "name": "stderr",
     "output_type": "stream",
     "text": [
      "100%|██████████| 93/93 [00:00<00:00, 390460.73it/s]"
     ]
    },
    {
     "name": "stdout",
     "output_type": "stream",
     "text": [
      "---> Running GENIE3 on SAUCIE Data for DS3\n",
      "Tree method: RF\n",
      "K: sqrt\n",
      "Number of trees: 100\n",
      "\n",
      "\n",
      "running jobs on 12 threads\n"
     ]
    },
    {
     "name": "stderr",
     "output_type": "stream",
     "text": [
      "\n"
     ]
    },
    {
     "name": "stdout",
     "output_type": "stream",
     "text": [
      "Elapsed time: 51.33 seconds\n"
     ]
    },
    {
     "name": "stderr",
     "output_type": "stream",
     "text": [
      "100%|██████████| 93/93 [00:00<00:00, 434376.69it/s]"
     ]
    },
    {
     "name": "stdout",
     "output_type": "stream",
     "text": [
      "---> Running GENIE3 on scScope Data for DS3\n",
      "Tree method: RF\n",
      "K: sqrt\n",
      "Number of trees: 100\n",
      "\n",
      "\n",
      "running jobs on 12 threads\n"
     ]
    },
    {
     "name": "stderr",
     "output_type": "stream",
     "text": [
      "\n"
     ]
    },
    {
     "name": "stdout",
     "output_type": "stream",
     "text": [
      "Elapsed time: 50.85 seconds\n"
     ]
    },
    {
     "name": "stderr",
     "output_type": "stream",
     "text": [
      "100%|██████████| 93/93 [00:00<00:00, 458366.95it/s]"
     ]
    },
    {
     "name": "stdout",
     "output_type": "stream",
     "text": [
      "---> Running GENIE3 on DeepImpute Data for DS3\n",
      "Tree method: RF\n",
      "K: sqrt\n",
      "Number of trees: 100\n",
      "\n",
      "\n",
      "running jobs on 12 threads\n"
     ]
    },
    {
     "name": "stderr",
     "output_type": "stream",
     "text": [
      "\n"
     ]
    },
    {
     "name": "stdout",
     "output_type": "stream",
     "text": [
      "Elapsed time: 71.87 seconds\n"
     ]
    },
    {
     "name": "stderr",
     "output_type": "stream",
     "text": [
      "100%|██████████| 93/93 [00:00<00:00, 399253.09it/s]"
     ]
    },
    {
     "name": "stdout",
     "output_type": "stream",
     "text": [
      "saved deepimpute files\n",
      "---> Running GENIE3 on MAGIC t=2 for DS3\n",
      "Tree method: RF\n",
      "K: sqrt\n",
      "Number of trees: 100\n",
      "\n",
      "\n",
      "running jobs on 12 threads\n"
     ]
    },
    {
     "name": "stderr",
     "output_type": "stream",
     "text": [
      "\n"
     ]
    },
    {
     "name": "stdout",
     "output_type": "stream",
     "text": [
      "Elapsed time: 50.80 seconds\n"
     ]
    },
    {
     "name": "stderr",
     "output_type": "stream",
     "text": [
      "100%|██████████| 93/93 [00:00<00:00, 384684.69it/s]"
     ]
    },
    {
     "name": "stdout",
     "output_type": "stream",
     "text": [
      "---> Running GENIE3 on MAGIC t=7 for DS3\n",
      "Tree method: RF\n",
      "K: sqrt\n",
      "Number of trees: 100\n",
      "\n",
      "\n",
      "running jobs on 12 threads\n"
     ]
    },
    {
     "name": "stderr",
     "output_type": "stream",
     "text": [
      "\n"
     ]
    },
    {
     "name": "stdout",
     "output_type": "stream",
     "text": [
      "Elapsed time: 52.09 seconds\n"
     ]
    },
    {
     "name": "stderr",
     "output_type": "stream",
     "text": [
      "100%|██████████| 93/93 [00:00<00:00, 172826.88it/s]"
     ]
    },
    {
     "name": "stdout",
     "output_type": "stream",
     "text": [
      "---> Running GENIE3 on MAGIC t=default for DS3\n",
      "Tree method: RF\n",
      "K: sqrt\n",
      "Number of trees: 100\n",
      "\n",
      "\n",
      "running jobs on 12 threads\n"
     ]
    },
    {
     "name": "stderr",
     "output_type": "stream",
     "text": [
      "\n"
     ]
    },
    {
     "name": "stdout",
     "output_type": "stream",
     "text": [
      "Elapsed time: 51.71 seconds\n"
     ]
    },
    {
     "name": "stderr",
     "output_type": "stream",
     "text": [
      "100%|██████████| 93/93 [00:00<00:00, 449908.04it/s]\n",
      " 33%|███▎      | 1/3 [12:59<25:58, 779.40s/it]"
     ]
    },
    {
     "name": "stdout",
     "output_type": "stream",
     "text": [
      "---> Running SAUCIE on DS2\n",
      "loading data\n",
      "reset graph\n",
      "Initialize saucie\n",
      "Load saucie\n",
      "Train saucie\n",
      "---> Running scScope on DS2\n",
      "Building Computational Graph on GPU-0\n",
      "Finisheded epoch: 100\n",
      "Current reconstruction error is: 0.09981601502207305\n",
      "Finisheded epoch: 200\n",
      "Current reconstruction error is: 0.089121581268883\n",
      "Finisheded epoch: 300\n",
      "Current reconstruction error is: 0.08492016332792486\n",
      "Finisheded epoch: 400\n",
      "Current reconstruction error is: 0.08020552416992907\n",
      "Finisheded epoch: 500\n",
      "Current reconstruction error is: 0.07825048438826326\n",
      "Finisheded epoch: 600\n",
      "Current reconstruction error is: 0.0771653297601248\n",
      "Finisheded epoch: 700\n",
      "Current reconstruction error is: 0.07640498651855507\n",
      "Finisheded epoch: 800\n",
      "Current reconstruction error is: 0.07592918920936292\n",
      "Finisheded epoch: 900\n",
      "Current reconstruction error is: 0.07567680797018918\n",
      "Finisheded epoch: 1000\n",
      "Current reconstruction error is: 0.07552682344376425\n",
      "Finish training 2700 samples after 1000 epochs. The total training time is 62.59168219566345 seconds.\n",
      "---> Running DeepImpute on DS2\n",
      "Using all the cores (8)\n",
      "Input dataset is 2700 cells (rows) and 400 genes (columns)\n",
      "First 3 rows and columns:\n",
      "   0  1  2\n",
      "0  0  0  0\n",
      "1  1  0  0\n",
      "2  0  0  0\n",
      "512 genes selected for imputation\n",
      "Net 0: 400 predictors, 512 targets\n",
      "Normalization\n",
      "Building network\n",
      "[{'type': 'dense', 'neurons': 256, 'activation': 'relu'}, {'type': 'dropout', 'rate': 0.2}]\n",
      "Fitting with 2700 cells\n",
      "Train on 2565 samples, validate on 135 samples\n",
      "Epoch 1/500\n",
      "1920/2565 [=====================>........] - ETA: 0s - loss: 0.1410"
     ]
    },
    {
     "name": "stderr",
     "output_type": "stream",
     "text": [
      "2024-02-12 17:27:54.185612: W tensorflow/c/c_api.cc:304] Operation '{name:'training/Adam/learning_rate/Assign' id:893 op device:{requested: '', assigned: ''} def:{{{node training/Adam/learning_rate/Assign}} = AssignVariableOp[_has_manual_control_dependencies=true, dtype=DT_FLOAT, validate_shape=false](training/Adam/learning_rate, training/Adam/learning_rate/Initializer/initial_value)}}' was changed by setting attribute after it was run by a session. This mutation will have no effect, and will trigger an error in the future. Either don't modify nodes after running them or create a new session.\n",
      "2024-02-12 17:27:54.377424: W tensorflow/c/c_api.cc:304] Operation '{name:'loss_1/mul' id:761 op device:{requested: '', assigned: ''} def:{{{node loss_1/mul}} = Mul[T=DT_FLOAT, _has_manual_control_dependencies=true](loss_1/mul/x, loss_1/dense_1_loss/value)}}' was changed by setting attribute after it was run by a session. This mutation will have no effect, and will trigger an error in the future. Either don't modify nodes after running them or create a new session.\n"
     ]
    },
    {
     "name": "stdout",
     "output_type": "stream",
     "text": [
      "2565/2565 [==============================] - 0s 109us/sample - loss: 0.1385 - val_loss: 0.1252\n",
      "Epoch 2/500\n",
      "2565/2565 [==============================] - 0s 30us/sample - loss: 0.1078 - val_loss: 0.0895\n",
      "Epoch 3/500\n",
      "2565/2565 [==============================] - 0s 36us/sample - loss: 0.0724 - val_loss: 0.0526\n",
      "Epoch 4/500\n",
      "2565/2565 [==============================] - 0s 131us/sample - loss: 0.0419 - val_loss: 0.0286\n",
      "Epoch 5/500\n",
      "2565/2565 [==============================] - 0s 33us/sample - loss: 0.0261 - val_loss: 0.0197\n",
      "Epoch 6/500\n",
      "2565/2565 [==============================] - 0s 51us/sample - loss: 0.0206 - val_loss: 0.0168\n",
      "Epoch 7/500\n",
      "2565/2565 [==============================] - 0s 32us/sample - loss: 0.0185 - val_loss: 0.0150\n",
      "Epoch 8/500\n",
      "2565/2565 [==============================] - 0s 32us/sample - loss: 0.0163 - val_loss: 0.0135\n",
      "Epoch 9/500\n",
      "2565/2565 [==============================] - 0s 31us/sample - loss: 0.0147 - val_loss: 0.0122\n",
      "Epoch 10/500\n",
      "2565/2565 [==============================] - 0s 31us/sample - loss: 0.0132 - val_loss: 0.0111\n",
      "Epoch 11/500\n",
      "2565/2565 [==============================] - 0s 31us/sample - loss: 0.0122 - val_loss: 0.0102\n",
      "Epoch 12/500\n",
      "2565/2565 [==============================] - 0s 34us/sample - loss: 0.0111 - val_loss: 0.0094\n",
      "Epoch 13/500\n",
      "2565/2565 [==============================] - 0s 35us/sample - loss: 0.0104 - val_loss: 0.0087\n",
      "Epoch 14/500\n",
      "2565/2565 [==============================] - 0s 35us/sample - loss: 0.0097 - val_loss: 0.0082\n",
      "Epoch 15/500\n",
      "2565/2565 [==============================] - 0s 31us/sample - loss: 0.0091 - val_loss: 0.0078\n",
      "Epoch 16/500\n",
      "2565/2565 [==============================] - 0s 32us/sample - loss: 0.0087 - val_loss: 0.0075\n",
      "Epoch 17/500\n",
      "2565/2565 [==============================] - 0s 34us/sample - loss: 0.0083 - val_loss: 0.0072\n",
      "Epoch 18/500\n",
      "2565/2565 [==============================] - 0s 40us/sample - loss: 0.0082 - val_loss: 0.0070\n",
      "Epoch 19/500\n",
      "2565/2565 [==============================] - 0s 35us/sample - loss: 0.0078 - val_loss: 0.0068\n",
      "Epoch 20/500\n",
      "2565/2565 [==============================] - 0s 49us/sample - loss: 0.0076 - val_loss: 0.0066\n",
      "Epoch 21/500\n",
      "2565/2565 [==============================] - 0s 39us/sample - loss: 0.0074 - val_loss: 0.0064\n",
      "Epoch 22/500\n",
      "2565/2565 [==============================] - 0s 41us/sample - loss: 0.0072 - val_loss: 0.0062\n",
      "Epoch 23/500\n",
      "2565/2565 [==============================] - 0s 38us/sample - loss: 0.0070 - val_loss: 0.0060\n",
      "Epoch 24/500\n",
      "2565/2565 [==============================] - 0s 42us/sample - loss: 0.0068 - val_loss: 0.0059\n",
      "Epoch 25/500\n",
      "2565/2565 [==============================] - 0s 41us/sample - loss: 0.0065 - val_loss: 0.0057\n",
      "Epoch 26/500\n",
      "2565/2565 [==============================] - 0s 41us/sample - loss: 0.0063 - val_loss: 0.0055\n",
      "Epoch 27/500\n",
      "2565/2565 [==============================] - 0s 39us/sample - loss: 0.0062 - val_loss: 0.0054\n",
      "Epoch 28/500\n",
      "2565/2565 [==============================] - 0s 37us/sample - loss: 0.0061 - val_loss: 0.0052\n",
      "Epoch 29/500\n",
      "2565/2565 [==============================] - 0s 36us/sample - loss: 0.0058 - val_loss: 0.0051\n",
      "Epoch 30/500\n",
      "2565/2565 [==============================] - 0s 34us/sample - loss: 0.0056 - val_loss: 0.0049\n",
      "Epoch 31/500\n",
      "2565/2565 [==============================] - 0s 34us/sample - loss: 0.0055 - val_loss: 0.0048\n",
      "Epoch 32/500\n",
      "2565/2565 [==============================] - 0s 35us/sample - loss: 0.0053 - val_loss: 0.0046\n",
      "Epoch 33/500\n",
      "2565/2565 [==============================] - 0s 43us/sample - loss: 0.0051 - val_loss: 0.0045\n",
      "Epoch 34/500\n",
      "2565/2565 [==============================] - 0s 40us/sample - loss: 0.0050 - val_loss: 0.0043\n",
      "Epoch 35/500\n",
      "2565/2565 [==============================] - 0s 44us/sample - loss: 0.0049 - val_loss: 0.0042\n",
      "Epoch 36/500\n",
      "2565/2565 [==============================] - 0s 40us/sample - loss: 0.0048 - val_loss: 0.0041\n",
      "Epoch 37/500\n",
      "2565/2565 [==============================] - 0s 40us/sample - loss: 0.0047 - val_loss: 0.0040\n",
      "Epoch 38/500\n",
      "2565/2565 [==============================] - 0s 39us/sample - loss: 0.0046 - val_loss: 0.0038\n",
      "Epoch 39/500\n",
      "2565/2565 [==============================] - 0s 40us/sample - loss: 0.0045 - val_loss: 0.0037\n",
      "Epoch 40/500\n",
      "2565/2565 [==============================] - 0s 34us/sample - loss: 0.0043 - val_loss: 0.0036\n",
      "Epoch 41/500\n",
      "2565/2565 [==============================] - 0s 35us/sample - loss: 0.0042 - val_loss: 0.0035\n",
      "Epoch 42/500\n",
      "2565/2565 [==============================] - 0s 33us/sample - loss: 0.0041 - val_loss: 0.0034\n",
      "Epoch 43/500\n",
      "2565/2565 [==============================] - 0s 39us/sample - loss: 0.0040 - val_loss: 0.0033\n",
      "Epoch 44/500\n",
      "2565/2565 [==============================] - 0s 73us/sample - loss: 0.0039 - val_loss: 0.0032\n",
      "Epoch 45/500\n",
      "2565/2565 [==============================] - 0s 47us/sample - loss: 0.0039 - val_loss: 0.0032\n",
      "Epoch 46/500\n",
      "2565/2565 [==============================] - 0s 55us/sample - loss: 0.0038 - val_loss: 0.0031\n",
      "Epoch 47/500\n",
      "2565/2565 [==============================] - 0s 39us/sample - loss: 0.0037 - val_loss: 0.0030\n",
      "Epoch 48/500\n",
      "2565/2565 [==============================] - 0s 35us/sample - loss: 0.0036 - val_loss: 0.0029\n",
      "Epoch 49/500\n",
      "2565/2565 [==============================] - 0s 36us/sample - loss: 0.0036 - val_loss: 0.0029\n",
      "Epoch 50/500\n",
      "2565/2565 [==============================] - 0s 35us/sample - loss: 0.0035 - val_loss: 0.0028\n",
      "Epoch 51/500\n",
      "2565/2565 [==============================] - 0s 34us/sample - loss: 0.0035 - val_loss: 0.0027\n",
      "Epoch 52/500\n",
      "2565/2565 [==============================] - 0s 34us/sample - loss: 0.0034 - val_loss: 0.0027\n",
      "Epoch 53/500\n",
      "2565/2565 [==============================] - 0s 50us/sample - loss: 0.0033 - val_loss: 0.0026\n",
      "Epoch 54/500\n",
      "2565/2565 [==============================] - 0s 50us/sample - loss: 0.0033 - val_loss: 0.0026\n",
      "Epoch 55/500\n",
      "2565/2565 [==============================] - 0s 42us/sample - loss: 0.0032 - val_loss: 0.0025\n",
      "Epoch 56/500\n",
      "2565/2565 [==============================] - 0s 42us/sample - loss: 0.0032 - val_loss: 0.0025\n",
      "Epoch 57/500\n",
      "2565/2565 [==============================] - 0s 40us/sample - loss: 0.0032 - val_loss: 0.0024\n",
      "Epoch 58/500\n",
      "2565/2565 [==============================] - 0s 36us/sample - loss: 0.0031 - val_loss: 0.0024\n",
      "Epoch 59/500\n",
      "2565/2565 [==============================] - 0s 41us/sample - loss: 0.0030 - val_loss: 0.0023\n",
      "Epoch 60/500\n",
      "2565/2565 [==============================] - 0s 35us/sample - loss: 0.0030 - val_loss: 0.0023\n",
      "Epoch 61/500\n",
      "2565/2565 [==============================] - 0s 34us/sample - loss: 0.0029 - val_loss: 0.0022\n",
      "Epoch 62/500\n",
      "2565/2565 [==============================] - 0s 37us/sample - loss: 0.0029 - val_loss: 0.0022\n",
      "Epoch 63/500\n",
      "2565/2565 [==============================] - 0s 64us/sample - loss: 0.0029 - val_loss: 0.0022\n",
      "Epoch 64/500\n",
      "2565/2565 [==============================] - 0s 48us/sample - loss: 0.0029 - val_loss: 0.0021\n",
      "Epoch 65/500\n",
      "2565/2565 [==============================] - 0s 39us/sample - loss: 0.0028 - val_loss: 0.0021\n",
      "Epoch 66/500\n",
      "2565/2565 [==============================] - 0s 35us/sample - loss: 0.0028 - val_loss: 0.0020\n",
      "Epoch 67/500\n",
      "2565/2565 [==============================] - 0s 34us/sample - loss: 0.0027 - val_loss: 0.0020\n",
      "Epoch 68/500\n",
      "2565/2565 [==============================] - 0s 34us/sample - loss: 0.0027 - val_loss: 0.0020\n",
      "Epoch 69/500\n",
      "2565/2565 [==============================] - 0s 35us/sample - loss: 0.0026 - val_loss: 0.0020\n",
      "Epoch 70/500\n",
      "2565/2565 [==============================] - 0s 35us/sample - loss: 0.0026 - val_loss: 0.0019\n",
      "Epoch 71/500\n",
      "2565/2565 [==============================] - 0s 35us/sample - loss: 0.0025 - val_loss: 0.0019\n",
      "Epoch 72/500\n",
      "2565/2565 [==============================] - 0s 37us/sample - loss: 0.0025 - val_loss: 0.0019\n",
      "Epoch 73/500\n",
      "2565/2565 [==============================] - 0s 41us/sample - loss: 0.0025 - val_loss: 0.0018\n",
      "Epoch 74/500\n",
      "2565/2565 [==============================] - 0s 41us/sample - loss: 0.0026 - val_loss: 0.0018\n",
      "Epoch 75/500\n",
      "2565/2565 [==============================] - 0s 40us/sample - loss: 0.0025 - val_loss: 0.0018\n",
      "Epoch 76/500\n",
      "2565/2565 [==============================] - 0s 40us/sample - loss: 0.0024 - val_loss: 0.0018\n",
      "Epoch 77/500\n",
      "2565/2565 [==============================] - 0s 37us/sample - loss: 0.0024 - val_loss: 0.0017\n",
      "Epoch 78/500\n",
      "2565/2565 [==============================] - 0s 33us/sample - loss: 0.0024 - val_loss: 0.0017\n",
      "Epoch 79/500\n",
      "2565/2565 [==============================] - 0s 35us/sample - loss: 0.0024 - val_loss: 0.0017\n",
      "Epoch 80/500\n",
      "2565/2565 [==============================] - 0s 35us/sample - loss: 0.0024 - val_loss: 0.0017\n",
      "Epoch 81/500\n",
      "2565/2565 [==============================] - 0s 35us/sample - loss: 0.0023 - val_loss: 0.0017\n",
      "Epoch 82/500\n",
      "2565/2565 [==============================] - 0s 46us/sample - loss: 0.0023 - val_loss: 0.0017\n",
      "Epoch 83/500\n",
      "2565/2565 [==============================] - 0s 41us/sample - loss: 0.0023 - val_loss: 0.0016\n",
      "Epoch 84/500\n",
      "2565/2565 [==============================] - 0s 45us/sample - loss: 0.0023 - val_loss: 0.0016\n",
      "Epoch 85/500\n",
      "2565/2565 [==============================] - 0s 42us/sample - loss: 0.0023 - val_loss: 0.0016\n",
      "Epoch 86/500\n",
      "2565/2565 [==============================] - 0s 38us/sample - loss: 0.0022 - val_loss: 0.0016\n",
      "Epoch 87/500\n",
      "2565/2565 [==============================] - 0s 35us/sample - loss: 0.0022 - val_loss: 0.0016\n",
      "Epoch 88/500\n",
      "2565/2565 [==============================] - 0s 34us/sample - loss: 0.0022 - val_loss: 0.0016\n",
      "Epoch 89/500\n",
      "2565/2565 [==============================] - 0s 34us/sample - loss: 0.0022 - val_loss: 0.0015\n",
      "Epoch 90/500\n",
      "2565/2565 [==============================] - 0s 34us/sample - loss: 0.0022 - val_loss: 0.0015\n",
      "Epoch 91/500\n",
      "2565/2565 [==============================] - 0s 37us/sample - loss: 0.0021 - val_loss: 0.0015\n",
      "Epoch 92/500\n",
      "2565/2565 [==============================] - 0s 35us/sample - loss: 0.0021 - val_loss: 0.0015\n",
      "Epoch 93/500\n",
      "2565/2565 [==============================] - 0s 50us/sample - loss: 0.0021 - val_loss: 0.0015\n",
      "Epoch 94/500\n",
      "2565/2565 [==============================] - 0s 45us/sample - loss: 0.0021 - val_loss: 0.0014\n",
      "Epoch 95/500\n",
      "2565/2565 [==============================] - 0s 39us/sample - loss: 0.0021 - val_loss: 0.0015\n",
      "Epoch 96/500\n",
      "2565/2565 [==============================] - 0s 47us/sample - loss: 0.0020 - val_loss: 0.0014\n",
      "Epoch 97/500\n",
      "2565/2565 [==============================] - 0s 38us/sample - loss: 0.0021 - val_loss: 0.0014\n",
      "Epoch 98/500\n",
      "2565/2565 [==============================] - 0s 34us/sample - loss: 0.0020 - val_loss: 0.0014\n",
      "Epoch 99/500\n",
      "2565/2565 [==============================] - 0s 33us/sample - loss: 0.0020 - val_loss: 0.0014\n",
      "Epoch 100/500\n",
      "2565/2565 [==============================] - 0s 35us/sample - loss: 0.0020 - val_loss: 0.0014\n",
      "Epoch 101/500\n",
      "2565/2565 [==============================] - 0s 34us/sample - loss: 0.0020 - val_loss: 0.0014\n",
      "Epoch 102/500\n",
      "2565/2565 [==============================] - 0s 36us/sample - loss: 0.0019 - val_loss: 0.0014\n",
      "Epoch 103/500\n",
      "2565/2565 [==============================] - 0s 39us/sample - loss: 0.0019 - val_loss: 0.0013\n",
      "Epoch 104/500\n",
      "2565/2565 [==============================] - 0s 42us/sample - loss: 0.0019 - val_loss: 0.0013\n",
      "Epoch 105/500\n",
      "2565/2565 [==============================] - 0s 98us/sample - loss: 0.0019 - val_loss: 0.0013\n",
      "Epoch 106/500\n",
      "2565/2565 [==============================] - 0s 94us/sample - loss: 0.0019 - val_loss: 0.0013\n",
      "Epoch 107/500\n",
      "2565/2565 [==============================] - 0s 53us/sample - loss: 0.0019 - val_loss: 0.0013\n",
      "Epoch 108/500\n",
      "2565/2565 [==============================] - 0s 38us/sample - loss: 0.0019 - val_loss: 0.0013\n",
      "Epoch 109/500\n",
      "2565/2565 [==============================] - 0s 52us/sample - loss: 0.0019 - val_loss: 0.0013\n",
      "Epoch 110/500\n",
      "2565/2565 [==============================] - 0s 43us/sample - loss: 0.0019 - val_loss: 0.0013\n",
      "Epoch 111/500\n",
      "2565/2565 [==============================] - 0s 61us/sample - loss: 0.0019 - val_loss: 0.0013\n",
      "Epoch 112/500\n",
      "2565/2565 [==============================] - 0s 44us/sample - loss: 0.0019 - val_loss: 0.0013\n",
      "Epoch 113/500\n",
      "2565/2565 [==============================] - 0s 38us/sample - loss: 0.0019 - val_loss: 0.0013\n",
      "Epoch 114/500\n",
      "2565/2565 [==============================] - 0s 34us/sample - loss: 0.0018 - val_loss: 0.0013\n",
      "Epoch 115/500\n",
      "2565/2565 [==============================] - 0s 36us/sample - loss: 0.0018 - val_loss: 0.0013\n",
      "Epoch 116/500\n",
      "2565/2565 [==============================] - 0s 34us/sample - loss: 0.0018 - val_loss: 0.0012\n",
      "Epoch 117/500\n",
      "2565/2565 [==============================] - 0s 34us/sample - loss: 0.0018 - val_loss: 0.0013\n",
      "Epoch 118/500\n",
      "2565/2565 [==============================] - 0s 35us/sample - loss: 0.0018 - val_loss: 0.0012\n",
      "Epoch 119/500\n",
      "2565/2565 [==============================] - 0s 41us/sample - loss: 0.0018 - val_loss: 0.0012\n",
      "Epoch 120/500\n",
      "2565/2565 [==============================] - 0s 35us/sample - loss: 0.0018 - val_loss: 0.0012\n",
      "Epoch 121/500\n",
      "2565/2565 [==============================] - 0s 40us/sample - loss: 0.0018 - val_loss: 0.0012\n",
      "Epoch 122/500\n",
      "2565/2565 [==============================] - 0s 39us/sample - loss: 0.0018 - val_loss: 0.0012\n",
      "Epoch 123/500\n",
      "2565/2565 [==============================] - 0s 38us/sample - loss: 0.0017 - val_loss: 0.0012\n",
      "Epoch 124/500\n",
      "2565/2565 [==============================] - 0s 48us/sample - loss: 0.0017 - val_loss: 0.0012\n",
      "Epoch 125/500\n",
      "2565/2565 [==============================] - 0s 36us/sample - loss: 0.0017 - val_loss: 0.0012\n",
      "Epoch 126/500\n",
      "2565/2565 [==============================] - 0s 35us/sample - loss: 0.0017 - val_loss: 0.0012\n",
      "Epoch 127/500\n",
      "2565/2565 [==============================] - 0s 34us/sample - loss: 0.0017 - val_loss: 0.0012\n",
      "Epoch 128/500\n",
      "2565/2565 [==============================] - 0s 34us/sample - loss: 0.0017 - val_loss: 0.0012\n",
      "Epoch 129/500\n",
      "2565/2565 [==============================] - 0s 44us/sample - loss: 0.0017 - val_loss: 0.0011\n",
      "Epoch 130/500\n",
      "2565/2565 [==============================] - 0s 53us/sample - loss: 0.0017 - val_loss: 0.0012\n",
      "Epoch 131/500\n",
      "2565/2565 [==============================] - 0s 40us/sample - loss: 0.0017 - val_loss: 0.0012\n",
      "Epoch 132/500\n",
      "2565/2565 [==============================] - 0s 35us/sample - loss: 0.0016 - val_loss: 0.0011\n",
      "Epoch 133/500\n",
      "2565/2565 [==============================] - 0s 35us/sample - loss: 0.0016 - val_loss: 0.0011\n",
      "Epoch 134/500\n",
      "2565/2565 [==============================] - 0s 35us/sample - loss: 0.0016 - val_loss: 0.0011\n",
      "Epoch 135/500\n",
      "2565/2565 [==============================] - 0s 34us/sample - loss: 0.0016 - val_loss: 0.0011\n",
      "Epoch 136/500\n",
      "2565/2565 [==============================] - 0s 34us/sample - loss: 0.0017 - val_loss: 0.0011\n",
      "Epoch 137/500\n",
      "2565/2565 [==============================] - 0s 35us/sample - loss: 0.0016 - val_loss: 0.0011\n",
      "Epoch 138/500\n",
      "2565/2565 [==============================] - 0s 33us/sample - loss: 0.0016 - val_loss: 0.0011\n",
      "Epoch 139/500\n",
      "2565/2565 [==============================] - 0s 49us/sample - loss: 0.0016 - val_loss: 0.0011\n",
      "Epoch 140/500\n",
      "2565/2565 [==============================] - 0s 42us/sample - loss: 0.0016 - val_loss: 0.0011\n",
      "Epoch 141/500\n",
      "2565/2565 [==============================] - 0s 49us/sample - loss: 0.0016 - val_loss: 0.0011\n",
      "Epoch 142/500\n",
      "2565/2565 [==============================] - 0s 42us/sample - loss: 0.0016 - val_loss: 0.0011\n",
      "Epoch 143/500\n",
      "2565/2565 [==============================] - 0s 37us/sample - loss: 0.0015 - val_loss: 0.0011\n",
      "Epoch 144/500\n",
      "2565/2565 [==============================] - 0s 34us/sample - loss: 0.0015 - val_loss: 0.0011\n",
      "Epoch 145/500\n",
      "2565/2565 [==============================] - 0s 35us/sample - loss: 0.0016 - val_loss: 0.0011\n",
      "Epoch 146/500\n",
      "2565/2565 [==============================] - 0s 34us/sample - loss: 0.0015 - val_loss: 0.0011\n",
      "Epoch 147/500\n",
      "2565/2565 [==============================] - 0s 34us/sample - loss: 0.0015 - val_loss: 0.0011\n",
      "Epoch 148/500\n",
      "2565/2565 [==============================] - 0s 31us/sample - loss: 0.0015 - val_loss: 0.0011\n",
      "Epoch 149/500\n",
      "2565/2565 [==============================] - 0s 37us/sample - loss: 0.0016 - val_loss: 0.0010\n",
      "Epoch 150/500\n",
      "2565/2565 [==============================] - 0s 37us/sample - loss: 0.0015 - val_loss: 0.0010\n",
      "Epoch 151/500\n",
      "2565/2565 [==============================] - 0s 40us/sample - loss: 0.0015 - val_loss: 0.0010\n",
      "Epoch 152/500\n",
      "2565/2565 [==============================] - 0s 46us/sample - loss: 0.0015 - val_loss: 0.0010\n",
      "Epoch 153/500\n",
      "2565/2565 [==============================] - 0s 39us/sample - loss: 0.0015 - val_loss: 0.0010\n",
      "Epoch 154/500\n",
      "2565/2565 [==============================] - 0s 52us/sample - loss: 0.0015 - val_loss: 0.0010\n",
      "Epoch 155/500\n",
      "2565/2565 [==============================] - 0s 35us/sample - loss: 0.0015 - val_loss: 0.0010\n",
      "Epoch 156/500\n",
      "2565/2565 [==============================] - 0s 36us/sample - loss: 0.0015 - val_loss: 0.0010\n",
      "Epoch 157/500\n",
      "2565/2565 [==============================] - 0s 35us/sample - loss: 0.0015 - val_loss: 0.0010\n",
      "Epoch 158/500\n",
      "2565/2565 [==============================] - 0s 34us/sample - loss: 0.0015 - val_loss: 0.0010\n",
      "Epoch 159/500\n",
      "2565/2565 [==============================] - 0s 39us/sample - loss: 0.0015 - val_loss: 0.0010\n",
      "Epoch 160/500\n",
      "2565/2565 [==============================] - 0s 36us/sample - loss: 0.0015 - val_loss: 0.0010\n",
      "Epoch 161/500\n",
      "2565/2565 [==============================] - 0s 36us/sample - loss: 0.0014 - val_loss: 0.0010\n",
      "Epoch 162/500\n",
      "2565/2565 [==============================] - 0s 37us/sample - loss: 0.0014 - val_loss: 9.9425e-04\n",
      "Epoch 163/500\n",
      "2565/2565 [==============================] - 0s 42us/sample - loss: 0.0014 - val_loss: 0.0010\n",
      "Epoch 164/500\n",
      "2565/2565 [==============================] - 0s 39us/sample - loss: 0.0015 - val_loss: 0.0010\n",
      "Epoch 165/500\n",
      "2565/2565 [==============================] - 0s 36us/sample - loss: 0.0014 - val_loss: 0.0010\n",
      "Epoch 166/500\n",
      "2565/2565 [==============================] - 0s 34us/sample - loss: 0.0014 - val_loss: 9.8364e-04\n",
      "Epoch 167/500\n",
      "2565/2565 [==============================] - 0s 34us/sample - loss: 0.0014 - val_loss: 9.9355e-04\n",
      "Epoch 168/500\n",
      "2565/2565 [==============================] - 0s 36us/sample - loss: 0.0014 - val_loss: 9.7811e-04\n",
      "Epoch 169/500\n",
      "2565/2565 [==============================] - 0s 35us/sample - loss: 0.0015 - val_loss: 9.8349e-04\n",
      "Epoch 170/500\n",
      "2565/2565 [==============================] - 0s 53us/sample - loss: 0.0014 - val_loss: 9.8557e-04\n",
      "Epoch 171/500\n",
      "2565/2565 [==============================] - 0s 42us/sample - loss: 0.0014 - val_loss: 9.9145e-04\n",
      "Epoch 172/500\n",
      "2565/2565 [==============================] - 0s 39us/sample - loss: 0.0014 - val_loss: 9.8025e-04\n",
      "Epoch 173/500\n",
      "2565/2565 [==============================] - 0s 41us/sample - loss: 0.0014 - val_loss: 9.7349e-04\n",
      "Epoch 174/500\n",
      "2565/2565 [==============================] - 0s 37us/sample - loss: 0.0014 - val_loss: 9.6443e-04\n",
      "Epoch 175/500\n",
      "2565/2565 [==============================] - 0s 34us/sample - loss: 0.0014 - val_loss: 9.6977e-04\n",
      "Epoch 176/500\n",
      "2565/2565 [==============================] - 0s 34us/sample - loss: 0.0014 - val_loss: 9.6215e-04\n",
      "Epoch 177/500\n",
      "2565/2565 [==============================] - 0s 34us/sample - loss: 0.0014 - val_loss: 9.6323e-04\n",
      "Epoch 178/500\n",
      "2565/2565 [==============================] - 0s 34us/sample - loss: 0.0014 - val_loss: 9.7181e-04\n",
      "Epoch 179/500\n",
      "2565/2565 [==============================] - 0s 34us/sample - loss: 0.0014 - val_loss: 9.6030e-04\n",
      "Epoch 180/500\n",
      "2565/2565 [==============================] - 0s 39us/sample - loss: 0.0014 - val_loss: 0.0010\n",
      "Epoch 181/500\n",
      "2565/2565 [==============================] - 0s 37us/sample - loss: 0.0013 - val_loss: 9.6353e-04\n",
      "Epoch 182/500\n",
      "2565/2565 [==============================] - 0s 40us/sample - loss: 0.0014 - val_loss: 9.6230e-04\n",
      "Epoch 183/500\n",
      "2565/2565 [==============================] - 0s 53us/sample - loss: 0.0013 - val_loss: 9.5014e-04\n",
      "Epoch 184/500\n",
      "2565/2565 [==============================] - 0s 42us/sample - loss: 0.0013 - val_loss: 9.5073e-04\n",
      "Epoch 185/500\n",
      "2565/2565 [==============================] - 0s 39us/sample - loss: 0.0013 - val_loss: 0.0010\n",
      "Epoch 186/500\n",
      "2565/2565 [==============================] - 0s 37us/sample - loss: 0.0014 - val_loss: 9.7706e-04\n",
      "Epoch 187/500\n",
      "2565/2565 [==============================] - 0s 34us/sample - loss: 0.0013 - val_loss: 9.6290e-04\n",
      "Epoch 188/500\n",
      "2565/2565 [==============================] - 0s 36us/sample - loss: 0.0013 - val_loss: 9.8964e-04\n",
      "Stopped fitting after 188 epochs\n",
      "Saved model to disk in /var/folders/yj/yrd6p9tj7sd0bj_qsnz_dy5m0000gn/T/tmpwqnpfvio\n"
     ]
    },
    {
     "name": "stderr",
     "output_type": "stream",
     "text": [
      "2024-02-12 17:28:13.654818: W tensorflow/c/c_api.cc:304] Operation '{name:'dense_1/Softplus' id:738 op device:{requested: '', assigned: ''} def:{{{node dense_1/Softplus}} = Softplus[T=DT_FLOAT, _has_manual_control_dependencies=true](dense_1/BiasAdd)}}' was changed by setting attribute after it was run by a session. This mutation will have no effect, and will trigger an error in the future. Either don't modify nodes after running them or create a new session.\n",
      "2024-02-12 17:28:13.780500: W tensorflow/c/c_api.cc:304] Operation '{name:'dense_1_1/bias/Assign' id:1068 op device:{requested: '', assigned: ''} def:{{{node dense_1_1/bias/Assign}} = AssignVariableOp[_has_manual_control_dependencies=true, dtype=DT_FLOAT, validate_shape=false](dense_1_1/bias, dense_1_1/bias/Initializer/zeros)}}' was changed by setting attribute after it was run by a session. This mutation will have no effect, and will trigger an error in the future. Either don't modify nodes after running them or create a new session.\n",
      "2024-02-12 17:28:13.822270: W tensorflow/c/c_api.cc:304] Operation '{name:'dense_1_1/Softplus' id:1074 op device:{requested: '', assigned: ''} def:{{{node dense_1_1/Softplus}} = Softplus[T=DT_FLOAT, _has_manual_control_dependencies=true](dense_1_1/BiasAdd)}}' was changed by setting attribute after it was run by a session. This mutation will have no effect, and will trigger an error in the future. Either don't modify nodes after running them or create a new session.\n"
     ]
    },
    {
     "name": "stdout",
     "output_type": "stream",
     "text": [
      "Filling zeros\n",
      "---> Running MAGIC on DS2\n",
      "./imputations/DS2/DS6_clean.npy ./imputations/DS2/DS6_45.npy\n",
      "Calculating MAGIC...\n",
      "  Running MAGIC on 2700 cells and 400 genes.\n",
      "  Calculating graph and diffusion operator...\n",
      "    Calculating PCA...\n",
      "    Calculated PCA in 7.35 seconds.\n",
      "    Calculating KNN search...\n",
      "    Calculated KNN search in 0.11 seconds.\n",
      "    Calculating affinities...\n",
      "    Calculated affinities in 0.15 seconds.\n",
      "  Calculated graph and diffusion operator in 7.65 seconds.\n",
      "  Calculating imputation...\n",
      "  Calculated imputation in 0.03 seconds.\n",
      "Calculated MAGIC in 7.68 seconds.\n",
      "Calculating MAGIC...\n",
      "  Running MAGIC on 2700 cells and 400 genes.\n",
      "  Calculating graph and diffusion operator...\n",
      "    Calculating PCA...\n",
      "    Calculated PCA in 6.45 seconds.\n",
      "    Calculating KNN search...\n",
      "    Calculated KNN search in 0.11 seconds.\n",
      "    Calculating affinities...\n",
      "    Calculated affinities in 0.12 seconds.\n",
      "  Calculated graph and diffusion operator in 6.70 seconds.\n",
      "  Calculating imputation...\n",
      "  Calculated imputation in 0.09 seconds.\n",
      "Calculated MAGIC in 6.80 seconds.\n",
      "Calculating MAGIC...\n",
      "  Running MAGIC on 2700 cells and 400 genes.\n",
      "  Calculating graph and diffusion operator...\n",
      "    Calculating PCA...\n",
      "    Calculated PCA in 6.35 seconds.\n",
      "    Calculating KNN search...\n",
      "    Calculated KNN search in 0.12 seconds.\n",
      "    Calculating affinities...\n",
      "    Calculated affinities in 0.11 seconds.\n",
      "  Calculated graph and diffusion operator in 6.60 seconds.\n",
      "  Calculating imputation...\n",
      "    Automatically selected t = 13\n",
      "  Calculated imputation in 10.14 seconds.\n",
      "Calculated MAGIC in 16.75 seconds.\n",
      "---> Running Pearson on Clean Data for DS2\n"
     ]
    },
    {
     "name": "stderr",
     "output_type": "stream",
     "text": [
      "100%|██████████| 380/380 [00:00<00:00, 482834.15it/s]\n"
     ]
    },
    {
     "name": "stdout",
     "output_type": "stream",
     "text": [
      "{'DS2 Pearson Clean ROC_AUC': 0.8}\n",
      "---> Running Pearson on Noisy Data for DS2\n"
     ]
    },
    {
     "name": "stderr",
     "output_type": "stream",
     "text": [
      "100%|██████████| 380/380 [00:00<00:00, 481666.82it/s]\n"
     ]
    },
    {
     "name": "stdout",
     "output_type": "stream",
     "text": [
      "{'DS2 Pearson Noisy ROC_AUC': 0.54}\n",
      "---> Running Pearson on SAUCIE Data for DS2\n"
     ]
    },
    {
     "name": "stderr",
     "output_type": "stream",
     "text": [
      "100%|██████████| 380/380 [00:00<00:00, 501837.38it/s]\n"
     ]
    },
    {
     "name": "stdout",
     "output_type": "stream",
     "text": [
      "{'DS2 Pearson SAUCIE ROC_AUC': 0.51}\n",
      "---> Running Pearson on scScope Data for DS2\n"
     ]
    },
    {
     "name": "stderr",
     "output_type": "stream",
     "text": [
      "100%|██████████| 380/380 [00:00<00:00, 396970.24it/s]\n"
     ]
    },
    {
     "name": "stdout",
     "output_type": "stream",
     "text": [
      "{'DS2 Pearson scScope ROC_AUC': 0.54}\n",
      "---> Running Pearson on DeepImpute Data for DS2\n"
     ]
    },
    {
     "name": "stderr",
     "output_type": "stream",
     "text": [
      "100%|██████████| 380/380 [00:00<00:00, 427530.99it/s]\n"
     ]
    },
    {
     "name": "stdout",
     "output_type": "stream",
     "text": [
      "{'DS2 Pearson DeepImpute ROC_AUC': 0.56}\n",
      "---> Running Pearson on MAGIC t=2 Data for DS2\n"
     ]
    },
    {
     "name": "stderr",
     "output_type": "stream",
     "text": [
      "100%|██████████| 380/380 [00:00<00:00, 388456.13it/s]\n"
     ]
    },
    {
     "name": "stdout",
     "output_type": "stream",
     "text": [
      "{'DS2 Pearson MAGIC t=2 ROC_AUC': 0.55}\n",
      "---> Running Pearson on MAGIC t=7 Data for DS2\n"
     ]
    },
    {
     "name": "stderr",
     "output_type": "stream",
     "text": [
      "100%|██████████| 380/380 [00:00<00:00, 466306.47it/s]\n"
     ]
    },
    {
     "name": "stdout",
     "output_type": "stream",
     "text": [
      "{'DS2 Pearson MAGIC t=7 ROC_AUC': 0.52}\n",
      "---> Running Pearson on MAGIC t=default Data for DS2\n"
     ]
    },
    {
     "name": "stderr",
     "output_type": "stream",
     "text": [
      "100%|██████████| 380/380 [00:00<00:00, 466170.08it/s]\n"
     ]
    },
    {
     "name": "stdout",
     "output_type": "stream",
     "text": [
      "{'DS2 Pearson MAGIC t=default ROC_AUC': 0.51}\n",
      "---> Running GENIE3 on Clean Data for DS6\n",
      "Tree method: RF\n",
      "K: sqrt\n",
      "Number of trees: 100\n",
      "\n",
      "\n",
      "running jobs on 12 threads\n",
      "Elapsed time: 422.37 seconds\n"
     ]
    },
    {
     "name": "stderr",
     "output_type": "stream",
     "text": [
      "100%|██████████| 380/380 [00:00<00:00, 507914.44it/s]"
     ]
    },
    {
     "name": "stdout",
     "output_type": "stream",
     "text": [
      "---> Running GENIE3 on Noisy Data for DS6\n",
      "Tree method: RF\n",
      "K: sqrt\n",
      "Number of trees: 100\n",
      "\n",
      "\n",
      "running jobs on 12 threads\n"
     ]
    },
    {
     "name": "stderr",
     "output_type": "stream",
     "text": [
      "\n"
     ]
    },
    {
     "name": "stdout",
     "output_type": "stream",
     "text": [
      "Elapsed time: 43.91 seconds\n"
     ]
    },
    {
     "name": "stderr",
     "output_type": "stream",
     "text": [
      "100%|██████████| 380/380 [00:00<00:00, 418989.36it/s]"
     ]
    },
    {
     "name": "stdout",
     "output_type": "stream",
     "text": [
      "---> Running GENIE3 on SAUCIE Data for DS6\n",
      "Tree method: RF\n",
      "K: sqrt\n",
      "Number of trees: 100\n",
      "\n",
      "\n",
      "running jobs on 12 threads\n"
     ]
    },
    {
     "name": "stderr",
     "output_type": "stream",
     "text": [
      "\n"
     ]
    },
    {
     "name": "stdout",
     "output_type": "stream",
     "text": [
      "Elapsed time: 386.85 seconds\n"
     ]
    },
    {
     "name": "stderr",
     "output_type": "stream",
     "text": [
      "100%|██████████| 380/380 [00:00<00:00, 498540.98it/s]"
     ]
    },
    {
     "name": "stdout",
     "output_type": "stream",
     "text": [
      "---> Running GENIE3 on scScope Data for DS6\n",
      "Tree method: RF\n",
      "K: sqrt\n",
      "Number of trees: 100\n",
      "\n",
      "\n",
      "running jobs on 12 threads\n"
     ]
    },
    {
     "name": "stderr",
     "output_type": "stream",
     "text": [
      "\n"
     ]
    },
    {
     "name": "stdout",
     "output_type": "stream",
     "text": [
      "Elapsed time: 282.28 seconds\n"
     ]
    },
    {
     "name": "stderr",
     "output_type": "stream",
     "text": [
      "100%|██████████| 380/380 [00:00<00:00, 460114.18it/s]"
     ]
    },
    {
     "name": "stdout",
     "output_type": "stream",
     "text": [
      "---> Running GENIE3 on DeepImpute Data for DS6\n",
      "Tree method: RF\n",
      "K: sqrt\n",
      "Number of trees: 100\n",
      "\n",
      "\n",
      "running jobs on 12 threads\n"
     ]
    },
    {
     "name": "stderr",
     "output_type": "stream",
     "text": [
      "\n"
     ]
    },
    {
     "name": "stdout",
     "output_type": "stream",
     "text": [
      "Elapsed time: 400.75 seconds\n"
     ]
    },
    {
     "name": "stderr",
     "output_type": "stream",
     "text": [
      "100%|██████████| 380/380 [00:00<00:00, 405556.11it/s]"
     ]
    },
    {
     "name": "stdout",
     "output_type": "stream",
     "text": [
      "saved deepimpute files\n",
      "---> Running GENIE3 on MAGIC t=2 for DS6\n",
      "Tree method: RF\n",
      "K: sqrt\n",
      "Number of trees: 100\n",
      "\n",
      "\n",
      "running jobs on 12 threads\n"
     ]
    },
    {
     "name": "stderr",
     "output_type": "stream",
     "text": [
      "\n"
     ]
    },
    {
     "name": "stdout",
     "output_type": "stream",
     "text": [
      "Elapsed time: 398.30 seconds\n"
     ]
    },
    {
     "name": "stderr",
     "output_type": "stream",
     "text": [
      "100%|██████████| 380/380 [00:00<00:00, 476340.56it/s]"
     ]
    },
    {
     "name": "stdout",
     "output_type": "stream",
     "text": [
      "---> Running GENIE3 on MAGIC t=7 for DS6\n",
      "Tree method: RF\n",
      "K: sqrt\n",
      "Number of trees: 100\n",
      "\n",
      "\n",
      "running jobs on 12 threads\n"
     ]
    },
    {
     "name": "stderr",
     "output_type": "stream",
     "text": [
      "\n"
     ]
    },
    {
     "name": "stdout",
     "output_type": "stream",
     "text": [
      "Elapsed time: 344.46 seconds\n"
     ]
    },
    {
     "name": "stderr",
     "output_type": "stream",
     "text": [
      "100%|██████████| 380/380 [00:00<00:00, 458393.88it/s]"
     ]
    },
    {
     "name": "stdout",
     "output_type": "stream",
     "text": [
      "---> Running GENIE3 on MAGIC t=default for DS6\n",
      "Tree method: RF\n",
      "K: sqrt\n",
      "Number of trees: 100\n",
      "\n",
      "\n",
      "running jobs on 12 threads\n"
     ]
    },
    {
     "name": "stderr",
     "output_type": "stream",
     "text": [
      "\n"
     ]
    },
    {
     "name": "stdout",
     "output_type": "stream",
     "text": [
      "Elapsed time: 324.25 seconds\n"
     ]
    },
    {
     "name": "stderr",
     "output_type": "stream",
     "text": [
      "100%|██████████| 380/380 [00:00<00:00, 468637.32it/s]\n",
      " 67%|██████▋   | 2/3 [59:54<32:57, 1977.15s/it]"
     ]
    },
    {
     "name": "stdout",
     "output_type": "stream",
     "text": [
      "---> Running SAUCIE on DS3\n",
      "loading data\n",
      "reset graph\n",
      "Initialize saucie\n",
      "Load saucie\n",
      "Train saucie\n",
      "---> Running scScope on DS3\n",
      "Building Computational Graph on GPU-0\n",
      "Finisheded epoch: 100\n",
      "Current reconstruction error is: 0.14556536833357714\n",
      "Finisheded epoch: 200\n",
      "Current reconstruction error is: 0.11898375978254927\n",
      "Finisheded epoch: 300\n",
      "Current reconstruction error is: 0.10378343243343052\n",
      "Finisheded epoch: 400\n",
      "Current reconstruction error is: 0.08800581805283965\n",
      "Finisheded epoch: 500\n",
      "Current reconstruction error is: 0.07530119441710606\n",
      "Finisheded epoch: 600\n",
      "Current reconstruction error is: 0.06564277643462398\n",
      "Finisheded epoch: 700\n",
      "Current reconstruction error is: 0.05793943570316769\n",
      "Finisheded epoch: 800\n",
      "Current reconstruction error is: 0.05203673512088177\n",
      "Finisheded epoch: 900\n",
      "Current reconstruction error is: 0.047709327258321346\n",
      "Finisheded epoch: 1000\n",
      "Current reconstruction error is: 0.04446412646595027\n",
      "Finish training 2700 samples after 1000 epochs. The total training time is 140.06592988967896 seconds.\n",
      "---> Running DeepImpute on DS3\n",
      "Using all the cores (8)\n",
      "Input dataset is 2700 cells (rows) and 1200 genes (columns)\n",
      "First 3 rows and columns:\n",
      "   0  1  2\n",
      "0  0  0  0\n",
      "1  0  0  0\n",
      "2  0  0  0\n",
      "1024 genes selected for imputation\n",
      "Net 0: 515 predictors, 512 targets\n",
      "Net 1: 561 predictors, 512 targets\n",
      "Normalization\n",
      "Building network\n",
      "[{'type': 'dense', 'neurons': 256, 'activation': 'relu'}, {'type': 'dropout', 'rate': 0.2}]\n",
      "Fitting with 2700 cells\n",
      "Train on 2565 samples, validate on 135 samples\n",
      "Epoch 1/500\n"
     ]
    },
    {
     "name": "stderr",
     "output_type": "stream",
     "text": [
      "2024-02-12 18:16:12.978040: W tensorflow/c/c_api.cc:304] Operation '{name:'recon/bias/Assign' id:152 op device:{requested: '', assigned: ''} def:{{{node recon/bias/Assign}} = Assign[T=DT_FLOAT, _class=[\"loc:@recon/bias\"], _has_manual_control_dependencies=true, use_locking=true, validate_shape=true](recon/bias, recon/bias/Initializer/zeros)}}' was changed by setting attribute after it was run by a session. This mutation will have no effect, and will trigger an error in the future. Either don't modify nodes after running them or create a new session.\n"
     ]
    },
    {
     "name": "stdout",
     "output_type": "stream",
     "text": [
      "2565/2565 [==============================] - 0s 112us/sample - loss: 0.1165 - dense_2_loss: 0.0535 - dense_3_loss: 0.0625 - val_loss: 0.0910 - val_dense_2_loss: 0.0399 - val_dense_3_loss: 0.0427\n",
      "Epoch 2/500\n",
      "2565/2565 [==============================] - 0s 50us/sample - loss: 0.0980 - dense_2_loss: 0.0443 - dense_3_loss: 0.0539 - val_loss: 0.0742 - val_dense_2_loss: 0.0294 - val_dense_3_loss: 0.0369\n",
      "Epoch 3/500\n",
      "  64/2565 [..............................] - ETA: 0s - loss: 0.0739 - dense_2_loss: 0.0341 - dense_3_loss: 0.0398"
     ]
    },
    {
     "name": "stderr",
     "output_type": "stream",
     "text": [
      "2024-02-12 18:16:13.339586: W tensorflow/c/c_api.cc:304] Operation '{name:'loss_1/AddN' id:900 op device:{requested: '', assigned: ''} def:{{{node loss_1/AddN}} = AddN[N=2, T=DT_FLOAT, _has_manual_control_dependencies=true](loss_1/mul, loss_1/mul_1)}}' was changed by setting attribute after it was run by a session. This mutation will have no effect, and will trigger an error in the future. Either don't modify nodes after running them or create a new session.\n"
     ]
    },
    {
     "name": "stdout",
     "output_type": "stream",
     "text": [
      "2565/2565 [==============================] - 0s 53us/sample - loss: 0.0751 - dense_2_loss: 0.0329 - dense_3_loss: 0.0415 - val_loss: 0.0535 - val_dense_2_loss: 0.0277 - val_dense_3_loss: 0.0331\n",
      "Epoch 4/500\n",
      "2565/2565 [==============================] - 0s 57us/sample - loss: 0.0501 - dense_2_loss: 0.0213 - dense_3_loss: 0.0288 - val_loss: 0.0331 - val_dense_2_loss: 0.0115 - val_dense_3_loss: 0.0186\n",
      "Epoch 5/500\n",
      "2565/2565 [==============================] - 0s 57us/sample - loss: 0.0299 - dense_2_loss: 0.0128 - dense_3_loss: 0.0173 - val_loss: 0.0201 - val_dense_2_loss: 0.0092 - val_dense_3_loss: 0.0143\n",
      "Epoch 6/500\n",
      "2565/2565 [==============================] - 0s 56us/sample - loss: 0.0211 - dense_2_loss: 0.0094 - dense_3_loss: 0.0113 - val_loss: 0.0159 - val_dense_2_loss: 0.0087 - val_dense_3_loss: 0.0101\n",
      "Epoch 7/500\n",
      "2565/2565 [==============================] - 0s 57us/sample - loss: 0.0195 - dense_2_loss: 0.0092 - dense_3_loss: 0.0105 - val_loss: 0.0150 - val_dense_2_loss: 0.0082 - val_dense_3_loss: 0.0089\n",
      "Epoch 8/500\n",
      "2565/2565 [==============================] - 0s 61us/sample - loss: 0.0183 - dense_2_loss: 0.0086 - dense_3_loss: 0.0101 - val_loss: 0.0147 - val_dense_2_loss: 0.0063 - val_dense_3_loss: 0.0068\n",
      "Epoch 9/500\n",
      "2565/2565 [==============================] - 0s 71us/sample - loss: 0.0175 - dense_2_loss: 0.0084 - dense_3_loss: 0.0092 - val_loss: 0.0143 - val_dense_2_loss: 0.0074 - val_dense_3_loss: 0.0084\n",
      "Epoch 10/500\n",
      "2565/2565 [==============================] - 0s 68us/sample - loss: 0.0171 - dense_2_loss: 0.0082 - dense_3_loss: 0.0088 - val_loss: 0.0141 - val_dense_2_loss: 0.0076 - val_dense_3_loss: 0.0077\n",
      "Epoch 11/500\n",
      "2565/2565 [==============================] - 0s 60us/sample - loss: 0.0165 - dense_2_loss: 0.0079 - dense_3_loss: 0.0087 - val_loss: 0.0139 - val_dense_2_loss: 0.0073 - val_dense_3_loss: 0.0075\n",
      "Epoch 12/500\n",
      "2565/2565 [==============================] - 0s 59us/sample - loss: 0.0162 - dense_2_loss: 0.0078 - dense_3_loss: 0.0083 - val_loss: 0.0137 - val_dense_2_loss: 0.0067 - val_dense_3_loss: 0.0072\n",
      "Epoch 13/500\n",
      "2565/2565 [==============================] - 0s 61us/sample - loss: 0.0158 - dense_2_loss: 0.0078 - dense_3_loss: 0.0083 - val_loss: 0.0136 - val_dense_2_loss: 0.0065 - val_dense_3_loss: 0.0072\n",
      "Epoch 14/500\n",
      "2565/2565 [==============================] - 0s 60us/sample - loss: 0.0154 - dense_2_loss: 0.0075 - dense_3_loss: 0.0079 - val_loss: 0.0135 - val_dense_2_loss: 0.0050 - val_dense_3_loss: 0.0067\n",
      "Epoch 15/500\n",
      "2565/2565 [==============================] - 0s 74us/sample - loss: 0.0152 - dense_2_loss: 0.0075 - dense_3_loss: 0.0079 - val_loss: 0.0134 - val_dense_2_loss: 0.0059 - val_dense_3_loss: 0.0073\n",
      "Epoch 16/500\n",
      "2565/2565 [==============================] - 0s 71us/sample - loss: 0.0150 - dense_2_loss: 0.0074 - dense_3_loss: 0.0079 - val_loss: 0.0133 - val_dense_2_loss: 0.0064 - val_dense_3_loss: 0.0066\n",
      "Epoch 17/500\n",
      "2565/2565 [==============================] - 0s 60us/sample - loss: 0.0147 - dense_2_loss: 0.0074 - dense_3_loss: 0.0075 - val_loss: 0.0132 - val_dense_2_loss: 0.0061 - val_dense_3_loss: 0.0066\n",
      "Epoch 18/500\n",
      "2565/2565 [==============================] - 0s 59us/sample - loss: 0.0146 - dense_2_loss: 0.0073 - dense_3_loss: 0.0073 - val_loss: 0.0131 - val_dense_2_loss: 0.0062 - val_dense_3_loss: 0.0070\n",
      "Epoch 19/500\n",
      "2565/2565 [==============================] - 0s 61us/sample - loss: 0.0143 - dense_2_loss: 0.0071 - dense_3_loss: 0.0072 - val_loss: 0.0131 - val_dense_2_loss: 0.0072 - val_dense_3_loss: 0.0077\n",
      "Epoch 20/500\n",
      "2565/2565 [==============================] - 0s 60us/sample - loss: 0.0142 - dense_2_loss: 0.0069 - dense_3_loss: 0.0071 - val_loss: 0.0130 - val_dense_2_loss: 0.0072 - val_dense_3_loss: 0.0074\n",
      "Epoch 21/500\n",
      "2565/2565 [==============================] - 0s 63us/sample - loss: 0.0141 - dense_2_loss: 0.0070 - dense_3_loss: 0.0071 - val_loss: 0.0130 - val_dense_2_loss: 0.0066 - val_dense_3_loss: 0.0068\n",
      "Epoch 22/500\n",
      "2565/2565 [==============================] - 0s 60us/sample - loss: 0.0138 - dense_2_loss: 0.0069 - dense_3_loss: 0.0070 - val_loss: 0.0130 - val_dense_2_loss: 0.0058 - val_dense_3_loss: 0.0061\n",
      "Epoch 23/500\n",
      "2565/2565 [==============================] - 0s 59us/sample - loss: 0.0138 - dense_2_loss: 0.0068 - dense_3_loss: 0.0069 - val_loss: 0.0129 - val_dense_2_loss: 0.0058 - val_dense_3_loss: 0.0062\n",
      "Epoch 24/500\n",
      "2565/2565 [==============================] - 0s 60us/sample - loss: 0.0137 - dense_2_loss: 0.0068 - dense_3_loss: 0.0069 - val_loss: 0.0129 - val_dense_2_loss: 0.0059 - val_dense_3_loss: 0.0060\n",
      "Epoch 25/500\n",
      "2565/2565 [==============================] - 0s 73us/sample - loss: 0.0135 - dense_2_loss: 0.0069 - dense_3_loss: 0.0068 - val_loss: 0.0129 - val_dense_2_loss: 0.0068 - val_dense_3_loss: 0.0073\n",
      "Epoch 26/500\n",
      "2565/2565 [==============================] - 0s 65us/sample - loss: 0.0135 - dense_2_loss: 0.0067 - dense_3_loss: 0.0068 - val_loss: 0.0129 - val_dense_2_loss: 0.0061 - val_dense_3_loss: 0.0067\n",
      "Epoch 27/500\n",
      "2565/2565 [==============================] - 0s 84us/sample - loss: 0.0134 - dense_2_loss: 0.0067 - dense_3_loss: 0.0067 - val_loss: 0.0128 - val_dense_2_loss: 0.0065 - val_dense_3_loss: 0.0075\n",
      "Epoch 28/500\n",
      "2565/2565 [==============================] - 0s 65us/sample - loss: 0.0133 - dense_2_loss: 0.0066 - dense_3_loss: 0.0066 - val_loss: 0.0128 - val_dense_2_loss: 0.0055 - val_dense_3_loss: 0.0064\n",
      "Epoch 29/500\n",
      "2565/2565 [==============================] - 0s 61us/sample - loss: 0.0132 - dense_2_loss: 0.0065 - dense_3_loss: 0.0067 - val_loss: 0.0128 - val_dense_2_loss: 0.0059 - val_dense_3_loss: 0.0059\n",
      "Epoch 30/500\n",
      "2565/2565 [==============================] - 0s 60us/sample - loss: 0.0130 - dense_2_loss: 0.0065 - dense_3_loss: 0.0065 - val_loss: 0.0128 - val_dense_2_loss: 0.0053 - val_dense_3_loss: 0.0058\n",
      "Epoch 31/500\n",
      "2565/2565 [==============================] - 0s 61us/sample - loss: 0.0130 - dense_2_loss: 0.0064 - dense_3_loss: 0.0064 - val_loss: 0.0128 - val_dense_2_loss: 0.0064 - val_dense_3_loss: 0.0065\n",
      "Epoch 32/500\n",
      "2565/2565 [==============================] - 0s 61us/sample - loss: 0.0130 - dense_2_loss: 0.0065 - dense_3_loss: 0.0066 - val_loss: 0.0127 - val_dense_2_loss: 0.0064 - val_dense_3_loss: 0.0063\n",
      "Epoch 33/500\n",
      "2565/2565 [==============================] - 0s 60us/sample - loss: 0.0129 - dense_2_loss: 0.0064 - dense_3_loss: 0.0065 - val_loss: 0.0127 - val_dense_2_loss: 0.0060 - val_dense_3_loss: 0.0062\n",
      "Epoch 34/500\n",
      "2565/2565 [==============================] - 0s 64us/sample - loss: 0.0127 - dense_2_loss: 0.0063 - dense_3_loss: 0.0064 - val_loss: 0.0127 - val_dense_2_loss: 0.0059 - val_dense_3_loss: 0.0060\n",
      "Epoch 35/500\n",
      "2565/2565 [==============================] - 0s 61us/sample - loss: 0.0127 - dense_2_loss: 0.0064 - dense_3_loss: 0.0064 - val_loss: 0.0127 - val_dense_2_loss: 0.0053 - val_dense_3_loss: 0.0058\n",
      "Epoch 36/500\n",
      "2565/2565 [==============================] - 0s 60us/sample - loss: 0.0126 - dense_2_loss: 0.0063 - dense_3_loss: 0.0063 - val_loss: 0.0127 - val_dense_2_loss: 0.0054 - val_dense_3_loss: 0.0057\n",
      "Epoch 37/500\n",
      "2565/2565 [==============================] - 0s 72us/sample - loss: 0.0124 - dense_2_loss: 0.0062 - dense_3_loss: 0.0062 - val_loss: 0.0127 - val_dense_2_loss: 0.0061 - val_dense_3_loss: 0.0068\n",
      "Epoch 38/500\n",
      "2565/2565 [==============================] - 0s 65us/sample - loss: 0.0125 - dense_2_loss: 0.0062 - dense_3_loss: 0.0062 - val_loss: 0.0127 - val_dense_2_loss: 0.0058 - val_dense_3_loss: 0.0062\n",
      "Epoch 39/500\n",
      "2565/2565 [==============================] - 0s 63us/sample - loss: 0.0123 - dense_2_loss: 0.0061 - dense_3_loss: 0.0061 - val_loss: 0.0127 - val_dense_2_loss: 0.0057 - val_dense_3_loss: 0.0059\n",
      "Epoch 40/500\n",
      "2565/2565 [==============================] - 0s 59us/sample - loss: 0.0122 - dense_2_loss: 0.0062 - dense_3_loss: 0.0062 - val_loss: 0.0127 - val_dense_2_loss: 0.0063 - val_dense_3_loss: 0.0062\n",
      "Epoch 41/500\n",
      "2565/2565 [==============================] - 0s 63us/sample - loss: 0.0123 - dense_2_loss: 0.0061 - dense_3_loss: 0.0061 - val_loss: 0.0127 - val_dense_2_loss: 0.0068 - val_dense_3_loss: 0.0065\n",
      "Epoch 42/500\n",
      "2565/2565 [==============================] - 0s 60us/sample - loss: 0.0122 - dense_2_loss: 0.0060 - dense_3_loss: 0.0061 - val_loss: 0.0127 - val_dense_2_loss: 0.0068 - val_dense_3_loss: 0.0068\n",
      "Epoch 43/500\n",
      "2565/2565 [==============================] - 0s 67us/sample - loss: 0.0120 - dense_2_loss: 0.0060 - dense_3_loss: 0.0060 - val_loss: 0.0126 - val_dense_2_loss: 0.0067 - val_dense_3_loss: 0.0073\n",
      "Epoch 44/500\n",
      "2565/2565 [==============================] - 0s 143us/sample - loss: 0.0120 - dense_2_loss: 0.0060 - dense_3_loss: 0.0060 - val_loss: 0.0127 - val_dense_2_loss: 0.0055 - val_dense_3_loss: 0.0064\n",
      "Epoch 45/500\n",
      "2565/2565 [==============================] - 0s 77us/sample - loss: 0.0119 - dense_2_loss: 0.0059 - dense_3_loss: 0.0059 - val_loss: 0.0126 - val_dense_2_loss: 0.0063 - val_dense_3_loss: 0.0061\n",
      "Epoch 46/500\n",
      "2565/2565 [==============================] - 0s 62us/sample - loss: 0.0119 - dense_2_loss: 0.0060 - dense_3_loss: 0.0059 - val_loss: 0.0127 - val_dense_2_loss: 0.0072 - val_dense_3_loss: 0.0074\n",
      "Epoch 47/500\n",
      "2565/2565 [==============================] - 0s 60us/sample - loss: 0.0117 - dense_2_loss: 0.0058 - dense_3_loss: 0.0058 - val_loss: 0.0126 - val_dense_2_loss: 0.0060 - val_dense_3_loss: 0.0062\n",
      "Epoch 48/500\n",
      "2565/2565 [==============================] - 0s 60us/sample - loss: 0.0117 - dense_2_loss: 0.0058 - dense_3_loss: 0.0058 - val_loss: 0.0127 - val_dense_2_loss: 0.0066 - val_dense_3_loss: 0.0065\n",
      "Epoch 49/500\n",
      "2565/2565 [==============================] - 0s 63us/sample - loss: 0.0117 - dense_2_loss: 0.0058 - dense_3_loss: 0.0058 - val_loss: 0.0127 - val_dense_2_loss: 0.0062 - val_dense_3_loss: 0.0070\n",
      "Epoch 50/500\n",
      "2565/2565 [==============================] - 0s 63us/sample - loss: 0.0115 - dense_2_loss: 0.0057 - dense_3_loss: 0.0058 - val_loss: 0.0127 - val_dense_2_loss: 0.0062 - val_dense_3_loss: 0.0061\n",
      "Stopped fitting after 50 epochs\n",
      "Saved model to disk in /var/folders/yj/yrd6p9tj7sd0bj_qsnz_dy5m0000gn/T/tmpqv08ktc6\n"
     ]
    },
    {
     "name": "stderr",
     "output_type": "stream",
     "text": [
      "2024-02-12 18:16:21.636002: W tensorflow/c/c_api.cc:304] Operation '{name:'dense_2/Softplus' id:782 op device:{requested: '', assigned: ''} def:{{{node dense_2/Softplus}} = Softplus[T=DT_FLOAT, _has_manual_control_dependencies=true](dense_2/BiasAdd)}}' was changed by setting attribute after it was run by a session. This mutation will have no effect, and will trigger an error in the future. Either don't modify nodes after running them or create a new session.\n",
      "2024-02-12 18:16:21.795081: W tensorflow/c/c_api.cc:304] Operation '{name:'dense_3_1/bias/Assign' id:1455 op device:{requested: '', assigned: ''} def:{{{node dense_3_1/bias/Assign}} = AssignVariableOp[_has_manual_control_dependencies=true, dtype=DT_FLOAT, validate_shape=false](dense_3_1/bias, dense_3_1/bias/Initializer/zeros)}}' was changed by setting attribute after it was run by a session. This mutation will have no effect, and will trigger an error in the future. Either don't modify nodes after running them or create a new session.\n",
      "2024-02-12 18:16:21.854424: W tensorflow/c/c_api.cc:304] Operation '{name:'dense_2_1/Softplus' id:1440 op device:{requested: '', assigned: ''} def:{{{node dense_2_1/Softplus}} = Softplus[T=DT_FLOAT, _has_manual_control_dependencies=true](dense_2_1/BiasAdd)}}' was changed by setting attribute after it was run by a session. This mutation will have no effect, and will trigger an error in the future. Either don't modify nodes after running them or create a new session.\n"
     ]
    },
    {
     "name": "stdout",
     "output_type": "stream",
     "text": [
      "Filling zeros\n",
      "---> Running MAGIC on DS3\n",
      "./imputations/DS3/DS6_clean.npy ./imputations/DS3/DS6_45.npy\n",
      "Calculating MAGIC...\n",
      "  Running MAGIC on 2700 cells and 1190 genes.\n",
      "  Calculating graph and diffusion operator...\n",
      "    Calculating PCA...\n",
      "    Calculated PCA in 6.67 seconds.\n",
      "    Calculating KNN search...\n",
      "    Calculated KNN search in 0.11 seconds.\n",
      "    Calculating affinities...\n",
      "    Calculated affinities in 0.12 seconds.\n",
      "  Calculated graph and diffusion operator in 6.92 seconds.\n",
      "  Calculating imputation...\n",
      "  Calculated imputation in 0.09 seconds.\n",
      "Calculated MAGIC in 7.01 seconds.\n",
      "Calculating MAGIC...\n",
      "  Running MAGIC on 2700 cells and 1190 genes.\n",
      "  Calculating graph and diffusion operator...\n",
      "    Calculating PCA...\n",
      "    Calculated PCA in 6.96 seconds.\n",
      "    Calculating KNN search...\n",
      "    Calculated KNN search in 0.10 seconds.\n",
      "    Calculating affinities...\n",
      "    Calculated affinities in 0.13 seconds.\n",
      "  Calculated graph and diffusion operator in 7.20 seconds.\n",
      "  Calculating imputation...\n",
      "  Calculated imputation in 0.25 seconds.\n",
      "Calculated MAGIC in 7.47 seconds.\n",
      "Calculating MAGIC...\n",
      "  Running MAGIC on 2700 cells and 1190 genes.\n",
      "  Calculating graph and diffusion operator...\n",
      "    Calculating PCA...\n",
      "    Calculated PCA in 6.89 seconds.\n",
      "    Calculating KNN search...\n",
      "    Calculated KNN search in 0.10 seconds.\n",
      "    Calculating affinities...\n",
      "    Calculated affinities in 0.12 seconds.\n",
      "  Calculated graph and diffusion operator in 7.12 seconds.\n",
      "  Calculating imputation...\n",
      "  Calculated imputation in 16.70 seconds.\n",
      "Calculated MAGIC in 23.83 seconds.\n",
      "---> Running Pearson on Clean Data for DS3\n"
     ]
    },
    {
     "name": "stderr",
     "output_type": "stream",
     "text": [
      "100%|██████████| 1133/1133 [00:00<00:00, 541061.87it/s]\n"
     ]
    },
    {
     "name": "stdout",
     "output_type": "stream",
     "text": [
      "{'DS3 Pearson Clean ROC_AUC': 0.85}\n",
      "---> Running Pearson on Noisy Data for DS3\n"
     ]
    },
    {
     "name": "stderr",
     "output_type": "stream",
     "text": [
      "100%|██████████| 1133/1133 [00:00<00:00, 565597.05it/s]\n"
     ]
    },
    {
     "name": "stdout",
     "output_type": "stream",
     "text": [
      "{'DS3 Pearson Noisy ROC_AUC': 0.48}\n",
      "---> Running Pearson on SAUCIE Data for DS3\n"
     ]
    },
    {
     "name": "stderr",
     "output_type": "stream",
     "text": [
      "100%|██████████| 1133/1133 [00:00<00:00, 560130.41it/s]\n"
     ]
    },
    {
     "name": "stdout",
     "output_type": "stream",
     "text": [
      "{'DS3 Pearson SAUCIE ROC_AUC': 0.51}\n",
      "---> Running Pearson on scScope Data for DS3\n"
     ]
    },
    {
     "name": "stderr",
     "output_type": "stream",
     "text": [
      "100%|██████████| 1133/1133 [00:00<00:00, 592980.59it/s]\n"
     ]
    },
    {
     "name": "stdout",
     "output_type": "stream",
     "text": [
      "{'DS3 Pearson scScope ROC_AUC': 0.5}\n",
      "---> Running Pearson on DeepImpute Data for DS3\n"
     ]
    },
    {
     "name": "stderr",
     "output_type": "stream",
     "text": [
      "100%|██████████| 1133/1133 [00:00<00:00, 587264.76it/s]\n"
     ]
    },
    {
     "name": "stdout",
     "output_type": "stream",
     "text": [
      "{'DS3 Pearson DeepImpute ROC_AUC': 0.52}\n",
      "---> Running Pearson on MAGIC t=2 Data for DS3\n"
     ]
    },
    {
     "name": "stderr",
     "output_type": "stream",
     "text": [
      "100%|██████████| 1133/1133 [00:00<00:00, 604291.26it/s]\n"
     ]
    },
    {
     "name": "stdout",
     "output_type": "stream",
     "text": [
      "{'DS3 Pearson MAGIC t=2 ROC_AUC': 0.54}\n",
      "---> Running Pearson on MAGIC t=7 Data for DS3\n"
     ]
    },
    {
     "name": "stderr",
     "output_type": "stream",
     "text": [
      "100%|██████████| 1133/1133 [00:00<00:00, 568506.57it/s]\n"
     ]
    },
    {
     "name": "stdout",
     "output_type": "stream",
     "text": [
      "{'DS3 Pearson MAGIC t=7 ROC_AUC': 0.56}\n",
      "---> Running Pearson on MAGIC t=default Data for DS3\n"
     ]
    },
    {
     "name": "stderr",
     "output_type": "stream",
     "text": [
      "100%|██████████| 1133/1133 [00:00<00:00, 544721.05it/s]\n"
     ]
    },
    {
     "name": "stdout",
     "output_type": "stream",
     "text": [
      "{'DS3 Pearson MAGIC t=default ROC_AUC': 0.56}\n",
      "---> Running GENIE3 on Clean Data for DS4\n",
      "Tree method: RF\n",
      "K: sqrt\n",
      "Number of trees: 100\n",
      "\n",
      "\n",
      "running jobs on 12 threads\n",
      "Elapsed time: 2002.68 seconds\n"
     ]
    },
    {
     "name": "stderr",
     "output_type": "stream",
     "text": [
      "100%|██████████| 1133/1133 [00:00<00:00, 592536.96it/s]\n"
     ]
    },
    {
     "name": "stdout",
     "output_type": "stream",
     "text": [
      "---> Running GENIE3 on Noisy Data for DS4\n",
      "Tree method: RF\n",
      "K: sqrt\n",
      "Number of trees: 100\n",
      "\n",
      "\n",
      "running jobs on 12 threads\n",
      "Elapsed time: 155.98 seconds\n"
     ]
    },
    {
     "name": "stderr",
     "output_type": "stream",
     "text": [
      "100%|██████████| 1133/1133 [00:00<00:00, 478709.22it/s]\n"
     ]
    },
    {
     "name": "stdout",
     "output_type": "stream",
     "text": [
      "---> Running GENIE3 on SAUCIE Data for DS4\n",
      "Tree method: RF\n",
      "K: sqrt\n",
      "Number of trees: 100\n",
      "\n",
      "\n",
      "running jobs on 12 threads\n",
      "Elapsed time: 1930.11 seconds\n"
     ]
    },
    {
     "name": "stderr",
     "output_type": "stream",
     "text": [
      "100%|██████████| 1133/1133 [00:00<00:00, 561255.04it/s]\n"
     ]
    },
    {
     "name": "stdout",
     "output_type": "stream",
     "text": [
      "---> Running GENIE3 on scScope Data for DS4\n",
      "Tree method: RF\n",
      "K: sqrt\n",
      "Number of trees: 100\n",
      "\n",
      "\n",
      "running jobs on 12 threads\n",
      "Elapsed time: 3338.28 seconds\n"
     ]
    },
    {
     "name": "stderr",
     "output_type": "stream",
     "text": [
      "100%|██████████| 1133/1133 [00:00<00:00, 571377.47it/s]\n"
     ]
    },
    {
     "name": "stdout",
     "output_type": "stream",
     "text": [
      "---> Running GENIE3 on DeepImpute Data for DS4\n",
      "Tree method: RF\n",
      "K: sqrt\n",
      "Number of trees: 100\n",
      "\n",
      "\n",
      "running jobs on 12 threads\n",
      "Elapsed time: 1904.25 seconds\n"
     ]
    },
    {
     "name": "stderr",
     "output_type": "stream",
     "text": [
      "100%|██████████| 1133/1133 [00:00<00:00, 148592.80it/s]"
     ]
    },
    {
     "name": "stdout",
     "output_type": "stream",
     "text": [
      "saved deepimpute files\n"
     ]
    },
    {
     "name": "stderr",
     "output_type": "stream",
     "text": [
      "\n"
     ]
    },
    {
     "name": "stdout",
     "output_type": "stream",
     "text": [
      "---> Running GENIE3 on MAGIC t=2 for DS4\n",
      "Tree method: RF\n",
      "K: sqrt\n",
      "Number of trees: 100\n",
      "\n",
      "\n",
      "running jobs on 12 threads\n",
      "Elapsed time: 2333.44 seconds\n"
     ]
    },
    {
     "name": "stderr",
     "output_type": "stream",
     "text": [
      "100%|██████████| 1133/1133 [00:00<00:00, 23216.76it/s]\n"
     ]
    },
    {
     "name": "stdout",
     "output_type": "stream",
     "text": [
      "---> Running GENIE3 on MAGIC t=7 for DS4\n",
      "Tree method: RF\n",
      "K: sqrt\n",
      "Number of trees: 100\n",
      "\n",
      "\n",
      "running jobs on 12 threads\n",
      "Elapsed time: 1794.80 seconds\n"
     ]
    },
    {
     "name": "stderr",
     "output_type": "stream",
     "text": [
      "100%|██████████| 1133/1133 [00:00<00:00, 39864.99it/s]\n"
     ]
    },
    {
     "name": "stdout",
     "output_type": "stream",
     "text": [
      "---> Running GENIE3 on MAGIC t=default for DS4\n",
      "Tree method: RF\n",
      "K: sqrt\n",
      "Number of trees: 100\n",
      "\n",
      "\n",
      "running jobs on 12 threads\n",
      "Elapsed time: 1622.65 seconds\n"
     ]
    },
    {
     "name": "stderr",
     "output_type": "stream",
     "text": [
      "100%|██████████| 1133/1133 [00:00<00:00, 34303.11it/s]\n",
      "100%|██████████| 3/3 [5:18:08<00:00, 6362.93s/it]\n"
     ]
    }
   ],
   "source": [
    "datasets = range(1, 4) # DS3\n",
    "run_simulations(datasets,\n",
    "                #setting to true will run SERGIO to create clean & noisy data. Must be set to true to run GENIE3 on clean & noisy data\n",
    "                sergio=False,\n",
    "                saucie=True, \n",
    "                scScope=True, \n",
    "                deepImpute=True, \n",
    "                magic=True, \n",
    "                genie=True,\n",
    "                arboreto=False,\n",
    "                pearson=True,\n",
    "                roc=True,\n",
    "                precision_recall_k=False\n",
    "            )"
   ]
  },
  {
   "cell_type": "code",
   "execution_count": 40,
   "metadata": {},
   "outputs": [
    {
     "name": "stderr",
     "output_type": "stream",
     "text": [
      "100%|██████████| 93/93 [00:00<00:00, 335688.70it/s]\n"
     ]
    },
    {
     "name": "stdout",
     "output_type": "stream",
     "text": [
      "DS1 Asymmetric 1s count: 258\n",
      "DS1 Total 1s count: 258\n",
      "DS1 Total percentage of regulatory pairs: 0.018%\n",
      "DS1 Percentage of 1s that are asymmetric: 100.0%\n",
      "DS1 Rows ordered by # of asymmetric 1s (0-indexed):\n",
      " [(14, 76), (802, 76), (781, 35), (773, 34), (788, 17), (880, 11), (871, 3), (771, 2), (759, 2), (800, 2), (1, 0), (8, 0), (2, 0), (3, 0), (5, 0), (19, 0), (6, 0), (7, 0), (9, 0), (18, 0), (10, 0), (11, 0), (4, 0), (20, 0), (34, 0), (36, 0), (22, 0), (23, 0), (24, 0), (25, 0), (26, 0), (27, 0), (21, 0), (28, 0), (30, 0), (31, 0), (32, 0), (33, 0), (12, 0), (35, 0), (29, 0), (13, 0), (16, 0), (38, 0), (59, 0), (58, 0), (48, 0), (41, 0), (42, 0), (43, 0), (45, 0), (60, 0), (46, 0), (49, 0), (57, 0), (50, 0), (51, 0), (52, 0), (53, 0), (54, 0), (47, 0), (15, 0), (78, 0), (76, 0), (37, 0), (39, 0), (79, 0), (40, 0), (61, 0), (63, 0), (64, 0), (77, 0), (65, 0), (68, 0), (69, 0), (70, 0), (71, 0), (72, 0), (73, 0), (75, 0), (66, 0), (80, 0), (135, 0), (82, 0), (83, 0), (85, 0), (86, 0), (87, 0), (88, 0), (89, 0), (100, 0), (90, 0), (92, 0), (94, 0), (95, 0), (96, 0), (97, 0), (98, 0), (91, 0), (157, 0), (101, 0), (103, 0), (104, 0), (105, 0), (106, 0), (107, 0), (108, 0), (109, 0), (110, 0), (111, 0), (112, 0), (113, 0), (114, 0), (115, 0), (116, 0), (117, 0), (118, 0), (99, 0), (119, 0), (120, 0), (121, 0), (129, 0), (123, 0), (124, 0), (125, 0), (126, 0), (127, 0), (128, 0), (130, 0), (137, 0), (131, 0), (132, 0), (133, 0), (134, 0), (55, 0), (136, 0), (138, 0), (81, 0), (139, 0), (155, 0), (122, 0), (141, 0), (142, 0), (143, 0), (144, 0), (145, 0), (146, 0), (147, 0), (148, 0), (149, 0), (150, 0), (151, 0), (152, 0), (153, 0), (154, 0), (140, 0), (156, 0), (255, 0), (305, 0), (166, 0), (160, 0), (161, 0), (162, 0), (163, 0), (164, 0), (175, 0), (165, 0), (174, 0), (168, 0), (169, 0), (170, 0), (171, 0), (172, 0), (167, 0), (176, 0), (177, 0), (192, 0), (194, 0), (178, 0), (179, 0), (180, 0), (181, 0), (182, 0), (183, 0), (184, 0), (185, 0), (186, 0), (187, 0), (188, 0), (189, 0), (190, 0), (191, 0), (173, 0), (231, 0), (193, 0), (230, 0), (203, 0), (197, 0), (198, 0), (199, 0), (200, 0), (201, 0), (212, 0), (202, 0), (211, 0), (205, 0), (206, 0), (207, 0), (208, 0), (209, 0), (204, 0), (213, 0), (214, 0), (229, 0), (196, 0), (215, 0), (216, 0), (217, 0), (218, 0), (219, 0), (220, 0), (221, 0), (222, 0), (223, 0), (224, 0), (225, 0), (226, 0), (227, 0), (228, 0), (195, 0), (232, 0), (233, 0), (285, 0), (249, 0), (234, 0), (235, 0), (236, 0), (237, 0), (238, 0), (159, 0), (239, 0), (241, 0), (242, 0), (243, 0), (244, 0), (245, 0), (246, 0), (240, 0), (250, 0), (252, 0), (267, 0), (251, 0), (253, 0), (254, 0), (102, 0), (256, 0), (257, 0), (258, 0), (259, 0), (260, 0), (261, 0), (262, 0), (263, 0), (264, 0), (265, 0), (266, 0), (247, 0), (248, 0), (268, 0), (269, 0), (287, 0), (278, 0), (272, 0), (273, 0), (274, 0), (275, 0), (276, 0), (277, 0), (279, 0), (286, 0), (280, 0), (281, 0), (282, 0), (283, 0), (284, 0), (288, 0), (158, 0), (289, 0), (303, 0), (270, 0), (271, 0), (290, 0), (291, 0), (292, 0), (293, 0), (294, 0), (295, 0), (296, 0), (297, 0), (298, 0), (299, 0), (300, 0), (301, 0), (302, 0), (304, 0), (604, 0), (505, 0), (308, 0), (309, 0), (310, 0), (311, 0), (312, 0), (313, 0), (314, 0), (315, 0), (316, 0), (317, 0), (318, 0), (319, 0), (320, 0), (321, 0), (322, 0), (323, 0), (324, 0), (325, 0), (326, 0), (327, 0), (328, 0), (329, 0), (330, 0), (331, 0), (332, 0), (333, 0), (334, 0), (335, 0), (336, 0), (337, 0), (338, 0), (339, 0), (340, 0), (341, 0), (342, 0), (343, 0), (344, 0), (345, 0), (346, 0), (347, 0), (348, 0), (349, 0), (350, 0), (351, 0), (352, 0), (353, 0), (354, 0), (355, 0), (356, 0), (357, 0), (358, 0), (359, 0), (360, 0), (361, 0), (362, 0), (363, 0), (364, 0), (365, 0), (366, 0), (367, 0), (368, 0), (369, 0), (370, 0), (371, 0), (372, 0), (373, 0), (374, 0), (375, 0), (376, 0), (377, 0), (378, 0), (379, 0), (380, 0), (381, 0), (382, 0), (383, 0), (384, 0), (385, 0), (386, 0), (387, 0), (388, 0), (398, 0), (389, 0), (391, 0), (392, 0), (393, 0), (394, 0), (395, 0), (396, 0), (390, 0), (455, 0), (399, 0), (401, 0), (402, 0), (403, 0), (404, 0), (405, 0), (406, 0), (407, 0), (408, 0), (409, 0), (410, 0), (411, 0), (412, 0), (413, 0), (414, 0), (415, 0), (416, 0), (397, 0), (417, 0), (418, 0), (419, 0), (427, 0), (421, 0), (422, 0), (423, 0), (424, 0), (425, 0), (426, 0), (428, 0), (435, 0), (429, 0), (430, 0), (431, 0), (432, 0), (433, 0), (434, 0), (436, 0), (454, 0), (437, 0), (453, 0), (420, 0), (439, 0), (440, 0), (441, 0), (442, 0), (443, 0), (444, 0), (445, 0), (446, 0), (447, 0), (448, 0), (449, 0), (450, 0), (451, 0), (452, 0), (438, 0), (306, 0), (456, 0), (549, 0), (458, 0), (459, 0), (460, 0), (461, 0), (462, 0), (463, 0), (464, 0), (465, 0), (466, 0), (467, 0), (468, 0), (469, 0), (470, 0), (471, 0), (472, 0), (473, 0), (474, 0), (475, 0), (476, 0), (477, 0), (478, 0), (479, 0), (480, 0), (481, 0), (482, 0), (483, 0), (484, 0), (485, 0), (486, 0), (487, 0), (488, 0), (489, 0), (490, 0), (491, 0), (492, 0), (493, 0), (494, 0), (495, 0), (496, 0), (497, 0), (498, 0), (499, 0), (500, 0), (501, 0), (502, 0), (503, 0), (504, 0), (210, 0), (506, 0), (507, 0), (508, 0), (509, 0), (510, 0), (511, 0), (512, 0), (513, 0), (514, 0), (515, 0), (516, 0), (517, 0), (518, 0), (519, 0), (520, 0), (521, 0), (522, 0), (523, 0), (524, 0), (525, 0), (526, 0), (527, 0), (528, 0), (529, 0), (530, 0), (531, 0), (532, 0), (533, 0), (534, 0), (535, 0), (536, 0), (537, 0), (547, 0), (538, 0), (540, 0), (541, 0), (542, 0), (543, 0), (544, 0), (545, 0), (539, 0), (457, 0), (548, 0), (550, 0), (551, 0), (552, 0), (553, 0), (554, 0), (555, 0), (556, 0), (557, 0), (558, 0), (559, 0), (560, 0), (561, 0), (562, 0), (563, 0), (564, 0), (565, 0), (546, 0), (566, 0), (567, 0), (568, 0), (576, 0), (570, 0), (571, 0), (572, 0), (573, 0), (574, 0), (575, 0), (577, 0), (584, 0), (578, 0), (579, 0), (580, 0), (581, 0), (582, 0), (583, 0), (585, 0), (307, 0), (586, 0), (602, 0), (569, 0), (588, 0), (589, 0), (590, 0), (591, 0), (592, 0), (593, 0), (594, 0), (595, 0), (596, 0), (597, 0), (598, 0), (1198, 0), (600, 0), (601, 0), (587, 0), (603, 0), (999, 0), (605, 0), (613, 0), (607, 0), (608, 0), (609, 0), (610, 0), (611, 0), (622, 0), (612, 0), (621, 0), (615, 0), (616, 0), (617, 0), (618, 0), (619, 0), (614, 0), (623, 0), (624, 0), (639, 0), (641, 0), (625, 0), (626, 0), (627, 0), (628, 0), (629, 0), (630, 0), (631, 0), (632, 0), (633, 0), (634, 0), (635, 0), (636, 0), (637, 0), (638, 0), (620, 0), (678, 0), (640, 0), (677, 0), (650, 0), (644, 0), (645, 0), (646, 0), (647, 0), (648, 0), (659, 0), (649, 0), (658, 0), (652, 0), (653, 0), (654, 0), (655, 0), (656, 0), (651, 0), (660, 0), (661, 0), (676, 0), (643, 0), (662, 0), (663, 0), (664, 0), (665, 0), (666, 0), (667, 0), (668, 0), (669, 0), (670, 0), (671, 0), (672, 0), (673, 0), (674, 0), (675, 0), (642, 0), (679, 0), (680, 0), (732, 0), (696, 0), (681, 0), (682, 0), (683, 0), (684, 0), (685, 0), (753, 0), (686, 0), (688, 0), (689, 0), (690, 0), (691, 0), (692, 0), (693, 0), (687, 0), (697, 0), (699, 0), (714, 0), (698, 0), (700, 0), (701, 0), (702, 0), (703, 0), (704, 0), (705, 0), (706, 0), (707, 0), (708, 0), (709, 0), (710, 0), (711, 0), (712, 0), (713, 0), (694, 0), (695, 0), (715, 0), (716, 0), (734, 0), (725, 0), (719, 0), (720, 0), (721, 0), (722, 0), (723, 0), (724, 0), (726, 0), (733, 0), (727, 0), (728, 0), (729, 0), (730, 0), (731, 0), (735, 0), (657, 0), (736, 0), (750, 0), (717, 0), (718, 0), (737, 0), (738, 0), (739, 0), (740, 0), (741, 0), (742, 0), (743, 0), (744, 0), (745, 0), (746, 0), (747, 0), (900, 0), (749, 0), (751, 0), (901, 0), (752, 0), (754, 0), (760, 0), (761, 0), (762, 0), (764, 0), (772, 0), (765, 0), (758, 0), (766, 0), (768, 0), (769, 0), (770, 0), (825, 0), (792, 0), (794, 0), (767, 0), (757, 0), (756, 0), (763, 0), (777, 0), (778, 0), (779, 0), (780, 0), (782, 0), (784, 0), (774, 0), (785, 0), (786, 0), (787, 0), (789, 0), (790, 0), (791, 0), (775, 0), (793, 0), (817, 0), (776, 0), (811, 0), (813, 0), (801, 0), (807, 0), (804, 0), (805, 0), (806, 0), (0, 0), (799, 0), (17, 0), (44, 0), (93, 0), (84, 0), (67, 0), (62, 0), (74, 0), (56, 0), (798, 0), (797, 0), (796, 0), (814, 0), (815, 0), (816, 0), (818, 0), (809, 0), (819, 0), (820, 0), (821, 0), (822, 0), (823, 0), (824, 0), (810, 0), (812, 0), (808, 0), (803, 0), (795, 0), (783, 0), (826, 0), (830, 0), (844, 0), (829, 0), (755, 0), (831, 0), (832, 0), (833, 0), (827, 0), (834, 0), (836, 0), (837, 0), (838, 0), (839, 0), (840, 0), (841, 0), (835, 0), (845, 0), (847, 0), (862, 0), (846, 0), (848, 0), (849, 0), (850, 0), (851, 0), (852, 0), (853, 0), (854, 0), (855, 0), (856, 0), (857, 0), (858, 0), (859, 0), (860, 0), (861, 0), (842, 0), (843, 0), (863, 0), (864, 0), (882, 0), (873, 0), (867, 0), (868, 0), (869, 0), (870, 0), (872, 0), (874, 0), (881, 0), (875, 0), (876, 0), (877, 0), (878, 0), (879, 0), (828, 0), (883, 0), (748, 0), (884, 0), (898, 0), (865, 0), (866, 0), (885, 0), (886, 0), (887, 0), (888, 0), (889, 0), (890, 0), (891, 0), (892, 0), (893, 0), (894, 0), (895, 0), (896, 0), (897, 0), (899, 0), (599, 0), (907, 0), (1103, 0), (910, 0), (904, 0), (905, 0), (906, 0), (606, 0), (908, 0), (919, 0), (909, 0), (918, 0), (912, 0), (913, 0), (914, 0), (915, 0), (916, 0), (911, 0), (920, 0), (921, 0), (936, 0), (938, 0), (922, 0), (923, 0), (924, 0), (925, 0), (926, 0), (927, 0), (928, 0), (929, 0), (930, 0), (931, 0), (932, 0), (933, 0), (934, 0), (935, 0), (917, 0), (975, 0), (937, 0), (974, 0), (947, 0), (941, 0), (942, 0), (943, 0), (944, 0), (945, 0), (956, 0), (946, 0), (955, 0), (949, 0), (950, 0), (951, 0), (952, 0), (953, 0), (948, 0), (957, 0), (958, 0), (973, 0), (940, 0), (959, 0), (960, 0), (961, 0), (962, 0), (963, 0), (964, 0), (965, 0), (966, 0), (967, 0), (968, 0), (969, 0), (970, 0), (971, 0), (972, 0), (939, 0), (976, 0), (977, 0), (1029, 0), (993, 0), (978, 0), (979, 0), (980, 0), (981, 0), (982, 0), (1050, 0), (983, 0), (985, 0), (986, 0), (987, 0), (988, 0), (989, 0), (990, 0), (984, 0), (994, 0), (996, 0), (1011, 0), (995, 0), (997, 0), (998, 0), (400, 0), (1000, 0), (1001, 0), (1002, 0), (1003, 0), (1004, 0), (1005, 0), (1006, 0), (1007, 0), (1008, 0), (1009, 0), (1010, 0), (991, 0), (992, 0), (1012, 0), (1013, 0), (1031, 0), (1022, 0), (1016, 0), (1017, 0), (1018, 0), (1019, 0), (1020, 0), (1021, 0), (1023, 0), (1030, 0), (1024, 0), (1025, 0), (1026, 0), (1027, 0), (1028, 0), (1032, 0), (954, 0), (1033, 0), (1047, 0), (1014, 0), (1015, 0), (1034, 0), (1035, 0), (1036, 0), (1037, 0), (1038, 0), (1039, 0), (1040, 0), (1041, 0), (1042, 0), (1043, 0), (1044, 0), (1045, 0), (1046, 0), (1048, 0), (903, 0), (1049, 0), (902, 0), (1059, 0), (1053, 0), (1054, 0), (1055, 0), (1056, 0), (1057, 0), (1068, 0), (1058, 0), (1067, 0), (1061, 0), (1062, 0), (1063, 0), (1064, 0), (1065, 0), (1060, 0), (1069, 0), (1070, 0), (1085, 0), (1087, 0), (1071, 0), (1072, 0), (1073, 0), (1074, 0), (1075, 0), (1076, 0), (1077, 0), (1078, 0), (1079, 0), (1080, 0), (1081, 0), (1082, 0), (1083, 0), (1084, 0), (1066, 0), (1124, 0), (1086, 0), (1123, 0), (1096, 0), (1090, 0), (1091, 0), (1092, 0), (1093, 0), (1094, 0), (1105, 0), (1095, 0), (1104, 0), (1098, 0), (1099, 0), (1100, 0), (1101, 0), (1102, 0), (1097, 0), (1106, 0), (1107, 0), (1122, 0), (1089, 0), (1108, 0), (1109, 0), (1110, 0), (1111, 0), (1112, 0), (1113, 0), (1114, 0), (1115, 0), (1116, 0), (1117, 0), (1118, 0), (1119, 0), (1120, 0), (1121, 0), (1088, 0), (1125, 0), (1126, 0), (1178, 0), (1142, 0), (1127, 0), (1128, 0), (1129, 0), (1130, 0), (1131, 0), (1052, 0), (1132, 0), (1134, 0), (1135, 0), (1136, 0), (1137, 0), (1138, 0), (1139, 0), (1133, 0), (1143, 0), (1145, 0), (1160, 0), (1144, 0), (1146, 0), (1147, 0), (1148, 0), (1149, 0), (1150, 0), (1151, 0), (1152, 0), (1153, 0), (1154, 0), (1155, 0), (1156, 0), (1157, 0), (1158, 0), (1159, 0), (1140, 0), (1141, 0), (1161, 0), (1162, 0), (1180, 0), (1171, 0), (1165, 0), (1166, 0), (1167, 0), (1168, 0), (1169, 0), (1170, 0), (1172, 0), (1179, 0), (1173, 0), (1174, 0), (1175, 0), (1176, 0), (1177, 0), (1181, 0), (1051, 0), (1182, 0), (1196, 0), (1163, 0), (1164, 0), (1183, 0), (1184, 0), (1185, 0), (1186, 0), (1187, 0), (1188, 0), (1189, 0), (1190, 0), (1191, 0), (1192, 0), (1193, 0), (1194, 0), (1195, 0), (1197, 0), (1199, 0)]\n",
      "DS1 Overall measure of matrix asymmetry: 0.036%\n"
     ]
    },
    {
     "name": "stderr",
     "output_type": "stream",
     "text": [
      "100%|██████████| 380/380 [00:00<00:00, 351219.81it/s]\n"
     ]
    },
    {
     "name": "stdout",
     "output_type": "stream",
     "text": [
      "DS2 Asymmetric 1s count: 1155\n",
      "DS2 Total 1s count: 1155\n",
      "DS2 Total percentage of regulatory pairs: 0.08%\n",
      "DS2 Percentage of 1s that are asymmetric: 100.0%\n",
      "DS2 Rows ordered by # of asymmetric 1s (0-indexed):\n",
      " [(816, 110), (262, 90), (130, 80), (838, 79), (802, 66), (1110, 64), (822, 61), (743, 56), (824, 53), (780, 49), (885, 47), (1074, 44), (769, 39), (806, 38), (886, 35), (880, 35), (1089, 30), (19, 28), (663, 17), (750, 16), (829, 16), (1098, 15), (1072, 14), (1083, 12), (777, 12), (713, 6), (1055, 6), (757, 6), (1053, 6), (637, 5), (888, 4), (867, 4), (631, 3), (1178, 3), (685, 3), (643, 2), (695, 1), (3, 0), (4, 0), (5, 0), (29, 0), (25, 0), (2, 0), (32, 0), (28, 0), (26, 0), (31, 0), (17, 0), (18, 0), (20, 0), (27, 0), (36, 0), (6, 0), (34, 0), (33, 0), (8, 0), (35, 0), (12, 0), (9, 0), (74, 0), (75, 0), (76, 0), (77, 0), (78, 0), (62, 0), (60, 0), (73, 0), (40, 0), (42, 0), (43, 0), (44, 0), (45, 0), (48, 0), (49, 0), (51, 0), (50, 0), (7, 0), (61, 0), (70, 0), (16, 0), (10, 0), (11, 0), (24, 0), (13, 0), (14, 0), (15, 0), (72, 0), (37, 0), (39, 0), (71, 0), (63, 0), (64, 0), (65, 0), (66, 0), (68, 0), (38, 0), (23, 0), (47, 0), (21, 0), (89, 0), (90, 0), (92, 0), (99, 0), (93, 0), (94, 0), (88, 0), (95, 0), (97, 0), (98, 0), (120, 0), (121, 0), (122, 0), (152, 0), (96, 0), (145, 0), (87, 0), (85, 0), (109, 0), (110, 0), (111, 0), (112, 0), (113, 0), (114, 0), (86, 0), (116, 0), (118, 0), (119, 0), (103, 0), (101, 0), (100, 0), (91, 0), (117, 0), (22, 0), (146, 0), (148, 0), (129, 0), (131, 0), (133, 0), (140, 0), (134, 0), (135, 0), (128, 0), (136, 0), (138, 0), (139, 0), (83, 0), (81, 0), (316, 0), (79, 0), (137, 0), (147, 0), (127, 0), (125, 0), (149, 0), (151, 0), (153, 0), (142, 0), (154, 0), (155, 0), (126, 0), (156, 0), (158, 0), (159, 0), (143, 0), (141, 0), (124, 0), (132, 0), (157, 0), (59, 0), (162, 0), (53, 0), (181, 0), (200, 0), (171, 0), (164, 0), (165, 0), (166, 0), (167, 0), (168, 0), (169, 0), (172, 0), (179, 0), (173, 0), (174, 0), (175, 0), (176, 0), (183, 0), (177, 0), (198, 0), (195, 0), (240, 0), (239, 0), (237, 0), (190, 0), (184, 0), (185, 0), (186, 0), (187, 0), (188, 0), (189, 0), (191, 0), (182, 0), (192, 0), (193, 0), (194, 0), (197, 0), (296, 0), (178, 0), (201, 0), (209, 0), (203, 0), (204, 0), (205, 0), (206, 0), (207, 0), (208, 0), (210, 0), (218, 0), (211, 0), (213, 0), (214, 0), (215, 0), (216, 0), (217, 0), (202, 0), (199, 0), (219, 0), (235, 0), (236, 0), (228, 0), (222, 0), (223, 0), (224, 0), (225, 0), (226, 0), (227, 0), (229, 0), (220, 0), (230, 0), (231, 0), (232, 0), (233, 0), (234, 0), (221, 0), (295, 0), (294, 0), (293, 0), (274, 0), (275, 0), (276, 0), (278, 0), (261, 0), (260, 0), (259, 0), (249, 0), (241, 0), (242, 0), (244, 0), (245, 0), (247, 0), (248, 0), (250, 0), (273, 0), (258, 0), (272, 0), (270, 0), (55, 0), (56, 0), (57, 0), (58, 0), (160, 0), (161, 0), (108, 0), (163, 0), (263, 0), (264, 0), (265, 0), (266, 0), (267, 0), (268, 0), (269, 0), (271, 0), (251, 0), (252, 0), (254, 0), (315, 0), (300, 0), (298, 0), (282, 0), (289, 0), (283, 0), (284, 0), (285, 0), (286, 0), (287, 0), (288, 0), (290, 0), (297, 0), (291, 0), (292, 0), (314, 0), (313, 0), (312, 0), (311, 0), (255, 0), (256, 0), (257, 0), (279, 0), (280, 0), (281, 0), (308, 0), (52, 0), (301, 0), (304, 0), (305, 0), (306, 0), (307, 0), (309, 0), (299, 0), (310, 0), (303, 0), (107, 0), (518, 0), (105, 0), (321, 0), (322, 0), (323, 0), (324, 0), (325, 0), (327, 0), (320, 0), (335, 0), (329, 0), (330, 0), (332, 0), (333, 0), (334, 0), (354, 0), (328, 0), (326, 0), (336, 0), (337, 0), (340, 0), (341, 0), (342, 0), (343, 0), (344, 0), (345, 0), (346, 0), (347, 0), (348, 0), (349, 0), (350, 0), (351, 0), (352, 0), (353, 0), (338, 0), (356, 0), (339, 0), (357, 0), (379, 0), (362, 0), (363, 0), (364, 0), (365, 0), (367, 0), (375, 0), (361, 0), (368, 0), (370, 0), (371, 0), (372, 0), (374, 0), (471, 0), (472, 0), (369, 0), (360, 0), (366, 0), (358, 0), (380, 0), (381, 0), (383, 0), (384, 0), (385, 0), (387, 0), (377, 0), (388, 0), (389, 0), (390, 0), (392, 0), (394, 0), (396, 0), (378, 0), (376, 0), (386, 0), (473, 0), (397, 0), (399, 0), (402, 0), (403, 0), (404, 0), (405, 0), (406, 0), (407, 0), (408, 0), (409, 0), (410, 0), (411, 0), (412, 0), (413, 0), (414, 0), (415, 0), (416, 0), (417, 0), (418, 0), (419, 0), (420, 0), (421, 0), (422, 0), (423, 0), (424, 0), (425, 0), (426, 0), (427, 0), (428, 0), (429, 0), (430, 0), (431, 0), (432, 0), (433, 0), (434, 0), (435, 0), (318, 0), (436, 0), (463, 0), (440, 0), (441, 0), (442, 0), (443, 0), (444, 0), (446, 0), (439, 0), (453, 0), (448, 0), (449, 0), (450, 0), (451, 0), (452, 0), (401, 0), (447, 0), (445, 0), (438, 0), (454, 0), (457, 0), (458, 0), (459, 0), (460, 0), (461, 0), (462, 0), (464, 0), (455, 0), (465, 0), (466, 0), (467, 0), (468, 0), (469, 0), (470, 0), (456, 0), (437, 0), (106, 0), (474, 0), (566, 0), (479, 0), (480, 0), (482, 0), (489, 0), (483, 0), (484, 0), (478, 0), (485, 0), (487, 0), (488, 0), (507, 0), (509, 0), (543, 0), (535, 0), (486, 0), (477, 0), (476, 0), (475, 0), (496, 0), (497, 0), (498, 0), (500, 0), (491, 0), (501, 0), (502, 0), (503, 0), (504, 0), (505, 0), (506, 0), (492, 0), (490, 0), (508, 0), (481, 0), (529, 0), (495, 0), (530, 0), (532, 0), (516, 0), (616, 0), (525, 0), (519, 0), (520, 0), (521, 0), (515, 0), (522, 0), (524, 0), (319, 0), (317, 0), (617, 0), (82, 0), (104, 0), (523, 0), (514, 0), (513, 0), (512, 0), (533, 0), (534, 0), (536, 0), (527, 0), (537, 0), (538, 0), (539, 0), (540, 0), (541, 0), (542, 0), (528, 0), (526, 0), (510, 0), (517, 0), (511, 0), (531, 0), (565, 0), (494, 0), (499, 0), (549, 0), (550, 0), (551, 0), (552, 0), (554, 0), (561, 0), (548, 0), (555, 0), (557, 0), (558, 0), (559, 0), (560, 0), (580, 0), (581, 0), (556, 0), (547, 0), (553, 0), (562, 0), (567, 0), (568, 0), (569, 0), (570, 0), (571, 0), (572, 0), (573, 0), (574, 0), (575, 0), (576, 0), (577, 0), (578, 0), (579, 0), (564, 0), (563, 0), (582, 0), (493, 0), (608, 0), (603, 0), (587, 0), (588, 0), (589, 0), (591, 0), (598, 0), (592, 0), (586, 0), (593, 0), (595, 0), (596, 0), (597, 0), (546, 0), (545, 0), (544, 0), (594, 0), (585, 0), (584, 0), (590, 0), (604, 0), (605, 0), (606, 0), (607, 0), (609, 0), (600, 0), (610, 0), (611, 0), (612, 0), (613, 0), (614, 0), (615, 0), (601, 0), (1198, 0), (583, 0), (602, 0), (599, 0), (996, 0), (1014, 0), (626, 0), (627, 0), (628, 0), (629, 0), (630, 0), (632, 0), (625, 0), (633, 0), (654, 0), (656, 0), (692, 0), (675, 0), (677, 0), (678, 0), (634, 0), (679, 0), (624, 0), (622, 0), (646, 0), (647, 0), (648, 0), (649, 0), (650, 0), (651, 0), (623, 0), (652, 0), (638, 0), (636, 0), (655, 0), (635, 0), (620, 0), (621, 0), (653, 0), (645, 0), (680, 0), (682, 0), (665, 0), (666, 0), (667, 0), (668, 0), (669, 0), (670, 0), (664, 0), (671, 0), (762, 0), (771, 0), (858, 0), (852, 0), (853, 0), (854, 0), (672, 0), (681, 0), (662, 0), (660, 0), (683, 0), (684, 0), (686, 0), (687, 0), (688, 0), (689, 0), (661, 0), (690, 0), (676, 0), (674, 0), (657, 0), (673, 0), (658, 0), (659, 0), (691, 0), (644, 0), (642, 0), (641, 0), (699, 0), (700, 0), (701, 0), (702, 0), (703, 0), (704, 0), (698, 0), (705, 0), (707, 0), (708, 0), (709, 0), (710, 0), (731, 0), (732, 0), (706, 0), (733, 0), (697, 0), (711, 0), (719, 0), (720, 0), (721, 0), (723, 0), (770, 0), (724, 0), (696, 0), (725, 0), (727, 0), (728, 0), (729, 0), (730, 0), (714, 0), (712, 0), (726, 0), (752, 0), (754, 0), (755, 0), (739, 0), (740, 0), (741, 0), (742, 0), (744, 0), (745, 0), (738, 0), (746, 0), (748, 0), (749, 0), (694, 0), (693, 0), (639, 0), (640, 0), (747, 0), (737, 0), (736, 0), (735, 0), (756, 0), (758, 0), (759, 0), (760, 0), (761, 0), (902, 0), (763, 0), (764, 0), (765, 0), (766, 0), (767, 0), (768, 0), (753, 0), (751, 0), (734, 0), (855, 0), (856, 0), (857, 0), (859, 0), (808, 0), (804, 0), (820, 0), (815, 0), (821, 0), (810, 0), (787, 0), (819, 0), (818, 0), (817, 0), (828, 0), (826, 0), (823, 0), (814, 0), (827, 0), (825, 0), (786, 0), (784, 0), (791, 0), (789, 0), (809, 0), (779, 0), (772, 0), (773, 0), (785, 0), (774, 0), (776, 0), (778, 0), (788, 0), (781, 0), (782, 0), (783, 0), (775, 0), (811, 0), (812, 0), (813, 0), (102, 0), (123, 0), (80, 0), (170, 0), (391, 0), (115, 0), (359, 0), (67, 0), (253, 0), (54, 0), (355, 0), (84, 0), (144, 0), (30, 0), (46, 0), (1, 0), (180, 0), (41, 0), (246, 0), (238, 0), (196, 0), (398, 0), (212, 0), (150, 0), (243, 0), (395, 0), (277, 0), (373, 0), (302, 0), (69, 0), (382, 0), (393, 0), (331, 0), (807, 0), (718, 0), (805, 0), (803, 0), (843, 0), (844, 0), (845, 0), (846, 0), (847, 0), (866, 0), (842, 0), (868, 0), (894, 0), (889, 0), (890, 0), (891, 0), (892, 0), (893, 0), (832, 0), (895, 0), (848, 0), (839, 0), (850, 0), (860, 0), (861, 0), (862, 0), (863, 0), (864, 0), (841, 0), (865, 0), (849, 0), (840, 0), (834, 0), (835, 0), (836, 0), (837, 0), (851, 0), (896, 0), (897, 0), (898, 0), (833, 0), (0, 0), (831, 0), (799, 0), (792, 0), (793, 0), (883, 0), (794, 0), (796, 0), (797, 0), (798, 0), (800, 0), (790, 0), (801, 0), (795, 0), (882, 0), (881, 0), (879, 0), (899, 0), (900, 0), (901, 0), (887, 0), (869, 0), (876, 0), (870, 0), (871, 0), (872, 0), (873, 0), (874, 0), (875, 0), (877, 0), (884, 0), (878, 0), (830, 0), (618, 0), (717, 0), (715, 0), (921, 0), (912, 0), (906, 0), (907, 0), (908, 0), (909, 0), (922, 0), (910, 0), (913, 0), (920, 0), (914, 0), (915, 0), (916, 0), (917, 0), (911, 0), (619, 0), (923, 0), (937, 0), (940, 0), (924, 0), (925, 0), (926, 0), (927, 0), (928, 0), (938, 0), (929, 0), (931, 0), (932, 0), (933, 0), (934, 0), (935, 0), (936, 0), (930, 0), (1051, 0), (919, 0), (941, 0), (959, 0), (958, 0), (949, 0), (943, 0), (944, 0), (945, 0), (960, 0), (946, 0), (948, 0), (950, 0), (957, 0), (951, 0), (952, 0), (953, 0), (947, 0), (939, 0), (975, 0), (973, 0), (976, 0), (942, 0), (961, 0), (962, 0), (963, 0), (964, 0), (974, 0), (965, 0), (967, 0), (968, 0), (969, 0), (970, 0), (971, 0), (972, 0), (966, 0), (977, 0), (979, 0), (1030, 0), (986, 0), (980, 0), (981, 0), (982, 0), (983, 0), (984, 0), (995, 0), (985, 0), (994, 0), (988, 0), (989, 0), (990, 0), (991, 0), (992, 0), (987, 0), (993, 0), (400, 0), (1012, 0), (998, 0), (999, 0), (1000, 0), (1001, 0), (1002, 0), (1003, 0), (997, 0), (1004, 0), (1006, 0), (1007, 0), (1008, 0), (1009, 0), (1010, 0), (1011, 0), (1005, 0), (1013, 0), (1015, 0), (978, 0), (1023, 0), (1017, 0), (1018, 0), (1019, 0), (1020, 0), (1021, 0), (1032, 0), (1022, 0), (1031, 0), (1025, 0), (1026, 0), (1027, 0), (1028, 0), (1029, 0), (1024, 0), (1033, 0), (1034, 0), (1049, 0), (1016, 0), (1035, 0), (1036, 0), (1037, 0), (1038, 0), (1039, 0), (1040, 0), (1041, 0), (1042, 0), (1043, 0), (1044, 0), (1045, 0), (1046, 0), (1047, 0), (1048, 0), (954, 0), (955, 0), (956, 0), (1050, 0), (1054, 0), (1056, 0), (1057, 0), (1058, 0), (1059, 0), (1061, 0), (1060, 0), (1068, 0), (1063, 0), (1064, 0), (1065, 0), (1066, 0), (1067, 0), (1087, 0), (1062, 0), (1124, 0), (1069, 0), (1071, 0), (1125, 0), (1088, 0), (1073, 0), (1075, 0), (1076, 0), (1077, 0), (1070, 0), (1078, 0), (1080, 0), (1081, 0), (1082, 0), (1084, 0), (1085, 0), (1086, 0), (1079, 0), (1090, 0), (1109, 0), (1111, 0), (1094, 0), (1095, 0), (1096, 0), (1105, 0), (1099, 0), (1100, 0), (1093, 0), (1101, 0), (1103, 0), (1104, 0), (905, 0), (918, 0), (903, 0), (722, 0), (1102, 0), (1092, 0), (1091, 0), (1097, 0), (1112, 0), (1113, 0), (1114, 0), (1115, 0), (1116, 0), (1117, 0), (1118, 0), (1119, 0), (1120, 0), (1121, 0), (1122, 0), (1123, 0), (1108, 0), (1107, 0), (1106, 0), (1127, 0), (716, 0), (1177, 0), (1175, 0), (1145, 0), (1144, 0), (1143, 0), (1134, 0), (1128, 0), (1129, 0), (1160, 0), (1130, 0), (1132, 0), (1133, 0), (1135, 0), (1142, 0), (1136, 0), (1137, 0), (1131, 0), (1138, 0), (1159, 0), (1157, 0), (1052, 0), (904, 0), (1162, 0), (1146, 0), (1147, 0), (1148, 0), (1158, 0), (1149, 0), (1151, 0), (1152, 0), (1153, 0), (1154, 0), (1155, 0), (1156, 0), (1150, 0), (1139, 0), (1140, 0), (1141, 0), (1182, 0), (1181, 0), (1180, 0), (1171, 0), (1165, 0), (1166, 0), (1197, 0), (1167, 0), (1169, 0), (1170, 0), (1172, 0), (1179, 0), (1173, 0), (1174, 0), (1168, 0), (1196, 0), (1195, 0), (1194, 0), (1161, 0), (1163, 0), (1126, 0), (1164, 0), (1183, 0), (1184, 0), (1185, 0), (1186, 0), (1187, 0), (1188, 0), (1189, 0), (1190, 0), (1191, 0), (1192, 0), (1193, 0), (1176, 0), (1199, 0)]\n",
      "DS2 Overall measure of matrix asymmetry: 0.16%\n"
     ]
    },
    {
     "name": "stderr",
     "output_type": "stream",
     "text": [
      "100%|██████████| 1133/1133 [00:00<00:00, 411548.15it/s]"
     ]
    },
    {
     "name": "stdout",
     "output_type": "stream",
     "text": [
      "DS3 Asymmetric 1s count: 2713\n",
      "DS3 Total 1s count: 2713\n",
      "DS3 Total percentage of regulatory pairs: 0.188%\n",
      "DS3 Percentage of 1s that are asymmetric: 100.0%\n",
      "DS3 Rows ordered by # of asymmetric 1s (0-indexed):\n",
      " [(47, 277), (1095, 218), (545, 214), (523, 213), (989, 156), (769, 135), (315, 113), (726, 95), (399, 70), (468, 55), (149, 49), (97, 46), (1077, 43), (299, 40), (618, 36), (543, 34), (503, 32), (876, 30), (949, 30), (105, 29), (524, 28), (623, 25), (597, 23), (731, 21), (445, 21), (436, 20), (392, 20), (344, 19), (1032, 18), (109, 18), (721, 15), (242, 15), (647, 14), (366, 14), (240, 13), (1038, 12), (601, 12), (381, 12), (898, 11), (1090, 11), (126, 11), (371, 11), (1000, 11), (1085, 11), (589, 11), (846, 10), (1131, 10), (74, 10), (325, 10), (1013, 10), (1014, 10), (308, 9), (293, 9), (353, 9), (264, 9), (931, 9), (612, 9), (604, 9), (631, 9), (973, 9), (660, 8), (1153, 8), (333, 8), (198, 8), (664, 7), (158, 7), (55, 7), (629, 7), (615, 7), (558, 7), (1040, 6), (561, 6), (182, 6), (241, 6), (239, 6), (614, 6), (578, 6), (883, 6), (327, 6), (540, 6), (899, 6), (941, 5), (712, 5), (953, 5), (249, 5), (435, 5), (720, 5), (707, 4), (570, 4), (451, 4), (636, 4), (479, 4), (581, 3), (825, 3), (1144, 3), (1191, 3), (652, 3), (956, 3), (1092, 3), (378, 3), (234, 3), (1016, 3), (559, 2), (814, 2), (930, 2), (894, 2), (800, 2), (880, 2), (484, 2), (124, 2), (1039, 2), (364, 2), (1035, 2), (208, 2), (303, 2), (828, 2), (1189, 2), (851, 1), (852, 1), (630, 1), (1080, 1), (384, 1), (902, 1), (60, 1), (1197, 1), (562, 1), (483, 1), (61, 0), (15, 0), (14, 0), (13, 0), (52, 0), (50, 0), (68, 0), (66, 0), (219, 0), (12, 0), (11, 0), (217, 0), (67, 0), (17, 0), (69, 0), (218, 0), (16, 0), (70, 0), (63, 0), (57, 0), (216, 0), (59, 0), (56, 0), (58, 0), (62, 0), (65, 0), (39, 0), (38, 0), (53, 0), (37, 0), (36, 0), (72, 0), (73, 0), (54, 0), (33, 0), (8, 0), (132, 0), (133, 0), (136, 0), (137, 0), (138, 0), (139, 0), (140, 0), (141, 0), (211, 0), (142, 0), (143, 0), (144, 0), (145, 0), (146, 0), (131, 0), (160, 0), (157, 0), (156, 0), (155, 0), (210, 0), (154, 0), (152, 0), (151, 0), (150, 0), (209, 0), (148, 0), (147, 0), (207, 0), (153, 0), (125, 0), (159, 0), (10, 0), (129, 0), (127, 0), (7, 0), (6, 0), (5, 0), (3, 0), (2, 0), (9, 0), (215, 0), (18, 0), (20, 0), (35, 0), (34, 0), (49, 0), (32, 0), (214, 0), (128, 0), (31, 0), (19, 0), (29, 0), (27, 0), (25, 0), (213, 0), (24, 0), (23, 0), (22, 0), (21, 0), (28, 0), (212, 0), (162, 0), (75, 0), (77, 0), (30, 0), (48, 0), (168, 0), (46, 0), (287, 0), (288, 0), (180, 0), (200, 0), (289, 0), (201, 0), (290, 0), (203, 0), (291, 0), (292, 0), (230, 0), (223, 0), (294, 0), (295, 0), (296, 0), (297, 0), (298, 0), (224, 0), (225, 0), (300, 0), (301, 0), (227, 0), (317, 0), (316, 0), (228, 0), (314, 0), (313, 0), (286, 0), (312, 0), (285, 0), (166, 0), (167, 0), (173, 0), (170, 0), (171, 0), (184, 0), (172, 0), (199, 0), (197, 0), (174, 0), (196, 0), (195, 0), (181, 0), (175, 0), (194, 0), (176, 0), (177, 0), (183, 0), (193, 0), (178, 0), (191, 0), (190, 0), (189, 0), (187, 0), (186, 0), (185, 0), (192, 0), (179, 0), (244, 0), (229, 0), (284, 0), (311, 0), (278, 0), (277, 0), (276, 0), (275, 0), (265, 0), (274, 0), (272, 0), (271, 0), (270, 0), (269, 0), (237, 0), (169, 0), (268, 0), (267, 0), (273, 0), (318, 0), (165, 0), (161, 0), (40, 0), (41, 0), (42, 0), (238, 0), (43, 0), (222, 0), (44, 0), (45, 0), (221, 0), (236, 0), (279, 0), (280, 0), (266, 0), (309, 0), (232, 0), (307, 0), (306, 0), (204, 0), (305, 0), (304, 0), (310, 0), (233, 0), (283, 0), (282, 0), (281, 0), (262, 0), (220, 0), (261, 0), (259, 0), (258, 0), (256, 0), (263, 0), (254, 0), (252, 0), (248, 0), (247, 0), (246, 0), (245, 0), (253, 0), (243, 0), (235, 0), (260, 0), (123, 0), (783, 0), (94, 0), (383, 0), (382, 0), (380, 0), (379, 0), (385, 0), (357, 0), (356, 0), (354, 0), (335, 0), (334, 0), (332, 0), (331, 0), (330, 0), (336, 0), (386, 0), (329, 0), (324, 0), (323, 0), (322, 0), (328, 0), (393, 0), (337, 0), (339, 0), (352, 0), (351, 0), (350, 0), (349, 0), (348, 0), (338, 0), (347, 0), (326, 0), (358, 0), (387, 0), (388, 0), (591, 0), (590, 0), (588, 0), (572, 0), (587, 0), (583, 0), (582, 0), (580, 0), (579, 0), (577, 0), (585, 0), (320, 0), (471, 0), (469, 0), (360, 0), (362, 0), (363, 0), (389, 0), (390, 0), (391, 0), (377, 0), (376, 0), (375, 0), (345, 0), (374, 0), (372, 0), (370, 0), (369, 0), (368, 0), (367, 0), (365, 0), (373, 0), (343, 0), (342, 0), (341, 0), (411, 0), (410, 0), (409, 0), (408, 0), (406, 0), (405, 0), (412, 0), (404, 0), (402, 0), (401, 0), (400, 0), (398, 0), (397, 0), (403, 0), (395, 0), (413, 0), (415, 0), (416, 0), (417, 0), (418, 0), (419, 0), (420, 0), (421, 0), (430, 0), (423, 0), (424, 0), (425, 0), (426, 0), (427, 0), (428, 0), (429, 0), (414, 0), (592, 0), (431, 0), (460, 0), (340, 0), (346, 0), (470, 0), (394, 0), (396, 0), (434, 0), (437, 0), (438, 0), (439, 0), (440, 0), (441, 0), (443, 0), (444, 0), (446, 0), (447, 0), (448, 0), (452, 0), (454, 0), (455, 0), (456, 0), (457, 0), (458, 0), (459, 0), (432, 0), (461, 0), (462, 0), (463, 0), (464, 0), (466, 0), (467, 0), (453, 0), (433, 0), (95, 0), (593, 0), (571, 0), (518, 0), (519, 0), (520, 0), (521, 0), (522, 0), (525, 0), (526, 0), (527, 0), (528, 0), (529, 0), (530, 0), (531, 0), (532, 0), (549, 0), (206, 0), (548, 0), (546, 0), (544, 0), (514, 0), (541, 0), (539, 0), (537, 0), (536, 0), (535, 0), (534, 0), (533, 0), (512, 0), (511, 0), (510, 0), (488, 0), (547, 0), (516, 0), (515, 0), (321, 0), (93, 0), (92, 0), (91, 0), (90, 0), (89, 0), (87, 0), (86, 0), (85, 0), (84, 0), (81, 0), (78, 0), (88, 0), (76, 0), (98, 0), (100, 0), (120, 0), (119, 0), (319, 0), (632, 0), (112, 0), (101, 0), (102, 0), (103, 0), (487, 0), (106, 0), (114, 0), (99, 0), (115, 0), (116, 0), (117, 0), (118, 0), (111, 0), (486, 0), (482, 0), (489, 0), (607, 0), (608, 0), (609, 0), (610, 0), (613, 0), (628, 0), (627, 0), (626, 0), (625, 0), (624, 0), (622, 0), (621, 0), (620, 0), (619, 0), (617, 0), (616, 0), (596, 0), (552, 0), (554, 0), (555, 0), (556, 0), (557, 0), (560, 0), (606, 0), (563, 0), (565, 0), (567, 0), (568, 0), (569, 0), (594, 0), (595, 0), (564, 0), (575, 0), (605, 0), (602, 0), (481, 0), (478, 0), (477, 0), (476, 0), (474, 0), (473, 0), (480, 0), (550, 0), (490, 0), (492, 0), (509, 0), (508, 0), (507, 0), (506, 0), (505, 0), (502, 0), (491, 0), (600, 0), (1198, 0), (598, 0), (553, 0), (551, 0), (472, 0), (603, 0), (500, 0), (495, 0), (496, 0), (497, 0), (498, 0), (499, 0), (501, 0), (493, 0), (517, 0), (960, 0), (920, 0), (829, 0), (830, 0), (785, 0), (832, 0), (642, 0), (848, 0), (833, 0), (835, 0), (836, 0), (837, 0), (838, 0), (641, 0), (839, 0), (840, 0), (841, 0), (842, 0), (843, 0), (666, 0), (710, 0), (667, 0), (709, 0), (668, 0), (669, 0), (827, 0), (708, 0), (681, 0), (784, 0), (834, 0), (845, 0), (844, 0), (640, 0), (782, 0), (643, 0), (824, 0), (823, 0), (868, 0), (867, 0), (864, 0), (850, 0), (863, 0), (862, 0), (869, 0), (861, 0), (859, 0), (639, 0), (858, 0), (857, 0), (856, 0), (855, 0), (860, 0), (711, 0), (638, 0), (872, 0), (822, 0), (821, 0), (820, 0), (847, 0), (849, 0), (818, 0), (871, 0), (865, 0), (878, 0), (635, 0), (877, 0), (637, 0), (874, 0), (873, 0), (879, 0), (854, 0), (665, 0), (715, 0), (699, 0), (700, 0), (701, 0), (670, 0), (704, 0), (659, 0), (728, 0), (729, 0), (760, 0), (761, 0), (762, 0), (763, 0), (764, 0), (765, 0), (766, 0), (767, 0), (768, 0), (780, 0), (650, 0), (779, 0), (651, 0), (778, 0), (777, 0), (698, 0), (776, 0), (774, 0), (773, 0), (772, 0), (771, 0), (770, 0), (680, 0), (775, 0), (697, 0), (696, 0), (695, 0), (682, 0), (702, 0), (705, 0), (727, 0), (706, 0), (725, 0), (683, 0), (723, 0), (661, 0), (662, 0), (663, 0), (718, 0), (717, 0), (716, 0), (722, 0), (714, 0), (679, 0), (686, 0), (671, 0), (694, 0), (693, 0), (672, 0), (673, 0), (692, 0), (678, 0), (674, 0), (691, 0), (690, 0), (676, 0), (689, 0), (687, 0), (677, 0), (675, 0), (781, 0), (853, 0), (831, 0), (870, 0), (1069, 0), (566, 0), (121, 0), (1046, 0), (226, 0), (465, 0), (826, 0), (1105, 0), (573, 0), (574, 0), (713, 0), (1113, 0), (756, 0), (504, 0), (1002, 0), (995, 0), (703, 0), (685, 0), (494, 0), (1033, 0), (1005, 0), (1007, 0), (359, 0), (790, 0), (688, 0), (1097, 0), (485, 0), (255, 0), (611, 0), (633, 0), (866, 0), (542, 0), (1088, 0), (992, 0), (104, 0), (80, 0), (4, 0), (719, 0), (26, 0), (888, 0), (188, 0), (875, 0), (1177, 0), (257, 0), (724, 0), (302, 0), (926, 0), (939, 0), (1148, 0), (684, 0), (79, 0), (83, 0), (71, 0), (82, 0), (1064, 0), (135, 0), (64, 0), (251, 0), (910, 0), (107, 0), (1122, 0), (1133, 0), (1141, 0), (51, 0), (1012, 0), (1020, 0), (586, 0), (819, 0), (1004, 0), (355, 0), (803, 0), (812, 0), (813, 0), (787, 0), (786, 0), (797, 0), (815, 0), (816, 0), (645, 0), (798, 0), (817, 0), (796, 0), (646, 0), (811, 0), (795, 0), (801, 0), (792, 0), (789, 0), (793, 0), (794, 0), (810, 0), (809, 0), (788, 0), (957, 0), (808, 0), (807, 0), (802, 0), (806, 0), (791, 0), (805, 0), (644, 0), (799, 0), (1031, 0), (442, 0), (804, 0), (449, 0), (475, 0), (202, 0), (110, 0), (961, 0), (113, 0), (108, 0), (1145, 0), (231, 0), (250, 0), (1132, 0), (749, 0), (513, 0), (1103, 0), (1030, 0), (1054, 0), (361, 0), (655, 0), (407, 0), (1006, 0), (164, 0), (163, 0), (450, 0), (205, 0), (1076, 0), (96, 0), (1, 0), (134, 0), (538, 0), (130, 0), (122, 0), (576, 0), (584, 0), (599, 0), (649, 0), (759, 0), (943, 0), (944, 0), (945, 0), (946, 0), (947, 0), (948, 0), (950, 0), (951, 0), (952, 0), (937, 0), (919, 0), (918, 0), (917, 0), (884, 0), (885, 0), (886, 0), (887, 0), (913, 0), (914, 0), (915, 0), (916, 0), (901, 0), (900, 0), (942, 0), (897, 0), (895, 0), (893, 0), (892, 0), (891, 0), (890, 0), (889, 0), (896, 0), (940, 0), (938, 0), (936, 0), (1150, 0), (1151, 0), (1152, 0), (1155, 0), (1163, 0), (1156, 0), (1149, 0), (1157, 0), (1159, 0), (1160, 0), (1161, 0), (1146, 0), (1143, 0), (1142, 0), (1158, 0), (912, 0), (1147, 0), (882, 0), (634, 0), (935, 0), (934, 0), (933, 0), (932, 0), (929, 0), (1154, 0), (928, 0), (925, 0), (924, 0), (923, 0), (922, 0), (921, 0), (1042, 0), (927, 0), (1140, 0), (911, 0), (909, 0), (993, 0), (422, 0), (962, 0), (963, 0), (964, 0), (965, 0), (966, 0), (967, 0), (968, 0), (969, 0), (970, 0), (971, 0), (972, 0), (974, 0), (975, 0), (976, 0), (977, 0), (984, 0), (978, 0), (979, 0), (980, 0), (981, 0), (982, 0), (996, 0), (983, 0), (994, 0), (986, 0), (987, 0), (988, 0), (990, 0), (991, 0), (985, 0), (1041, 0), (1028, 0), (1022, 0), (1008, 0), (1003, 0), (1001, 0), (999, 0), (998, 0), (959, 0), (1009, 0), (958, 0), (908, 0), (903, 0), (904, 0), (905, 0), (906, 0), (907, 0), (955, 0), (954, 0), (1010, 0), (1015, 0), (1023, 0), (1024, 0), (1025, 0), (1026, 0), (1027, 0), (1029, 0), (1011, 0), (997, 0), (1036, 0), (1037, 0), (1021, 0), (1019, 0), (1018, 0), (1017, 0), (1034, 0), (653, 0), (1139, 0), (1137, 0), (1091, 0), (1093, 0), (1094, 0), (1096, 0), (1098, 0), (1099, 0), (1100, 0), (1101, 0), (1084, 0), (1102, 0), (1106, 0), (1107, 0), (1108, 0), (1109, 0), (1110, 0), (1111, 0), (1112, 0), (1047, 0), (1045, 0), (1044, 0), (1081, 0), (1082, 0), (1083, 0), (1089, 0), (1104, 0), (1119, 0), (1118, 0), (1117, 0), (1116, 0), (1115, 0), (1114, 0), (1120, 0), (1087, 0), (1086, 0), (0, 0), (739, 0), (738, 0), (737, 0), (656, 0), (736, 0), (735, 0), (740, 0), (734, 0), (733, 0), (732, 0), (658, 0), (730, 0), (757, 0), (758, 0), (657, 0), (1048, 0), (648, 0), (743, 0), (881, 0), (742, 0), (654, 0), (755, 0), (754, 0), (753, 0), (741, 0), (752, 0), (750, 0), (748, 0), (747, 0), (746, 0), (745, 0), (744, 0), (751, 0), (1138, 0), (1049, 0), (1051, 0), (1175, 0), (1176, 0), (1178, 0), (1179, 0), (1180, 0), (1181, 0), (1182, 0), (1183, 0), (1196, 0), (1195, 0), (1194, 0), (1193, 0), (1192, 0), (1165, 0), (1188, 0), (1187, 0), (1186, 0), (1136, 0), (1135, 0), (1134, 0), (1130, 0), (1129, 0), (1128, 0), (1174, 0), (1127, 0), (1162, 0), (1164, 0), (1043, 0), (1190, 0), (1184, 0), (1185, 0), (1126, 0), (1173, 0), (1172, 0), (1171, 0), (1074, 0), (1075, 0), (1078, 0), (1079, 0), (1062, 0), (1061, 0), (1073, 0), (1060, 0), (1058, 0), (1057, 0), (1056, 0), (1055, 0), (1053, 0), (1052, 0), (1059, 0), (1050, 0), (1121, 0), (1070, 0), (1170, 0), (1169, 0), (1168, 0), (1167, 0), (1166, 0), (1125, 0), (1072, 0), (1124, 0), (1071, 0), (1063, 0), (1065, 0), (1066, 0), (1067, 0), (1068, 0), (1123, 0), (1199, 0)]\n",
      "DS3 Overall measure of matrix asymmetry: 0.377%\n"
     ]
    },
    {
     "name": "stderr",
     "output_type": "stream",
     "text": [
      "\n"
     ]
    }
   ],
   "source": [
    "datasets = range(1, 4) # DS1-3\n",
    "path = './imputations/DS'\n",
    "sergio_path = './SERGIO/data_sets/'\n",
    "for dataset in datasets:\n",
    "    full_path = path + str(dataset) + '/'\n",
    "    if dataset == 1:   \n",
    "        target_file = './SERGIO/data_sets/De-noised_100G_9T_300cPerT_4_DS1/Interaction_cID_4.txt'\n",
    "        regs_path = './SERGIO/data_sets/De-noised_100G_9T_300cPerT_4_DS1/Regs_cID_4.txt'\n",
    "    elif dataset == 2:\n",
    "        target_file = './SERGIO/data_sets/De-noised_400G_9T_300cPerT_5_DS2/Interaction_cID_5.txt'\n",
    "        regs_path = './SERGIO/data_sets/De-noised_400G_9T_300cPerT_5_DS2/Regs_cID_5.txt'\n",
    "    else:\n",
    "        target_file = './SERGIO/data_sets/De-noised_1200G_9T_300cPerT_6_DS3/Interaction_cID_6.txt'\n",
    "        regs_path = './SERGIO/data_sets/De-noised_1200G_9T_300cPerT_6_DS3/Regs_cID_6.txt'\n",
    "\n",
    "    # Load target file into np array\n",
    "    gt_temp = np.zeros(shape=(1200, 1200), dtype=int)\n",
    "    f = open(target_file,'r')\n",
    "    Lines = f.readlines()\n",
    "    f.close()\n",
    "    # For each real gene and measured gene expressions, set new array at coordinates to 1\n",
    "    for j in tqdm(range(len(Lines))):\n",
    "        line = Lines[j]\n",
    "        line_list = line.split(',')\n",
    "        target_index = int(float(line_list[0]))\n",
    "        num_regs = int(float(line_list[1]))\n",
    "        # skip if gene is not present in filtered dataset\n",
    "        for i in range(num_regs):\n",
    "            reg_index = int(float(line_list[i+2]))\n",
    "            gt_temp[reg_index,target_index] = 1  \n",
    "    matrix = gt_temp.copy()\n",
    "\n",
    "    asymmetric_1s = np.sum((matrix == 1) & (matrix.T == 0))\n",
    "\n",
    "    total_1s = np.sum(matrix == 1)\n",
    "\n",
    "    total_cells = matrix.size\n",
    "    percentage_1s = (total_1s / total_cells) * 100\n",
    "\n",
    "    # 4. Determine percentage of 1s that are \"asymmetric\"\n",
    "    percentage_asymmetric_1s = (asymmetric_1s / total_1s) * 100 if total_1s > 0 else 0\n",
    "\n",
    "    # 5. Order rows by the number of asymmetric 1s\n",
    "    asymmetric_1s_per_row = np.sum((matrix == 1) & (matrix.T == 0), axis=1)\n",
    "    rows_ordered_by_asymmetric_1s = np.argsort(-asymmetric_1s_per_row)  # - for descending order\n",
    "    tuple_list = [(rows_ordered_by_asymmetric_1s[i], asymmetric_1s_per_row[i]) for i in rows_ordered_by_asymmetric_1s]\n",
    "                  #zip(rows_ordered_by_asymmetric_1s, np.sort(-asymmetric_1s_per_row))\n",
    "\n",
    "    # 6. Overall measure of matrix asymmetry\n",
    "    # One possible measure is the ratio of asymmetric 1s to total 1s\n",
    "\n",
    "    overall_asymmetry_measure = (np.sum(matrix != matrix.T) / matrix.size) * 100\n",
    "\n",
    "    # Print results\n",
    "    print(f\"DS{str(dataset)} Asymmetric 1s count:\", asymmetric_1s)\n",
    "    print(f\"DS{str(dataset)} Total 1s count:\", total_1s)\n",
    "    print(f\"DS{str(dataset)} Total percentage of regulatory pairs:\", str(round(percentage_1s, 3)) + \"%\")\n",
    "    print(f\"DS{str(dataset)} Percentage of 1s that are asymmetric:\", str(round(percentage_asymmetric_1s, 3)) + \"%\")\n",
    "    print(f\"DS{str(dataset)} Rows ordered by # of asymmetric 1s (0-indexed):\\n\", tuple_list)\n",
    "    print(f\"DS{str(dataset)} Overall measure of matrix asymmetry:\", str(round(overall_asymmetry_measure, 3)) + \"%\")\n"
   ]
  },
  {
   "cell_type": "code",
   "execution_count": 29,
   "metadata": {},
   "outputs": [],
   "source": [
    "algorithms = ['Pearson', 'GENIE3']\n",
    "\n",
    "data_path = './imputations/DS3/'\n",
    "datasets = {\n",
    "    'sergio' : 'DS6_45.npy',\n",
    "    'magic_2' : 'yhat_MAGIC_t_2.npy',\n",
    "    'magic_7' : 'yhat_MAGIC_t_7.npy',\n",
    "    'magic_default' : 'yhat_MAGIC_t_auto.npy',\n",
    "}"
   ]
  },
  {
   "cell_type": "code",
   "execution_count": 49,
   "metadata": {},
   "outputs": [],
   "source": [
    "from Pearson.pearson import Pearson\n",
    "from GENIE3.GENIE3 import GENIE3\n",
    "target_file = './SERGIO/data_sets/De-noised_1200G_9T_300cPerT_6_DS3/Interaction_cID_6.txt'\n",
    "y = np.transpose(np.load(data_path + '/DS6_45.npy'))"
   ]
  },
  {
   "cell_type": "code",
   "execution_count": 40,
   "metadata": {},
   "outputs": [
    {
     "name": "stdout",
     "output_type": "stream",
     "text": [
      "Tree method: RF\n",
      "K: sqrt\n",
      "Number of trees: 100\n",
      "\n",
      "\n",
      "running jobs on 12 threads\n",
      "Elapsed time: 88.10 seconds\n"
     ]
    },
    {
     "name": "stderr",
     "output_type": "stream",
     "text": [
      "100%|██████████| 1133/1133 [00:00<00:00, 545221.02it/s]\n"
     ]
    }
   ],
   "source": [
    "vim_genie = GENIE3(y, nthreads=12, ntrees=100)       \n",
    "gt, rescaled_vim = gt_benchmark(vim_genie, target_file)"
   ]
  },
  {
   "cell_type": "code",
   "execution_count": 50,
   "metadata": {},
   "outputs": [
    {
     "data": {
      "text/html": [
       "<div>\n",
       "<style scoped>\n",
       "    .dataframe tbody tr th:only-of-type {\n",
       "        vertical-align: middle;\n",
       "    }\n",
       "\n",
       "    .dataframe tbody tr th {\n",
       "        vertical-align: top;\n",
       "    }\n",
       "\n",
       "    .dataframe thead th {\n",
       "        text-align: right;\n",
       "    }\n",
       "</style>\n",
       "<table border=\"1\" class=\"dataframe\">\n",
       "  <thead>\n",
       "    <tr style=\"text-align: right;\">\n",
       "      <th></th>\n",
       "      <th>0</th>\n",
       "      <th>1</th>\n",
       "      <th>2</th>\n",
       "      <th>3</th>\n",
       "      <th>4</th>\n",
       "      <th>5</th>\n",
       "      <th>6</th>\n",
       "      <th>7</th>\n",
       "      <th>8</th>\n",
       "      <th>9</th>\n",
       "      <th>...</th>\n",
       "      <th>2690</th>\n",
       "      <th>2691</th>\n",
       "      <th>2692</th>\n",
       "      <th>2693</th>\n",
       "      <th>2694</th>\n",
       "      <th>2695</th>\n",
       "      <th>2696</th>\n",
       "      <th>2697</th>\n",
       "      <th>2698</th>\n",
       "      <th>2699</th>\n",
       "    </tr>\n",
       "  </thead>\n",
       "  <tbody>\n",
       "    <tr>\n",
       "      <th>0</th>\n",
       "      <td>0.000000</td>\n",
       "      <td>0.878601</td>\n",
       "      <td>0.769895</td>\n",
       "      <td>0.976397</td>\n",
       "      <td>0.924053</td>\n",
       "      <td>0.975616</td>\n",
       "      <td>0.857518</td>\n",
       "      <td>0.952817</td>\n",
       "      <td>0.944047</td>\n",
       "      <td>0.986210</td>\n",
       "      <td>...</td>\n",
       "      <td>0.924950</td>\n",
       "      <td>0.973663</td>\n",
       "      <td>0.954979</td>\n",
       "      <td>0.892936</td>\n",
       "      <td>0.932568</td>\n",
       "      <td>0.934366</td>\n",
       "      <td>0.930085</td>\n",
       "      <td>0.957206</td>\n",
       "      <td>0.927748</td>\n",
       "      <td>0.880889</td>\n",
       "    </tr>\n",
       "    <tr>\n",
       "      <th>1</th>\n",
       "      <td>0.878601</td>\n",
       "      <td>0.000000</td>\n",
       "      <td>0.487521</td>\n",
       "      <td>0.900275</td>\n",
       "      <td>0.693416</td>\n",
       "      <td>0.871493</td>\n",
       "      <td>0.988259</td>\n",
       "      <td>0.840618</td>\n",
       "      <td>0.828303</td>\n",
       "      <td>0.859367</td>\n",
       "      <td>...</td>\n",
       "      <td>0.821898</td>\n",
       "      <td>0.825637</td>\n",
       "      <td>0.758673</td>\n",
       "      <td>0.653123</td>\n",
       "      <td>0.916933</td>\n",
       "      <td>0.736343</td>\n",
       "      <td>0.880233</td>\n",
       "      <td>0.820339</td>\n",
       "      <td>0.880554</td>\n",
       "      <td>0.902021</td>\n",
       "    </tr>\n",
       "    <tr>\n",
       "      <th>2</th>\n",
       "      <td>0.769895</td>\n",
       "      <td>0.487521</td>\n",
       "      <td>0.000000</td>\n",
       "      <td>0.704156</td>\n",
       "      <td>0.914339</td>\n",
       "      <td>0.831693</td>\n",
       "      <td>0.449082</td>\n",
       "      <td>0.738152</td>\n",
       "      <td>0.871058</td>\n",
       "      <td>0.817506</td>\n",
       "      <td>...</td>\n",
       "      <td>0.875554</td>\n",
       "      <td>0.761463</td>\n",
       "      <td>0.829239</td>\n",
       "      <td>0.885601</td>\n",
       "      <td>0.729367</td>\n",
       "      <td>0.886081</td>\n",
       "      <td>0.778652</td>\n",
       "      <td>0.853729</td>\n",
       "      <td>0.743333</td>\n",
       "      <td>0.708188</td>\n",
       "    </tr>\n",
       "    <tr>\n",
       "      <th>3</th>\n",
       "      <td>0.976397</td>\n",
       "      <td>0.900275</td>\n",
       "      <td>0.704156</td>\n",
       "      <td>0.000000</td>\n",
       "      <td>0.893268</td>\n",
       "      <td>0.961260</td>\n",
       "      <td>0.873353</td>\n",
       "      <td>0.967072</td>\n",
       "      <td>0.918286</td>\n",
       "      <td>0.971927</td>\n",
       "      <td>...</td>\n",
       "      <td>0.901087</td>\n",
       "      <td>0.977945</td>\n",
       "      <td>0.942536</td>\n",
       "      <td>0.834291</td>\n",
       "      <td>0.901728</td>\n",
       "      <td>0.888811</td>\n",
       "      <td>0.929466</td>\n",
       "      <td>0.919271</td>\n",
       "      <td>0.888694</td>\n",
       "      <td>0.844008</td>\n",
       "    </tr>\n",
       "    <tr>\n",
       "      <th>4</th>\n",
       "      <td>0.924053</td>\n",
       "      <td>0.693416</td>\n",
       "      <td>0.914339</td>\n",
       "      <td>0.893268</td>\n",
       "      <td>0.000000</td>\n",
       "      <td>0.941169</td>\n",
       "      <td>0.659189</td>\n",
       "      <td>0.900600</td>\n",
       "      <td>0.940285</td>\n",
       "      <td>0.950032</td>\n",
       "      <td>...</td>\n",
       "      <td>0.923506</td>\n",
       "      <td>0.936312</td>\n",
       "      <td>0.961368</td>\n",
       "      <td>0.938699</td>\n",
       "      <td>0.843596</td>\n",
       "      <td>0.958221</td>\n",
       "      <td>0.881753</td>\n",
       "      <td>0.943020</td>\n",
       "      <td>0.855486</td>\n",
       "      <td>0.791605</td>\n",
       "    </tr>\n",
       "    <tr>\n",
       "      <th>...</th>\n",
       "      <td>...</td>\n",
       "      <td>...</td>\n",
       "      <td>...</td>\n",
       "      <td>...</td>\n",
       "      <td>...</td>\n",
       "      <td>...</td>\n",
       "      <td>...</td>\n",
       "      <td>...</td>\n",
       "      <td>...</td>\n",
       "      <td>...</td>\n",
       "      <td>...</td>\n",
       "      <td>...</td>\n",
       "      <td>...</td>\n",
       "      <td>...</td>\n",
       "      <td>...</td>\n",
       "      <td>...</td>\n",
       "      <td>...</td>\n",
       "      <td>...</td>\n",
       "      <td>...</td>\n",
       "      <td>...</td>\n",
       "      <td>...</td>\n",
       "    </tr>\n",
       "    <tr>\n",
       "      <th>2695</th>\n",
       "      <td>0.934366</td>\n",
       "      <td>0.736343</td>\n",
       "      <td>0.886081</td>\n",
       "      <td>0.888811</td>\n",
       "      <td>0.958221</td>\n",
       "      <td>0.943792</td>\n",
       "      <td>0.722807</td>\n",
       "      <td>0.873790</td>\n",
       "      <td>0.937502</td>\n",
       "      <td>0.958414</td>\n",
       "      <td>...</td>\n",
       "      <td>0.908772</td>\n",
       "      <td>0.926002</td>\n",
       "      <td>0.951562</td>\n",
       "      <td>0.974411</td>\n",
       "      <td>0.907489</td>\n",
       "      <td>0.000000</td>\n",
       "      <td>0.867670</td>\n",
       "      <td>0.978620</td>\n",
       "      <td>0.927446</td>\n",
       "      <td>0.862752</td>\n",
       "    </tr>\n",
       "    <tr>\n",
       "      <th>2696</th>\n",
       "      <td>0.930085</td>\n",
       "      <td>0.880233</td>\n",
       "      <td>0.778652</td>\n",
       "      <td>0.929466</td>\n",
       "      <td>0.881753</td>\n",
       "      <td>0.961560</td>\n",
       "      <td>0.843088</td>\n",
       "      <td>0.917683</td>\n",
       "      <td>0.953670</td>\n",
       "      <td>0.938347</td>\n",
       "      <td>...</td>\n",
       "      <td>0.963859</td>\n",
       "      <td>0.900270</td>\n",
       "      <td>0.881276</td>\n",
       "      <td>0.798391</td>\n",
       "      <td>0.910728</td>\n",
       "      <td>0.867670</td>\n",
       "      <td>0.000000</td>\n",
       "      <td>0.907867</td>\n",
       "      <td>0.880039</td>\n",
       "      <td>0.890354</td>\n",
       "    </tr>\n",
       "    <tr>\n",
       "      <th>2697</th>\n",
       "      <td>0.957206</td>\n",
       "      <td>0.820339</td>\n",
       "      <td>0.853729</td>\n",
       "      <td>0.919271</td>\n",
       "      <td>0.943020</td>\n",
       "      <td>0.969894</td>\n",
       "      <td>0.807258</td>\n",
       "      <td>0.896818</td>\n",
       "      <td>0.960898</td>\n",
       "      <td>0.974968</td>\n",
       "      <td>...</td>\n",
       "      <td>0.939388</td>\n",
       "      <td>0.932504</td>\n",
       "      <td>0.944109</td>\n",
       "      <td>0.948904</td>\n",
       "      <td>0.953701</td>\n",
       "      <td>0.978620</td>\n",
       "      <td>0.907867</td>\n",
       "      <td>0.000000</td>\n",
       "      <td>0.960618</td>\n",
       "      <td>0.919448</td>\n",
       "    </tr>\n",
       "    <tr>\n",
       "      <th>2698</th>\n",
       "      <td>0.927748</td>\n",
       "      <td>0.880554</td>\n",
       "      <td>0.743333</td>\n",
       "      <td>0.888694</td>\n",
       "      <td>0.855486</td>\n",
       "      <td>0.934366</td>\n",
       "      <td>0.886134</td>\n",
       "      <td>0.833785</td>\n",
       "      <td>0.922128</td>\n",
       "      <td>0.937565</td>\n",
       "      <td>...</td>\n",
       "      <td>0.896830</td>\n",
       "      <td>0.874314</td>\n",
       "      <td>0.867174</td>\n",
       "      <td>0.888256</td>\n",
       "      <td>0.984568</td>\n",
       "      <td>0.927446</td>\n",
       "      <td>0.880039</td>\n",
       "      <td>0.960618</td>\n",
       "      <td>0.000000</td>\n",
       "      <td>0.965418</td>\n",
       "    </tr>\n",
       "    <tr>\n",
       "      <th>2699</th>\n",
       "      <td>0.880889</td>\n",
       "      <td>0.902021</td>\n",
       "      <td>0.708188</td>\n",
       "      <td>0.844008</td>\n",
       "      <td>0.791605</td>\n",
       "      <td>0.911064</td>\n",
       "      <td>0.902633</td>\n",
       "      <td>0.794004</td>\n",
       "      <td>0.909342</td>\n",
       "      <td>0.889823</td>\n",
       "      <td>...</td>\n",
       "      <td>0.904779</td>\n",
       "      <td>0.803524</td>\n",
       "      <td>0.792634</td>\n",
       "      <td>0.806257</td>\n",
       "      <td>0.981080</td>\n",
       "      <td>0.862752</td>\n",
       "      <td>0.890354</td>\n",
       "      <td>0.919448</td>\n",
       "      <td>0.965418</td>\n",
       "      <td>0.000000</td>\n",
       "    </tr>\n",
       "  </tbody>\n",
       "</table>\n",
       "<p>2700 rows × 2700 columns</p>\n",
       "</div>"
      ],
      "text/plain": [
       "          0         1         2         3         4         5         6     \\\n",
       "0     0.000000  0.878601  0.769895  0.976397  0.924053  0.975616  0.857518   \n",
       "1     0.878601  0.000000  0.487521  0.900275  0.693416  0.871493  0.988259   \n",
       "2     0.769895  0.487521  0.000000  0.704156  0.914339  0.831693  0.449082   \n",
       "3     0.976397  0.900275  0.704156  0.000000  0.893268  0.961260  0.873353   \n",
       "4     0.924053  0.693416  0.914339  0.893268  0.000000  0.941169  0.659189   \n",
       "...        ...       ...       ...       ...       ...       ...       ...   \n",
       "2695  0.934366  0.736343  0.886081  0.888811  0.958221  0.943792  0.722807   \n",
       "2696  0.930085  0.880233  0.778652  0.929466  0.881753  0.961560  0.843088   \n",
       "2697  0.957206  0.820339  0.853729  0.919271  0.943020  0.969894  0.807258   \n",
       "2698  0.927748  0.880554  0.743333  0.888694  0.855486  0.934366  0.886134   \n",
       "2699  0.880889  0.902021  0.708188  0.844008  0.791605  0.911064  0.902633   \n",
       "\n",
       "          7         8         9     ...      2690      2691      2692  \\\n",
       "0     0.952817  0.944047  0.986210  ...  0.924950  0.973663  0.954979   \n",
       "1     0.840618  0.828303  0.859367  ...  0.821898  0.825637  0.758673   \n",
       "2     0.738152  0.871058  0.817506  ...  0.875554  0.761463  0.829239   \n",
       "3     0.967072  0.918286  0.971927  ...  0.901087  0.977945  0.942536   \n",
       "4     0.900600  0.940285  0.950032  ...  0.923506  0.936312  0.961368   \n",
       "...        ...       ...       ...  ...       ...       ...       ...   \n",
       "2695  0.873790  0.937502  0.958414  ...  0.908772  0.926002  0.951562   \n",
       "2696  0.917683  0.953670  0.938347  ...  0.963859  0.900270  0.881276   \n",
       "2697  0.896818  0.960898  0.974968  ...  0.939388  0.932504  0.944109   \n",
       "2698  0.833785  0.922128  0.937565  ...  0.896830  0.874314  0.867174   \n",
       "2699  0.794004  0.909342  0.889823  ...  0.904779  0.803524  0.792634   \n",
       "\n",
       "          2693      2694      2695      2696      2697      2698      2699  \n",
       "0     0.892936  0.932568  0.934366  0.930085  0.957206  0.927748  0.880889  \n",
       "1     0.653123  0.916933  0.736343  0.880233  0.820339  0.880554  0.902021  \n",
       "2     0.885601  0.729367  0.886081  0.778652  0.853729  0.743333  0.708188  \n",
       "3     0.834291  0.901728  0.888811  0.929466  0.919271  0.888694  0.844008  \n",
       "4     0.938699  0.843596  0.958221  0.881753  0.943020  0.855486  0.791605  \n",
       "...        ...       ...       ...       ...       ...       ...       ...  \n",
       "2695  0.974411  0.907489  0.000000  0.867670  0.978620  0.927446  0.862752  \n",
       "2696  0.798391  0.910728  0.867670  0.000000  0.907867  0.880039  0.890354  \n",
       "2697  0.948904  0.953701  0.978620  0.907867  0.000000  0.960618  0.919448  \n",
       "2698  0.888256  0.984568  0.927446  0.880039  0.960618  0.000000  0.965418  \n",
       "2699  0.806257  0.981080  0.862752  0.890354  0.919448  0.965418  0.000000  \n",
       "\n",
       "[2700 rows x 2700 columns]"
      ]
     },
     "execution_count": 50,
     "metadata": {},
     "output_type": "execute_result"
    }
   ],
   "source": [
    "test_pearson"
   ]
  },
  {
   "cell_type": "code",
   "execution_count": 48,
   "metadata": {},
   "outputs": [],
   "source": [
    "geniedf = pd.DataFrame(vim_genie)\n",
    "for index, row in geniedf.iterrows():\n",
    "    if row[index] != 0:\n",
    "        print(index, row[index])"
   ]
  },
  {
   "cell_type": "code",
   "execution_count": null,
   "metadata": {},
   "outputs": [],
   "source": []
  }
 ],
 "metadata": {
  "kernelspec": {
   "display_name": "zero_imputation_venv",
   "language": "python",
   "name": "zero_imputation_venv"
  },
  "language_info": {
   "codemirror_mode": {
    "name": "ipython",
    "version": 3
   },
   "file_extension": ".py",
   "mimetype": "text/x-python",
   "name": "python",
   "nbconvert_exporter": "python",
   "pygments_lexer": "ipython3",
   "version": "3.11.7"
  }
 },
 "nbformat": 4,
 "nbformat_minor": 2
}
