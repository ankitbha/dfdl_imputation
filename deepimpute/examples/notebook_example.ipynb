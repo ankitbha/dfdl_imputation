{
 "cells": [
  {
   "cell_type": "markdown",
   "metadata": {},
   "source": [
    "# Single-cell RNA-seq imputation using DeepImpute\n",
    "\n",
    "Here is a comprehensive tutorial to understand the functionnalities of DeepImpute."
   ]
  },
  {
   "cell_type": "code",
   "execution_count": 1,
   "metadata": {},
   "outputs": [
    {
     "name": "stderr",
     "output_type": "stream",
     "text": [
      "2023-10-31 12:07:03.283329: I tensorflow/core/util/port.cc:110] oneDNN custom operations are on. You may see slightly different numerical results due to floating-point round-off errors from different computation orders. To turn them off, set the environment variable `TF_ENABLE_ONEDNN_OPTS=0`.\n",
      "2023-10-31 12:07:06.066338: I tensorflow/core/platform/cpu_feature_guard.cc:182] This TensorFlow binary is optimized to use available CPU instructions in performance-critical operations.\n",
      "To enable the following instructions: AVX2 AVX512F AVX512_VNNI FMA, in other operations, rebuild TensorFlow with the appropriate compiler flags.\n",
      "2023-10-31 12:07:24.525161: W tensorflow/compiler/tf2tensorrt/utils/py_utils.cc:38] TF-TRT Warning: Could not find TensorRT\n"
     ]
    },
    {
     "name": "stdout",
     "output_type": "stream",
     "text": [
      "Working on 500 cells and 3000 genes\n"
     ]
    }
   ],
   "source": [
    "from deepimpute.multinet import MultiNet\n",
    "import pandas as pd\n",
    "\n",
    "# Load dataset using pandas\n",
    "data = pd.read_csv('test.csv',index_col=0)\n",
    "print('Working on {} cells and {} genes'.format(*data.shape))"
   ]
  },
  {
   "cell_type": "markdown",
   "metadata": {},
   "source": [
    "## Create a DeepImpute multinet"
   ]
  },
  {
   "cell_type": "code",
   "execution_count": 2,
   "metadata": {},
   "outputs": [
    {
     "name": "stdout",
     "output_type": "stream",
     "text": [
      "Using all the cores (48)\n"
     ]
    }
   ],
   "source": [
    "# Using default parameters\n",
    "multinet = MultiNet() "
   ]
  },
  {
   "cell_type": "code",
   "execution_count": 3,
   "metadata": {},
   "outputs": [],
   "source": [
    "# Using custom parameters\n",
    "NN_params = {\n",
    "        'learning_rate': 1e-4,\n",
    "        'batch_size': 64,\n",
    "        'max_epochs': 200,\n",
    "        'ncores': 5,\n",
    "        'sub_outputdim': 512,\n",
    "        'architecture': [\n",
    "            {\"type\": \"dense\", \"activation\": \"relu\", \"neurons\": 200},\n",
    "            {\"type\": \"dropout\", \"activation\": \"dropout\", \"rate\": 0.3}]\n",
    "    }\n",
    "\n",
    "multinet = MultiNet(**NN_params)"
   ]
  },
  {
   "cell_type": "markdown",
   "metadata": {},
   "source": [
    "## Fit the networks"
   ]
  },
  {
   "cell_type": "code",
   "execution_count": 4,
   "metadata": {},
   "outputs": [
    {
     "name": "stdout",
     "output_type": "stream",
     "text": [
      "Input dataset is 500 cells (rows) and 3000 genes (columns)\n",
      "First 3 rows and columns:\n",
      "                  ENSG00000177954  ENSG00000197756  ENSG00000231500\n",
      "AATTGTGACTACGA-1            826.0            674.0            694.0\n",
      "TGACACGATTCGTT-1            617.0            618.0            594.0\n",
      "TGTCAGGATTGTCT-1            525.0            550.0            540.0\n",
      "3072 genes selected for imputation\n",
      "Net 0: 639 predictors, 512 targets\n",
      "Net 1: 593 predictors, 512 targets\n",
      "Net 2: 591 predictors, 512 targets\n",
      "Net 3: 594 predictors, 512 targets\n",
      "Net 4: 555 predictors, 512 targets\n",
      "Net 5: 632 predictors, 512 targets\n",
      "Normalization\n",
      "Building network\n",
      "[{'type': 'dense', 'activation': 'relu', 'neurons': 200}, {'type': 'dropout', 'activation': 'dropout', 'rate': 0.3}]\n"
     ]
    },
    {
     "name": "stderr",
     "output_type": "stream",
     "text": [
      "2023-10-31 12:08:26.222059: I tensorflow/core/common_runtime/gpu/gpu_device.cc:1639] Created device /job:localhost/replica:0/task:0/device:GPU:0 with 44177 MB memory:  -> device: 0, name: Quadro RTX 8000, pci bus id: 0000:d8:00.0, compute capability: 7.5\n",
      "WARNING:absl:`lr` is deprecated in Keras optimizer, please use `learning_rate` or use the legacy optimizer, e.g.,tf.keras.optimizers.legacy.Adam.\n"
     ]
    },
    {
     "name": "stdout",
     "output_type": "stream",
     "text": [
      "Fitting with 500 cells\n",
      "Epoch 1/200\n"
     ]
    },
    {
     "name": "stderr",
     "output_type": "stream",
     "text": [
      "2023-10-31 12:08:30.654584: I tensorflow/compiler/xla/service/service.cc:168] XLA service 0x5595d274f9a0 initialized for platform CUDA (this does not guarantee that XLA will be used). Devices:\n",
      "2023-10-31 12:08:30.654631: I tensorflow/compiler/xla/service/service.cc:176]   StreamExecutor device (0): Quadro RTX 8000, Compute Capability 7.5\n",
      "2023-10-31 12:08:30.665367: I tensorflow/compiler/mlir/tensorflow/utils/dump_mlir_util.cc:255] disabling MLIR crash reproducer, set env var `MLIR_CRASH_REPRODUCER_DIRECTORY` to enable.\n",
      "2023-10-31 12:08:30.824739: I tensorflow/compiler/xla/stream_executor/cuda/cuda_dnn.cc:432] Loaded cuDNN version 8600\n",
      "2023-10-31 12:08:31.112664: I ./tensorflow/compiler/jit/device_compiler.h:186] Compiled cluster using XLA!  This line is logged at most once for the lifetime of the process.\n"
     ]
    },
    {
     "name": "stdout",
     "output_type": "stream",
     "text": [
      "8/8 [==============================] - 5s 55ms/step - loss: 19.2011 - dense_6_loss: 2.9764 - dense_7_loss: 3.5205 - dense_8_loss: 2.4161 - dense_9_loss: 3.7722 - dense_10_loss: 3.3788 - dense_11_loss: 3.1370 - val_loss: 9.3443 - val_dense_6_loss: 1.6128 - val_dense_7_loss: 1.5647 - val_dense_8_loss: 1.1246 - val_dense_9_loss: 1.9796 - val_dense_10_loss: 1.5213 - val_dense_11_loss: 1.5414\n",
      "Epoch 2/200\n",
      "8/8 [==============================] - 0s 11ms/step - loss: 9.3802 - dense_6_loss: 1.5486 - dense_7_loss: 1.5545 - dense_8_loss: 1.2245 - dense_9_loss: 1.9806 - dense_10_loss: 1.5997 - dense_11_loss: 1.4723 - val_loss: 4.4810 - val_dense_6_loss: 0.7662 - val_dense_7_loss: 0.7169 - val_dense_8_loss: 0.5740 - val_dense_9_loss: 1.0124 - val_dense_10_loss: 0.7277 - val_dense_11_loss: 0.6839\n",
      "Epoch 3/200\n",
      "8/8 [==============================] - 0s 10ms/step - loss: 6.1630 - dense_6_loss: 0.9677 - dense_7_loss: 1.0063 - dense_8_loss: 0.8242 - dense_9_loss: 1.3154 - dense_10_loss: 1.0796 - dense_11_loss: 0.9698 - val_loss: 2.8524 - val_dense_6_loss: 0.4293 - val_dense_7_loss: 0.4640 - val_dense_8_loss: 0.4126 - val_dense_9_loss: 0.6575 - val_dense_10_loss: 0.4681 - val_dense_11_loss: 0.4209\n",
      "Epoch 4/200\n",
      "8/8 [==============================] - 0s 11ms/step - loss: 4.6340 - dense_6_loss: 0.7248 - dense_7_loss: 0.7540 - dense_8_loss: 0.6316 - dense_9_loss: 0.9628 - dense_10_loss: 0.8104 - dense_11_loss: 0.7504 - val_loss: 2.4066 - val_dense_6_loss: 0.3747 - val_dense_7_loss: 0.4030 - val_dense_8_loss: 0.3211 - val_dense_9_loss: 0.4807 - val_dense_10_loss: 0.4042 - val_dense_11_loss: 0.4229\n",
      "Epoch 5/200\n",
      "8/8 [==============================] - 0s 10ms/step - loss: 3.9186 - dense_6_loss: 0.6227 - dense_7_loss: 0.6448 - dense_8_loss: 0.5474 - dense_9_loss: 0.7673 - dense_10_loss: 0.6862 - dense_11_loss: 0.6502 - val_loss: 1.7681 - val_dense_6_loss: 0.2841 - val_dense_7_loss: 0.3054 - val_dense_8_loss: 0.2817 - val_dense_9_loss: 0.3086 - val_dense_10_loss: 0.2904 - val_dense_11_loss: 0.2979\n",
      "Epoch 6/200\n",
      "8/8 [==============================] - 0s 10ms/step - loss: 3.4722 - dense_6_loss: 0.5499 - dense_7_loss: 0.5804 - dense_8_loss: 0.5057 - dense_9_loss: 0.6598 - dense_10_loss: 0.6051 - dense_11_loss: 0.5713 - val_loss: 1.8542 - val_dense_6_loss: 0.3485 - val_dense_7_loss: 0.2932 - val_dense_8_loss: 0.2508 - val_dense_9_loss: 0.3958 - val_dense_10_loss: 0.2864 - val_dense_11_loss: 0.2795\n",
      "Epoch 7/200\n",
      "8/8 [==============================] - 0s 11ms/step - loss: 3.2443 - dense_6_loss: 0.5375 - dense_7_loss: 0.5483 - dense_8_loss: 0.4836 - dense_9_loss: 0.6090 - dense_10_loss: 0.5374 - dense_11_loss: 0.5285 - val_loss: 1.7155 - val_dense_6_loss: 0.2988 - val_dense_7_loss: 0.2977 - val_dense_8_loss: 0.2709 - val_dense_9_loss: 0.2774 - val_dense_10_loss: 0.2832 - val_dense_11_loss: 0.2874\n",
      "Epoch 8/200\n",
      "8/8 [==============================] - 0s 10ms/step - loss: 3.0822 - dense_6_loss: 0.4853 - dense_7_loss: 0.5467 - dense_8_loss: 0.4625 - dense_9_loss: 0.5939 - dense_10_loss: 0.5063 - dense_11_loss: 0.4874 - val_loss: 1.7612 - val_dense_6_loss: 0.2452 - val_dense_7_loss: 0.2801 - val_dense_8_loss: 0.2923 - val_dense_9_loss: 0.4086 - val_dense_10_loss: 0.2535 - val_dense_11_loss: 0.2814\n",
      "Epoch 9/200\n",
      "8/8 [==============================] - 0s 11ms/step - loss: 2.8674 - dense_6_loss: 0.4530 - dense_7_loss: 0.5407 - dense_8_loss: 0.4126 - dense_9_loss: 0.5199 - dense_10_loss: 0.4803 - dense_11_loss: 0.4608 - val_loss: 1.8307 - val_dense_6_loss: 0.2778 - val_dense_7_loss: 0.4718 - val_dense_8_loss: 0.2837 - val_dense_9_loss: 0.2632 - val_dense_10_loss: 0.2681 - val_dense_11_loss: 0.2661\n",
      "Epoch 10/200\n",
      "8/8 [==============================] - 0s 10ms/step - loss: 2.7747 - dense_6_loss: 0.4412 - dense_7_loss: 0.5007 - dense_8_loss: 0.4030 - dense_9_loss: 0.4892 - dense_10_loss: 0.4903 - dense_11_loss: 0.4502 - val_loss: 1.6902 - val_dense_6_loss: 0.2451 - val_dense_7_loss: 0.2743 - val_dense_8_loss: 0.2863 - val_dense_9_loss: 0.3118 - val_dense_10_loss: 0.2906 - val_dense_11_loss: 0.2822\n",
      "Epoch 11/200\n",
      "8/8 [==============================] - 0s 10ms/step - loss: 2.6999 - dense_6_loss: 0.4145 - dense_7_loss: 0.4855 - dense_8_loss: 0.3930 - dense_9_loss: 0.4628 - dense_10_loss: 0.4959 - dense_11_loss: 0.4481 - val_loss: 1.6852 - val_dense_6_loss: 0.2749 - val_dense_7_loss: 0.2935 - val_dense_8_loss: 0.3003 - val_dense_9_loss: 0.2455 - val_dense_10_loss: 0.2516 - val_dense_11_loss: 0.3194\n",
      "Epoch 12/200\n",
      "8/8 [==============================] - 0s 11ms/step - loss: 2.5916 - dense_6_loss: 0.4108 - dense_7_loss: 0.4492 - dense_8_loss: 0.3861 - dense_9_loss: 0.4537 - dense_10_loss: 0.4487 - dense_11_loss: 0.4431 - val_loss: 1.5437 - val_dense_6_loss: 0.2373 - val_dense_7_loss: 0.2576 - val_dense_8_loss: 0.2290 - val_dense_9_loss: 0.2886 - val_dense_10_loss: 0.2605 - val_dense_11_loss: 0.2708\n",
      "Epoch 13/200\n",
      "8/8 [==============================] - 0s 10ms/step - loss: 2.4764 - dense_6_loss: 0.4035 - dense_7_loss: 0.4260 - dense_8_loss: 0.3682 - dense_9_loss: 0.4438 - dense_10_loss: 0.4235 - dense_11_loss: 0.4114 - val_loss: 1.5752 - val_dense_6_loss: 0.2332 - val_dense_7_loss: 0.2663 - val_dense_8_loss: 0.2287 - val_dense_9_loss: 0.3075 - val_dense_10_loss: 0.2646 - val_dense_11_loss: 0.2748\n",
      "Epoch 14/200\n",
      "8/8 [==============================] - 0s 11ms/step - loss: 2.4192 - dense_6_loss: 0.3803 - dense_7_loss: 0.4081 - dense_8_loss: 0.3791 - dense_9_loss: 0.4393 - dense_10_loss: 0.4114 - dense_11_loss: 0.4009 - val_loss: 1.4619 - val_dense_6_loss: 0.2388 - val_dense_7_loss: 0.2704 - val_dense_8_loss: 0.2259 - val_dense_9_loss: 0.2480 - val_dense_10_loss: 0.2415 - val_dense_11_loss: 0.2373\n",
      "Epoch 15/200\n",
      "8/8 [==============================] - 0s 10ms/step - loss: 2.4083 - dense_6_loss: 0.3753 - dense_7_loss: 0.4140 - dense_8_loss: 0.3597 - dense_9_loss: 0.4379 - dense_10_loss: 0.4132 - dense_11_loss: 0.4082 - val_loss: 1.5427 - val_dense_6_loss: 0.2278 - val_dense_7_loss: 0.2962 - val_dense_8_loss: 0.2372 - val_dense_9_loss: 0.2631 - val_dense_10_loss: 0.2373 - val_dense_11_loss: 0.2811\n",
      "Epoch 16/200\n",
      "8/8 [==============================] - 0s 10ms/step - loss: 2.3809 - dense_6_loss: 0.3694 - dense_7_loss: 0.4137 - dense_8_loss: 0.3469 - dense_9_loss: 0.4312 - dense_10_loss: 0.3907 - dense_11_loss: 0.4291 - val_loss: 1.6431 - val_dense_6_loss: 0.2287 - val_dense_7_loss: 0.2686 - val_dense_8_loss: 0.2258 - val_dense_9_loss: 0.2334 - val_dense_10_loss: 0.2467 - val_dense_11_loss: 0.4400\n",
      "Epoch 17/200\n",
      "8/8 [==============================] - 0s 11ms/step - loss: 2.3511 - dense_6_loss: 0.3642 - dense_7_loss: 0.3961 - dense_8_loss: 0.3343 - dense_9_loss: 0.4283 - dense_10_loss: 0.3854 - dense_11_loss: 0.4428 - val_loss: 1.5334 - val_dense_6_loss: 0.2969 - val_dense_7_loss: 0.2482 - val_dense_8_loss: 0.2335 - val_dense_9_loss: 0.2455 - val_dense_10_loss: 0.2396 - val_dense_11_loss: 0.2697\n",
      "Epoch 18/200\n",
      "8/8 [==============================] - 0s 10ms/step - loss: 2.2738 - dense_6_loss: 0.4104 - dense_7_loss: 0.3765 - dense_8_loss: 0.3248 - dense_9_loss: 0.3904 - dense_10_loss: 0.3879 - dense_11_loss: 0.3837 - val_loss: 1.5952 - val_dense_6_loss: 0.2300 - val_dense_7_loss: 0.2504 - val_dense_8_loss: 0.2320 - val_dense_9_loss: 0.2827 - val_dense_10_loss: 0.2381 - val_dense_11_loss: 0.3620\n",
      "Epoch 19/200\n",
      "8/8 [==============================] - 0s 10ms/step - loss: 2.2254 - dense_6_loss: 0.3590 - dense_7_loss: 0.3905 - dense_8_loss: 0.3254 - dense_9_loss: 0.3844 - dense_10_loss: 0.3770 - dense_11_loss: 0.3890 - val_loss: 1.5811 - val_dense_6_loss: 0.2235 - val_dense_7_loss: 0.2423 - val_dense_8_loss: 0.2418 - val_dense_9_loss: 0.2352 - val_dense_10_loss: 0.2362 - val_dense_11_loss: 0.4021\n",
      "Stopped fitting after 19 epochs\n",
      "Saved model to disk\n",
      "1/1 [==============================] - 0s 128ms/step\n"
     ]
    },
    {
     "data": {
      "text/plain": [
       "<deepimpute.multinet.MultiNet at 0x14a1648baa70>"
      ]
     },
     "execution_count": 4,
     "metadata": {},
     "output_type": "execute_result"
    }
   ],
   "source": [
    "# Using all the data\n",
    "multinet.fit(data,cell_subset=1,minVMR=0.5)"
   ]
  },
  {
   "cell_type": "code",
   "execution_count": null,
   "metadata": {},
   "outputs": [],
   "source": [
    "# Using 80% of the data\n",
    "multinet.fit(data,cell_subset=0.5)"
   ]
  },
  {
   "cell_type": "code",
   "execution_count": null,
   "metadata": {},
   "outputs": [],
   "source": [
    "# Using 200 cells (randomly selected)\n",
    "multinet.fit(data,cell_subset=200)"
   ]
  },
  {
   "cell_type": "code",
   "execution_count": null,
   "metadata": {},
   "outputs": [],
   "source": [
    "# Custom fit\n",
    "trainingData = data.iloc[100:250,:]\n",
    "multinet.fit(trainingData)"
   ]
  },
  {
   "cell_type": "markdown",
   "metadata": {},
   "source": [
    "## Imputation\n",
    "\n",
    "The imputation can be done on any dataset as long as the gene labels are the same"
   ]
  },
  {
   "cell_type": "code",
   "execution_count": 5,
   "metadata": {},
   "outputs": [
    {
     "name": "stdout",
     "output_type": "stream",
     "text": [
      "16/16 [==============================] - 0s 2ms/step\n",
      "Filling zeros\n"
     ]
    }
   ],
   "source": [
    "imputedData = multinet.predict(data)"
   ]
  },
  {
   "cell_type": "markdown",
   "metadata": {},
   "source": [
    "## Visualization"
   ]
  },
  {
   "cell_type": "code",
   "execution_count": 6,
   "metadata": {},
   "outputs": [
    {
     "data": {
      "image/png": "[encoded data removed]",
      "text/plain": [
       "<Figure size 432x288 with 1 Axes>"
      ]
     },
     "metadata": {
      "needs_background": "light"
     },
     "output_type": "display_data"
    }
   ],
   "source": [
    "import matplotlib.pyplot as plt\n",
    "import numpy as np\n",
    "\n",
    "limits = [0,100]\n",
    "\n",
    "fig,ax = plt.subplots()\n",
    "\n",
    "jitter = np.random.normal(0,1,data.size) # Add some jittering to better see the point density\n",
    "ax.scatter(data.values.flatten()+jitter,imputedData.values.flatten(),s=2)\n",
    "ax.plot(limits,limits,'r-.',linewidth=2)\n",
    "ax.set_xlim(limits)\n",
    "ax.set_ylim(limits)\n",
    "\n",
    "plt.show()\n"
   ]
  },
  {
   "cell_type": "markdown",
   "metadata": {},
   "source": [
    "## Scoring\n",
    "Display training metrics (MSE and Pearson's correlation on the test data)"
   ]
  },
  {
   "cell_type": "code",
   "execution_count": 7,
   "metadata": {},
   "outputs": [
    {
     "data": {
      "text/plain": [
       "{'correlation': 0.8958310128894449, 'MSE': 0.18464281801867802}"
      ]
     },
     "execution_count": 7,
     "metadata": {},
     "output_type": "execute_result"
    }
   ],
   "source": [
    "multinet.test_metrics"
   ]
  },
  {
   "cell_type": "code",
   "execution_count": null,
   "metadata": {},
   "outputs": [],
   "source": []
  }
 ],
 "metadata": {
  "kernelspec": {
   "display_name": "Python 3 (ipykernel)",
   "language": "python",
   "name": "python3"
  },
  "language_info": {
   "codemirror_mode": {
    "name": "ipython",
    "version": 3
   },
   "file_extension": ".py",
   "mimetype": "text/x-python",
   "name": "python",
   "nbconvert_exporter": "python",
   "pygments_lexer": "ipython3",
   "version": "3.10.0"
  }
 },
 "nbformat": 4,
 "nbformat_minor": 4
}
