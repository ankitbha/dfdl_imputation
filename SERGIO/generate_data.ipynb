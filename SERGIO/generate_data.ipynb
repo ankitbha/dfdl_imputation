{
 "cells": [
  {
   "cell_type": "code",
   "execution_count": 1,
   "id": "ee938a37-5b35-41f4-8b58-c4953eed3955",
   "metadata": {},
   "outputs": [],
   "source": [
    "import numpy as np\n",
    "import pandas as pd\n",
    "from SERGIO.sergio import sergio"
   ]
  },
  {
   "cell_type": "markdown",
   "id": "788e8dab-8951-411f-82bf-4ec19e73e356",
   "metadata": {},
   "source": [
    "# Simulate Clean Data _ Steady-State Simulation"
   ]
  },
  {
   "cell_type": "code",
   "execution_count": 2,
   "id": "f729fe91-ce55-4f89-b5cb-70d6f8351b1b",
   "metadata": {
    "tags": []
   },
   "outputs": [
    {
     "name": "stdout",
     "output_type": "stream",
     "text": [
      "Start simulating new level\n",
      "There are 4 genes to simulate in this layer\n",
      "Done with current level\n",
      "Start simulating new level\n",
      "There are 6 genes to simulate in this layer\n",
      "Done with current level\n",
      "Start simulating new level\n",
      "There are 90 genes to simulate in this layer\n",
      "Done with current level\n"
     ]
    }
   ],
   "source": [
    "sim = sergio(number_genes=100, number_bins = 9, number_sc = 300, noise_params = 1, decays=0.8, sampling_state=15, noise_type='dpd')\n",
    "sim.build_graph(input_file_taregts ='data_sets/De-noised_100G_9T_300cPerT_4_DS1/Interaction_cID_4.txt', input_file_regs='data_sets/De-noised_100G_9T_300cPerT_4_DS1/Regs_cID_4.txt', shared_coop_state=2)\n",
    "sim.simulate()\n",
    "expr = sim.getExpressions()\n",
    "expr_clean = np.concatenate(expr, axis = 1)"
   ]
  },
  {
   "cell_type": "markdown",
   "id": "d5c78eac-47de-4f46-bac2-07124d3fdfb1",
   "metadata": {},
   "source": [
    "# Add Technical Noise _ Steady-State Simulations"
   ]
  },
  {
   "cell_type": "code",
   "execution_count": 3,
   "id": "a8dcc814-5da4-47a8-a251-8278e9427fb7",
   "metadata": {
    "tags": []
   },
   "outputs": [],
   "source": [
    "\"\"\"\n",
    "Add outlier genes\n",
    "\"\"\"\n",
    "expr_O = sim.outlier_effect(expr, outlier_prob = 0.01, mean = 0.8, scale = 1)\n",
    "\n",
    "\"\"\"\n",
    "Add Library Size Effect\n",
    "\"\"\"\n",
    "libFactor, expr_O_L = sim.lib_size_effect(expr_O, mean = 4.6, scale = 0.4)\n",
    "\n",
    "\"\"\"\n",
    "Add Dropouts\n",
    "\"\"\"\n",
    "binary_ind = sim.dropout_indicator(expr_O_L, shape = 6.5, percentile = 82)\n",
    "expr_O_L_D = np.multiply(binary_ind, expr_O_L)\n",
    "\n",
    "\"\"\"\n",
    "Convert to UMI count\n",
    "\"\"\"\n",
    "count_matrix = sim.convert_to_UMIcounts(expr_O_L_D)\n",
    "\n",
    "\"\"\"\n",
    "Make a 2d gene expression matrix\n",
    "\"\"\"\n",
    "count_matrix = np.concatenate(count_matrix, axis = 1)"
   ]
  },
  {
   "cell_type": "markdown",
   "id": "581d3716-fec9-47b8-a621-a1d8725aa0a0",
   "metadata": {},
   "source": [
    "# Simulate Clean Data _ differentiation Simulation"
   ]
  },
  {
   "cell_type": "code",
   "execution_count": null,
   "id": "41135333-d8d9-4825-911a-7fd515709097",
   "metadata": {
    "collapsed": true,
    "jupyter": {
     "outputs_hidden": true
    }
   },
   "outputs": [],
   "source": [
    "df = pd.read_csv('data_sets/De-noised_100G_6T_300cPerT_dynamics_7_DS6/bMat_cID7.tab', sep='\\t', header=None, index_col=None)\n",
    "bMat = df.values\n",
    "\n",
    "sim = sergio(number_genes=100, number_bins = 6, number_sc = 300, noise_params = 0.2, decays=0.8, sampling_state = 1, noise_params_splice = 0.07, noise_type='dpd', dynamics=True, bifurcation_matrix= bMat)\n",
    "sim.build_graph(input_file_taregts ='data_sets/De-noised_100G_6T_300cPerT_dynamics_7_DS6/Interaction_cID_7.txt', input_file_regs='data_sets/De-noised_100G_6T_300cPerT_dynamics_7_DS6/Regs_cID_7.txt', shared_coop_state=2)\n",
    "sim.simulate_dynamics()\n",
    "exprU, exprS = sim.getExpressions_dynamics()\n",
    "exprU_clean = np.concatenate(exprU, axis = 1)\n",
    "exprS_clean = np.concatenate(exprS, axis = 1)"
   ]
  },
  {
   "cell_type": "markdown",
   "id": "a115ba97-e9dc-411c-b086-7922b16d212e",
   "metadata": {},
   "source": [
    "# Add Technical Noise _ differentiation Simulations"
   ]
  },
  {
   "cell_type": "code",
   "execution_count": null,
   "id": "793b8d37-b2c2-4686-a5d3-88aff05819f1",
   "metadata": {
    "collapsed": true,
    "jupyter": {
     "outputs_hidden": true
    }
   },
   "outputs": [],
   "source": [
    "\"\"\"\n",
    "Add outlier genes\n",
    "\"\"\"\n",
    "exprU_O, exprS_O = sim.outlier_effect_dynamics(exprU, exprS, outlier_prob = 0.01, mean = 0.8, scale = 1)\n",
    "\n",
    "\"\"\"\n",
    "Add Library Size Effect\n",
    "\"\"\"\n",
    "libFactor, exprU_O_L, exprS_O_L = sim.lib_size_effect_dynamics(exprU_O, exprS_O, mean = 4.6, scale = 0.4)\n",
    "\n",
    "\"\"\"\n",
    "Add Dropouts\n",
    "\"\"\"\n",
    "binary_indU, binary_indS = sim.dropout_indicator_dynamics(exprU_O_L, exprS_O_L, shape = 6.5, percentile = 82)\n",
    "exprU_O_L_D = np.multiply(binary_indU, exprU_O_L)\n",
    "exprS_O_L_D = np.multiply(binary_indS, exprS_O_L)\n",
    "\n",
    "\"\"\"\n",
    "Convert to UMI count\n",
    "\"\"\"\n",
    "count_matrix_U, count_matrix_S = sim.convert_to_UMIcounts_dynamics(exprU_O_L_D, exprS_O_L_D)\n",
    "\n",
    "\"\"\"\n",
    "Make 2d spliced and unspliced expression matrices\n",
    "\"\"\"\n",
    "count_matrix_U = np.concatenate(count_matrix_U, axis = 1)\n",
    "count_matrix_S = np.concatenate(count_matrix_S, axis = 1)"
   ]
  }
 ],
 "metadata": {
  "kernelspec": {
   "display_name": "Python 3 (ipykernel)",
   "language": "python",
   "name": "python3"
  },
  "language_info": {
   "codemirror_mode": {
    "name": "ipython",
    "version": 3
   },
   "file_extension": ".py",
   "mimetype": "text/x-python",
   "name": "python",
   "nbconvert_exporter": "python",
   "pygments_lexer": "ipython3",
   "version": "3.10.0"
  }
 },
 "nbformat": 4,
 "nbformat_minor": 5
}
