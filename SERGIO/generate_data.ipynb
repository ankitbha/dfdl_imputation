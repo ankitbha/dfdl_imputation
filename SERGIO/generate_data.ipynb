{
 "cells": [
  {
   "cell_type": "code",
   "execution_count": 1,
   "id": "ee938a37-5b35-41f4-8b58-c4953eed3955",
   "metadata": {},
   "outputs": [],
   "source": [
    "import numpy as np\n",
    "import pandas as pd\n",
    "from SERGIO.sergio import sergio"
   ]
  },
  {
   "cell_type": "markdown",
   "id": "788e8dab-8951-411f-82bf-4ec19e73e356",
   "metadata": {},
   "source": [
    "# Simulate Clean Data _ Steady-State Simulation"
   ]
  },
  {
   "cell_type": "code",
   "execution_count": 2,
   "id": "f729fe91-ce55-4f89-b5cb-70d6f8351b1b",
   "metadata": {
    "tags": []
   },
   "outputs": [
    {
     "name": "stdout",
     "output_type": "stream",
     "text": [
      "Start simulating new level\n",
      "There are 2 genes to simulate in this layer\n",
      "Done with current level\n",
      "Start simulating new level\n",
      "There are 3 genes to simulate in this layer\n",
      "Done with current level\n",
      "Start simulating new level\n",
      "There are 5 genes to simulate in this layer\n",
      "Done with current level\n",
      "Start simulating new level\n",
      "There are 9 genes to simulate in this layer\n",
      "Done with current level\n",
      "Start simulating new level\n",
      "There are 26 genes to simulate in this layer\n",
      "Done with current level\n",
      "Start simulating new level\n",
      "There are 82 genes to simulate in this layer\n",
      "Done with current level\n",
      "Start simulating new level\n",
      "There are 1073 genes to simulate in this layer\n",
      "Done with current level\n"
     ]
    }
   ],
   "source": [
    "sim = sergio(number_genes=1200, number_bins = 9, number_sc = 300, noise_params = 1, decays=0.8, sampling_state=15, noise_type='dpd')\n",
    "sim.build_graph(input_file_taregts ='data_sets/De-noised_1200G_9T_300cPerT_6_DS3/Interaction_cID_6.txt',\\\n",
    "                input_file_regs='data_sets/De-noised_1200G_9T_300cPerT_6_DS3/Regs_cID_6.txt', shared_coop_state=2)\n",
    "sim.simulate()\n",
    "expr = sim.getExpressions()\n",
    "expr_clean = np.concatenate(expr, axis = 1)"
   ]
  },
  {
   "cell_type": "code",
   "execution_count": 3,
   "id": "847c7ef2-2242-4d08-9ef5-0d862ea7f183",
   "metadata": {},
   "outputs": [
    {
     "data": {
      "text/plain": [
       "(1200, 2700)"
      ]
     },
     "execution_count": 3,
     "metadata": {},
     "output_type": "execute_result"
    }
   ],
   "source": [
    "expr_clean.shape"
   ]
  },
  {
   "cell_type": "code",
   "execution_count": 4,
   "id": "21f20c8b-10b2-4fc8-be24-afe8d2ac6aaa",
   "metadata": {},
   "outputs": [],
   "source": [
    "np.save('imputation_data/DS6_clean', expr_clean)"
   ]
  },
  {
   "cell_type": "code",
   "execution_count": 5,
   "id": "faf73130-f2b2-4fcb-a265-df436fe038df",
   "metadata": {},
   "outputs": [
    {
     "ename": "FileNotFoundError",
     "evalue": "[Errno 2] No such file or directory: 'imputation_data/tation_data/DS6_expr.npy'",
     "output_type": "error",
     "traceback": [
      "\u001b[0;31m---------------------------------------------------------------------------\u001b[0m",
      "\u001b[0;31mFileNotFoundError\u001b[0m                         Traceback (most recent call last)",
      "\u001b[1;32m/Users/joshuaweiner/Desktop/Folders/Projects/zero_imputation/SERGIO/generate_data.ipynb Cell 6\u001b[0m line \u001b[0;36m1\n\u001b[0;32m----> <a href='vscode-notebook-cell:/Users/joshuaweiner/Desktop/Folders/Projects/zero_imputation/SERGIO/generate_data.ipynb#W5sZmlsZQ%3D%3D?line=0'>1</a>\u001b[0m np\u001b[39m.\u001b[39;49msave(\u001b[39m'\u001b[39;49m\u001b[39mimputation_data/tation_data/DS6_expr\u001b[39;49m\u001b[39m'\u001b[39;49m, expr)\n",
      "File \u001b[0;32m~/Desktop/Folders/Projects/zero_imputation/venv/lib/python3.11/site-packages/numpy/lib/npyio.py:542\u001b[0m, in \u001b[0;36msave\u001b[0;34m(file, arr, allow_pickle, fix_imports)\u001b[0m\n\u001b[1;32m    540\u001b[0m     \u001b[39mif\u001b[39;00m \u001b[39mnot\u001b[39;00m file\u001b[39m.\u001b[39mendswith(\u001b[39m'\u001b[39m\u001b[39m.npy\u001b[39m\u001b[39m'\u001b[39m):\n\u001b[1;32m    541\u001b[0m         file \u001b[39m=\u001b[39m file \u001b[39m+\u001b[39m \u001b[39m'\u001b[39m\u001b[39m.npy\u001b[39m\u001b[39m'\u001b[39m\n\u001b[0;32m--> 542\u001b[0m     file_ctx \u001b[39m=\u001b[39m \u001b[39mopen\u001b[39;49m(file, \u001b[39m\"\u001b[39;49m\u001b[39mwb\u001b[39;49m\u001b[39m\"\u001b[39;49m)\n\u001b[1;32m    544\u001b[0m \u001b[39mwith\u001b[39;00m file_ctx \u001b[39mas\u001b[39;00m fid:\n\u001b[1;32m    545\u001b[0m     arr \u001b[39m=\u001b[39m np\u001b[39m.\u001b[39masanyarray(arr)\n",
      "\u001b[0;31mFileNotFoundError\u001b[0m: [Errno 2] No such file or directory: 'imputation_data/tation_data/DS6_expr.npy'"
     ]
    }
   ],
   "source": [
    "np.save('imputation_data/DS6_expr', expr)"
   ]
  },
  {
   "cell_type": "code",
   "execution_count": 6,
   "id": "39c75c61-aafc-4649-9fe6-ea66ca5419ba",
   "metadata": {},
   "outputs": [],
   "source": [
    "cmat_clean = sim.convert_to_UMIcounts(expr)\n",
    "cmat_clean = np.concatenate(cmat_clean, axis = 1)\n",
    "np.save('imputation_data/DS6_clean_counts', cmat_clean)"
   ]
  },
  {
   "cell_type": "markdown",
   "id": "d5c78eac-47de-4f46-bac2-07124d3fdfb1",
   "metadata": {},
   "source": [
    "# Add Technical Noise _ Steady-State Simulations"
   ]
  },
  {
   "cell_type": "code",
   "execution_count": 7,
   "id": "a8dcc814-5da4-47a8-a251-8278e9427fb7",
   "metadata": {
    "tags": []
   },
   "outputs": [],
   "source": [
    "\"\"\"\n",
    "Add outlier genes\n",
    "\"\"\"\n",
    "expr_O = sim.outlier_effect(expr, outlier_prob = 0.01, mean = 5, scale = 1)\n",
    "\n",
    "\"\"\"\n",
    "Add Library Size Effect\n",
    "\"\"\"\n",
    "libFactor, expr_O_L = sim.lib_size_effect(expr_O, mean = 4.5, scale = 0.7)\n",
    "\n",
    "\"\"\"\n",
    "Add Dropouts\n",
    "\"\"\"\n",
    "binary_ind = sim.dropout_indicator(expr_O_L, shape = 8, percentile = 45)\n",
    "expr_O_L_D = np.multiply(binary_ind, expr_O_L)\n",
    "\n",
    "\"\"\"\n",
    "Convert to UMI count\n",
    "\"\"\"\n",
    "count_matrix = sim.convert_to_UMIcounts(expr_O_L_D)\n",
    "\n",
    "\"\"\"\n",
    "Make a 2d gene expression matrix\n",
    "\"\"\"\n",
    "count_matrix = np.concatenate(count_matrix, axis = 1)"
   ]
  },
  {
   "cell_type": "code",
   "execution_count": 8,
   "id": "a6fc6013-b704-45b2-a135-2beeec7adc5f",
   "metadata": {},
   "outputs": [],
   "source": [
    "np.save('imputation_data/DS6_45', count_matrix)"
   ]
  },
  {
   "cell_type": "code",
   "execution_count": 9,
   "id": "cfe50212-3bec-43dc-927a-ad3af3f159e3",
   "metadata": {},
   "outputs": [
    {
     "data": {
      "text/plain": [
       "(1200, 2700)"
      ]
     },
     "execution_count": 9,
     "metadata": {},
     "output_type": "execute_result"
    }
   ],
   "source": [
    "count_matrix.shape"
   ]
  },
  {
   "cell_type": "markdown",
   "id": "581d3716-fec9-47b8-a621-a1d8725aa0a0",
   "metadata": {},
   "source": [
    "# Simulate Clean Data _ differentiation Simulation"
   ]
  },
  {
   "cell_type": "code",
   "execution_count": null,
   "id": "41135333-d8d9-4825-911a-7fd515709097",
   "metadata": {
    "collapsed": true,
    "jupyter": {
     "outputs_hidden": true
    }
   },
   "outputs": [],
   "source": [
    "# df = pd.read_csv('data_sets/De-noised_100G_6T_300cPerT_dynamics_7_DS6/bMat_cID7.tab', sep='\\t', header=None, index_col=None)\n",
    "# bMat = df.values\n",
    "\n",
    "# sim = sergio(number_genes=100, number_bins = 6, number_sc = 300, noise_params = 0.2, decays=0.8, sampling_state = 1, noise_params_splice = 0.07, noise_type='dpd', dynamics=True, bifurcation_matrix= bMat)\n",
    "# sim.build_graph(input_file_taregts ='data_sets/De-noised_100G_6T_300cPerT_dynamics_7_DS6/Interaction_cID_7.txt', input_file_regs='data_sets/De-noised_100G_6T_300cPerT_dynamics_7_DS6/Regs_cID_7.txt', shared_coop_state=2)\n",
    "# sim.simulate_dynamics()\n",
    "# exprU, exprS = sim.getExpressions_dynamics()\n",
    "# exprU_clean = np.concatenate(exprU, axis = 1)\n",
    "# exprS_clean = np.concatenate(exprS, axis = 1)"
   ]
  },
  {
   "cell_type": "markdown",
   "id": "a115ba97-e9dc-411c-b086-7922b16d212e",
   "metadata": {},
   "source": [
    "# Add Technical Noise _ differentiation Simulations"
   ]
  },
  {
   "cell_type": "code",
   "execution_count": null,
   "id": "793b8d37-b2c2-4686-a5d3-88aff05819f1",
   "metadata": {
    "collapsed": true,
    "jupyter": {
     "outputs_hidden": true
    }
   },
   "outputs": [],
   "source": [
    "# \"\"\"\n",
    "# Add outlier genes\n",
    "# \"\"\"\n",
    "# exprU_O, exprS_O = sim.outlier_effect_dynamics(exprU, exprS, outlier_prob = 0.01, mean = 0.8, scale = 1)\n",
    "\n",
    "# \"\"\"\n",
    "# Add Library Size Effect\n",
    "# \"\"\"\n",
    "# libFactor, exprU_O_L, exprS_O_L = sim.lib_size_effect_dynamics(exprU_O, exprS_O, mean = 4.6, scale = 0.4)\n",
    "\n",
    "# \"\"\"\n",
    "# Add Dropouts\n",
    "# \"\"\"\n",
    "# binary_indU, binary_indS = sim.dropout_indicator_dynamics(exprU_O_L, exprS_O_L, shape = 6.5, percentile = 82)\n",
    "# exprU_O_L_D = np.multiply(binary_indU, exprU_O_L)\n",
    "# exprS_O_L_D = np.multiply(binary_indS, exprS_O_L)\n",
    "\n",
    "# \"\"\"\n",
    "# Convert to UMI count\n",
    "# \"\"\"\n",
    "# count_matrix_U, count_matrix_S = sim.convert_to_UMIcounts_dynamics(exprU_O_L_D, exprS_O_L_D)\n",
    "\n",
    "# \"\"\"\n",
    "# Make 2d spliced and unspliced expression matrices\n",
    "# \"\"\"\n",
    "# count_matrix_U = np.concatenate(count_matrix_U, axis = 1)\n",
    "# count_matrix_S = np.concatenate(count_matrix_S, axis = 1)"
   ]
  },
  {
   "cell_type": "code",
   "execution_count": null,
   "id": "aba5886f",
   "metadata": {},
   "outputs": [],
   "source": []
  }
 ],
 "metadata": {
  "kernelspec": {
   "display_name": "Python 3 (ipykernel)",
   "language": "python",
   "name": "python3"
  },
  "language_info": {
   "codemirror_mode": {
    "name": "ipython",
    "version": 3
   },
   "file_extension": ".py",
   "mimetype": "text/x-python",
   "name": "python",
   "nbconvert_exporter": "python",
   "pygments_lexer": "ipython3",
   "version": "3.11.2"
  }
 },
 "nbformat": 4,
 "nbformat_minor": 5
}
