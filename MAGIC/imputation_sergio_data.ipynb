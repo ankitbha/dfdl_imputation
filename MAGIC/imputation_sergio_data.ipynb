{
 "cells": [
  {
   "cell_type": "code",
   "execution_count": 1,
   "metadata": {},
   "outputs": [],
   "source": [
    "%load_ext autoreload\n",
    "%autoreload 2"
   ]
  },
  {
   "cell_type": "code",
   "execution_count": 2,
   "metadata": {},
   "outputs": [],
   "source": [
    "import sys, os\n",
    "import numpy as np\n",
    "import magic as magic\n",
    "import scprep\n",
    "import matplotlib\n",
    "import matplotlib.pyplot as plt\n",
    "%matplotlib inline\n",
    "\n",
    "\n",
    "sys.path.append(os.getcwd())"
   ]
  },
  {
   "cell_type": "code",
   "execution_count": 15,
   "metadata": {},
   "outputs": [
    {
     "name": "stdout",
     "output_type": "stream",
     "text": [
      "(2700, 1200) (2700, 1200)\n"
     ]
    }
   ],
   "source": [
    "x = np.transpose(np.load('../SERGIO/imputation_data/DS6_clean_counts.npy'))\n",
    "y = np.transpose(np.load('../SERGIO/imputation_data/DS6_45.npy'))\n",
    "print(x.shape, y.shape)"
   ]
  },
  {
   "cell_type": "code",
   "execution_count": 16,
   "metadata": {},
   "outputs": [],
   "source": [
    "#scprep.plot.plot_library_size(x, cutoff=5000, log=True)"
   ]
  },
  {
   "cell_type": "markdown",
   "metadata": {},
   "source": [
    "#### Data filtering and normalization per MAGIC repository"
   ]
  },
  {
   "cell_type": "code",
   "execution_count": 17,
   "metadata": {},
   "outputs": [
    {
     "data": {
      "text/plain": [
       "(2700, 1200)"
      ]
     },
     "execution_count": 17,
     "metadata": {},
     "output_type": "execute_result"
    }
   ],
   "source": [
    "#x_hat = scprep.filter.filter_rare_genes(x, cutoff=1000, min_cells=10)\n",
    "x_norm = scprep.normalize.library_size_normalize(x)\n",
    "x_norm = scprep.transform.sqrt(x_norm)\n",
    "x_norm.shape"
   ]
  },
  {
   "cell_type": "markdown",
   "metadata": {},
   "source": [
    "#### Run MAGIC"
   ]
  },
  {
   "cell_type": "code",
   "execution_count": 18,
   "metadata": {},
   "outputs": [],
   "source": [
    "magic_op = magic.MAGIC(\n",
    "    knn=5,\n",
    "    knn_max=None,\n",
    "    decay=1,\n",
    "    t=3,\n",
    "    n_pca=100,\n",
    "    solver=\"exact\",\n",
    "    knn_dist=\"euclidean\",\n",
    "    n_jobs=1,\n",
    "    random_state=None,\n",
    "    verbose=1,\n",
    ")"
   ]
  },
  {
   "cell_type": "code",
   "execution_count": 23,
   "metadata": {},
   "outputs": [
    {
     "name": "stdout",
     "output_type": "stream",
     "text": [
      "Calculating MAGIC...\n",
      "  Running MAGIC on 2700 cells and 1200 genes.\n"
     ]
    },
    {
     "name": "stdout",
     "output_type": "stream",
     "text": [
      "  Calculating graph and diffusion operator...\n",
      "    Calculating PCA...\n",
      "    Calculated PCA in 8.28 seconds.\n",
      "    Calculating KNN search...\n",
      "    Calculated KNN search in 0.78 seconds.\n",
      "    Calculating affinities...\n",
      "    Calculated affinities in 0.53 seconds.\n",
      "  Calculated graph and diffusion operator in 9.62 seconds.\n",
      "  Calculating imputation...\n",
      "  Calculated imputation in 0.12 seconds.\n",
      "Calculated MAGIC in 9.76 seconds.\n"
     ]
    },
    {
     "data": {
      "text/plain": [
       "(2700, 1200)"
      ]
     },
     "execution_count": 23,
     "metadata": {},
     "output_type": "execute_result"
    }
   ],
   "source": [
    "y_hat = magic_op.fit_transform(y, genes='all_genes')\n",
    "y_hat.shape"
   ]
  },
  {
   "cell_type": "code",
   "execution_count": 24,
   "metadata": {},
   "outputs": [],
   "source": [
    "np.save('yhat_MAGIC', y_hat)"
   ]
  },
  {
   "cell_type": "code",
   "execution_count": null,
   "metadata": {},
   "outputs": [],
   "source": []
  }
 ],
 "metadata": {
  "kernelspec": {
   "display_name": "Python 3 (ipykernel)",
   "language": "python",
   "name": "python3"
  },
  "language_info": {
   "codemirror_mode": {
    "name": "ipython",
    "version": 3
   },
   "file_extension": ".py",
   "mimetype": "text/x-python",
   "name": "python",
   "nbconvert_exporter": "python",
   "pygments_lexer": "ipython3",
   "version": "3.11.2"
  }
 },
 "nbformat": 4,
 "nbformat_minor": 4
}
