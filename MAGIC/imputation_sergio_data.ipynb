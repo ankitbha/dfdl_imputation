{
 "cells": [
  {
   "cell_type": "code",
   "execution_count": 1,
   "metadata": {},
   "outputs": [],
   "source": [
    "%load_ext autoreload\n",
    "%autoreload 2"
   ]
  },
  {
   "cell_type": "code",
   "execution_count": 2,
   "metadata": {},
   "outputs": [],
   "source": [
    "import sys, os\n",
    "import numpy as np\n",
    "import magic as magic\n",
    "import scprep\n",
    "import matplotlib\n",
    "import matplotlib.pyplot as plt\n",
    "%matplotlib inline\n",
    "\n",
    "\n",
    "sys.path.append(os.getcwd())"
   ]
  },
  {
   "cell_type": "code",
   "execution_count": 14,
   "metadata": {},
   "outputs": [
    {
     "name": "stdout",
     "output_type": "stream",
     "text": [
      "(2700, 1200) (2700, 1200)\n"
     ]
    }
   ],
   "source": [
    "x = np.transpose(np.load('../SERGIO/imputation_data/DS6_clean_counts.npy'))\n",
    "y = np.transpose(np.load('../SERGIO/imputation_data/DS6_45.npy'))\n",
    "print(x.shape, y.shape)"
   ]
  },
  {
   "cell_type": "markdown",
   "metadata": {},
   "source": [
    "From SERGIO Paper: Prior to running MAGIC, we filtered the synthetic data for rare genes (those expressed in less\n",
    "than 5 cells), and performed library size normalization as well as a square root transformation. We used MAGIC with the parameter t =\n",
    "2, t = 7, and default setting where t is inferred from data"
   ]
  },
  {
   "cell_type": "markdown",
   "metadata": {},
   "source": [
    "#### Filter for rare genes (expressed in < 5 cells)"
   ]
  },
  {
   "cell_type": "code",
   "execution_count": 15,
   "metadata": {},
   "outputs": [],
   "source": [
    "#scprep.plot.plot_library_size(x, cutoff=5000, log=True)\n",
    "y_hat = scprep.filter.filter_rare_genes(y, min_cells=5)\n",
    "#scprep.plot.plot_library_size(x_hat, cutoff=5000, log=True)"
   ]
  },
  {
   "cell_type": "markdown",
   "metadata": {},
   "source": [
    "#### Library size normalization and square root transformation"
   ]
  },
  {
   "cell_type": "code",
   "execution_count": 16,
   "metadata": {},
   "outputs": [
    {
     "data": {
      "text/plain": [
       "(2700, 1196)"
      ]
     },
     "execution_count": 16,
     "metadata": {},
     "output_type": "execute_result"
    }
   ],
   "source": [
    "y_norm = scprep.normalize.library_size_normalize(y_hat)\n",
    "y_norm = scprep.transform.sqrt(y_norm)\n",
    "y_norm.shape"
   ]
  },
  {
   "cell_type": "markdown",
   "metadata": {},
   "source": [
    "#### Run MAGIC"
   ]
  },
  {
   "cell_type": "code",
   "execution_count": 17,
   "metadata": {},
   "outputs": [],
   "source": [
    "def run_MAGIC(t_val):\n",
    "    magic_op = magic.MAGIC(\n",
    "        knn=5,\n",
    "        knn_max=None,\n",
    "        decay=1,\n",
    "        # Variable changed in paper\n",
    "        t=t_val,\n",
    "        n_pca=100,\n",
    "        solver=\"exact\",\n",
    "        knn_dist=\"euclidean\",\n",
    "        n_jobs=1,\n",
    "        random_state=None,\n",
    "        verbose=1,\n",
    "    )\n",
    "\n",
    "    y_hat = magic_op.fit_transform(y_norm, genes='all_genes')\n",
    "    y_hat.shape\n",
    "\n",
    "    save_str = 'yhat_MAGIC_t_' + str(t_val)\n",
    "    np.save(save_str, y_hat)"
   ]
  },
  {
   "cell_type": "code",
   "execution_count": 19,
   "metadata": {},
   "outputs": [
    {
     "name": "stdout",
     "output_type": "stream",
     "text": [
      "Calculating MAGIC...\n",
      "  Running MAGIC on 2700 cells and 1196 genes.\n",
      "  Calculating graph and diffusion operator...\n",
      "    Calculating PCA...\n",
      "    Calculated PCA in 8.12 seconds.\n",
      "    Calculating KNN search...\n",
      "    Calculated KNN search in 0.57 seconds.\n",
      "    Calculating affinities...\n",
      "    Calculated affinities in 0.48 seconds.\n",
      "  Calculated graph and diffusion operator in 9.18 seconds.\n",
      "  Calculating imputation...\n",
      "  Calculated imputation in 0.07 seconds.\n",
      "Calculated MAGIC in 9.26 seconds.\n"
     ]
    }
   ],
   "source": [
    "for t in [2, 7, 'auto']:\n",
    "    run_MAGIC(t)"
   ]
  },
  {
   "cell_type": "code",
   "execution_count": null,
   "metadata": {},
   "outputs": [],
   "source": []
  }
 ],
 "metadata": {
  "kernelspec": {
   "display_name": "Python 3 (ipykernel)",
   "language": "python",
   "name": "python3"
  },
  "language_info": {
   "codemirror_mode": {
    "name": "ipython",
    "version": 3
   },
   "file_extension": ".py",
   "mimetype": "text/x-python",
   "name": "python",
   "nbconvert_exporter": "python",
   "pygments_lexer": "ipython3",
   "version": "3.11.2"
  }
 },
 "nbformat": 4,
 "nbformat_minor": 4
}
