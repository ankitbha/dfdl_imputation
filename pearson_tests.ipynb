{
 "cells": [
  {
   "cell_type": "code",
   "execution_count": null,
   "metadata": {},
   "outputs": [],
   "source": [
    "%load_ext autoreload\n",
    "%autoreload 2"
   ]
  },
  {
   "cell_type": "code",
   "execution_count": 74,
   "metadata": {},
   "outputs": [],
   "source": [
    "import sys, os\n",
    "import numpy as np\n",
    "import pandas as pd\n",
    "import matplotlib.pyplot as plt\n",
    "from tqdm import tqdm\n",
    "from sklearn.metrics import roc_auc_score\n",
    "\n",
    "from Pearson.pearson import Pearson\n",
    "\n",
    "sys.path.append(os.getcwd())"
   ]
  },
  {
   "cell_type": "code",
   "execution_count": 75,
   "metadata": {},
   "outputs": [],
   "source": [
    "import random\n",
    "\n",
    "def sample_with_proportion(total, targets, proportion):\n",
    "    total_sample = 10\n",
    "    num_special = int(total_sample * proportion)\n",
    "    special = np.random.choice(targets, num_special, replace=False)\n",
    "\n",
    "    remaining = list(set(total) - set(targets))\n",
    "    normal = np.random.choice(remaining, total_sample - num_special, replace=False)\n",
    "\n",
    "    final = np.concatenate([special, normal])\n",
    "    np.random.shuffle(final)\n",
    "    return final"
   ]
  },
  {
   "cell_type": "code",
   "execution_count": 101,
   "metadata": {},
   "outputs": [
    {
     "name": "stdout",
     "output_type": "stream",
     "text": [
      "[(6, 14), (57, 43), (9, 24), (91, 62), (41, 1), (57, 1), (57, 14), (20, 14), (9, 14), (6, 11)]\n",
      "0\n",
      "0.0\n"
     ]
    }
   ],
   "source": [
    "imp_dir = os.path.join(os.getcwd(), 'imputations')\n",
    "for i in range(1, 4):\n",
    "    gt_file = None\n",
    "    if i == 1:\n",
    "        gt_file = './SERGIO/data_sets/De-noised_100G_9T_300cPerT_4_DS1/gt_GRN.csv'\n",
    "    elif i == 2:\n",
    "        gt_file = './SERGIO/data_sets/De-noised_400G_9T_300cPerT_5_DS2/gt_GRN.csv'\n",
    "    elif i == 3:\n",
    "        gt_file = 'SERGIO/data_sets/De-noised_1200G_9T_300cPerT_6_DS3/gt_GRN.csv'\n",
    "    \n",
    "    # For now, just load clean data, save as csv, and load it back in\n",
    "    load_dir = os.path.join(imp_dir, f'DS{i}')\n",
    "    clean_npy = np.load(load_dir + '/DS6_clean.npy')\n",
    "    df = pd.DataFrame(clean_npy)\n",
    "    df.to_csv(load_dir + '/DS6_clean.csv', index=False)\n",
    "    clean_df = pd.read_csv(os.path.join(load_dir, 'DS6_clean.csv'))\n",
    "    \n",
    "    # Read ground truth\n",
    "    gt = pd.read_csv(gt_file, header=None)\n",
    "    confirmed_genes = gt[0].unique()\n",
    "    sampled = sample_with_proportion(df.index.tolist(), confirmed_genes, 0.1)\n",
    "    \n",
    "    # Run Pearson on clean and noisy data\n",
    "    pearson = Pearson(np.transpose(clean_df), '')\n",
    "    p_values = pearson.values\n",
    "    np.fill_diagonal(p_values, 0)\n",
    "    pearson = pd.DataFrame(p_values, index=pearson.columns, columns=pearson.columns)\n",
    "\n",
    "    # Take subset of pearson data with only the sampled genes\n",
    "    p_subset = pearson.loc[sampled]\n",
    "    #print(p_subset)\n",
    "\n",
    "    # Rank the expression pairs by the absolute value of the pearson correlation\n",
    "    melted = pd.melt(p_subset.reset_index(), id_vars=['index'], value_vars=p_subset.columns)\n",
    "    melted.columns = ['input', 'target', 'correlation']\n",
    "\n",
    "    melted_sorted = melted.sort_values(by='correlation', ascending=False)\n",
    "\n",
    "    ranked_list = list(melted_sorted.itertuples(index=False, name=None))[:10]\n",
    "    # Calculate the proportion of confirmed genes in the top k of the ranked pairs\n",
    "    top_10 = [(input, target) for input, target, _ in ranked_list]\n",
    "    true_pairs = set(tuple(x) for x in gt.values)\n",
    "    matches = sum(1 for pair in top_10 if pair in true_pairs)\n",
    "    proportion = matches / len(top_10)\n",
    "\n",
    "    print(top_10)\n",
    "    print(matches)\n",
    "    print(proportion)\n",
    "\n",
    "    # Repeat for each dataset\n",
    "\n",
    "    break\n"
   ]
  },
  {
   "cell_type": "code",
   "execution_count": null,
   "metadata": {},
   "outputs": [],
   "source": []
  },
  {
   "cell_type": "code",
   "execution_count": null,
   "metadata": {},
   "outputs": [],
   "source": []
  },
  {
   "cell_type": "code",
   "execution_count": null,
   "metadata": {},
   "outputs": [],
   "source": []
  },
  {
   "cell_type": "code",
   "execution_count": null,
   "metadata": {},
   "outputs": [],
   "source": []
  },
  {
   "cell_type": "code",
   "execution_count": null,
   "metadata": {},
   "outputs": [],
   "source": []
  }
 ],
 "metadata": {
  "kernelspec": {
   "display_name": "zero_imputation_venv",
   "language": "python",
   "name": "zero_imputation_venv"
  },
  "language_info": {
   "codemirror_mode": {
    "name": "ipython",
    "version": 3
   },
   "file_extension": ".py",
   "mimetype": "text/x-python",
   "name": "python",
   "nbconvert_exporter": "python",
   "pygments_lexer": "ipython3",
   "version": "3.9.6"
  }
 },
 "nbformat": 4,
 "nbformat_minor": 2
}
