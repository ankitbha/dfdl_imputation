{
 "cells": [
  {
   "cell_type": "code",
   "execution_count": 3,
   "metadata": {},
   "outputs": [],
   "source": [
    "%load_ext autoreload\n",
    "%autoreload 2"
   ]
  },
  {
   "cell_type": "code",
   "execution_count": 4,
   "metadata": {},
   "outputs": [],
   "source": [
    "import sys, os\n",
    "import numpy as np\n",
    "import pandas as pd\n",
    "import matplotlib.pyplot as plt\n",
    "from tqdm import tqdm\n",
    "from sklearn.metrics import roc_auc_score\n",
    "\n",
    "from consolidated_runs import run_simulations\n",
    "\n",
    "from Pearson.pearson import Pearson\n",
    "\n",
    "sys.path.append(os.getcwd())"
   ]
  },
  {
   "cell_type": "code",
   "execution_count": 5,
   "metadata": {},
   "outputs": [],
   "source": [
    "import random\n",
    "\n",
    "def sample_with_proportion(total, targets, proportion):\n",
    "    total_sample = 10\n",
    "    num_special = int(total_sample * proportion)\n",
    "    special = np.random.choice(targets, num_special, replace=False)\n",
    "\n",
    "    remaining = list(set(total) - set(targets))\n",
    "    normal = np.random.choice(remaining, total_sample - num_special, replace=False)\n",
    "\n",
    "    final = np.concatenate([special, normal])\n",
    "    np.random.shuffle(final)\n",
    "    return final"
   ]
  },
  {
   "cell_type": "code",
   "execution_count": null,
   "metadata": {},
   "outputs": [],
   "source": [
    "datasets = range(1, 4) # DS3\n",
    "run_simulations(datasets,\n",
    "            sergio=True,\n",
    "            saucie=True, \n",
    "            scScope=True, \n",
    "            deepImpute=True, \n",
    "            magic=True, \n",
    "            genie=False,\n",
    "            arboreto=False,\n",
    "            pearson=False,\n",
    "            roc=False,\n",
    "            precision_recall_k=False\n",
    "        )"
   ]
  },
  {
   "cell_type": "code",
   "execution_count": 6,
   "metadata": {},
   "outputs": [
    {
     "name": "stdout",
     "output_type": "stream",
     "text": [
      "/Users/joshuaweiner/Desktop/Folders/Projects/zero_imputation/imputations\n",
      "(9, 100, 300)\n",
      "(9, 400, 300)\n",
      "(9, 1200, 300)\n"
     ]
    }
   ],
   "source": [
    "imp_dir = os.path.join(os.getcwd(), 'imputations')\n",
    "print(imp_dir)\n",
    "for i in range(1, 4):\n",
    "    load_dir = os.path.join(imp_dir, f'DS{i}')\n",
    "    save_name = 'DS6_expr.npy'\n",
    "\n",
    "    expr = np.load(os.path.join(load_dir, save_name))\n",
    "    print(expr.shape)\n",
    "    file_name = 'expr_shape.csv'\n",
    "    if not os.path.exists(os.path.join(load_dir, file_name)):\n",
    "        npfile = np.load(os.path.join(load_dir, save_name))\n",
    "        shap = npfile.shape\n",
    "        print(shap)\n",
    "        df = pd.DataFrame([shap])\n",
    "        df.to_csv(load_dir + '/' + file_name, index=False)"
   ]
  },
  {
   "cell_type": "code",
   "execution_count": null,
   "metadata": {},
   "outputs": [],
   "source": [
    "imp_dir = os.path.join(os.getcwd(), 'imputations')\n",
    "\n",
    "def run_pearson_ranking(proportion):\n",
    "    print(\"Running Pearson ranking tests with proportion\", proportion)\n",
    "    for i in range(1, 4):\n",
    "        gt_file = None\n",
    "        if i == 1:\n",
    "            gt_file = './SERGIO/data_sets/De-noised_100G_9T_300cPerT_4_DS1/gt_GRN.csv'\n",
    "        elif i == 2:\n",
    "            gt_file = './SERGIO/data_sets/De-noised_400G_9T_300cPerT_5_DS2/gt_GRN.csv'\n",
    "        elif i == 3:\n",
    "            gt_file = 'SERGIO/data_sets/De-noised_1200G_9T_300cPerT_6_DS3/gt_GRN.csv'\n",
    "        \n",
    "        # For now, just load clean data, save as csv, and load it back in\n",
    "        methods = ['Clean', 'Noisy', 'SAUCIE', 'scScope', 'DeepImpute', 'MAGIC']\n",
    "        file_name = ''\n",
    "        save_name = ''\n",
    "        for method in methods:\n",
    "            if method == 'Clean':\n",
    "                file_name = f'DS6_clean.npy'\n",
    "                save_name = f'DS6_clean.csv'\n",
    "            elif method == 'Noisy':\n",
    "                file_name = f'DS6_45.npy'\n",
    "                save_name = f'DS6_45.csv'\n",
    "            elif method == 'SAUCIE':\n",
    "                file_name = f'yhat_SAUCIE.npy'\n",
    "                save_name = f'yhat_SAUCIE.csv'\n",
    "            elif method == 'scScope':\n",
    "                file_name = f'yhat_scScope.npy'\n",
    "                save_name = f'yhat_scScope.csv'\n",
    "            elif method == 'DeepImpute':\n",
    "                file_name = f'yhat_deepImpute.npy'\n",
    "                save_name = f'yhat_deepImpute.csv'\n",
    "            elif method == 'MAGIC':\n",
    "                file_name = f'yhat_MAGIC_t_auto.npy'\n",
    "                save_name = f'yhat_MAGIC_t_auto.csv'\n",
    "            load_dir = os.path.join(imp_dir, f'DS{i}')\n",
    "            if not os.path.exists(os.path.join(imp_dir, f'DS{i}', save_name)):\n",
    "                npfile = np.load(load_dir + '/' + file_name)\n",
    "                df = pd.DataFrame(npfile)\n",
    "                df.to_csv(load_dir + '/' + save_name, index=False)\n",
    "            clean_df = pd.read_csv(os.path.join(load_dir, save_name))\n",
    "            \n",
    "            # Read ground truth\n",
    "            gt = pd.read_csv(gt_file, header=None)\n",
    "            confirmed_genes = gt[0].unique()\n",
    "\n",
    "            # Run Pearson on clean and noisy data\n",
    "            pearson = Pearson(np.transpose(clean_df), '')\n",
    "            p_values = pearson.values\n",
    "            np.fill_diagonal(p_values, 0)\n",
    "            pearson = pd.DataFrame(p_values, index=pearson.columns, columns=pearson.columns)\n",
    "\n",
    "            total = 0\n",
    "            for r in range(50):\n",
    "                sampled = sample_with_proportion(clean_df.index.tolist(), confirmed_genes, proportion)\n",
    "            # Take subset of pearson data with only the sampled genes\n",
    "                p_subset = pearson.loc[sampled]\n",
    "            #print(p_subset)\n",
    "            # Rank the expression pairs by the absolute value of the pearson correlation\n",
    "                melted = pd.melt(p_subset.reset_index(), id_vars=['index'], value_vars=p_subset.columns)\n",
    "                melted.columns = ['input', 'target', 'correlation']\n",
    "                melted_sorted = melted.sort_values(by='correlation', ascending=False)\n",
    "                ranked_list = list(melted_sorted.itertuples(index=False, name=None))[:10]\n",
    "            # Calculate the proportion of confirmed genes in the top k of the ranked pairs\n",
    "                top_10 = [(input, target) for input, target, _ in ranked_list]\n",
    "                true_pairs = set(tuple(x) for x in gt.values)\n",
    "                matches = sum(1 for pair in top_10 if pair in true_pairs)\n",
    "                prop = matches / len(top_10)\n",
    "                total += prop\n",
    "\n",
    "            print(f\"DS{i}\", method, total / 50)"
   ]
  },
  {
   "cell_type": "code",
   "execution_count": 48,
   "metadata": {},
   "outputs": [
    {
     "name": "stdout",
     "output_type": "stream",
     "text": [
      "Running Pearson ranking tests with proportion 0.1\n",
      "DS1 Clean 0.17999999999999997\n",
      "DS1 Noisy 0.042\n",
      "DS1 SAUCIE 0.0\n",
      "DS1 scScope 0.0\n",
      "DS1 DeepImpute 0.0\n",
      "DS1 MAGIC 0.0\n",
      "DS2 Clean 0.18799999999999997\n",
      "DS2 Noisy 0.002\n",
      "DS2 SAUCIE 0.0\n",
      "DS2 scScope 0.002\n",
      "DS2 DeepImpute 0.002\n",
      "DS2 MAGIC 0.0\n",
      "DS3 Clean 0.16999999999999996\n",
      "DS3 Noisy 0.0\n",
      "DS3 SAUCIE 0.004\n",
      "DS3 scScope 0.0\n",
      "DS3 DeepImpute 0.002\n",
      "DS3 MAGIC 0.0\n",
      "Running Pearson ranking tests with proportion 0.2\n",
      "DS1 Clean 0.374\n",
      "DS1 Noisy 0.05199999999999999\n",
      "DS1 SAUCIE 0.004\n",
      "DS1 scScope 0.0\n",
      "DS1 DeepImpute 0.0\n",
      "DS1 MAGIC 0.0\n",
      "DS2 Clean 0.468\n",
      "DS2 Noisy 0.006000000000000001\n",
      "DS2 SAUCIE 0.0\n",
      "DS2 scScope 0.0\n",
      "DS2 DeepImpute 0.006000000000000001\n",
      "DS2 MAGIC 0.0\n",
      "DS3 Clean 0.31600000000000006\n",
      "DS3 Noisy 0.0\n",
      "DS3 SAUCIE 0.004\n",
      "DS3 scScope 0.002\n",
      "DS3 DeepImpute 0.002\n",
      "DS3 MAGIC 0.002\n",
      "Running Pearson ranking tests with proportion 0.3\n",
      "DS1 Clean 0.57\n",
      "DS1 Noisy 0.06\n",
      "DS1 SAUCIE 0.002\n",
      "DS1 scScope 0.0\n",
      "DS1 DeepImpute 0.0\n",
      "DS1 MAGIC 0.0\n",
      "DS2 Clean 0.496\n",
      "DS2 Noisy 0.02\n",
      "DS2 SAUCIE 0.0\n",
      "DS2 scScope 0.002\n",
      "DS2 DeepImpute 0.002\n",
      "DS2 MAGIC 0.0\n",
      "DS3 Clean 0.396\n",
      "DS3 Noisy 0.008\n",
      "DS3 SAUCIE 0.006000000000000001\n",
      "DS3 scScope 0.0\n",
      "DS3 DeepImpute 0.0\n",
      "DS3 MAGIC 0.0\n"
     ]
    }
   ],
   "source": [
    "run_pearson_ranking(0.1)\n",
    "run_pearson_ranking(0.2)\n",
    "run_pearson_ranking(0.3)"
   ]
  },
  {
   "cell_type": "code",
   "execution_count": 7,
   "metadata": {},
   "outputs": [
    {
     "name": "stdout",
     "output_type": "stream",
     "text": [
      "Running Pearson edge sampling tests with proportion 0.1\n",
      "File /Users/joshuaweiner/Desktop/Folders/Projects/zero_imputation/imputations/DS1/DS1_Clean.csv does not exist. Skipping.\n",
      "File /Users/joshuaweiner/Desktop/Folders/Projects/zero_imputation/imputations/DS1/DS1_Noisy.csv does not exist. Skipping.\n",
      "File /Users/joshuaweiner/Desktop/Folders/Projects/zero_imputation/imputations/DS1/DS1_SAUCIE.csv does not exist. Skipping.\n",
      "File /Users/joshuaweiner/Desktop/Folders/Projects/zero_imputation/imputations/DS1/DS1_scScope.csv does not exist. Skipping.\n",
      "File /Users/joshuaweiner/Desktop/Folders/Projects/zero_imputation/imputations/DS1/DS1_DeepImpute.csv does not exist. Skipping.\n",
      "File /Users/joshuaweiner/Desktop/Folders/Projects/zero_imputation/imputations/DS1/DS1_MAGIC.csv does not exist. Skipping.\n",
      "File /Users/joshuaweiner/Desktop/Folders/Projects/zero_imputation/imputations/DS2/DS2_Clean.csv does not exist. Skipping.\n",
      "File /Users/joshuaweiner/Desktop/Folders/Projects/zero_imputation/imputations/DS2/DS2_Noisy.csv does not exist. Skipping.\n",
      "File /Users/joshuaweiner/Desktop/Folders/Projects/zero_imputation/imputations/DS2/DS2_SAUCIE.csv does not exist. Skipping.\n",
      "File /Users/joshuaweiner/Desktop/Folders/Projects/zero_imputation/imputations/DS2/DS2_scScope.csv does not exist. Skipping.\n",
      "File /Users/joshuaweiner/Desktop/Folders/Projects/zero_imputation/imputations/DS2/DS2_DeepImpute.csv does not exist. Skipping.\n",
      "File /Users/joshuaweiner/Desktop/Folders/Projects/zero_imputation/imputations/DS2/DS2_MAGIC.csv does not exist. Skipping.\n",
      "File /Users/joshuaweiner/Desktop/Folders/Projects/zero_imputation/imputations/DS3/DS3_Clean.csv does not exist. Skipping.\n",
      "File /Users/joshuaweiner/Desktop/Folders/Projects/zero_imputation/imputations/DS3/DS3_Noisy.csv does not exist. Skipping.\n",
      "File /Users/joshuaweiner/Desktop/Folders/Projects/zero_imputation/imputations/DS3/DS3_SAUCIE.csv does not exist. Skipping.\n",
      "File /Users/joshuaweiner/Desktop/Folders/Projects/zero_imputation/imputations/DS3/DS3_scScope.csv does not exist. Skipping.\n",
      "File /Users/joshuaweiner/Desktop/Folders/Projects/zero_imputation/imputations/DS3/DS3_DeepImpute.csv does not exist. Skipping.\n",
      "File /Users/joshuaweiner/Desktop/Folders/Projects/zero_imputation/imputations/DS3/DS3_MAGIC.csv does not exist. Skipping.\n"
     ]
    }
   ],
   "source": [
    "import os\n",
    "import numpy as np\n",
    "import pandas as pd\n",
    "from scipy.stats import pearsonr\n",
    "import random\n",
    "\n",
    "def run_pearson_edge_sampling(proportion):\n",
    "    print(\"Running Pearson edge sampling tests with proportion\", proportion)\n",
    "    imp_dir = os.path.join(os.getcwd(), 'imputations')\n",
    "    \n",
    "    for i in range(1, 4):\n",
    "        if i == 1:\n",
    "            gt_file = './SERGIO/data_sets/De-noised_100G_9T_300cPerT_4_DS1/gt_GRN.csv'\n",
    "        elif i == 2:\n",
    "            gt_file = './SERGIO/data_sets/De-noised_400G_9T_300cPerT_5_DS2/gt_GRN.csv'\n",
    "        elif i == 3:\n",
    "            gt_file = 'SERGIO/data_sets/De-noised_1200G_9T_300cPerT_6_DS3/gt_GRN.csv'\n",
    "        \n",
    "        methods = ['Clean', 'Noisy', 'SAUCIE', 'scScope', 'DeepImpute', 'MAGIC']\n",
    "        \n",
    "        for method in methods:\n",
    "            file_name = f'DS{i}_{method}.csv'  # Adjusted for simplicity\n",
    "            load_dir = os.path.join(imp_dir, f'DS{i}')\n",
    "            data_file_path = os.path.join(load_dir, file_name)\n",
    "\n",
    "            if not os.path.exists(data_file_path):\n",
    "                print(f\"File {data_file_path} does not exist. Skipping.\")\n",
    "                continue\n",
    "            \n",
    "            clean_df = pd.read_csv(data_file_path)\n",
    "            gt = pd.read_csv(gt_file, header=None)\n",
    "            \n",
    "            confirmed_edges = set(tuple(x) for x in gt.values)\n",
    "            \n",
    "            all_possible_edges = [(row, col) for row in clean_df.columns for col in clean_df.columns if row != col]\n",
    "            num_edges_to_sample = int(len(all_possible_edges) * proportion)\n",
    "            \n",
    "            total = 0\n",
    "            for r in range(50):\n",
    "                sampled_edges = random.sample(all_possible_edges, num_edges_to_sample)\n",
    "                matches = 0\n",
    "                for edge in sampled_edges:\n",
    "                    gene1, gene2 = edge\n",
    "                    corr, _ = pearsonr(clean_df[gene1], clean_df[gene2])\n",
    "                    # Check if this edge is in the confirmed edges and if the correlation is significant\n",
    "                    if edge in confirmed_edges and abs(corr) > 0.5:  # Threshold for \"significant\" correlation can be adjusted\n",
    "                        matches += 1\n",
    "                prop = matches / len(sampled_edges)\n",
    "                total += prop\n",
    "            \n",
    "            print(f\"DS{i} {method}: Proportion of significant confirmed edges = {total / 50}\")\n",
    "\n",
    "# Example usage\n",
    "proportion = 0.1\n",
    "run_pearson_edge_sampling(proportion)\n"
   ]
  },
  {
   "cell_type": "code",
   "execution_count": null,
   "metadata": {},
   "outputs": [],
   "source": []
  },
  {
   "cell_type": "code",
   "execution_count": 8,
   "metadata": {},
   "outputs": [],
   "source": [
    "from parallel_utils import process_iteration\n",
    "import concurrent\n",
    "from concurrent.futures import ProcessPoolExecutor\n",
    "\n",
    "def edge_finding_experiment(dataset_id, last_iteration=0):\n",
    "    print(\"Running edge finding experiment\")\n",
    "    gt_file = None\n",
    "    if dataset_id == 1:\n",
    "        gt_file = './SERGIO/data_sets/De-noised_100G_9T_300cPerT_4_DS1/gt_GRN.csv'\n",
    "        target_file = './SERGIO/data_sets/De-noised_100G_9T_300cPerT_4_DS1/Interaction_cID_4.txt'\n",
    "        regs_path = './SERGIO/data_sets/De-noised_100G_9T_300cPerT_4_DS1/Regs_cID_4.txt'\n",
    "    elif dataset_id == 2:\n",
    "        gt_file = './SERGIO/data_sets/De-noised_400G_9T_300cPerT_5_DS2/gt_GRN.csv'\n",
    "        target_file = './SERGIO/data_sets/De-noised_400G_9T_300cPerT_5_DS2/Interaction_cID_5.txt'\n",
    "        regs_path = './SERGIO/data_sets/De-noised_400G_9T_300cPerT_5_DS2/Regs_cID_5.txt'\n",
    "    elif dataset_id == 3:\n",
    "        gt_file = 'SERGIO/data_sets/De-noised_1200G_9T_300cPerT_6_DS3/gt_GRN.csv'\n",
    "        target_file = './SERGIO/data_sets/De-noised_1200G_9T_300cPerT_6_DS3/Interaction_cID_6.txt'\n",
    "        regs_path = './SERGIO/data_sets/De-noised_1200G_9T_300cPerT_6_DS3/Regs_cID_6.txt'\n",
    "        \n",
    "    reg_df = pd.read_csv(regs_path, header=None)\n",
    "    master_regs = [int(m) for m in reg_df[0].values]\n",
    "    true_pearson = pd.DataFrame()\n",
    "    gt = pd.read_csv(gt_file, header=None)\n",
    "    imp_dir = os.path.join(os.getcwd(), 'imputations')\n",
    "    load_dir = os.path.join(imp_dir, f'DS{dataset_id}')\n",
    "    ranks = []\n",
    "    correlations = []\n",
    "\n",
    "    # check if experiment file exists for this dataset\n",
    "    experiment_dir = os.path.join(os.getcwd(), 'experiments/edge_finding/')\n",
    "    if not os.path.exists(experiment_dir):\n",
    "        os.makedirs(experiment_dir)\n",
    "    experiment_file = os.path.join(experiment_dir, f\"DS{dataset_id}_edge_finding_experiment.csv\")\n",
    "    if os.path.exists(experiment_file):\n",
    "        df = pd.read_csv(experiment_file)\n",
    "        ranks = df['Rank'].values.tolist()\n",
    "        correlations = df['Correlation'].values.tolist()  \n",
    "\n",
    "    with ProcessPoolExecutor(max_workers=4) as executor:\n",
    "        futures = []\n",
    "        for iteration in tqdm(range(last_iteration, 51)):\n",
    "            file_extension = ''\n",
    "            if iteration == 0:\n",
    "                #run_sergio(target_file, regs_path, i, file_extension)\n",
    "                clean_df = pd.DataFrame(np.load(os.path.join(load_dir, f\"DS6_clean{file_extension}.npy\")))\n",
    "                true_pearson = Pearson(np.transpose(clean_df), '')\n",
    "                p_values = true_pearson.values\n",
    "                np.fill_diagonal(p_values, 0)\n",
    "                true_pearson = pd.DataFrame(p_values, index=true_pearson.columns, columns=true_pearson.columns)\n",
    "            else:\n",
    "                file_extension = f'_iter{iteration}'\n",
    "                futures.append(executor.submit(process_iteration, iteration, target_file, regs_path, master_regs, load_dir, imp_dir, dataset_id, file_extension))\n",
    "        iter = 0\n",
    "        for future in tqdm(concurrent.futures.as_completed(futures), total=len(futures)):\n",
    "            pearson, chosen_pair, temp_target, f_ext = future.result()\n",
    "            regulator_row = pearson.loc[chosen_pair[0]]\n",
    "            true_regulator_row = true_pearson.loc[chosen_pair[0]]\n",
    "            \n",
    "            # Take difference between calculated and true values\n",
    "            abs_diff = np.abs(true_regulator_row - regulator_row)\n",
    "            sorted_row = abs_diff.sort_values(ascending=False)\n",
    "\n",
    "            #print(abs_diff.index(chosen_pair[1]), sorted_row.index(chosen_pair[1]))\n",
    "            rank_target = sorted_row.index.get_loc(chosen_pair[1])\n",
    "            ranks.append(rank_target)\n",
    "            rank_value = sorted_row.iloc[rank_target]\n",
    "            correlations.append(rank_value)\n",
    "            # add to experiment file\n",
    "            df = pd.DataFrame({'Rank': ranks, 'Correlation': correlations})\n",
    "            df.to_csv(experiment_file, index=False)\n",
    "                    \n",
    "            print(chosen_pair[0], chosen_pair[1], rank_target, rank_value)\n",
    "            print(\"Current iteration:\", iter, f\"Mean rankings for DS{dataset_id} added edge:\", np.mean(ranks), np.mean(correlations))\n",
    "            # delete most temp files, keep every five\n",
    "            if iter % 10 != 0:\n",
    "                os.remove(temp_target)\n",
    "                os.remove(os.path.join(imp_dir, f'DS{dataset_id}', f\"DS6_clean{f_ext}.npy\"))\n",
    "                os.remove(os.path.join(imp_dir, f'DS{dataset_id}', f\"DS6_noisy{f_ext}.npy\"))\n",
    "            os.remove(os.path.join(imp_dir, f'DS{dataset_id}', f\"DS6_expr{f_ext}.npy\"))\n",
    "            os.remove(os.path.join(imp_dir, f'DS{dataset_id}', f\"DS6_clean_counts{f_ext}.npy\"))\n",
    "            iter += 1\n",
    "        print(f\"Mean rankings for DS{dataset_id} added edge:\", np.mean(ranks), np.mean(correlations))"
   ]
  },
  {
   "cell_type": "code",
   "execution_count": 9,
   "metadata": {},
   "outputs": [
    {
     "name": "stdout",
     "output_type": "stream",
     "text": [
      "Running edge finding experiment\n"
     ]
    },
    {
     "name": "stderr",
     "output_type": "stream",
     "text": [
      "100%|██████████| 51/51 [00:00<00:00, 410.01it/s]\n",
      "  0%|          | 0/50 [00:00<?, ?it/s]WARNING:tensorflow:From /Users/joshuaweiner/Desktop/Folders/Projects/zero_imputation/venv/lib/python3.11/site-packages/tensorflow/python/compat/v2_compat.py:107: disable_resource_variables (from tensorflow.python.ops.variable_scope) is deprecated and will be removed in a future version.\n",
      "Instructions for updating:\n",
      "non-resource variables are not supported in the long term\n",
      "WARNING:tensorflow:From /Users/joshuaweiner/Desktop/Folders/Projects/zero_imputation/venv/lib/python3.11/site-packages/tensorflow/python/compat/v2_compat.py:107: disable_resource_variables (from tensorflow.python.ops.variable_scope) is deprecated and will be removed in a future version.\n",
      "Instructions for updating:\n",
      "non-resource variables are not supported in the long term\n",
      "WARNING:tensorflow:From /Users/joshuaweiner/Desktop/Folders/Projects/zero_imputation/venv/lib/python3.11/site-packages/tensorflow/python/compat/v2_compat.py:107: disable_resource_variables (from tensorflow.python.ops.variable_scope) is deprecated and will be removed in a future version.\n",
      "Instructions for updating:\n",
      "non-resource variables are not supported in the long term\n",
      "WARNING:tensorflow:From /Users/joshuaweiner/Desktop/Folders/Projects/zero_imputation/venv/lib/python3.11/site-packages/tensorflow/python/compat/v2_compat.py:107: disable_resource_variables (from tensorflow.python.ops.variable_scope) is deprecated and will be removed in a future version.\n",
      "Instructions for updating:\n",
      "non-resource variables are not supported in the long term\n",
      "  2%|▏         | 1/50 [02:15<1:50:27, 135.26s/it]"
     ]
    },
    {
     "name": "stdout",
     "output_type": "stream",
     "text": [
      "62.0 6 2 0.16177664937645142\n",
      "Current iteration: 0 Mean rankings for DS1 added edge: 2.0 0.16177664937645142\n"
     ]
    },
    {
     "name": "stderr",
     "output_type": "stream",
     "text": [
      "  4%|▍         | 2/50 [02:15<44:53, 56.12s/it]   "
     ]
    },
    {
     "name": "stdout",
     "output_type": "stream",
     "text": [
      "1.0 83 13 0.10159033661420078\n",
      "Current iteration: 1 Mean rankings for DS1 added edge: 7.5 0.1316834929953261\n",
      "44.0 23 38 0.06925314418041624\n",
      "Current iteration: 2 Mean rankings for DS1 added edge: 17.666666666666668 0.11087337672368948\n"
     ]
    },
    {
     "name": "stderr",
     "output_type": "stream",
     "text": [
      "  8%|▊         | 4/50 [02:16<16:09, 21.08s/it]"
     ]
    },
    {
     "name": "stdout",
     "output_type": "stream",
     "text": [
      "74.0 18 2 0.1662963968974191\n",
      "Current iteration: 3 Mean rankings for DS1 added edge: 13.75 0.12472913176712189\n"
     ]
    },
    {
     "name": "stderr",
     "output_type": "stream",
     "text": [
      " 10%|█         | 5/50 [04:17<38:57, 51.95s/it]"
     ]
    },
    {
     "name": "stdout",
     "output_type": "stream",
     "text": [
      "14.0 97 87 0.024928271481165457\n",
      "Current iteration: 4 Mean rankings for DS1 added edge: 28.4 0.10476895970993061\n"
     ]
    },
    {
     "name": "stderr",
     "output_type": "stream",
     "text": [
      " 14%|█▍        | 7/50 [04:18<18:11, 25.39s/it]"
     ]
    },
    {
     "name": "stdout",
     "output_type": "stream",
     "text": [
      "14.0 85 5 0.13158120871887177\n",
      "Current iteration: 5 Mean rankings for DS1 added edge: 24.5 0.10923766787808747\n",
      "93.0 49 0 0.19696654297664612\n",
      "Current iteration: 6 Mean rankings for DS1 added edge: 21.0 0.12177036432073872\n"
     ]
    },
    {
     "name": "stderr",
     "output_type": "stream",
     "text": [
      " 16%|█▌        | 8/50 [04:19<12:33, 17.93s/it]"
     ]
    },
    {
     "name": "stdout",
     "output_type": "stream",
     "text": [
      "67.0 3 24 0.0633585189367592\n",
      "Current iteration: 7 Mean rankings for DS1 added edge: 21.375 0.11446888364774127\n"
     ]
    },
    {
     "name": "stderr",
     "output_type": "stream",
     "text": [
      " 18%|█▊        | 9/50 [06:12<31:51, 46.63s/it]"
     ]
    },
    {
     "name": "stdout",
     "output_type": "stream",
     "text": [
      "14.0 74 40 0.07181288024627827\n",
      "Current iteration: 8 Mean rankings for DS1 added edge: 23.444444444444443 0.10972932771424539\n"
     ]
    },
    {
     "name": "stderr",
     "output_type": "stream",
     "text": [
      " 20%|██        | 10/50 [06:15<22:20, 33.51s/it]"
     ]
    },
    {
     "name": "stdout",
     "output_type": "stream",
     "text": [
      "44.0 85 97 0.0005024268502098889\n",
      "Current iteration: 9 Mean rankings for DS1 added edge: 30.8 0.09880663762784184\n"
     ]
    },
    {
     "name": "stderr",
     "output_type": "stream",
     "text": [
      " 22%|██▏       | 11/50 [06:16<15:29, 23.83s/it]"
     ]
    },
    {
     "name": "stdout",
     "output_type": "stream",
     "text": [
      "74.0 2 24 0.06613582871861927\n",
      "Current iteration: 10 Mean rankings for DS1 added edge: 30.181818181818183 0.09583656409063979\n"
     ]
    },
    {
     "name": "stderr",
     "output_type": "stream",
     "text": [
      " 24%|██▍       | 12/50 [06:17<10:37, 16.78s/it]"
     ]
    },
    {
     "name": "stdout",
     "output_type": "stream",
     "text": [
      "62.0 32 0 0.26765202059566523\n",
      "Current iteration: 11 Mean rankings for DS1 added edge: 27.666666666666668 0.1101545187993919\n"
     ]
    },
    {
     "name": "stderr",
     "output_type": "stream",
     "text": [
      " 26%|██▌       | 13/50 [08:14<28:53, 46.86s/it]"
     ]
    },
    {
     "name": "stdout",
     "output_type": "stream",
     "text": [
      "74.0 23 29 0.07462922739036996\n",
      "Current iteration: 12 Mean rankings for DS1 added edge: 27.76923076923077 0.10742180407562098\n"
     ]
    },
    {
     "name": "stderr",
     "output_type": "stream",
     "text": [
      " 28%|██▊       | 14/50 [08:16<20:02, 33.40s/it]"
     ]
    },
    {
     "name": "stdout",
     "output_type": "stream",
     "text": [
      "67.0 83 92 0.0036394145872339217\n",
      "Current iteration: 13 Mean rankings for DS1 added edge: 32.357142857142854 0.1000087762550219\n"
     ]
    },
    {
     "name": "stderr",
     "output_type": "stream",
     "text": [
      " 30%|███       | 15/50 [08:18<14:04, 24.13s/it]"
     ]
    },
    {
     "name": "stdout",
     "output_type": "stream",
     "text": [
      "67.0 49 0 0.3036011715332945\n",
      "Current iteration: 14 Mean rankings for DS1 added edge: 30.2 0.11358160260690674\n"
     ]
    },
    {
     "name": "stderr",
     "output_type": "stream",
     "text": [
      " 32%|███▏      | 16/50 [08:19<09:36, 16.96s/it]"
     ]
    },
    {
     "name": "stdout",
     "output_type": "stream",
     "text": [
      "62.0 10 0 0.17612746024429776\n",
      "Current iteration: 15 Mean rankings for DS1 added edge: 28.3125 0.11749071870924369\n"
     ]
    },
    {
     "name": "stderr",
     "output_type": "stream",
     "text": [
      " 34%|███▍      | 17/50 [10:07<24:29, 44.52s/it]"
     ]
    },
    {
     "name": "stdout",
     "output_type": "stream",
     "text": [
      "62.0 14 23 0.06435398925643927\n",
      "Current iteration: 16 Mean rankings for DS1 added edge: 28.0 0.11436502874143166\n"
     ]
    },
    {
     "name": "stderr",
     "output_type": "stream",
     "text": [
      " 36%|███▌      | 18/50 [10:14<17:37, 33.06s/it]"
     ]
    },
    {
     "name": "stdout",
     "output_type": "stream",
     "text": [
      "84.0 18 0 0.19187834269648418\n",
      "Current iteration: 17 Mean rankings for DS1 added edge: 26.444444444444443 0.11867132396115682\n"
     ]
    },
    {
     "name": "stderr",
     "output_type": "stream",
     "text": [
      " 38%|███▊      | 19/50 [10:16<12:19, 23.85s/it]"
     ]
    },
    {
     "name": "stdout",
     "output_type": "stream",
     "text": [
      "67.0 29 7 0.11106291591647394\n",
      "Current iteration: 18 Mean rankings for DS1 added edge: 25.42105263157895 0.11827088143248927\n"
     ]
    },
    {
     "name": "stderr",
     "output_type": "stream",
     "text": [
      " 40%|████      | 20/50 [10:16<08:24, 16.81s/it]"
     ]
    },
    {
     "name": "stdout",
     "output_type": "stream",
     "text": [
      "67.0 38 10 0.09873714725837726\n",
      "Current iteration: 19 Mean rankings for DS1 added edge: 24.65 0.11729419472378369\n"
     ]
    },
    {
     "name": "stderr",
     "output_type": "stream",
     "text": [
      " 42%|████▏     | 21/50 [12:10<22:12, 45.95s/it]"
     ]
    },
    {
     "name": "stdout",
     "output_type": "stream",
     "text": [
      "62.0 13 0 0.2856619697979576\n",
      "Current iteration: 20 Mean rankings for DS1 added edge: 23.476190476190474 0.12531170782255388\n"
     ]
    },
    {
     "name": "stderr",
     "output_type": "stream",
     "text": [
      " 44%|████▍     | 22/50 [12:17<15:53, 34.07s/it]"
     ]
    },
    {
     "name": "stdout",
     "output_type": "stream",
     "text": [
      "17.0 50 42 0.03695235493723062\n",
      "Current iteration: 21 Mean rankings for DS1 added edge: 24.318181818181817 0.12129537360049372\n"
     ]
    },
    {
     "name": "stderr",
     "output_type": "stream",
     "text": [
      " 46%|████▌     | 23/50 [12:20<11:08, 24.77s/it]"
     ]
    },
    {
     "name": "stdout",
     "output_type": "stream",
     "text": [
      "62.0 33 0 0.1692946382480649\n",
      "Current iteration: 22 Mean rankings for DS1 added edge: 23.26086956521739 0.12338229815038812\n"
     ]
    },
    {
     "name": "stderr",
     "output_type": "stream",
     "text": [
      " 48%|████▊     | 24/50 [12:20<07:34, 17.46s/it]"
     ]
    },
    {
     "name": "stdout",
     "output_type": "stream",
     "text": [
      "1.0 94 38 0.05988155365224776\n",
      "Current iteration: 23 Mean rankings for DS1 added edge: 23.875 0.12073643379629893\n"
     ]
    },
    {
     "name": "stderr",
     "output_type": "stream",
     "text": [
      " 50%|█████     | 25/50 [14:25<20:42, 49.68s/it]"
     ]
    },
    {
     "name": "stdout",
     "output_type": "stream",
     "text": [
      "93.0 92 2 0.1284916603436581\n",
      "Current iteration: 24 Mean rankings for DS1 added edge: 23.0 0.12104664285819329\n"
     ]
    },
    {
     "name": "stderr",
     "output_type": "stream",
     "text": [
      " 52%|█████▏    | 26/50 [14:31<14:40, 36.67s/it]"
     ]
    },
    {
     "name": "stdout",
     "output_type": "stream",
     "text": [
      "67.0 87 0 0.2209100231890188\n",
      "Current iteration: 25 Mean rankings for DS1 added edge: 22.115384615384617 0.12488754210168657\n"
     ]
    },
    {
     "name": "stderr",
     "output_type": "stream",
     "text": [
      " 54%|█████▍    | 27/50 [14:36<10:22, 27.06s/it]"
     ]
    },
    {
     "name": "stdout",
     "output_type": "stream",
     "text": [
      "62.0 32 3 0.12042477455482575\n",
      "Current iteration: 26 Mean rankings for DS1 added edge: 21.40740740740741 0.12472225441476581\n",
      "67.0 4 14 0.07989329786866806\n",
      "Current iteration: 27 Mean rankings for DS1 added edge: 21.142857142857142 0.12312122025240517\n"
     ]
    },
    {
     "name": "stderr",
     "output_type": "stream",
     "text": [
      " 58%|█████▊    | 29/50 [16:35<14:40, 41.93s/it]"
     ]
    },
    {
     "name": "stdout",
     "output_type": "stream",
     "text": [
      "74.0 35 40 0.0592351490923288\n",
      "Current iteration: 28 Mean rankings for DS1 added edge: 21.79310344827586 0.12091825228136806\n"
     ]
    },
    {
     "name": "stderr",
     "output_type": "stream",
     "text": [
      " 60%|██████    | 30/50 [16:38<10:50, 32.51s/it]"
     ]
    },
    {
     "name": "stdout",
     "output_type": "stream",
     "text": [
      "84.0 0 4 0.11075752129296898\n",
      "Current iteration: 29 Mean rankings for DS1 added edge: 21.2 0.12057956124842142\n"
     ]
    },
    {
     "name": "stderr",
     "output_type": "stream",
     "text": [
      " 62%|██████▏   | 31/50 [16:43<07:57, 25.13s/it]"
     ]
    },
    {
     "name": "stdout",
     "output_type": "stream",
     "text": [
      "62.0 25 4 0.11767185476344598\n",
      "Current iteration: 30 Mean rankings for DS1 added edge: 20.64516129032258 0.12048576426503511\n"
     ]
    },
    {
     "name": "stderr",
     "output_type": "stream",
     "text": [
      " 64%|██████▍   | 32/50 [16:43<05:31, 18.39s/it]"
     ]
    },
    {
     "name": "stdout",
     "output_type": "stream",
     "text": [
      "17.0 3 53 0.04260304822219098\n",
      "Current iteration: 31 Mean rankings for DS1 added edge: 21.65625 0.11805192938869624\n"
     ]
    },
    {
     "name": "stderr",
     "output_type": "stream",
     "text": [
      " 66%|██████▌   | 33/50 [18:34<12:32, 44.27s/it]"
     ]
    },
    {
     "name": "stdout",
     "output_type": "stream",
     "text": [
      "14.0 83 89 0.007791804442491626\n",
      "Current iteration: 32 Mean rankings for DS1 added edge: 23.696969696969695 0.1147107134812355\n"
     ]
    },
    {
     "name": "stderr",
     "output_type": "stream",
     "text": [
      " 68%|██████▊   | 34/50 [18:37<08:39, 32.45s/it]"
     ]
    },
    {
     "name": "stdout",
     "output_type": "stream",
     "text": [
      "62.0 16 0 0.24292699683216626\n",
      "Current iteration: 33 Mean rankings for DS1 added edge: 23.0 0.11848178063861582\n"
     ]
    },
    {
     "name": "stderr",
     "output_type": "stream",
     "text": [
      " 70%|███████   | 35/50 [18:42<06:07, 24.47s/it]"
     ]
    },
    {
     "name": "stdout",
     "output_type": "stream",
     "text": [
      "44.0 54 3 0.15842757031949195\n",
      "Current iteration: 34 Mean rankings for DS1 added edge: 22.428571428571427 0.11962308891521227\n",
      "56.0 3 77 0.020924028321319996\n",
      "Current iteration: 35 Mean rankings for DS1 added edge: 23.944444444444443 0.11688144834315972\n"
     ]
    },
    {
     "name": "stderr",
     "output_type": "stream",
     "text": [
      " 74%|███████▍  | 37/50 [20:27<08:03, 37.20s/it]"
     ]
    },
    {
     "name": "stdout",
     "output_type": "stream",
     "text": [
      "1.0 14 28 0.1021367377858452\n",
      "Current iteration: 36 Mean rankings for DS1 added edge: 24.054054054054053 0.1164829426524215\n"
     ]
    },
    {
     "name": "stderr",
     "output_type": "stream",
     "text": [
      " 76%|███████▌  | 38/50 [20:34<05:58, 29.88s/it]"
     ]
    },
    {
     "name": "stdout",
     "output_type": "stream",
     "text": [
      "74.0 28 0 0.2569148440174035\n",
      "Current iteration: 37 Mean rankings for DS1 added edge: 23.42105263157895 0.12017851900413155\n"
     ]
    },
    {
     "name": "stderr",
     "output_type": "stream",
     "text": [
      " 78%|███████▊  | 39/50 [20:40<04:20, 23.67s/it]"
     ]
    },
    {
     "name": "stdout",
     "output_type": "stream",
     "text": [
      "1.0 94 5 0.1569708880818666\n",
      "Current iteration: 38 Mean rankings for DS1 added edge: 22.94871794871795 0.12112191308304784\n",
      "93.0 46 0 0.302798194921216\n",
      "Current iteration: 39 Mean rankings for DS1 added edge: 22.375 0.12566382012900204\n"
     ]
    },
    {
     "name": "stderr",
     "output_type": "stream",
     "text": [
      " 82%|████████▏ | 41/50 [22:24<05:21, 35.68s/it]"
     ]
    },
    {
     "name": "stdout",
     "output_type": "stream",
     "text": [
      "74.0 46 15 0.09449242369967525\n",
      "Current iteration: 40 Mean rankings for DS1 added edge: 22.195121951219512 0.12490354216731113\n"
     ]
    },
    {
     "name": "stderr",
     "output_type": "stream",
     "text": [
      " 84%|████████▍ | 42/50 [22:31<03:51, 28.90s/it]"
     ]
    },
    {
     "name": "stdout",
     "output_type": "stream",
     "text": [
      "14.0 99 12 0.12477755250929091\n",
      "Current iteration: 41 Mean rankings for DS1 added edge: 21.952380952380953 0.12490054241354874\n"
     ]
    },
    {
     "name": "stderr",
     "output_type": "stream",
     "text": [
      " 88%|████████▊ | 44/50 [22:37<01:43, 17.18s/it]"
     ]
    },
    {
     "name": "stdout",
     "output_type": "stream",
     "text": [
      "84.0 50 0 0.2595720018312723\n",
      "Current iteration: 42 Mean rankings for DS1 added edge: 21.441860465116278 0.1280324368186121\n",
      "93.0 68 1 0.1750453588346897\n",
      "Current iteration: 43 Mean rankings for DS1 added edge: 20.977272727272727 0.1291009123189775\n"
     ]
    },
    {
     "name": "stderr",
     "output_type": "stream",
     "text": [
      " 90%|█████████ | 45/50 [24:36<03:44, 44.86s/it]"
     ]
    },
    {
     "name": "stdout",
     "output_type": "stream",
     "text": [
      "56.0 27 8 0.1445614773633048\n",
      "Current iteration: 44 Mean rankings for DS1 added edge: 20.68888888888889 0.12944448043107365\n"
     ]
    },
    {
     "name": "stderr",
     "output_type": "stream",
     "text": [
      " 92%|█████████▏| 46/50 [24:42<02:16, 34.01s/it]"
     ]
    },
    {
     "name": "stdout",
     "output_type": "stream",
     "text": [
      "17.0 98 90 0.00843464521419482\n",
      "Current iteration: 45 Mean rankings for DS1 added edge: 22.195652173913043 0.12681383183940237\n"
     ]
    },
    {
     "name": "stderr",
     "output_type": "stream",
     "text": [
      " 94%|█████████▍| 47/50 [24:49<01:19, 26.39s/it]"
     ]
    },
    {
     "name": "stdout",
     "output_type": "stream",
     "text": [
      "14.0 76 44 0.0636670426802323\n",
      "Current iteration: 46 Mean rankings for DS1 added edge: 22.659574468085108 0.12547028313388814\n"
     ]
    },
    {
     "name": "stderr",
     "output_type": "stream",
     "text": [
      " 96%|█████████▌| 48/50 [24:49<00:37, 18.82s/it]"
     ]
    },
    {
     "name": "stdout",
     "output_type": "stream",
     "text": [
      "17.0 86 98 0.00031795299420401407\n",
      "Current iteration: 47 Mean rankings for DS1 added edge: 24.229166666666668 0.1228629429226447\n"
     ]
    },
    {
     "name": "stderr",
     "output_type": "stream",
     "text": [
      " 98%|█████████▊| 49/50 [26:04<00:35, 35.20s/it]"
     ]
    },
    {
     "name": "stdout",
     "output_type": "stream",
     "text": [
      "17.0 40 76 0.016746617134239868\n",
      "Current iteration: 48 Mean rankings for DS1 added edge: 25.285714285714285 0.12069730362084052\n"
     ]
    },
    {
     "name": "stderr",
     "output_type": "stream",
     "text": [
      "100%|██████████| 50/50 [26:07<00:00, 31.35s/it]"
     ]
    },
    {
     "name": "stdout",
     "output_type": "stream",
     "text": [
      "74.0 57 0 0.17896808819694143\n",
      "Current iteration: 49 Mean rankings for DS1 added edge: 24.78 0.12186271931236253\n",
      "Mean rankings for DS1 added edge: 24.78 0.12186271931236253\n"
     ]
    },
    {
     "name": "stderr",
     "output_type": "stream",
     "text": [
      "\n"
     ]
    }
   ],
   "source": [
    "edge_finding_experiment(dataset_id=1, last_iteration=0)"
   ]
  },
  {
   "cell_type": "markdown",
   "metadata": {},
   "source": []
  },
  {
   "cell_type": "code",
   "execution_count": 47,
   "metadata": {},
   "outputs": [
    {
     "data": {
      "text/plain": [
       "Text(0.5, 1.0, 'Distribution of abs. correlation differences for added edge in DS1')"
      ]
     },
     "execution_count": 47,
     "metadata": {},
     "output_type": "execute_result"
    },
    {
     "data": {
      "image/png": "[encoded data removed]",
      "text/plain": [
       "<Figure size 1000x800 with 1 Axes>"
      ]
     },
     "metadata": {},
     "output_type": "display_data"
    },
    {
     "data": {
      "image/png": "[encoded data removed]",
      "text/plain": [
       "<Figure size 1000x800 with 1 Axes>"
      ]
     },
     "metadata": {},
     "output_type": "display_data"
    }
   ],
   "source": [
    "import seaborn as sns\n",
    "## Plot the results from the experiment\n",
    "dataset_id = 1\n",
    "experiment_dir = os.path.join(os.getcwd(), 'experiments/edge_finding/')\n",
    "experiment_file = os.path.join(experiment_dir, f\"DS{dataset_id}_edge_finding_experiment.csv\")\n",
    "\n",
    "df = pd.read_csv(experiment_file)\n",
    "sns.set_style(\"whitegrid\")\n",
    "# density plot\n",
    "plot = sns.displot(df['Rank'], kde=True, bins=20, kde_kws={'bw_adjust': 0.25}, height=8, aspect=1.25)\n",
    "plot.set(xlim=(0, 100))\n",
    "plot.set_axis_labels('Rank', 'Count of Values')\n",
    "plt.title(f'Distribution of ranks for added edge in DS{dataset_id}')\n",
    "\n",
    "plot = sns.displot(df['Correlation'], kde=True, bins=20, kde_kws={'bw_adjust': 0.25}, height=8, aspect=1.25)\n",
    "#plot.set(xlim=(0, 1))\n",
    "plot.set_axis_labels('Correlation', 'Count of Values')\n",
    "plt.title(f'Distribution of abs. correlation differences for added edge in DS{dataset_id}')\n"
   ]
  },
  {
   "cell_type": "code",
   "execution_count": null,
   "metadata": {},
   "outputs": [],
   "source": []
  },
  {
   "cell_type": "code",
   "execution_count": null,
   "metadata": {},
   "outputs": [],
   "source": []
  }
 ],
 "metadata": {
  "kernelspec": {
   "display_name": "zero_imputation_venv",
   "language": "python",
   "name": "zero_imputation_venv"
  },
  "language_info": {
   "codemirror_mode": {
    "name": "ipython",
    "version": 3
   },
   "file_extension": ".py",
   "mimetype": "text/x-python",
   "name": "python",
   "nbconvert_exporter": "python",
   "pygments_lexer": "ipython3",
   "version": "3.11.7"
  }
 },
 "nbformat": 4,
 "nbformat_minor": 2
}
