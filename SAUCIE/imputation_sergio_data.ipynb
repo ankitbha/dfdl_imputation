{
 "cells": [
  {
   "cell_type": "code",
   "execution_count": 11,
   "id": "a7400d1d",
   "metadata": {},
   "outputs": [],
   "source": [
    "import sys\n",
    "sys.path.append('/scratch/ab9738/dfdl_imputation/')\n",
    "import numpy as np\n",
    "import matplotlib.pyplot as plt\n",
    "import SAUCIE\n",
    "import tensorflow.compat.v1 as tf\n",
    "tf.disable_v2_behavior()"
   ]
  },
  {
   "cell_type": "code",
   "execution_count": 4,
   "id": "9524988d",
   "metadata": {},
   "outputs": [],
   "source": [
    "# x = np.concatenate([np.random.uniform(-3, -2, (1000, 40)), np.random.uniform(2, 3, (1000, 40))], axis=0)\n",
    "# load = SAUCIE.Loader(x, shuffle=False)\n",
    "\n",
    "# saucie = SAUCIE.SAUCIE(x.shape[1], lambda_c=.2, lambda_d=.4)\n",
    "\n",
    "\n",
    "# saucie.train(load, 100)\n",
    "# embedding = saucie.get_embedding(load)\n",
    "# num_clusters, clusters = saucie.get_clusters(load)\n",
    "\n",
    "# fig = plt.figure()\n",
    "# ax = fig.add_subplot(1, 1, 1)\n",
    "# ax.scatter(embedding[:, 0], embedding[:, 1], c=clusters)\n",
    "# fig.savefig('embedding_by_cluster.png')\n"
   ]
  },
  {
   "cell_type": "code",
   "execution_count": 23,
   "id": "a20daf1d",
   "metadata": {},
   "outputs": [],
   "source": [
    "y = np.transpose(np.load('../SERGIO/imputation_data/DS6_45.npy'))"
   ]
  },
  {
   "cell_type": "code",
   "execution_count": 29,
   "id": "cc932605",
   "metadata": {},
   "outputs": [],
   "source": [
    "x = np.transpose(np.load('../SERGIO/imputation_data/DS6_clean.npy'))"
   ]
  },
  {
   "cell_type": "code",
   "execution_count": 7,
   "id": "21a483f5",
   "metadata": {},
   "outputs": [
    {
     "data": {
      "text/plain": [
       "(2700, 1200)"
      ]
     },
     "execution_count": 7,
     "metadata": {},
     "output_type": "execute_result"
    }
   ],
   "source": [
    "x.shape"
   ]
  },
  {
   "cell_type": "code",
   "execution_count": 8,
   "id": "b19476fc",
   "metadata": {},
   "outputs": [
    {
     "data": {
      "text/plain": [
       "(2700, 1200)"
      ]
     },
     "execution_count": 8,
     "metadata": {},
     "output_type": "execute_result"
    }
   ],
   "source": [
    "y.shape"
   ]
  },
  {
   "cell_type": "code",
   "execution_count": 25,
   "id": "14e9ace4",
   "metadata": {},
   "outputs": [
    {
     "data": {
      "text/plain": [
       "0.9645111111111111"
      ]
     },
     "execution_count": 25,
     "metadata": {},
     "output_type": "execute_result"
    }
   ],
   "source": [
    "len(np.where(y==0)[0])/(1200*2700)"
   ]
  },
  {
   "cell_type": "code",
   "execution_count": 26,
   "id": "642fef05",
   "metadata": {},
   "outputs": [
    {
     "data": {
      "text/plain": [
       "0.1748182098765432"
      ]
     },
     "execution_count": 26,
     "metadata": {},
     "output_type": "execute_result"
    }
   ],
   "source": [
    "len(np.where(x==0)[0])/(1200*2700)"
   ]
  },
  {
   "cell_type": "code",
   "execution_count": 31,
   "id": "c80f16b0",
   "metadata": {},
   "outputs": [
    {
     "data": {
      "text/plain": [
       "8973"
      ]
     },
     "execution_count": 31,
     "metadata": {},
     "output_type": "execute_result"
    }
   ],
   "source": [
    "np.sum(y.flatten()[np.where(x.flatten()==0)[0]])"
   ]
  },
  {
   "cell_type": "code",
   "execution_count": 31,
   "id": "95591238",
   "metadata": {},
   "outputs": [
    {
     "name": "stderr",
     "output_type": "stream",
     "text": [
      "2023-05-07 16:05:05.215835: W tensorflow/core/common_runtime/gpu/gpu_device.cc:1956] Cannot dlopen some GPU libraries. Please make sure the missing libraries mentioned above are installed properly if you would like to use GPU. Follow the guide at https://www.tensorflow.org/install/gpu for how to download and setup the required libraries for your platform.\n",
      "Skipping registering GPU devices...\n",
      "2023-05-07 16:05:14.263631: W tensorflow/core/common_runtime/gpu/gpu_device.cc:1956] Cannot dlopen some GPU libraries. Please make sure the missing libraries mentioned above are installed properly if you would like to use GPU. Follow the guide at https://www.tensorflow.org/install/gpu for how to download and setup the required libraries for your platform.\n",
      "Skipping registering GPU devices...\n"
     ]
    }
   ],
   "source": [
    "tf.reset_default_graph()\n",
    "saucie = SAUCIE.SAUCIE(x.shape[1])\n",
    "loadtrain = SAUCIE.Loader(x, shuffle=True)\n",
    "saucie.train(loadtrain, steps=1000)\n",
    "\n",
    "loadeval = SAUCIE.Loader(x, shuffle=False)\n",
    "# embedding = saucie.get_embedding(loadeval)\n",
    "# number_of_clusters, clusters = saucie.get_clusters(loadeval)\n",
    "rec_x = saucie.get_reconstruction(loadeval)\n",
    "\n",
    "tf.reset_default_graph()\n",
    "saucie = SAUCIE.SAUCIE(y.shape[1])\n",
    "loadtrain = SAUCIE.Loader(y, shuffle=True)\n",
    "saucie.train(loadtrain, steps=1000)\n",
    "\n",
    "loadeval = SAUCIE.Loader(y, shuffle=False)\n",
    "# embedding = saucie.get_embedding(loadeval)\n",
    "# number_of_clusters, clusters = saucie.get_clusters(loadeval)\n",
    "rec_y = saucie.get_reconstruction(loadeval)"
   ]
  },
  {
   "cell_type": "code",
   "execution_count": 32,
   "id": "02810c81",
   "metadata": {},
   "outputs": [
    {
     "data": {
      "text/plain": [
       "11356.328059720712"
      ]
     },
     "execution_count": 32,
     "metadata": {},
     "output_type": "execute_result"
    }
   ],
   "source": [
    "np.linalg.norm(x - y)"
   ]
  },
  {
   "cell_type": "code",
   "execution_count": 33,
   "id": "399f3659",
   "metadata": {},
   "outputs": [
    {
     "data": {
      "text/plain": [
       "9805.632"
      ]
     },
     "execution_count": 33,
     "metadata": {},
     "output_type": "execute_result"
    }
   ],
   "source": [
    "np.linalg.norm(rec_x - rec_y)"
   ]
  },
  {
   "cell_type": "code",
   "execution_count": null,
   "id": "1042a667",
   "metadata": {},
   "outputs": [],
   "source": []
  }
 ],
 "metadata": {
  "kernelspec": {
   "display_name": "Python 3 (ipykernel)",
   "language": "python",
   "name": "python3"
  },
  "language_info": {
   "codemirror_mode": {
    "name": "ipython",
    "version": 3
   },
   "file_extension": ".py",
   "mimetype": "text/x-python",
   "name": "python",
   "nbconvert_exporter": "python",
   "pygments_lexer": "ipython3",
   "version": "3.10.0"
  }
 },
 "nbformat": 4,
 "nbformat_minor": 5
}
