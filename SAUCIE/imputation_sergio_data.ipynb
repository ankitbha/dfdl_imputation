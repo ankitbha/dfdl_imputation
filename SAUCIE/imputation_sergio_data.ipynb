{
 "cells": [
  {
   "cell_type": "code",
   "execution_count": 3,
   "id": "80c1a2d7-a946-41fd-947c-e816113c02dd",
   "metadata": {},
   "outputs": [
    {
     "name": "stdout",
     "output_type": "stream",
     "text": [
      "The autoreload extension is already loaded. To reload it, use:\n",
      "  %reload_ext autoreload\n"
     ]
    }
   ],
   "source": [
    "%load_ext autoreload\n",
    "\n",
    "%autoreload 2"
   ]
  },
  {
   "cell_type": "code",
   "execution_count": 11,
   "id": "25fc8ce8",
   "metadata": {},
   "outputs": [],
   "source": [
    "import sys, os\n",
    "import numpy as np\n",
    "import matplotlib.pyplot as plt\n",
    "import SAUCIE\n",
    "import tensorflow.compat.v1 as tf\n",
    "tf.disable_v2_behavior()"
   ]
  },
  {
   "cell_type": "code",
   "execution_count": 13,
   "id": "779cfa1f",
   "metadata": {},
   "outputs": [],
   "source": [
    "sys.path.append(os.getcwd())"
   ]
  },
  {
   "cell_type": "code",
   "execution_count": 14,
   "id": "8ce68ca2",
   "metadata": {},
   "outputs": [],
   "source": [
    "y = np.transpose(np.load('../SERGIO/imputation_data/DS6_45.npy'))"
   ]
  },
  {
   "cell_type": "code",
   "execution_count": 15,
   "id": "40da3421",
   "metadata": {},
   "outputs": [],
   "source": [
    "x = np.transpose(np.load('../SERGIO/imputation_data/DS6_clean_counts.npy'))"
   ]
  },
  {
   "cell_type": "code",
   "execution_count": 16,
   "id": "2677b249",
   "metadata": {},
   "outputs": [
    {
     "data": {
      "text/plain": [
       "(2700, 1200)"
      ]
     },
     "execution_count": 16,
     "metadata": {},
     "output_type": "execute_result"
    }
   ],
   "source": [
    "x.shape"
   ]
  },
  {
   "cell_type": "code",
   "execution_count": 17,
   "id": "172fd3d7",
   "metadata": {},
   "outputs": [
    {
     "data": {
      "text/plain": [
       "(2700, 1200)"
      ]
     },
     "execution_count": 17,
     "metadata": {},
     "output_type": "execute_result"
    }
   ],
   "source": [
    "y.shape"
   ]
  },
  {
   "cell_type": "code",
   "execution_count": 18,
   "id": "ff35f600",
   "metadata": {},
   "outputs": [
    {
     "data": {
      "text/plain": [
       "0.9694268518518518"
      ]
     },
     "execution_count": 18,
     "metadata": {},
     "output_type": "execute_result"
    }
   ],
   "source": [
    "len(np.where(y==0)[0])/(1200*2700)"
   ]
  },
  {
   "cell_type": "code",
   "execution_count": 19,
   "id": "2dda5258",
   "metadata": {},
   "outputs": [
    {
     "data": {
      "text/plain": [
       "0.17278395061728394"
      ]
     },
     "execution_count": 19,
     "metadata": {},
     "output_type": "execute_result"
    }
   ],
   "source": [
    "len(np.where(x==0)[0])/(1200*2700)"
   ]
  },
  {
   "cell_type": "code",
   "execution_count": 20,
   "id": "51149ff4",
   "metadata": {},
   "outputs": [
    {
     "data": {
      "text/plain": [
       "6955"
      ]
     },
     "execution_count": 20,
     "metadata": {},
     "output_type": "execute_result"
    }
   ],
   "source": [
    "np.sum(y.flatten()[np.where(x.flatten()==0)[0]])"
   ]
  },
  {
   "cell_type": "code",
   "execution_count": 21,
   "id": "1ffa7d8a",
   "metadata": {},
   "outputs": [
    {
     "name": "stderr",
     "output_type": "stream",
     "text": [
      "2023-12-29 23:24:01.051370: I tensorflow/compiler/mlir/mlir_graph_optimization_pass.cc:388] MLIR V1 optimization pass is not enabled\n"
     ]
    }
   ],
   "source": [
    "# tf.reset_default_graph()\n",
    "# saucie = SAUCIE.SAUCIE(x.shape[1])\n",
    "# loadtrain = SAUCIE.Loader(x, shuffle=True)\n",
    "# saucie.train(loadtrain, steps=1000)\n",
    "\n",
    "# loadeval = SAUCIE.Loader(x, shuffle=False)\n",
    "# embedding = saucie.get_embedding(loadeval)\n",
    "# number_of_clusters, clusters = saucie.get_clusters(loadeval)\n",
    "# rec_x = saucie.get_reconstruction(loadeval)\n",
    "\n",
    "tf.reset_default_graph()\n",
    "saucie = SAUCIE.SAUCIE(y.shape[1])\n",
    "loadtrain = SAUCIE.Loader(y, shuffle=True)\n",
    "saucie.train(loadtrain, steps=1000)\n",
    "\n",
    "loadeval = SAUCIE.Loader(y, shuffle=False)\n",
    "# embedding = saucie.get_embedding(loadeval)\n",
    "# number_of_clusters, clusters = saucie.get_clusters(loadeval)\n",
    "rec_y = saucie.get_reconstruction(loadeval)"
   ]
  },
  {
   "cell_type": "code",
   "execution_count": 22,
   "id": "b4a2720f",
   "metadata": {},
   "outputs": [],
   "source": [
    "np.save('yhat_saucie',rec_y)"
   ]
  }
 ],
 "metadata": {
  "kernelspec": {
   "display_name": "Python 3 (ipykernel)",
   "language": "python",
   "name": "python3"
  },
  "language_info": {
   "codemirror_mode": {
    "name": "ipython",
    "version": 3
   },
   "file_extension": ".py",
   "mimetype": "text/x-python",
   "name": "python",
   "nbconvert_exporter": "python",
   "pygments_lexer": "ipython3",
   "version": "3.11.2"
  }
 },
 "nbformat": 4,
 "nbformat_minor": 5
}
