{
 "cells": [
  {
   "cell_type": "code",
   "execution_count": 1,
   "id": "80c1a2d7-a946-41fd-947c-e816113c02dd",
   "metadata": {},
   "outputs": [],
   "source": [
    "%load_ext autoreload\n",
    "\n",
    "%autoreload 2"
   ]
  },
  {
   "cell_type": "code",
   "execution_count": 2,
   "id": "25fc8ce8",
   "metadata": {},
   "outputs": [
    {
     "name": "stderr",
     "output_type": "stream",
     "text": [
      "2023-06-10 16:17:43.798387: I tensorflow/core/util/port.cc:110] oneDNN custom operations are on. You may see slightly different numerical results due to floating-point round-off errors from different computation orders. To turn them off, set the environment variable `TF_ENABLE_ONEDNN_OPTS=0`.\n",
      "2023-06-10 16:17:43.847486: I tensorflow/core/platform/cpu_feature_guard.cc:182] This TensorFlow binary is optimized to use available CPU instructions in performance-critical operations.\n",
      "To enable the following instructions: AVX2 AVX512F AVX512_VNNI FMA, in other operations, rebuild TensorFlow with the appropriate compiler flags.\n",
      "2023-06-10 16:17:44.519591: W tensorflow/compiler/tf2tensorrt/utils/py_utils.cc:38] TF-TRT Warning: Could not find TensorRT\n"
     ]
    },
    {
     "name": "stdout",
     "output_type": "stream",
     "text": [
      "WARNING:tensorflow:From /scratch/ab9738/cctv_pollution/env/lib/python3.10/site-packages/tensorflow/python/compat/v2_compat.py:107: disable_resource_variables (from tensorflow.python.ops.variable_scope) is deprecated and will be removed in a future version.\n",
      "Instructions for updating:\n",
      "non-resource variables are not supported in the long term\n"
     ]
    }
   ],
   "source": [
    "import sys\n",
    "sys.path.append('/scratch/ab9738/dfdl_imputation/')\n",
    "import numpy as np\n",
    "import matplotlib.pyplot as plt\n",
    "import SAUCIE\n",
    "import tensorflow.compat.v1 as tf\n",
    "tf.disable_v2_behavior()"
   ]
  },
  {
   "cell_type": "code",
   "execution_count": 3,
   "id": "8ce68ca2",
   "metadata": {},
   "outputs": [],
   "source": [
    "y = np.transpose(np.load('../SERGIO/imputation_data/DS6_45.npy'))"
   ]
  },
  {
   "cell_type": "code",
   "execution_count": 4,
   "id": "40da3421",
   "metadata": {},
   "outputs": [],
   "source": [
    "x = np.transpose(np.load('../SERGIO/imputation_data/DS6_clean_counts.npy'))"
   ]
  },
  {
   "cell_type": "code",
   "execution_count": 5,
   "id": "2677b249",
   "metadata": {},
   "outputs": [
    {
     "data": {
      "text/plain": [
       "(2700, 1200)"
      ]
     },
     "execution_count": 5,
     "metadata": {},
     "output_type": "execute_result"
    }
   ],
   "source": [
    "x.shape"
   ]
  },
  {
   "cell_type": "code",
   "execution_count": 6,
   "id": "172fd3d7",
   "metadata": {},
   "outputs": [
    {
     "data": {
      "text/plain": [
       "(2700, 1200)"
      ]
     },
     "execution_count": 6,
     "metadata": {},
     "output_type": "execute_result"
    }
   ],
   "source": [
    "y.shape"
   ]
  },
  {
   "cell_type": "code",
   "execution_count": 7,
   "id": "ff35f600",
   "metadata": {},
   "outputs": [
    {
     "data": {
      "text/plain": [
       "0.9726978395061728"
      ]
     },
     "execution_count": 7,
     "metadata": {},
     "output_type": "execute_result"
    }
   ],
   "source": [
    "len(np.where(y==0)[0])/(1200*2700)"
   ]
  },
  {
   "cell_type": "code",
   "execution_count": 8,
   "id": "2dda5258",
   "metadata": {},
   "outputs": [
    {
     "data": {
      "text/plain": [
       "0.1744"
      ]
     },
     "execution_count": 8,
     "metadata": {},
     "output_type": "execute_result"
    }
   ],
   "source": [
    "len(np.where(x==0)[0])/(1200*2700)"
   ]
  },
  {
   "cell_type": "code",
   "execution_count": 9,
   "id": "51149ff4",
   "metadata": {},
   "outputs": [
    {
     "data": {
      "text/plain": [
       "4527"
      ]
     },
     "execution_count": 9,
     "metadata": {},
     "output_type": "execute_result"
    }
   ],
   "source": [
    "np.sum(y.flatten()[np.where(x.flatten()==0)[0]])"
   ]
  },
  {
   "cell_type": "code",
   "execution_count": 10,
   "id": "1ffa7d8a",
   "metadata": {},
   "outputs": [
    {
     "name": "stderr",
     "output_type": "stream",
     "text": [
      "/scratch/ab9738/dfdl_imputation/SAUCIE/model.py:152: UserWarning: `tf.layers.dense` is deprecated and will be removed in a future version. Please use `tf.keras.layers.Dense` instead.\n",
      "  h1 = tf.layers.dense(self.x, self.layers[0], activation=lrelu, name='encoder_0')\n",
      "/scratch/ab9738/dfdl_imputation/SAUCIE/model.py:154: UserWarning: `tf.layers.dense` is deprecated and will be removed in a future version. Please use `tf.keras.layers.Dense` instead.\n",
      "  h2 = tf.layers.dense(h1, self.layers[1], activation=tf.nn.sigmoid, name='encoder_1')\n",
      "/scratch/ab9738/dfdl_imputation/SAUCIE/model.py:156: UserWarning: `tf.layers.dense` is deprecated and will be removed in a future version. Please use `tf.keras.layers.Dense` instead.\n",
      "  h3 = tf.layers.dense(h2, self.layers[2], activation=lrelu, name='encoder_2')\n",
      "/scratch/ab9738/dfdl_imputation/SAUCIE/model.py:158: UserWarning: `tf.layers.dense` is deprecated and will be removed in a future version. Please use `tf.keras.layers.Dense` instead.\n",
      "  self.embedded = tf.layers.dense(h3, self.layers[3], activation=tf.identity, name='embedding')\n",
      "/scratch/ab9738/dfdl_imputation/SAUCIE/model.py:161: UserWarning: `tf.layers.dense` is deprecated and will be removed in a future version. Please use `tf.keras.layers.Dense` instead.\n",
      "  h5 = tf.layers.dense(self.embedded, self.layers[2], activation=lrelu, name='decoder_0')\n",
      "/scratch/ab9738/dfdl_imputation/SAUCIE/model.py:163: UserWarning: `tf.layers.dense` is deprecated and will be removed in a future version. Please use `tf.keras.layers.Dense` instead.\n",
      "  h6 = tf.layers.dense(h5, self.layers[1], activation=lrelu, name='decoder_1')\n",
      "/scratch/ab9738/dfdl_imputation/SAUCIE/model.py:165: UserWarning: `tf.layers.dense` is deprecated and will be removed in a future version. Please use `tf.keras.layers.Dense` instead.\n",
      "  h7 = tf.layers.dense(h6, self.layers[0], activation=lrelu, name='decoder_2')\n",
      "/scratch/ab9738/dfdl_imputation/SAUCIE/model.py:169: UserWarning: `tf.layers.dense` is deprecated and will be removed in a future version. Please use `tf.keras.layers.Dense` instead.\n",
      "  self.reconstructed = tf.layers.dense(h7, self.input_dim, activation=tf.identity, name='recon')\n",
      "2023-06-10 16:19:37.922048: W tensorflow/core/common_runtime/gpu/gpu_device.cc:1956] Cannot dlopen some GPU libraries. Please make sure the missing libraries mentioned above are installed properly if you would like to use GPU. Follow the guide at https://www.tensorflow.org/install/gpu for how to download and setup the required libraries for your platform.\n",
      "Skipping registering GPU devices...\n",
      "2023-06-10 16:19:38.030298: I tensorflow/compiler/mlir/mlir_graph_optimization_pass.cc:353] MLIR V1 optimization pass is not enabled\n"
     ]
    }
   ],
   "source": [
    "# tf.reset_default_graph()\n",
    "# saucie = SAUCIE.SAUCIE(x.shape[1])\n",
    "# loadtrain = SAUCIE.Loader(x, shuffle=True)\n",
    "# saucie.train(loadtrain, steps=1000)\n",
    "\n",
    "# loadeval = SAUCIE.Loader(x, shuffle=False)\n",
    "# embedding = saucie.get_embedding(loadeval)\n",
    "# number_of_clusters, clusters = saucie.get_clusters(loadeval)\n",
    "# rec_x = saucie.get_reconstruction(loadeval)\n",
    "\n",
    "tf.reset_default_graph()\n",
    "saucie = SAUCIE.SAUCIE(y.shape[1])\n",
    "loadtrain = SAUCIE.Loader(y, shuffle=True)\n",
    "saucie.train(loadtrain, steps=1000)\n",
    "\n",
    "loadeval = SAUCIE.Loader(y, shuffle=False)\n",
    "# embedding = saucie.get_embedding(loadeval)\n",
    "# number_of_clusters, clusters = saucie.get_clusters(loadeval)\n",
    "rec_y = saucie.get_reconstruction(loadeval)"
   ]
  },
  {
   "cell_type": "code",
   "execution_count": 11,
   "id": "b4a2720f",
   "metadata": {},
   "outputs": [],
   "source": [
    "np.save('yhat_saucie',rec_y)"
   ]
  },
  {
   "cell_type": "code",
   "execution_count": null,
   "id": "70115ea0-e5ee-4628-a6dd-c8d35906b54b",
   "metadata": {},
   "outputs": [],
   "source": []
  }
 ],
 "metadata": {
  "kernelspec": {
   "display_name": "Python 3 (ipykernel)",
   "language": "python",
   "name": "python3"
  },
  "language_info": {
   "codemirror_mode": {
    "name": "ipython",
    "version": 3
   },
   "file_extension": ".py",
   "mimetype": "text/x-python",
   "name": "python",
   "nbconvert_exporter": "python",
   "pygments_lexer": "ipython3",
   "version": "3.10.0"
  }
 },
 "nbformat": 4,
 "nbformat_minor": 5
}
