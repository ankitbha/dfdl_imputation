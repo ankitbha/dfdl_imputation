{
 "cells": [
  {
   "cell_type": "code",
   "execution_count": 1,
   "id": "bd688d25-3b54-468b-837c-d00fc61b7c9e",
   "metadata": {},
   "outputs": [],
   "source": [
    "import numpy as np"
   ]
  },
  {
   "cell_type": "code",
   "execution_count": 2,
   "id": "56ad9fa3-834a-481e-89d7-8456fe6eacde",
   "metadata": {},
   "outputs": [],
   "source": [
    "x = np.transpose(np.load('../SERGIO/imputation_data/DS6_clean.npy'))"
   ]
  },
  {
   "cell_type": "code",
   "execution_count": 3,
   "id": "b5145ff3-9301-48c5-9706-40c658208ca3",
   "metadata": {},
   "outputs": [],
   "source": [
    "y = np.transpose(np.load('../SERGIO/imputation_data/DS6_45.npy'))"
   ]
  },
  {
   "cell_type": "code",
   "execution_count": 4,
   "id": "3310613c-02a3-434c-860e-6ce35020fdf6",
   "metadata": {},
   "outputs": [],
   "source": [
    "y_hat = np.load('../SAUCIE/yhat_saucie.npy')"
   ]
  },
  {
   "cell_type": "code",
   "execution_count": 5,
   "id": "9e86b7e5-ceb2-44ce-8a3a-504d2be9254a",
   "metadata": {},
   "outputs": [],
   "source": [
    "def r_square(y, y_hat):\n",
    "    y = y.flatten()\n",
    "    y_hat = y_hat.flatten()\n",
    "    num = np.sum(np.power((y-y_hat),2))\n",
    "    den = np.sum(np.power((y-np.mean(y)),2))\n",
    "    return(1-(num/den))"
   ]
  },
  {
   "cell_type": "code",
   "execution_count": 6,
   "id": "083afde8-7550-48b2-8c7e-fc3c3318f8fc",
   "metadata": {},
   "outputs": [
    {
     "data": {
      "text/plain": [
       "-1.3062451534962278"
      ]
     },
     "execution_count": 6,
     "metadata": {},
     "output_type": "execute_result"
    }
   ],
   "source": [
    "r_square(x,y_hat)"
   ]
  },
  {
   "cell_type": "code",
   "execution_count": null,
   "id": "1f71500c-62cd-45e7-803d-cb3fac462fe5",
   "metadata": {},
   "outputs": [],
   "source": []
  }
 ],
 "metadata": {
  "kernelspec": {
   "display_name": "Python 3 (ipykernel)",
   "language": "python",
   "name": "python3"
  },
  "language_info": {
   "codemirror_mode": {
    "name": "ipython",
    "version": 3
   },
   "file_extension": ".py",
   "mimetype": "text/x-python",
   "name": "python",
   "nbconvert_exporter": "python",
   "pygments_lexer": "ipython3",
   "version": "3.10.0"
  }
 },
 "nbformat": 4,
 "nbformat_minor": 5
}
