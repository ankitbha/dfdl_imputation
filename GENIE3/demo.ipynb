{
 "cells": [
  {
   "cell_type": "code",
   "execution_count": 1,
   "id": "f21be93b-d5fb-412c-957e-513de8793820",
   "metadata": {},
   "outputs": [],
   "source": [
    "from GENIE3 import *"
   ]
  },
  {
   "cell_type": "code",
   "execution_count": 2,
   "id": "f15000be-3d76-48be-969e-f67d5d31ab7c",
   "metadata": {},
   "outputs": [],
   "source": [
    "data = loadtxt('data.txt',skiprows=1)\n",
    "f = open('data.txt')\n",
    "gene_names = f.readline()\n",
    "f.close()\n",
    "gene_names = gene_names.rstrip('\\n').split('\\t')"
   ]
  },
  {
   "cell_type": "code",
   "execution_count": 3,
   "id": "3892096b-ba5d-4677-843f-fb26e29ab012",
   "metadata": {},
   "outputs": [
    {
     "name": "stdout",
     "output_type": "stream",
     "text": [
      "Tree method: RF\n",
      "K: sqrt\n",
      "Number of trees: 1000\n",
      "\n",
      "\n",
      "running single threaded jobs\n",
      "Gene 1/10...\n",
      "Gene 2/10...\n",
      "Gene 3/10...\n",
      "Gene 4/10...\n",
      "Gene 5/10...\n",
      "Gene 6/10...\n",
      "Gene 7/10...\n",
      "Gene 8/10...\n",
      "Gene 9/10...\n",
      "Gene 10/10...\n",
      "Elapsed time: 9.69 seconds\n"
     ]
    }
   ],
   "source": [
    "VIM = GENIE3(data)"
   ]
  },
  {
   "cell_type": "code",
   "execution_count": 4,
   "id": "5f5f1fbc-5113-40a6-ac18-d7487d60ed8f",
   "metadata": {},
   "outputs": [
    {
     "name": "stdout",
     "output_type": "stream",
     "text": [
      "XRCC2\tTBX3\t0.519495\n",
      "TBX3\tXRCC2\t0.516715\n",
      "CD93\tCREB5\t0.385981\n",
      "CREB5\tCD93\t0.347717\n",
      "CD19\tRAD51\t0.299867\n",
      "GATA5\tCREB5\t0.260749\n",
      "CD19\tOSR2\t0.240470\n",
      "GATA5\tCD93\t0.216605\n",
      "XRCC2\tCD19\t0.214385\n",
      "OSR2\tCD19\t0.213024\n",
      "OSR2\tCDH17\t0.205809\n",
      "RAD51\tCD19\t0.196736\n",
      "CDH17\tZNF394\t0.191546\n",
      "ZNF394\tCDH17\t0.191347\n",
      "CD93\tGATA5\t0.190874\n",
      "OSR2\tGATA5\t0.174184\n",
      "CREB5\tGATA5\t0.168013\n",
      "ZNF394\tOSR2\t0.159406\n",
      "CDH17\tRAD51\t0.152802\n",
      "OSR2\tZNF394\t0.149119\n",
      "XRCC2\tRAD51\t0.130402\n",
      "CD19\tZNF394\t0.129500\n",
      "CDH17\tOSR2\t0.128624\n",
      "TBX3\tGATA5\t0.128371\n",
      "GATA5\tTBX3\t0.126152\n",
      "XRCC2\tCDH17\t0.123778\n",
      "GATA5\tXRCC2\t0.116537\n",
      "TBX3\tCDH17\t0.106471\n",
      "XRCC2\tGATA5\t0.104383\n",
      "TBX3\tZNF394\t0.101408\n",
      "RAD51\tCDH17\t0.098323\n",
      "ZNF394\tRAD51\t0.095637\n",
      "GATA5\tOSR2\t0.094945\n",
      "GATA5\tZNF394\t0.094087\n",
      "XRCC2\tCD93\t0.093464\n",
      "CD19\tCDH17\t0.092415\n",
      "TBX3\tOSR2\t0.091202\n",
      "CREB5\tZNF394\t0.090363\n",
      "XRCC2\tZNF394\t0.086931\n",
      "XRCC2\tOSR2\t0.085132\n",
      "OSR2\tRAD51\t0.084856\n",
      "OSR2\tCREB5\t0.083564\n",
      "CD93\tZNF394\t0.078518\n",
      "ZNF394\tGATA5\t0.075964\n",
      "CREB5\tXRCC2\t0.075199\n",
      "ZNF394\tCD19\t0.074778\n",
      "CREB5\tTBX3\t0.073560\n",
      "OSR2\tCD93\t0.072423\n",
      "TBX3\tRAD51\t0.072038\n",
      "GATA5\tCD19\t0.071444\n",
      "RAD51\tZNF394\t0.069803\n",
      "TBX3\tCREB5\t0.069487\n",
      "CREB5\tOSR2\t0.068781\n",
      "CREB5\tCD19\t0.067189\n",
      "CDH17\tCD19\t0.066549\n",
      "CD93\tOSR2\t0.066273\n",
      "TBX3\tCD93\t0.065412\n",
      "CDH17\tXRCC2\t0.063609\n",
      "RAD51\tOSR2\t0.062936\n",
      "CD93\tCDH17\t0.060998\n",
      "OSR2\tXRCC2\t0.060339\n",
      "XRCC2\tCREB5\t0.059437\n",
      "CDH17\tCD93\t0.058304\n",
      "CREB5\tCDH17\t0.057646\n",
      "CD19\tGATA5\t0.056252\n",
      "CD93\tRAD51\t0.055827\n",
      "CREB5\tRAD51\t0.055076\n",
      "RAD51\tGATA5\t0.054948\n",
      "CDH17\tTBX3\t0.054649\n",
      "ZNF394\tCD93\t0.053636\n",
      "TBX3\tCD19\t0.052681\n",
      "CD93\tXRCC2\t0.052437\n",
      "GATA5\tRAD51\t0.050660\n",
      "CD19\tCREB5\t0.050290\n",
      "GATA5\tCDH17\t0.049859\n",
      "OSR2\tTBX3\t0.049675\n",
      "CD93\tCD19\t0.048119\n",
      "CD19\tCD93\t0.047518\n",
      "ZNF394\tTBX3\t0.046452\n",
      "CD19\tTBX3\t0.045982\n",
      "RAD51\tCD93\t0.045471\n",
      "RAD51\tTBX3\t0.045071\n",
      "CD19\tXRCC2\t0.039641\n",
      "CDH17\tGATA5\t0.038617\n",
      "CD93\tTBX3\t0.037896\n",
      "RAD51\tXRCC2\t0.035780\n",
      "RAD51\tCREB5\t0.034941\n",
      "ZNF394\tXRCC2\t0.033539\n",
      "CDH17\tCREB5\t0.028225\n",
      "ZNF394\tCREB5\t0.026430\n"
     ]
    }
   ],
   "source": [
    "get_link_list(VIM,gene_names=gene_names)"
   ]
  },
  {
   "cell_type": "code",
   "execution_count": null,
   "id": "ab9960f6-e7a0-4c68-92f8-992b4f9c3bf8",
   "metadata": {},
   "outputs": [],
   "source": []
  }
 ],
 "metadata": {
  "kernelspec": {
   "display_name": "Python 3 (ipykernel)",
   "language": "python",
   "name": "python3"
  },
  "language_info": {
   "codemirror_mode": {
    "name": "ipython",
    "version": 3
   },
   "file_extension": ".py",
   "mimetype": "text/x-python",
   "name": "python",
   "nbconvert_exporter": "python",
   "pygments_lexer": "ipython3",
   "version": "3.10.0"
  }
 },
 "nbformat": 4,
 "nbformat_minor": 5
}
