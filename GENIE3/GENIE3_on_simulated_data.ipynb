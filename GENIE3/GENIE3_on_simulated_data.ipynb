{
 "cells": [
  {
   "cell_type": "code",
   "execution_count": 1,
   "id": "ff66c76c-1f6f-49a1-a2bd-f6d7d11cc06e",
   "metadata": {},
   "outputs": [],
   "source": [
    "from GENIE3 import *"
   ]
  },
  {
   "cell_type": "code",
   "execution_count": 2,
   "id": "b1bfbe03-fe39-4c58-8123-d36ae73d9db9",
   "metadata": {},
   "outputs": [],
   "source": [
    "import sys\n",
    "sys.path.append('/scratch/ab9738/dfdl_imputation/')\n",
    "import numpy as np\n",
    "import matplotlib.pyplot as plt\n",
    "# import SAUCIE\n",
    "# import tensorflow.compat.v1 as tf\n",
    "# tf.disable_v2_behavior()\n",
    "from tqdm import tqdm"
   ]
  },
  {
   "cell_type": "code",
   "execution_count": 3,
   "id": "f32223a2-a6fb-42be-bece-8ca4ef83ac48",
   "metadata": {},
   "outputs": [],
   "source": [
    "y = np.transpose(np.load('../SERGIO/imputation_data/DS6_45.npy'))"
   ]
  },
  {
   "cell_type": "code",
   "execution_count": 4,
   "id": "86ecfc41-ac2e-4c3c-b626-fef9ec683540",
   "metadata": {},
   "outputs": [],
   "source": [
    "x = np.transpose(np.load('../SERGIO/imputation_data/DS6_clean.npy'))"
   ]
  },
  {
   "cell_type": "code",
   "execution_count": 5,
   "id": "bad50910-0bfb-47dd-aa7b-f7f83aff3c26",
   "metadata": {},
   "outputs": [],
   "source": [
    "y_hat_saucie = np.load('../SAUCIE/yhat_saucie.npy')"
   ]
  },
  {
   "cell_type": "code",
   "execution_count": 6,
   "id": "874615a9-ce03-4269-8189-cd2c7df15725",
   "metadata": {},
   "outputs": [],
   "source": [
    "target_file = '/scratch/ab9738/dfdl_imputation/SERGIO/data_sets/De-noised_1200G_9T_300cPerT_6_DS3/Interaction_cID_6.txt'"
   ]
  },
  {
   "cell_type": "code",
   "execution_count": 7,
   "id": "21ce606b-b38c-4bd8-9380-ad6ef7b027e0",
   "metadata": {},
   "outputs": [
    {
     "name": "stdout",
     "output_type": "stream",
     "text": [
      "Tree method: RF\n",
      "K: sqrt\n",
      "Number of trees: 100\n",
      "\n",
      "\n",
      "running jobs on 12 threads\n",
      "Elapsed time: 508.47 seconds\n"
     ]
    }
   ],
   "source": [
    "VIM = GENIE3(y_hat_saucie,nthreads=12,ntrees=100)"
   ]
  },
  {
   "cell_type": "code",
   "execution_count": 8,
   "id": "9c8927ac-13f4-4ba6-b4a9-1981d007ee89",
   "metadata": {},
   "outputs": [],
   "source": [
    "gt = np.zeros_like(VIM)"
   ]
  },
  {
   "cell_type": "code",
   "execution_count": 9,
   "id": "e09a95f8-d00d-44c8-ae89-2ebe9751efed",
   "metadata": {},
   "outputs": [
    {
     "name": "stderr",
     "output_type": "stream",
     "text": [
      "100%|██████████| 1133/1133 [00:00<00:00, 441485.18it/s]\n"
     ]
    }
   ],
   "source": [
    "f = open(target_file,'r')\n",
    "Lines = f.readlines()\n",
    "f.close()\n",
    "for j in tqdm(range(len(Lines))):\n",
    "    line = Lines[j]\n",
    "    line_list = line.split(',')\n",
    "    target_index = int(float(line_list[0]))\n",
    "    num_regs = int(float(line_list[1]))\n",
    "    for i in range(num_regs):\n",
    "        reg_index = int(float(line_list[i+2]))\n",
    "        gt[reg_index,target_index] = 1     "
   ]
  },
  {
   "cell_type": "code",
   "execution_count": 10,
   "id": "317a1515-9305-4607-92b1-2560f42e0652",
   "metadata": {},
   "outputs": [],
   "source": [
    "from sklearn.metrics import roc_auc_score"
   ]
  },
  {
   "cell_type": "code",
   "execution_count": 11,
   "id": "a1b202f6-1a9d-4956-826c-769f65f8b4a3",
   "metadata": {},
   "outputs": [
    {
     "data": {
      "text/plain": [
       "0.45691660313544447"
      ]
     },
     "execution_count": 11,
     "metadata": {},
     "output_type": "execute_result"
    }
   ],
   "source": [
    "roc_auc_score(gt.flatten(),VIM.flatten())"
   ]
  },
  {
   "cell_type": "code",
   "execution_count": 12,
   "id": "8c8b9f22-1794-4eb1-a624-6d8154e39209",
   "metadata": {},
   "outputs": [],
   "source": [
    "y_hat_scscope = np.load('../scScope/yhat_scScope.npy')"
   ]
  },
  {
   "cell_type": "code",
   "execution_count": 13,
   "id": "e1f5785c-69d1-45bd-a743-4e9e5502bf29",
   "metadata": {
    "scrolled": true
   },
   "outputs": [
    {
     "name": "stdout",
     "output_type": "stream",
     "text": [
      "Tree method: RF\n",
      "K: sqrt\n",
      "Number of trees: 100\n",
      "\n",
      "\n",
      "running jobs on 12 threads\n"
     ]
    },
    {
     "name": "stderr",
     "output_type": "stream",
     "text": [
      "/scratch/ab9738/dfdl_imputation/GENIE3/GENIE3.py:309: RuntimeWarning: invalid value encountered in true_divide\n",
      "  output = output / std(output)\n",
      "/scratch/ab9738/dfdl_imputation/GENIE3/GENIE3.py:309: RuntimeWarning: invalid value encountered in true_divide\n",
      "  output = output / std(output)\n",
      "/scratch/ab9738/dfdl_imputation/GENIE3/GENIE3.py:309: RuntimeWarning: invalid value encountered in true_divide\n",
      "  output = output / std(output)\n",
      "/scratch/ab9738/dfdl_imputation/GENIE3/GENIE3.py:309: RuntimeWarning: invalid value encountered in true_divide\n",
      "  output = output / std(output)\n",
      "/scratch/ab9738/dfdl_imputation/GENIE3/GENIE3.py:309: RuntimeWarning: invalid value encountered in true_divide\n",
      "  output = output / std(output)\n",
      "/scratch/ab9738/dfdl_imputation/GENIE3/GENIE3.py:309: RuntimeWarning: invalid value encountered in true_divide\n",
      "  output = output / std(output)\n",
      "/scratch/ab9738/dfdl_imputation/GENIE3/GENIE3.py:309: RuntimeWarning: invalid value encountered in true_divide\n",
      "  output = output / std(output)\n",
      "/scratch/ab9738/dfdl_imputation/GENIE3/GENIE3.py:309: RuntimeWarning: invalid value encountered in true_divide\n",
      "  output = output / std(output)\n",
      "/scratch/ab9738/dfdl_imputation/GENIE3/GENIE3.py:309: RuntimeWarning: invalid value encountered in true_divide\n",
      "  output = output / std(output)\n",
      "/scratch/ab9738/dfdl_imputation/GENIE3/GENIE3.py:309: RuntimeWarning: invalid value encountered in true_divide\n",
      "  output = output / std(output)\n",
      "/scratch/ab9738/dfdl_imputation/GENIE3/GENIE3.py:309: RuntimeWarning: invalid value encountered in true_divide\n",
      "  output = output / std(output)\n",
      "/scratch/ab9738/dfdl_imputation/GENIE3/GENIE3.py:309: RuntimeWarning: invalid value encountered in true_divide\n",
      "  output = output / std(output)\n",
      "/scratch/ab9738/dfdl_imputation/GENIE3/GENIE3.py:309: RuntimeWarning: invalid value encountered in true_divide\n",
      "  output = output / std(output)\n",
      "/scratch/ab9738/dfdl_imputation/GENIE3/GENIE3.py:309: RuntimeWarning: invalid value encountered in true_divide\n",
      "  output = output / std(output)\n",
      "/scratch/ab9738/dfdl_imputation/GENIE3/GENIE3.py:309: RuntimeWarning: invalid value encountered in true_divide\n",
      "  output = output / std(output)\n",
      "/scratch/ab9738/dfdl_imputation/GENIE3/GENIE3.py:309: RuntimeWarning: invalid value encountered in true_divide\n",
      "  output = output / std(output)\n",
      "/scratch/ab9738/dfdl_imputation/GENIE3/GENIE3.py:309: RuntimeWarning: invalid value encountered in true_divide\n",
      "  output = output / std(output)\n",
      "/scratch/ab9738/dfdl_imputation/GENIE3/GENIE3.py:309: RuntimeWarning: invalid value encountered in true_divide\n",
      "  output = output / std(output)\n",
      "/scratch/ab9738/dfdl_imputation/GENIE3/GENIE3.py:309: RuntimeWarning: invalid value encountered in true_divide\n",
      "  output = output / std(output)\n",
      "/scratch/ab9738/dfdl_imputation/GENIE3/GENIE3.py:309: RuntimeWarning: invalid value encountered in true_divide\n",
      "  output = output / std(output)\n",
      "/scratch/ab9738/dfdl_imputation/GENIE3/GENIE3.py:309: RuntimeWarning: invalid value encountered in true_divide\n",
      "  output = output / std(output)\n",
      "/scratch/ab9738/dfdl_imputation/GENIE3/GENIE3.py:309: RuntimeWarning: invalid value encountered in true_divide\n",
      "  output = output / std(output)\n",
      "/scratch/ab9738/dfdl_imputation/GENIE3/GENIE3.py:309: RuntimeWarning: invalid value encountered in true_divide\n",
      "  output = output / std(output)\n",
      "/scratch/ab9738/dfdl_imputation/GENIE3/GENIE3.py:309: RuntimeWarning: invalid value encountered in true_divide\n",
      "  output = output / std(output)\n",
      "/scratch/ab9738/dfdl_imputation/GENIE3/GENIE3.py:309: RuntimeWarning: invalid value encountered in true_divide\n",
      "  output = output / std(output)\n",
      "/scratch/ab9738/dfdl_imputation/GENIE3/GENIE3.py:309: RuntimeWarning: invalid value encountered in true_divide\n",
      "  output = output / std(output)\n",
      "/scratch/ab9738/dfdl_imputation/GENIE3/GENIE3.py:309: RuntimeWarning: invalid value encountered in true_divide\n",
      "  output = output / std(output)\n",
      "/scratch/ab9738/dfdl_imputation/GENIE3/GENIE3.py:309: RuntimeWarning: invalid value encountered in true_divide\n",
      "  output = output / std(output)\n",
      "/scratch/ab9738/dfdl_imputation/GENIE3/GENIE3.py:309: RuntimeWarning: invalid value encountered in true_divide\n",
      "  output = output / std(output)\n",
      "/scratch/ab9738/dfdl_imputation/GENIE3/GENIE3.py:309: RuntimeWarning: invalid value encountered in true_divide\n",
      "  output = output / std(output)\n",
      "/scratch/ab9738/dfdl_imputation/GENIE3/GENIE3.py:309: RuntimeWarning: invalid value encountered in true_divide\n",
      "  output = output / std(output)\n",
      "/scratch/ab9738/dfdl_imputation/GENIE3/GENIE3.py:309: RuntimeWarning: invalid value encountered in true_divide\n",
      "  output = output / std(output)\n",
      "/scratch/ab9738/dfdl_imputation/GENIE3/GENIE3.py:309: RuntimeWarning: invalid value encountered in true_divide\n",
      "  output = output / std(output)\n",
      "/scratch/ab9738/dfdl_imputation/GENIE3/GENIE3.py:309: RuntimeWarning: invalid value encountered in true_divide\n",
      "  output = output / std(output)\n",
      "/scratch/ab9738/dfdl_imputation/GENIE3/GENIE3.py:309: RuntimeWarning: invalid value encountered in true_divide\n",
      "  output = output / std(output)\n",
      "/scratch/ab9738/dfdl_imputation/GENIE3/GENIE3.py:309: RuntimeWarning: invalid value encountered in true_divide\n",
      "  output = output / std(output)\n",
      "/scratch/ab9738/dfdl_imputation/GENIE3/GENIE3.py:309: RuntimeWarning: invalid value encountered in true_divide\n",
      "  output = output / std(output)\n",
      "/scratch/ab9738/dfdl_imputation/GENIE3/GENIE3.py:309: RuntimeWarning: invalid value encountered in true_divide\n",
      "  output = output / std(output)\n",
      "/scratch/ab9738/dfdl_imputation/GENIE3/GENIE3.py:309: RuntimeWarning: invalid value encountered in true_divide\n",
      "  output = output / std(output)\n",
      "/scratch/ab9738/dfdl_imputation/GENIE3/GENIE3.py:309: RuntimeWarning: invalid value encountered in true_divide\n",
      "  output = output / std(output)\n",
      "/scratch/ab9738/dfdl_imputation/GENIE3/GENIE3.py:309: RuntimeWarning: invalid value encountered in true_divide\n",
      "  output = output / std(output)\n",
      "/scratch/ab9738/dfdl_imputation/GENIE3/GENIE3.py:309: RuntimeWarning: invalid value encountered in true_divide\n",
      "  output = output / std(output)\n",
      "/scratch/ab9738/dfdl_imputation/GENIE3/GENIE3.py:309: RuntimeWarning: invalid value encountered in true_divide\n",
      "  output = output / std(output)\n",
      "/scratch/ab9738/dfdl_imputation/GENIE3/GENIE3.py:309: RuntimeWarning: invalid value encountered in true_divide\n",
      "  output = output / std(output)\n",
      "/scratch/ab9738/dfdl_imputation/GENIE3/GENIE3.py:309: RuntimeWarning: invalid value encountered in true_divide\n",
      "  output = output / std(output)\n",
      "/scratch/ab9738/dfdl_imputation/GENIE3/GENIE3.py:309: RuntimeWarning: invalid value encountered in true_divide\n",
      "  output = output / std(output)\n"
     ]
    },
    {
     "ename": "ValueError",
     "evalue": "Input contains NaN, infinity or a value too large for dtype('float32').",
     "output_type": "error",
     "traceback": [
      "\u001b[0;31m---------------------------------------------------------------------------\u001b[0m",
      "\u001b[0;31mRemoteTraceback\u001b[0m                           Traceback (most recent call last)",
      "\u001b[0;31mRemoteTraceback\u001b[0m: \n\"\"\"\nTraceback (most recent call last):\n  File \"/scratch/ab9738/cctv_pollution/env/lib/python3.10/multiprocessing/pool.py\", line 125, in worker\n    result = (True, func(*args, **kwds))\n  File \"/scratch/ab9738/cctv_pollution/env/lib/python3.10/multiprocessing/pool.py\", line 48, in mapstar\n    return list(map(*args))\n  File \"/scratch/ab9738/dfdl_imputation/GENIE3/GENIE3.py\", line 297, in wr_GENIE3_single\n    return([args[1], GENIE3_single(args[0], args[1], args[2], args[3], args[4], args[5])])\n  File \"/scratch/ab9738/dfdl_imputation/GENIE3/GENIE3.py\", line 330, in GENIE3_single\n    treeEstimator.fit(expr_data_input,output)\n  File \"/scratch/ab9738/cctv_pollution/env/lib/python3.10/site-packages/sklearn/ensemble/_forest.py\", line 327, in fit\n    X, y = self._validate_data(\n  File \"/scratch/ab9738/cctv_pollution/env/lib/python3.10/site-packages/sklearn/base.py\", line 581, in _validate_data\n    X, y = check_X_y(X, y, **check_params)\n  File \"/scratch/ab9738/cctv_pollution/env/lib/python3.10/site-packages/sklearn/utils/validation.py\", line 979, in check_X_y\n    y = _check_y(y, multi_output=multi_output, y_numeric=y_numeric)\n  File \"/scratch/ab9738/cctv_pollution/env/lib/python3.10/site-packages/sklearn/utils/validation.py\", line 989, in _check_y\n    y = check_array(\n  File \"/scratch/ab9738/cctv_pollution/env/lib/python3.10/site-packages/sklearn/utils/validation.py\", line 800, in check_array\n    _assert_all_finite(array, allow_nan=force_all_finite == \"allow-nan\")\n  File \"/scratch/ab9738/cctv_pollution/env/lib/python3.10/site-packages/sklearn/utils/validation.py\", line 114, in _assert_all_finite\n    raise ValueError(\nValueError: Input contains NaN, infinity or a value too large for dtype('float32').\n\"\"\"",
      "\nThe above exception was the direct cause of the following exception:\n",
      "\u001b[0;31mValueError\u001b[0m                                Traceback (most recent call last)",
      "Input \u001b[0;32mIn [13]\u001b[0m, in \u001b[0;36m<cell line: 1>\u001b[0;34m()\u001b[0m\n\u001b[0;32m----> 1\u001b[0m VIM \u001b[38;5;241m=\u001b[39m \u001b[43mGENIE3\u001b[49m\u001b[43m(\u001b[49m\u001b[43my_hat_scscope\u001b[49m\u001b[43m,\u001b[49m\u001b[43mnthreads\u001b[49m\u001b[38;5;241;43m=\u001b[39;49m\u001b[38;5;241;43m12\u001b[39;49m\u001b[43m,\u001b[49m\u001b[43mntrees\u001b[49m\u001b[38;5;241;43m=\u001b[39;49m\u001b[38;5;241;43m100\u001b[39;49m\u001b[43m)\u001b[49m\n",
      "File \u001b[0;32m/scratch/ab9738/dfdl_imputation/GENIE3/GENIE3.py:273\u001b[0m, in \u001b[0;36mGENIE3\u001b[0;34m(expr_data, gene_names, regulators, tree_method, K, ntrees, nthreads)\u001b[0m\n\u001b[1;32m    270\u001b[0m     input_data\u001b[38;5;241m.\u001b[39mappend( [expr_data,i,input_idx,tree_method,K,ntrees] )\n\u001b[1;32m    272\u001b[0m pool \u001b[38;5;241m=\u001b[39m Pool(nthreads)\n\u001b[0;32m--> 273\u001b[0m alloutput \u001b[38;5;241m=\u001b[39m \u001b[43mpool\u001b[49m\u001b[38;5;241;43m.\u001b[39;49m\u001b[43mmap\u001b[49m\u001b[43m(\u001b[49m\u001b[43mwr_GENIE3_single\u001b[49m\u001b[43m,\u001b[49m\u001b[43m \u001b[49m\u001b[43minput_data\u001b[49m\u001b[43m)\u001b[49m\n\u001b[1;32m    275\u001b[0m \u001b[38;5;28;01mfor\u001b[39;00m (i,vi) \u001b[38;5;129;01min\u001b[39;00m alloutput:\n\u001b[1;32m    276\u001b[0m     VIM[i,:] \u001b[38;5;241m=\u001b[39m vi\n",
      "File \u001b[0;32m/scratch/ab9738/cctv_pollution/env/lib/python3.10/multiprocessing/pool.py:364\u001b[0m, in \u001b[0;36mPool.map\u001b[0;34m(self, func, iterable, chunksize)\u001b[0m\n\u001b[1;32m    359\u001b[0m \u001b[38;5;28;01mdef\u001b[39;00m \u001b[38;5;21mmap\u001b[39m(\u001b[38;5;28mself\u001b[39m, func, iterable, chunksize\u001b[38;5;241m=\u001b[39m\u001b[38;5;28;01mNone\u001b[39;00m):\n\u001b[1;32m    360\u001b[0m     \u001b[38;5;124;03m'''\u001b[39;00m\n\u001b[1;32m    361\u001b[0m \u001b[38;5;124;03m    Apply `func` to each element in `iterable`, collecting the results\u001b[39;00m\n\u001b[1;32m    362\u001b[0m \u001b[38;5;124;03m    in a list that is returned.\u001b[39;00m\n\u001b[1;32m    363\u001b[0m \u001b[38;5;124;03m    '''\u001b[39;00m\n\u001b[0;32m--> 364\u001b[0m     \u001b[38;5;28;01mreturn\u001b[39;00m \u001b[38;5;28;43mself\u001b[39;49m\u001b[38;5;241;43m.\u001b[39;49m\u001b[43m_map_async\u001b[49m\u001b[43m(\u001b[49m\u001b[43mfunc\u001b[49m\u001b[43m,\u001b[49m\u001b[43m \u001b[49m\u001b[43miterable\u001b[49m\u001b[43m,\u001b[49m\u001b[43m \u001b[49m\u001b[43mmapstar\u001b[49m\u001b[43m,\u001b[49m\u001b[43m \u001b[49m\u001b[43mchunksize\u001b[49m\u001b[43m)\u001b[49m\u001b[38;5;241;43m.\u001b[39;49m\u001b[43mget\u001b[49m\u001b[43m(\u001b[49m\u001b[43m)\u001b[49m\n",
      "File \u001b[0;32m/scratch/ab9738/cctv_pollution/env/lib/python3.10/multiprocessing/pool.py:771\u001b[0m, in \u001b[0;36mApplyResult.get\u001b[0;34m(self, timeout)\u001b[0m\n\u001b[1;32m    769\u001b[0m     \u001b[38;5;28;01mreturn\u001b[39;00m \u001b[38;5;28mself\u001b[39m\u001b[38;5;241m.\u001b[39m_value\n\u001b[1;32m    770\u001b[0m \u001b[38;5;28;01melse\u001b[39;00m:\n\u001b[0;32m--> 771\u001b[0m     \u001b[38;5;28;01mraise\u001b[39;00m \u001b[38;5;28mself\u001b[39m\u001b[38;5;241m.\u001b[39m_value\n",
      "\u001b[0;31mValueError\u001b[0m: Input contains NaN, infinity or a value too large for dtype('float32')."
     ]
    }
   ],
   "source": [
    "VIM = GENIE3(y_hat_scscope,nthreads=12,ntrees=100)"
   ]
  },
  {
   "cell_type": "code",
   "execution_count": null,
   "id": "bda009c7",
   "metadata": {},
   "outputs": [],
   "source": [
    "roc_auc_score(gt.flatten(),VIM.flatten())"
   ]
  },
  {
   "cell_type": "code",
   "execution_count": 14,
   "id": "e54c3d4e",
   "metadata": {},
   "outputs": [
    {
     "name": "stdout",
     "output_type": "stream",
     "text": [
      "Tree method: RF\n",
      "K: sqrt\n",
      "Number of trees: 100\n",
      "\n",
      "\n",
      "running jobs on 12 threads\n",
      "Elapsed time: 547.44 seconds\n"
     ]
    }
   ],
   "source": [
    "VIM = GENIE3(x,nthreads=12,ntrees=100)"
   ]
  },
  {
   "cell_type": "code",
   "execution_count": 15,
   "id": "65b9e840",
   "metadata": {},
   "outputs": [
    {
     "data": {
      "text/plain": [
       "0.8069701227309033"
      ]
     },
     "execution_count": 15,
     "metadata": {},
     "output_type": "execute_result"
    }
   ],
   "source": [
    "roc_auc_score(gt.flatten(),VIM.flatten())"
   ]
  },
  {
   "cell_type": "code",
   "execution_count": 16,
   "id": "3aa78b90",
   "metadata": {},
   "outputs": [
    {
     "name": "stdout",
     "output_type": "stream",
     "text": [
      "Tree method: RF\n",
      "K: sqrt\n",
      "Number of trees: 100\n",
      "\n",
      "\n",
      "running jobs on 12 threads\n",
      "Elapsed time: 70.27 seconds\n"
     ]
    }
   ],
   "source": [
    "VIM = GENIE3(y,nthreads=12,ntrees=100)"
   ]
  },
  {
   "cell_type": "code",
   "execution_count": 17,
   "id": "9c1c3b4b",
   "metadata": {},
   "outputs": [
    {
     "data": {
      "text/plain": [
       "0.43171537131810656"
      ]
     },
     "execution_count": 17,
     "metadata": {},
     "output_type": "execute_result"
    }
   ],
   "source": [
    "roc_auc_score(gt.flatten(),VIM.flatten())"
   ]
  },
  {
   "cell_type": "code",
   "execution_count": null,
   "id": "aacbb12d",
   "metadata": {},
   "outputs": [],
   "source": []
  }
 ],
 "metadata": {
  "kernelspec": {
   "display_name": "Python 3 (ipykernel)",
   "language": "python",
   "name": "python3"
  },
  "language_info": {
   "codemirror_mode": {
    "name": "ipython",
    "version": 3
   },
   "file_extension": ".py",
   "mimetype": "text/x-python",
   "name": "python",
   "nbconvert_exporter": "python",
   "pygments_lexer": "ipython3",
   "version": "3.10.0"
  }
 },
 "nbformat": 4,
 "nbformat_minor": 5
}
