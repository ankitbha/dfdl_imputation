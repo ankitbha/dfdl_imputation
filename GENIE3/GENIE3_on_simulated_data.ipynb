{
 "cells": [
  {
   "cell_type": "code",
   "execution_count": 2,
   "id": "ff66c76c-1f6f-49a1-a2bd-f6d7d11cc06e",
   "metadata": {},
   "outputs": [],
   "source": [
    "from GENIE3 import *"
   ]
  },
  {
   "cell_type": "code",
   "execution_count": 3,
   "id": "b1bfbe03-fe39-4c58-8123-d36ae73d9db9",
   "metadata": {},
   "outputs": [],
   "source": [
    "import sys\n",
    "sys.path.append('/scratch/ab9738/dfdl_imputation/')\n",
    "import numpy as np\n",
    "import matplotlib.pyplot as plt\n",
    "# import SAUCIE\n",
    "# import tensorflow.compat.v1 as tf\n",
    "# tf.disable_v2_behavior()\n",
    "from tqdm import tqdm"
   ]
  },
  {
   "cell_type": "code",
   "execution_count": 4,
   "id": "f32223a2-a6fb-42be-bece-8ca4ef83ac48",
   "metadata": {},
   "outputs": [],
   "source": [
    "y = np.transpose(np.load('../SERGIO/imputation_data/DS6_45.npy'))"
   ]
  },
  {
   "cell_type": "code",
   "execution_count": 5,
   "id": "86ecfc41-ac2e-4c3c-b626-fef9ec683540",
   "metadata": {},
   "outputs": [],
   "source": [
    "x = np.transpose(np.load('../SERGIO/imputation_data/DS6_clean.npy'))"
   ]
  },
  {
   "cell_type": "code",
   "execution_count": 6,
   "id": "bad50910-0bfb-47dd-aa7b-f7f83aff3c26",
   "metadata": {},
   "outputs": [],
   "source": [
    "y_hat_saucie = np.load('../SAUCIE/yhat_saucie.npy')"
   ]
  },
  {
   "cell_type": "code",
   "execution_count": 7,
   "id": "874615a9-ce03-4269-8189-cd2c7df15725",
   "metadata": {},
   "outputs": [],
   "source": [
    "target_file = '/scratch/ab9738/dfdl_imputation/SERGIO/data_sets/De-noised_1200G_9T_300cPerT_6_DS3/Interaction_cID_6.txt'"
   ]
  },
  {
   "cell_type": "code",
   "execution_count": 8,
   "id": "21ce606b-b38c-4bd8-9380-ad6ef7b027e0",
   "metadata": {},
   "outputs": [
    {
     "name": "stdout",
     "output_type": "stream",
     "text": [
      "Tree method: RF\n",
      "K: sqrt\n",
      "Number of trees: 100\n",
      "\n",
      "\n",
      "running jobs on 12 threads\n",
      "Elapsed time: 1720.72 seconds\n"
     ]
    }
   ],
   "source": [
    "VIM = GENIE3(y_hat_saucie,nthreads=12,ntrees=100)"
   ]
  },
  {
   "cell_type": "code",
   "execution_count": 9,
   "id": "9c8927ac-13f4-4ba6-b4a9-1981d007ee89",
   "metadata": {},
   "outputs": [],
   "source": [
    "gt = np.zeros_like(VIM)"
   ]
  },
  {
   "cell_type": "code",
   "execution_count": 10,
   "id": "e09a95f8-d00d-44c8-ae89-2ebe9751efed",
   "metadata": {},
   "outputs": [
    {
     "name": "stderr",
     "output_type": "stream",
     "text": [
      "100%|██████████| 1133/1133 [00:00<00:00, 355460.13it/s]\n"
     ]
    }
   ],
   "source": [
    "f = open(target_file,'r')\n",
    "Lines = f.readlines()\n",
    "f.close()\n",
    "for j in tqdm(range(len(Lines))):\n",
    "    line = Lines[j]\n",
    "    line_list = line.split(',')\n",
    "    target_index = int(float(line_list[0]))\n",
    "    num_regs = int(float(line_list[1]))\n",
    "    for i in range(num_regs):\n",
    "        reg_index = int(float(line_list[i+2]))\n",
    "        gt[reg_index,target_index] = 1     "
   ]
  },
  {
   "cell_type": "code",
   "execution_count": 11,
   "id": "317a1515-9305-4607-92b1-2560f42e0652",
   "metadata": {},
   "outputs": [],
   "source": [
    "from sklearn.metrics import roc_auc_score"
   ]
  },
  {
   "cell_type": "markdown",
   "id": "abbff9d2-d335-4b69-a929-494099548b55",
   "metadata": {},
   "source": [
    "Saucie imputed data performance"
   ]
  },
  {
   "cell_type": "code",
   "execution_count": 12,
   "id": "a1b202f6-1a9d-4956-826c-769f65f8b4a3",
   "metadata": {},
   "outputs": [
    {
     "data": {
      "text/plain": [
       "0.45108206691592534"
      ]
     },
     "execution_count": 12,
     "metadata": {},
     "output_type": "execute_result"
    }
   ],
   "source": [
    "roc_auc_score(gt.flatten(),VIM.flatten())"
   ]
  },
  {
   "cell_type": "code",
   "execution_count": 13,
   "id": "8c8b9f22-1794-4eb1-a624-6d8154e39209",
   "metadata": {},
   "outputs": [],
   "source": [
    "y_hat_scscope = np.load('../scScope/yhat_scScope.npy')"
   ]
  },
  {
   "cell_type": "code",
   "execution_count": null,
   "id": "e1f5785c-69d1-45bd-a743-4e9e5502bf29",
   "metadata": {
    "scrolled": true
   },
   "outputs": [],
   "source": [
    "VIM = GENIE3(y_hat_scscope,nthreads=12,ntrees=100)"
   ]
  },
  {
   "cell_type": "markdown",
   "id": "786280d4-63ee-4b70-b17f-e1c6cb30e300",
   "metadata": {},
   "source": [
    "scScope imputed data performance"
   ]
  },
  {
   "cell_type": "code",
   "execution_count": null,
   "id": "bda009c7",
   "metadata": {},
   "outputs": [],
   "source": [
    "roc_auc_score(gt.flatten(),VIM.flatten())"
   ]
  },
  {
   "cell_type": "code",
   "execution_count": null,
   "id": "e54c3d4e",
   "metadata": {},
   "outputs": [],
   "source": [
    "VIM = GENIE3(x,nthreads=12,ntrees=100)"
   ]
  },
  {
   "cell_type": "markdown",
   "id": "952c4f6b-683b-418e-b18a-f3099905cb3b",
   "metadata": {},
   "source": [
    "Clean data performance"
   ]
  },
  {
   "cell_type": "code",
   "execution_count": null,
   "id": "65b9e840",
   "metadata": {},
   "outputs": [],
   "source": [
    "roc_auc_score(gt.flatten(),VIM.flatten())"
   ]
  },
  {
   "cell_type": "code",
   "execution_count": null,
   "id": "3aa78b90",
   "metadata": {},
   "outputs": [],
   "source": [
    "VIM = GENIE3(y,nthreads=12,ntrees=100)"
   ]
  },
  {
   "cell_type": "markdown",
   "id": "0be512d6-f1df-48c9-abfc-57ea64cf3625",
   "metadata": {},
   "source": [
    "Noisy data performance"
   ]
  },
  {
   "cell_type": "code",
   "execution_count": null,
   "id": "9c1c3b4b",
   "metadata": {},
   "outputs": [],
   "source": [
    "roc_auc_score(gt.flatten(),VIM.flatten())"
   ]
  },
  {
   "cell_type": "markdown",
   "id": "b197c107-09a5-490d-9d49-4829b6c4d3b9",
   "metadata": {},
   "source": [
    "## DeepImpute"
   ]
  },
  {
   "cell_type": "code",
   "execution_count": 15,
   "id": "2abb3991-9680-40aa-a114-0b6c2f0c70af",
   "metadata": {},
   "outputs": [],
   "source": [
    "y_hat_deepimp = np.load('../deepimpute/yhat_deepimp.npy')"
   ]
  },
  {
   "cell_type": "code",
   "execution_count": 16,
   "id": "f7ea73c5-2092-4cc6-a261-c6e03c911458",
   "metadata": {},
   "outputs": [
    {
     "name": "stdout",
     "output_type": "stream",
     "text": [
      "Tree method: RF\n",
      "K: sqrt\n",
      "Number of trees: 100\n",
      "\n",
      "\n",
      "running jobs on 12 threads\n",
      "Elapsed time: 1583.02 seconds\n"
     ]
    }
   ],
   "source": [
    "VIM = GENIE3(y_hat_deepimp,nthreads=12,ntrees=100)"
   ]
  },
  {
   "cell_type": "code",
   "execution_count": 17,
   "id": "b1b5ff38-0579-4e29-8a30-371ad91e93e5",
   "metadata": {},
   "outputs": [
    {
     "data": {
      "text/plain": [
       "0.3212255030395271"
      ]
     },
     "execution_count": 17,
     "metadata": {},
     "output_type": "execute_result"
    }
   ],
   "source": [
    "roc_auc_score(gt.flatten(),VIM.flatten())"
   ]
  },
  {
   "cell_type": "code",
   "execution_count": null,
   "id": "abb7cd6a-c014-4c5f-b60f-7fcb3e7ce0b3",
   "metadata": {},
   "outputs": [],
   "source": []
  }
 ],
 "metadata": {
  "kernelspec": {
   "display_name": "Python 3 (ipykernel)",
   "language": "python",
   "name": "python3"
  },
  "language_info": {
   "codemirror_mode": {
    "name": "ipython",
    "version": 3
   },
   "file_extension": ".py",
   "mimetype": "text/x-python",
   "name": "python",
   "nbconvert_exporter": "python",
   "pygments_lexer": "ipython3",
   "version": "3.10.0"
  }
 },
 "nbformat": 4,
 "nbformat_minor": 5
}
