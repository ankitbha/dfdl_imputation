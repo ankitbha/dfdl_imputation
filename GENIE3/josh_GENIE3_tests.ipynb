{
 "cells": [
  {
   "cell_type": "code",
   "execution_count": 1,
   "id": "dc813ad5-6c4b-402a-994a-619c486dadab",
   "metadata": {},
   "outputs": [],
   "source": [
    "from GENIE3 import *"
   ]
  },
  {
   "cell_type": "code",
   "execution_count": 7,
   "id": "a3a50988-fabf-4684-b195-5f970094e42e",
   "metadata": {},
   "outputs": [],
   "source": [
    "import sys, os\n",
    "import numpy as np\n",
    "import pandas as pd\n",
    "import matplotlib.pyplot as plt\n",
    "# import SAUCIE\n",
    "# import tensorflow.compat.v1 as tf\n",
    "# tf.disable_v2_behavior()\n",
    "from tqdm import tqdm\n",
    "from sklearn.metrics import roc_auc_score\n",
    "\n",
    "sys.path.append(os.getcwd())"
   ]
  },
  {
   "cell_type": "code",
   "execution_count": 8,
   "id": "47775261-d504-4ab3-8c45-da12c38eb1c9",
   "metadata": {},
   "outputs": [],
   "source": [
    "y = np.transpose(np.load('../previous_imputations/DS6_45.npy'))"
   ]
  },
  {
   "cell_type": "code",
   "execution_count": 9,
   "id": "2d64251e-ff55-4c62-a335-1367fedf71ce",
   "metadata": {},
   "outputs": [],
   "source": [
    "x = np.transpose(np.load('../previous_imputations/DS6_clean.npy'))"
   ]
  },
  {
   "cell_type": "code",
   "execution_count": 35,
   "id": "93a0d014-e71e-4b05-9a2d-aba835a4f7b3",
   "metadata": {},
   "outputs": [],
   "source": [
    "target_file = '../SERGIO/data_sets/De-noised_1200G_9T_300cPerT_6_DS3/Interaction_cID_6.txt'"
   ]
  },
  {
   "cell_type": "code",
   "execution_count": 89,
   "id": "12716f64-f99b-4480-b4bb-43d081846b89",
   "metadata": {},
   "outputs": [],
   "source": [
    "def gt_benchmark(virtual_imputation):\n",
    "    # Create numpy array of same size as imputation_dataset\n",
    "    gt_temp = np.zeros_like(virtual_imputation)\n",
    "    f = open(target_file,'r')\n",
    "    Lines = f.readlines()\n",
    "    f.close()\n",
    "    # For each real gene and measured gene expressions, set new array at coordinates to 1\n",
    "    for j in tqdm(range(len(Lines))):\n",
    "        line = Lines[j]\n",
    "        line_list = line.split(',')\n",
    "        target_index = int(float(line_list[0]))\n",
    "        num_regs = int(float(line_list[1]))\n",
    "        # skip if gene is not present in filtered dataset\n",
    "        if target_index >= gt_temp.shape[1]:\n",
    "            for i in range(0, target_index + 1 - gt_temp.shape[1]):\n",
    "                new_column = np.zeros((gt_temp.shape[0], 1), dtype=int)\n",
    "                gt_temp = np.append(gt_temp, new_column, axis=1)\n",
    "                virtual_imputation = np.append(virtual_imputation, new_column, axis=1)\n",
    "        for i in range(num_regs):\n",
    "            reg_index = int(float(line_list[i+2]))\n",
    "            gt_temp[reg_index,target_index] = 1  \n",
    "    return gt_temp, virtual_imputation"
   ]
  },
  {
   "cell_type": "code",
   "execution_count": 25,
   "id": "9a70e4b1-3d37-4df7-b972-56f5e663f22d",
   "metadata": {},
   "outputs": [],
   "source": [
    "# Load SAUCIE imputed data\n",
    "y_hat_saucie = np.load('../previous_imputations/yhat_saucie.npy')\n",
    "y_hat_saucie2 = np.load('../SAUCIE/yhat_saucie.npy')\n",
    "\n",
    "# Load scScope imputed data\n",
    "y_hat_scscope = np.load('../previous_imputations/yhat_scScope.npy')\n",
    "y_hat_scscope2 = np.load('../scScope/yhat_scScope.npy')\n",
    "\n",
    "# Load DeepImpute imputed data\n",
    "y_hat_deepimp = np.load('../previous_imputations/yhat_deepimp.npy')\n",
    "y_hat_deepimp2 = np.load('../deepimpute/yhat_deepimp.npy')\n",
    "\n",
    "# Load MAGIC imputed data\n",
    "y_hat_magic_t2 = np.load('../MAGIC/yhat_MAGIC_t_2.npy')\n",
    "y_hat_magic_t7 = np.load('../MAGIC/yhat_MAGIC_t_7.npy')\n",
    "y_hat_magic_t_auto = np.load('../MAGIC/yhat_MAGIC_t_auto.npy')"
   ]
  },
  {
   "cell_type": "code",
   "execution_count": 26,
   "id": "f50e72ae-277f-40d9-9dc0-527c1aa683da",
   "metadata": {},
   "outputs": [
    {
     "name": "stdout",
     "output_type": "stream",
     "text": [
      "----------\n",
      "number of zeros in previous SAUCIE: 0\n",
      "number of zeros in current SAUCIE:  1\n",
      "----------\n",
      "number of zeros in previous scscope: 452511\n",
      "number of zeros in current scscope:  254543\n",
      "----------\n",
      "number of zeros in previous deepimpute: 1183960\n",
      "number of zeros in current deepimpute:  1183960\n",
      "----------\n",
      "number of zeros in MAGIC t=2:       71732\n",
      "number of zeros in MAGIC t=7:       0\n",
      "number of zeros in MAGIC t=default: 0\n"
     ]
    }
   ],
   "source": [
    "print(\"----------\")\n",
    "print(f\"number of zeros in previous SAUCIE: {y_hat_saucie.size - np.count_nonzero(y_hat_saucie)}\")\n",
    "print(f\"number of zeros in current SAUCIE:  {y_hat_saucie2.size - np.count_nonzero(y_hat_saucie2)}\")\n",
    "print(\"----------\")\n",
    "print(f\"number of zeros in previous scscope: {y_hat_scscope.size - np.count_nonzero(y_hat_scscope)}\")\n",
    "print(f\"number of zeros in current scscope:  {y_hat_scscope2.size - np.count_nonzero(y_hat_scscope2)}\")\n",
    "print(\"----------\")\n",
    "print(f\"number of zeros in previous deepimpute: {y_hat_deepimp.size - np.count_nonzero(y_hat_deepimp)}\")\n",
    "print(f\"number of zeros in current deepimpute:  {y_hat_deepimp2.size - np.count_nonzero(y_hat_deepimp2)}\")\n",
    "print(\"----------\")\n",
    "print(f\"number of zeros in MAGIC t=2:       {y_hat_magic_t2.size - np.count_nonzero(y_hat_magic_t2)}\")\n",
    "print(f\"number of zeros in MAGIC t=7:       {y_hat_magic_t7.size - np.count_nonzero(y_hat_magic_t7)}\")\n",
    "print(f\"number of zeros in MAGIC t=default: {y_hat_magic_t_auto.size - np.count_nonzero(y_hat_magic_t_auto)}\")"
   ]
  },
  {
   "cell_type": "markdown",
   "id": "8aa58553-9ca3-411b-bb3b-49fc718fb965",
   "metadata": {},
   "source": [
    "### Run GENIE3 on SAUCIE Data"
   ]
  },
  {
   "cell_type": "markdown",
   "id": "6d21244a-f302-4f76-8265-adc5ae2694a1",
   "metadata": {},
   "source": [
    "Previous Data"
   ]
  },
  {
   "cell_type": "code",
   "execution_count": null,
   "id": "a3eca0ab-741d-4a80-a990-44a7e573631e",
   "metadata": {},
   "outputs": [],
   "source": [
    "VIM_SAUCIE = GENIE3(y_hat_saucie,nthreads=12,ntrees=100)"
   ]
  },
  {
   "cell_type": "code",
   "execution_count": null,
   "id": "16d9ab12-a95c-4c85-9df4-35c7240a46f0",
   "metadata": {},
   "outputs": [],
   "source": [
    "gt, rescaled_vim = gt_benchmark(VIM_SAUCIE)"
   ]
  },
  {
   "cell_type": "code",
   "execution_count": 14,
   "id": "aea23a20-5cd2-41dd-923b-832144708f2a",
   "metadata": {},
   "outputs": [
    {
     "data": {
      "text/plain": [
       "0.4538860037246973"
      ]
     },
     "execution_count": 14,
     "metadata": {},
     "output_type": "execute_result"
    }
   ],
   "source": [
    "roc_auc_score(gt.flatten(),rescaled_vim.flatten())"
   ]
  },
  {
   "cell_type": "markdown",
   "id": "3de7d0a1-d15d-4bdb-9263-36a54542a6f1",
   "metadata": {},
   "source": [
    "Current Data"
   ]
  },
  {
   "cell_type": "code",
   "execution_count": null,
   "id": "0dd42b31-1458-464d-a3dc-3bb28efbdcfe",
   "metadata": {},
   "outputs": [
    {
     "name": "stdout",
     "output_type": "stream",
     "text": [
      "Tree method: RF\n",
      "K: sqrt\n",
      "Number of trees: 100\n",
      "\n",
      "\n",
      "running jobs on 12 threads\n"
     ]
    }
   ],
   "source": [
    "VIM_SAUCIE = GENIE3(y_hat_saucie2,nthreads=12,ntrees=100)"
   ]
  },
  {
   "cell_type": "code",
   "execution_count": null,
   "id": "c55648c9-d2a3-49e9-a6ee-4751be736dd7",
   "metadata": {},
   "outputs": [],
   "source": [
    "gt, rescaled_vim = gt_benchmark(VIM_SAUCIE)"
   ]
  },
  {
   "cell_type": "code",
   "execution_count": null,
   "id": "9d6cb9eb-f06e-4357-ba3f-32315385bffc",
   "metadata": {},
   "outputs": [],
   "source": [
    "roc_auc_score(gt.flatten(),rescaled_vim.flatten())"
   ]
  },
  {
   "cell_type": "markdown",
   "id": "3009ba62-1320-4785-9c40-1029ead873e6",
   "metadata": {},
   "source": [
    "### Run GENIE3 on scScope Data"
   ]
  },
  {
   "cell_type": "markdown",
   "id": "edefb739-eb64-41b7-8850-edaf22d2d7f5",
   "metadata": {},
   "source": [
    "Previous Data"
   ]
  },
  {
   "cell_type": "code",
   "execution_count": null,
   "id": "a57ed894-b190-45c9-ba3f-79f94711ac21",
   "metadata": {},
   "outputs": [
    {
     "name": "stderr",
     "output_type": "stream",
     "text": [
      "/Users/joshuaweiner/Desktop/Folders/Projects/zero_imputation/GENIE3/GENIE3.py:309: RuntimeWarning: invalid value encountered in divide\n",
      "  output = output / std(output)\n",
      "/Users/joshuaweiner/Desktop/Folders/Projects/zero_imputation/GENIE3/GENIE3.py:309: RuntimeWarning: invalid value encountered in divide\n",
      "  output = output / std(output)\n",
      "/Users/joshuaweiner/Desktop/Folders/Projects/zero_imputation/GENIE3/GENIE3.py:309: RuntimeWarning: invalid value encountered in divide\n",
      "  output = output / std(output)\n",
      "/Users/joshuaweiner/Desktop/Folders/Projects/zero_imputation/GENIE3/GENIE3.py:309: RuntimeWarning: invalid value encountered in divide\n",
      "  output = output / std(output)\n",
      "/Users/joshuaweiner/Desktop/Folders/Projects/zero_imputation/GENIE3/GENIE3.py:309: RuntimeWarning: invalid value encountered in divide\n",
      "  output = output / std(output)\n"
     ]
    }
   ],
   "source": [
    "VIM_scScope = GENIE3(y_hat_scscope,nthreads=12,ntrees=100)"
   ]
  },
  {
   "cell_type": "code",
   "execution_count": null,
   "id": "6484a74b-99f0-45e7-aacc-0f9dad5e91c3",
   "metadata": {},
   "outputs": [],
   "source": [
    "gt, rescaled_vim = gt_benchmark(VIM_scScope)"
   ]
  },
  {
   "cell_type": "code",
   "execution_count": null,
   "id": "24de652f-9bfa-43ec-9c22-5a083f742d36",
   "metadata": {},
   "outputs": [],
   "source": [
    "roc_auc_score(gt.flatten(),rescaled_vim.flatten())"
   ]
  },
  {
   "cell_type": "markdown",
   "id": "1457da6d-ef97-43c7-90b2-141d15e1da5c",
   "metadata": {},
   "source": [
    "Current Data"
   ]
  },
  {
   "cell_type": "code",
   "execution_count": null,
   "id": "9c0fa0b3-bc6b-4982-92fc-30d11ba5c5d9",
   "metadata": {},
   "outputs": [],
   "source": [
    "VIM_scScope = GENIE3(y_hat_scscope2,nthreads=12,ntrees=100)"
   ]
  },
  {
   "cell_type": "code",
   "execution_count": null,
   "id": "8978f008-6a04-4ce3-85f5-5ddfc66bbbcc",
   "metadata": {},
   "outputs": [],
   "source": [
    "gt, rescaled_vim = gt_benchmark(VIM_scScope)"
   ]
  },
  {
   "cell_type": "code",
   "execution_count": null,
   "id": "2f327e9b-3615-44de-8667-0eb998b6cc3b",
   "metadata": {},
   "outputs": [],
   "source": [
    "roc_auc_score(gt.flatten(),rescaled_vim.flatten())"
   ]
  },
  {
   "cell_type": "markdown",
   "id": "a4e276a9-a2ec-4a86-99de-72c682124847",
   "metadata": {},
   "source": [
    "### Run GENIE3 on DeepImpute Data"
   ]
  },
  {
   "cell_type": "markdown",
   "id": "a95b9497-6a3f-45b5-8d13-d54108fde5fe",
   "metadata": {},
   "source": [
    "Previous Data"
   ]
  },
  {
   "cell_type": "code",
   "execution_count": 50,
   "id": "ca9a4526-e5dd-4769-ba61-54dfe3b7906f",
   "metadata": {},
   "outputs": [
    {
     "name": "stdout",
     "output_type": "stream",
     "text": [
      "Tree method: RF\n",
      "K: sqrt\n",
      "Number of trees: 100\n",
      "\n",
      "\n",
      "running jobs on 12 threads\n",
      "Elapsed time: 1482.39 seconds\n"
     ]
    }
   ],
   "source": [
    "VIM_DeepImpute = GENIE3(y_hat_deepimp,nthreads=12,ntrees=100)"
   ]
  },
  {
   "cell_type": "code",
   "execution_count": 53,
   "id": "13c2110c-932f-48a4-81d0-8dd10f0c8e88",
   "metadata": {},
   "outputs": [
    {
     "data": {
      "text/plain": [
       "0.32298617893241455"
      ]
     },
     "execution_count": 53,
     "metadata": {},
     "output_type": "execute_result"
    }
   ],
   "source": [
    "roc_auc_score(gt.flatten(),VIM_DeepImpute.flatten())"
   ]
  },
  {
   "cell_type": "markdown",
   "id": "59f75b6a-27f4-4cfe-8260-061f2b17e1d0",
   "metadata": {},
   "source": [
    "Current Data"
   ]
  },
  {
   "cell_type": "code",
   "execution_count": 58,
   "id": "5fcf714f-7046-4365-9f83-9971110bbd94",
   "metadata": {},
   "outputs": [
    {
     "name": "stdout",
     "output_type": "stream",
     "text": [
      "Tree method: RF\n",
      "K: sqrt\n",
      "Number of trees: 100\n",
      "\n",
      "\n",
      "running jobs on 12 threads\n",
      "Elapsed time: 1550.74 seconds\n"
     ]
    }
   ],
   "source": [
    "VIM_DeepImpute = GENIE3(y_hat_deepimp2,nthreads=12,ntrees=100)"
   ]
  },
  {
   "cell_type": "code",
   "execution_count": 59,
   "id": "8f8dcda5-bde1-412c-9d3b-cf6a6f461164",
   "metadata": {},
   "outputs": [
    {
     "data": {
      "text/plain": [
       "0.5095581685268773"
      ]
     },
     "execution_count": 59,
     "metadata": {},
     "output_type": "execute_result"
    }
   ],
   "source": [
    "roc_auc_score(gt.flatten(),VIM_DeepImpute.flatten())"
   ]
  },
  {
   "cell_type": "markdown",
   "id": "713d122b-38f7-45ec-bdea-30d97440cf66",
   "metadata": {},
   "source": [
    "### Run GENIE3 on MAGIC Data"
   ]
  },
  {
   "cell_type": "code",
   "execution_count": 93,
   "id": "c4156f88-1dfa-451f-a597-f356c648f68a",
   "metadata": {},
   "outputs": [
    {
     "name": "stdout",
     "output_type": "stream",
     "text": [
      "Tree method: RF\n",
      "K: sqrt\n",
      "Number of trees: 100\n",
      "\n",
      "\n",
      "running jobs on 12 threads\n",
      "Elapsed time: 1357.35 seconds\n"
     ]
    }
   ],
   "source": [
    "VIM_MAGIC = GENIE3(y_hat_magic_t2, nthreads=12, ntrees=100)"
   ]
  },
  {
   "cell_type": "code",
   "execution_count": 94,
   "id": "466c9cbc-becb-4bc8-8f4f-89f524bd8ce8",
   "metadata": {},
   "outputs": [
    {
     "name": "stderr",
     "output_type": "stream",
     "text": [
      "100%|███████████████████████████████████████████████████████████████████████████████████████████| 1133/1133 [00:00<00:00, 53125.10it/s]\n"
     ]
    }
   ],
   "source": [
    "gt, rescaled_vim = gt_benchmark(VIM_MAGIC)"
   ]
  },
  {
   "cell_type": "code",
   "execution_count": 95,
   "id": "0356b6a3-23b1-4a46-912e-77d41d14f16d",
   "metadata": {},
   "outputs": [
    {
     "data": {
      "text/plain": [
       "0.5150071663968783"
      ]
     },
     "execution_count": 95,
     "metadata": {},
     "output_type": "execute_result"
    }
   ],
   "source": [
    "roc_auc_score(gt.flatten(), rescaled_vim.flatten())"
   ]
  },
  {
   "cell_type": "code",
   "execution_count": 96,
   "id": "10aca92a-b4c7-4507-a3c7-fc79f0ec60a4",
   "metadata": {},
   "outputs": [
    {
     "name": "stdout",
     "output_type": "stream",
     "text": [
      "Tree method: RF\n",
      "K: sqrt\n",
      "Number of trees: 100\n",
      "\n",
      "\n",
      "running jobs on 12 threads\n",
      "Elapsed time: 990.08 seconds\n"
     ]
    }
   ],
   "source": [
    "VIM_MAGIC = GENIE3(y_hat_magic_t7, nthreads=12, ntrees=100)"
   ]
  },
  {
   "cell_type": "code",
   "execution_count": 97,
   "id": "0f47e430-1162-4185-9211-2ba2ad8e302f",
   "metadata": {},
   "outputs": [
    {
     "name": "stderr",
     "output_type": "stream",
     "text": [
      "100%|██████████████████████████████████████████████████████████████████████████████████████████| 1133/1133 [00:00<00:00, 114528.87it/s]\n"
     ]
    }
   ],
   "source": [
    "gt, rescaled_vim = gt_benchmark(VIM_MAGIC)"
   ]
  },
  {
   "cell_type": "code",
   "execution_count": 98,
   "id": "87c82f3d-34cf-4c1e-9b5b-1ccb5f2ddf76",
   "metadata": {},
   "outputs": [
    {
     "data": {
      "text/plain": [
       "0.4972348080309966"
      ]
     },
     "execution_count": 98,
     "metadata": {},
     "output_type": "execute_result"
    }
   ],
   "source": [
    "roc_auc_score(gt.flatten(), rescaled_vim.flatten())"
   ]
  },
  {
   "cell_type": "code",
   "execution_count": 99,
   "id": "508cf347-913f-41b9-969a-12162aa73903",
   "metadata": {},
   "outputs": [
    {
     "name": "stdout",
     "output_type": "stream",
     "text": [
      "Tree method: RF\n",
      "K: sqrt\n",
      "Number of trees: 100\n",
      "\n",
      "\n",
      "running jobs on 12 threads\n",
      "Elapsed time: 904.88 seconds\n"
     ]
    }
   ],
   "source": [
    "VIM_MAGIC = GENIE3(y_hat_magic_t_auto, nthreads=12, ntrees=100)"
   ]
  },
  {
   "cell_type": "code",
   "execution_count": 100,
   "id": "50b9230d-4eab-4ce7-8aec-800121e38048",
   "metadata": {},
   "outputs": [
    {
     "name": "stderr",
     "output_type": "stream",
     "text": [
      "100%|███████████████████████████████████████████████████████████████████████████████████████████| 1133/1133 [00:00<00:00, 74247.65it/s]\n"
     ]
    }
   ],
   "source": [
    "gt, rescaled_vim = gt_benchmark(VIM_MAGIC)"
   ]
  },
  {
   "cell_type": "code",
   "execution_count": 101,
   "id": "b278e6e6-0598-4b8a-b203-612060b7b184",
   "metadata": {},
   "outputs": [
    {
     "data": {
      "text/plain": [
       "0.4968664509083617"
      ]
     },
     "execution_count": 101,
     "metadata": {},
     "output_type": "execute_result"
    }
   ],
   "source": [
    "roc_auc_score(gt.flatten(), rescaled_vim.flatten())"
   ]
  },
  {
   "cell_type": "markdown",
   "id": "7cfc8b63-6c05-4ac4-be7e-df2037afc9d9",
   "metadata": {},
   "source": [
    "### Benchmark: GENIE3 on Clean Data"
   ]
  },
  {
   "cell_type": "markdown",
   "id": "11beb682-9c59-4a48-8292-4b58d5d573b7",
   "metadata": {},
   "source": [
    "Previous Data"
   ]
  },
  {
   "cell_type": "code",
   "execution_count": 106,
   "id": "b84a3dbc-2063-4c1f-b618-1bc0b9ce5624",
   "metadata": {},
   "outputs": [],
   "source": [
    "x = np.transpose(np.load('../previous_imputations/DS6_clean.npy'))"
   ]
  },
  {
   "cell_type": "code",
   "execution_count": 107,
   "id": "a22f5d8c-75a4-4e68-812f-35824f4c9e76",
   "metadata": {},
   "outputs": [
    {
     "name": "stdout",
     "output_type": "stream",
     "text": [
      "Tree method: RF\n",
      "K: sqrt\n",
      "Number of trees: 100\n",
      "\n",
      "\n",
      "running jobs on 12 threads\n",
      "Elapsed time: 1067.19 seconds\n"
     ]
    }
   ],
   "source": [
    "VIM_CLEAN = GENIE3(x, nthreads=12, ntrees=100)"
   ]
  },
  {
   "cell_type": "code",
   "execution_count": 108,
   "id": "208cea8c-e8d5-4585-9735-dce15a67c9be",
   "metadata": {},
   "outputs": [
    {
     "name": "stderr",
     "output_type": "stream",
     "text": [
      "100%|██████████████████████████████████████████████████████████████████████████████████████████| 1133/1133 [00:00<00:00, 694250.76it/s]\n"
     ]
    }
   ],
   "source": [
    "gt, rescaled_vim = gt_benchmark(VIM_CLEAN)"
   ]
  },
  {
   "cell_type": "code",
   "execution_count": 109,
   "id": "0f03b9b1-f7a7-420d-9e65-eb23ca8579f1",
   "metadata": {},
   "outputs": [
    {
     "data": {
      "text/plain": [
       "0.8037288061568897"
      ]
     },
     "execution_count": 109,
     "metadata": {},
     "output_type": "execute_result"
    }
   ],
   "source": [
    "roc_auc_score(gt.flatten(), VIM_CLEAN.flatten())"
   ]
  },
  {
   "cell_type": "markdown",
   "id": "e314c56f-6b86-4465-87b2-bf306b15247e",
   "metadata": {},
   "source": [
    "Current Data"
   ]
  },
  {
   "cell_type": "code",
   "execution_count": 110,
   "id": "47e49f80-9f6f-41ef-a615-aeee50efe595",
   "metadata": {},
   "outputs": [],
   "source": [
    "x_curr = np.transpose(np.load('../SERGIO/imputation_data/DS6_clean.npy'))"
   ]
  },
  {
   "cell_type": "code",
   "execution_count": 111,
   "id": "1b96ef03-a962-4a1d-ad09-09f151ea9def",
   "metadata": {},
   "outputs": [
    {
     "name": "stdout",
     "output_type": "stream",
     "text": [
      "Tree method: RF\n",
      "K: sqrt\n",
      "Number of trees: 100\n",
      "\n",
      "\n",
      "running jobs on 12 threads\n",
      "Elapsed time: 1045.56 seconds\n"
     ]
    }
   ],
   "source": [
    "VIM_CLEAN = GENIE3(x_curr, nthreads=12, ntrees=100)"
   ]
  },
  {
   "cell_type": "code",
   "execution_count": 112,
   "id": "e2df5af9-caed-44dc-af29-8167702a03fd",
   "metadata": {},
   "outputs": [
    {
     "name": "stderr",
     "output_type": "stream",
     "text": [
      "100%|██████████████████████████████████████████████████████████████████████████████████████████| 1133/1133 [00:00<00:00, 755388.08it/s]\n"
     ]
    }
   ],
   "source": [
    "gt, rescaled_vim = gt_benchmark(VIM_CLEAN)"
   ]
  },
  {
   "cell_type": "code",
   "execution_count": 113,
   "id": "435561e6-7422-48b0-ba43-9b68e30c32cf",
   "metadata": {},
   "outputs": [
    {
     "data": {
      "text/plain": [
       "0.8132766785059842"
      ]
     },
     "execution_count": 113,
     "metadata": {},
     "output_type": "execute_result"
    }
   ],
   "source": [
    "roc_auc_score(gt.flatten(), VIM_CLEAN.flatten())"
   ]
  },
  {
   "cell_type": "markdown",
   "id": "a4b50413-6833-46d8-99cf-4cae47d89986",
   "metadata": {},
   "source": [
    "### Benchmark: GENIE3 on Noisy Data"
   ]
  },
  {
   "cell_type": "markdown",
   "id": "119c1649-0b60-463f-87d1-93fa750716a4",
   "metadata": {},
   "source": [
    "Previous Data"
   ]
  },
  {
   "cell_type": "code",
   "execution_count": 114,
   "id": "a7c1b3fa-97c3-4686-b0b6-330e47f82ee3",
   "metadata": {},
   "outputs": [],
   "source": [
    "y = np.transpose(np.load('../previous_imputations/DS6_45.npy'))"
   ]
  },
  {
   "cell_type": "code",
   "execution_count": 115,
   "id": "1725c405-aacc-420a-8b29-dd098e4eda66",
   "metadata": {},
   "outputs": [
    {
     "name": "stdout",
     "output_type": "stream",
     "text": [
      "Tree method: RF\n",
      "K: sqrt\n",
      "Number of trees: 100\n",
      "\n",
      "\n",
      "running jobs on 12 threads\n",
      "Elapsed time: 84.61 seconds\n"
     ]
    }
   ],
   "source": [
    "VIM_NOISY = GENIE3(y, nthreads=12, ntrees=100)"
   ]
  },
  {
   "cell_type": "code",
   "execution_count": 116,
   "id": "357ac23c-74c8-487d-88bc-cb88eb2466b4",
   "metadata": {},
   "outputs": [
    {
     "name": "stderr",
     "output_type": "stream",
     "text": [
      "100%|██████████████████████████████████████████████████████████████████████████████████████████| 1133/1133 [00:00<00:00, 484221.16it/s]\n"
     ]
    }
   ],
   "source": [
    "gt, rescaled_vim = gt_benchmark(VIM_NOISY)"
   ]
  },
  {
   "cell_type": "code",
   "execution_count": 117,
   "id": "029adaa7-1b8e-4260-9634-dcb87e1b902c",
   "metadata": {},
   "outputs": [
    {
     "data": {
      "text/plain": [
       "0.42851735929047474"
      ]
     },
     "execution_count": 117,
     "metadata": {},
     "output_type": "execute_result"
    }
   ],
   "source": [
    "roc_auc_score(gt.flatten(), VIM_NOISY.flatten())"
   ]
  },
  {
   "cell_type": "markdown",
   "id": "f490f843-9169-4cd1-b98b-7ad4d4837239",
   "metadata": {},
   "source": [
    "Current Data"
   ]
  },
  {
   "cell_type": "code",
   "execution_count": 118,
   "id": "46d84e8c-ba40-41b5-9256-36ad5a88d4e1",
   "metadata": {},
   "outputs": [],
   "source": [
    "y_curr = np.transpose(np.load('../SERGIO/imputation_data/DS6_45.npy'))"
   ]
  },
  {
   "cell_type": "code",
   "execution_count": 119,
   "id": "7c653cc1-bff5-4c8d-9c0d-dd5c6ab64107",
   "metadata": {},
   "outputs": [
    {
     "name": "stdout",
     "output_type": "stream",
     "text": [
      "Tree method: RF\n",
      "K: sqrt\n",
      "Number of trees: 100\n",
      "\n",
      "\n",
      "running jobs on 12 threads\n",
      "Elapsed time: 89.39 seconds\n"
     ]
    }
   ],
   "source": [
    "VIM_NOISY = GENIE3(y_curr, nthreads=12, ntrees=100)"
   ]
  },
  {
   "cell_type": "code",
   "execution_count": 120,
   "id": "ec34edd3-05fb-4415-ba50-5a82d69815f6",
   "metadata": {},
   "outputs": [
    {
     "name": "stderr",
     "output_type": "stream",
     "text": [
      "100%|██████████████████████████████████████████████████████████████████████████████████████████| 1133/1133 [00:00<00:00, 701527.37it/s]\n"
     ]
    }
   ],
   "source": [
    "gt, rescaled_vim = gt_benchmark(VIM_NOISY)"
   ]
  },
  {
   "cell_type": "code",
   "execution_count": 122,
   "id": "c77d0787-bca9-4ff6-ae36-ef3a5f46b7e0",
   "metadata": {},
   "outputs": [
    {
     "data": {
      "text/plain": [
       "0.4402483058634301"
      ]
     },
     "execution_count": 122,
     "metadata": {},
     "output_type": "execute_result"
    }
   ],
   "source": [
    "roc_auc_score(gt.flatten(), VIM_NOISY.flatten())"
   ]
  },
  {
   "cell_type": "code",
   "execution_count": null,
   "id": "530176e5-bfde-4c0e-b73c-7126cd1cdfa1",
   "metadata": {},
   "outputs": [],
   "source": []
  }
 ],
 "metadata": {
  "kernelspec": {
   "display_name": "zero_imputation_venv",
   "language": "python",
   "name": "zero_imputation_venv"
  },
  "language_info": {
   "codemirror_mode": {
    "name": "ipython",
    "version": 3
   },
   "file_extension": ".py",
   "mimetype": "text/x-python",
   "name": "python",
   "nbconvert_exporter": "python",
   "pygments_lexer": "ipython3",
   "version": "3.9.6"
  }
 },
 "nbformat": 4,
 "nbformat_minor": 5
}
